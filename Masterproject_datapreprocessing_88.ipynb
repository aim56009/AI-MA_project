{
 "cells": [
  {
   "cell_type": "markdown",
   "metadata": {},
   "source": [
    "# Convert .xml to pianoroll representation (pr)"
   ]
  },
  {
   "cell_type": "markdown",
   "metadata": {},
   "source": [
    "conv .xml -> np (pianoroll) for 4 voices + 1 mix of all voices -> save with pickle \n",
    "\n",
    "folder structure: pianorolls -> voice_0 ,voice_1, voice_2, voice_3, voice_all -> voice_0_001.pkl "
   ]
  },
  {
   "cell_type": "markdown",
   "metadata": {},
   "source": [
    "### original conversion from humdrum to xml (in terminal)"
   ]
  },
  {
   "cell_type": "code",
   "execution_count": 232,
   "metadata": {},
   "outputs": [],
   "source": [
    "#for FILE in *; do hum2xml -r $FILE > \"${FILE%.*}.xml\"; done"
   ]
  },
  {
   "cell_type": "markdown",
   "metadata": {},
   "source": [
    "## Convert xml to pr for 1 file"
   ]
  },
  {
   "cell_type": "code",
   "execution_count": 144,
   "metadata": {},
   "outputs": [],
   "source": [
    "import partitura \n",
    "import numpy as np\n",
    "import os\n",
    "import pickle"
   ]
  },
  {
   "cell_type": "code",
   "execution_count": 247,
   "metadata": {},
   "outputs": [],
   "source": [
    "name = \"chor144.xml\"\n",
    "\n",
    "\n",
    "import_path = os.path.join(\"/Users/sayang/Masterproject/chorales_converted\", name)\n",
    "part = partitura.load_musicxml(import_path)"
   ]
  },
  {
   "cell_type": "code",
   "execution_count": 248,
   "metadata": {},
   "outputs": [],
   "source": [
    "### Seperate the 4 different voices ####\n",
    "\n",
    "part_zero = part[0]\n",
    "part_one = part[1]\n",
    "part_two = part[2]\n",
    "part_three = part[3]"
   ]
  },
  {
   "cell_type": "code",
   "execution_count": 249,
   "metadata": {},
   "outputs": [],
   "source": [
    "### Visualize the different voices ###\n",
    "\n",
    "#print(part_one.pretty())   \n",
    "#partitura.render(part_one) #still doesnt work"
   ]
  },
  {
   "cell_type": "code",
   "execution_count": 250,
   "metadata": {},
   "outputs": [],
   "source": [
    "onset_beat_0 = partitura.utils.note_array_from_part(part_zero)['onset_beat'][-1]\n",
    "duration_beat_0 = partitura.utils.note_array_from_part(part_zero)['duration_beat'][-1]\n",
    "beat_0 = onset_beat_0 + duration_beat_0\n",
    "\n",
    "onset_beat_1 = partitura.utils.note_array_from_part(part_zero)['onset_beat'][-1]\n",
    "duration_beat_1 = partitura.utils.note_array_from_part(part_zero)['duration_beat'][-1]\n",
    "beat_1 = onset_beat_1 + duration_beat_1\n",
    "\n",
    "onset_beat_2 = partitura.utils.note_array_from_part(part_zero)['onset_beat'][-1]\n",
    "duration_beat_2 = partitura.utils.note_array_from_part(part_zero)['duration_beat'][-1]\n",
    "beat_2 = onset_beat_2 + duration_beat_2\n",
    "\n",
    "onset_beat_3 = partitura.utils.note_array_from_part(part_zero)['onset_beat'][-1]\n",
    "duration_beat_3 = partitura.utils.note_array_from_part(part_zero)['duration_beat'][-1]\n",
    "beat_3 = onset_beat_3 + duration_beat_3\n",
    "\n",
    "onset_beat = partitura.utils.ensure_notearray(part)['onset_beat'][-1]\n",
    "duration_beat = partitura.utils.ensure_notearray(part)['duration_beat'][-1]\n",
    "beat_all = onset_beat + duration_beat\n"
   ]
  },
  {
   "cell_type": "code",
   "execution_count": 251,
   "metadata": {},
   "outputs": [
    {
     "data": {
      "text/plain": [
       "\"\\nonset_div = partitura.utils.note_array_from_part(part_zero)['onset_div'][-1]\\nduration_div = partitura.utils.note_array_from_part(part_zero)['duration_div'][-1]\\ndiv = onset_div + duration_div\\n\\nbeat_0_div = part_zero.beat_map\\nposition_in_beat = beat_0_div(div).item()\\nposition_in_beat\\n\""
      ]
     },
     "execution_count": 251,
     "metadata": {},
     "output_type": "execute_result"
    }
   ],
   "source": [
    "\"\"\"\n",
    "onset_div = partitura.utils.note_array_from_part(part_zero)['onset_div'][-1]\n",
    "duration_div = partitura.utils.note_array_from_part(part_zero)['duration_div'][-1]\n",
    "div = onset_div + duration_div\n",
    "\n",
    "beat_0_div = part_zero.beat_map\n",
    "position_in_beat = beat_0_div(div).item()\n",
    "position_in_beat\n",
    "\"\"\""
   ]
  },
  {
   "cell_type": "code",
   "execution_count": 261,
   "metadata": {},
   "outputs": [],
   "source": [
    "### maybe use time_uni = beat and time_div =12\n",
    "### Convert every voice into a pianoroll numpy array ###\n",
    "\n",
    "pr_zero = partitura.utils.compute_pianoroll(part_zero, time_unit = \"beat\",time_div = 12,piano_range=True,remove_silence=False,end_time=beat_0)\n",
    "pr_zero = pr_zero.toarray()\n",
    "\n",
    "pr_one = partitura.utils.compute_pianoroll(part_one, time_unit = \"beat\",time_div = 12,piano_range=True,remove_silence=False,end_time=beat_1)\n",
    "pr_one = pr_one.toarray()\n",
    "\n",
    "pr_two = partitura.utils.compute_pianoroll(part_two, time_unit = \"beat\",time_div = 12,piano_range=True,remove_silence=False,end_time=beat_2)\n",
    "pr_two = pr_two.toarray()\n",
    "\n",
    "pr_three = partitura.utils.compute_pianoroll(part_three, time_unit = \"beat\",time_div = 12,piano_range=True,remove_silence=False,end_time=beat_3)\n",
    "pr_three = pr_three.toarray()\n",
    "\n",
    "pr = partitura.utils.compute_pianoroll(part, time_unit = \"beat\",time_div = 12,piano_range=True,remove_silence=False,end_time=beat_all)\n",
    "pr = pr.toarray()"
   ]
  },
  {
   "cell_type": "code",
   "execution_count": 262,
   "metadata": {},
   "outputs": [
    {
     "data": {
      "text/plain": [
       "'\\npr_zero = partitura.utils.compute_pianoroll(part_zero, time_unit = \"beat\",time_div = 12)\\npr_zero = pr_zero.toarray()\\n\\npr_one = partitura.utils.compute_pianoroll(part_one, time_unit = \"beat\",time_div = 12)\\npr_one = pr_one.toarray()\\n\\npr_two = partitura.utils.compute_pianoroll(part_two, time_unit = \"beat\",time_div = 12)\\npr_two = pr_two.toarray()\\n\\npr_three = partitura.utils.compute_pianoroll(part_three, time_unit = \"beat\",time_div = 12)\\npr_three = pr_three.toarray()\\n\\npr = partitura.utils.compute_pianoroll(part, time_unit = \"beat\",time_div = 12)\\npr = pr.toarray()\\n'"
      ]
     },
     "execution_count": 262,
     "metadata": {},
     "output_type": "execute_result"
    }
   ],
   "source": [
    "\"\"\"\n",
    "pr_zero = partitura.utils.compute_pianoroll(part_zero, time_unit = \"beat\",time_div = 12)\n",
    "pr_zero = pr_zero.toarray()\n",
    "\n",
    "pr_one = partitura.utils.compute_pianoroll(part_one, time_unit = \"beat\",time_div = 12)\n",
    "pr_one = pr_one.toarray()\n",
    "\n",
    "pr_two = partitura.utils.compute_pianoroll(part_two, time_unit = \"beat\",time_div = 12)\n",
    "pr_two = pr_two.toarray()\n",
    "\n",
    "pr_three = partitura.utils.compute_pianoroll(part_three, time_unit = \"beat\",time_div = 12)\n",
    "pr_three = pr_three.toarray()\n",
    "\n",
    "pr = partitura.utils.compute_pianoroll(part, time_unit = \"beat\",time_div = 12)\n",
    "pr = pr.toarray()\n",
    "\"\"\""
   ]
  },
  {
   "cell_type": "code",
   "execution_count": 266,
   "metadata": {},
   "outputs": [
    {
     "name": "stdout",
     "output_type": "stream",
     "text": [
      "(88, 624)\n",
      "(88, 624)\n",
      "(88, 624)\n",
      "(88, 624)\n",
      "(88, 624)\n"
     ]
    }
   ],
   "source": [
    "### print the shape of the np arrays ###\n",
    "print(pr_zero.shape)\n",
    "print(pr_one.shape)\n",
    "print(pr_two.shape)\n",
    "print(pr_three.shape)\n",
    "print(pr.shape)"
   ]
  },
  {
   "cell_type": "code",
   "execution_count": 267,
   "metadata": {},
   "outputs": [
    {
     "name": "stdout",
     "output_type": "stream",
     "text": [
      "564\n",
      "564\n",
      "564\n",
      "564\n",
      "sum of all 4 voice: 2256\n",
      "sum of mixed pr representation: 2238\n"
     ]
    }
   ],
   "source": [
    "### See if the sum of the individual represenations are exaclty the same as the original ###\n",
    "### - if not set all values bigger than 1 to 0 again ###\n",
    "\n",
    "print(np.sum(pr_zero))\n",
    "print(np.sum(pr_one))\n",
    "print(np.sum(pr_two))\n",
    "print(np.sum(pr_three))\n",
    "\n",
    "print(\"sum of all 4 voice:\", np.sum(pr_zero+pr_one+pr_two+pr_three))\n",
    "print(\"sum of mixed pr representation:\",np.sum(pr))"
   ]
  },
  {
   "cell_type": "markdown",
   "metadata": {},
   "source": [
    "## set all values > 1 in the composition of the 4 seperate voices to 1 ###\n",
    "\n"
   ]
  },
  {
   "cell_type": "code",
   "execution_count": 265,
   "metadata": {},
   "outputs": [],
   "source": [
    "pr_comp = pr_zero+pr_one+pr_two+pr_three\n",
    "pr_comp =  np.where(pr_comp < 1 , pr_comp, 1) "
   ]
  },
  {
   "cell_type": "markdown",
   "metadata": {},
   "source": [
    "quick check:"
   ]
  },
  {
   "cell_type": "code",
   "execution_count": 259,
   "metadata": {},
   "outputs": [
    {
     "data": {
      "text/plain": [
       "((88, 624), (88, 612))"
      ]
     },
     "execution_count": 259,
     "metadata": {},
     "output_type": "execute_result"
    }
   ],
   "source": [
    "pr_comp.shape,pr.shape"
   ]
  },
  {
   "cell_type": "code",
   "execution_count": 260,
   "metadata": {},
   "outputs": [
    {
     "name": "stdout",
     "output_type": "stream",
     "text": [
      "True\n"
     ]
    }
   ],
   "source": [
    "print( np.sum(pr_comp) == np.sum(pr))"
   ]
  },
  {
   "cell_type": "markdown",
   "metadata": {},
   "source": [
    "## save the data   "
   ]
  },
  {
   "cell_type": "markdown",
   "metadata": {},
   "source": [
    "save every voice in a seperate folder as well as mixed representation the naming scheme is \n",
    " e.g. pianoroll/voice_0/voice_0_371.pkl"
   ]
  },
  {
   "cell_type": "code",
   "execution_count": 218,
   "metadata": {},
   "outputs": [
    {
     "data": {
      "text/plain": [
       "'pianoroll_88/voice_0/chor283.xml'"
      ]
     },
     "execution_count": 218,
     "metadata": {},
     "output_type": "execute_result"
    }
   ],
   "source": [
    "#example\n",
    "os.path.join(\"pianoroll_88\", voice_folder[0], name)"
   ]
  },
  {
   "cell_type": "code",
   "execution_count": 215,
   "metadata": {},
   "outputs": [],
   "source": [
    "file_out_names = [ \"voice_0_\" + name[4:7]+ \".pkl\" , \"voice_1_\" + name[4:7] + \".pkl\" , \"voice_2_\" + name[4:7] , \"voice_3_\" + name[4:7] + \".pkl\", \"voice_all_\" + name[4:7]+\".pkl\"   ]"
   ]
  },
  {
   "cell_type": "code",
   "execution_count": 219,
   "metadata": {},
   "outputs": [],
   "source": [
    "voice_folder = [\"voice_0\",\"voice_1\",\"voice_2\",\"voice_3\",\"voice_all\"]\n",
    "pianorolls = [pr_zero,pr_one,pr_two,pr_three,pr]\n",
    "\n",
    "\n",
    "for n,i in enumerate(pianorolls):\n",
    "    a_folder = voice_folder[n]\n",
    "    a_file = file_out_names[n]\n",
    "    joined_path = os.path.join(\"pianoroll_88\", a_folder, a_file)\n",
    "    with open(joined_path, 'wb') as f:\n",
    "        pickle.dump(i, f)"
   ]
  },
  {
   "cell_type": "markdown",
   "metadata": {},
   "source": [
    "## test - loading pickle file again"
   ]
  },
  {
   "cell_type": "code",
   "execution_count": 220,
   "metadata": {},
   "outputs": [
    {
     "name": "stdout",
     "output_type": "stream",
     "text": [
      "(88, 672)\n"
     ]
    }
   ],
   "source": [
    "with open(\"pianoroll_88/voice_0/voice_0_283.pkl\",'rb') as f:\n",
    "    loaded_obj = pickle.load(f)\n",
    "    print(loaded_obj.shape)"
   ]
  },
  {
   "cell_type": "markdown",
   "metadata": {},
   "source": [
    "# Now do this for the whole folder"
   ]
  },
  {
   "cell_type": "code",
   "execution_count": 269,
   "metadata": {},
   "outputs": [],
   "source": [
    "path = \"/Users/sayang/Masterproject/chorales_converted\"\n",
    "\n",
    "for filename in os.listdir(path):\n",
    "    if not filename.endswith('.xml'): continue\n",
    "    fullname = os.path.join(path, filename)\n",
    "    part = partitura.load_musicxml(fullname)\n",
    "        \n",
    "    part_zero = part[0]\n",
    "    part_one = part[1]\n",
    "    part_two = part[2]\n",
    "    part_three = part[3]\n",
    "    \n",
    "    \n",
    "    onset_beat_0 = partitura.utils.note_array_from_part(part_zero)['onset_beat'][-1]\n",
    "    duration_beat_0 = partitura.utils.note_array_from_part(part_zero)['duration_beat'][-1]\n",
    "    beat_0 = onset_beat_0 + duration_beat_0\n",
    "\n",
    "    onset_beat_1 = partitura.utils.note_array_from_part(part_zero)['onset_beat'][-1]\n",
    "    duration_beat_1 = partitura.utils.note_array_from_part(part_zero)['duration_beat'][-1]\n",
    "    beat_1 = onset_beat_1 + duration_beat_1\n",
    "\n",
    "    onset_beat_2 = partitura.utils.note_array_from_part(part_zero)['onset_beat'][-1]\n",
    "    duration_beat_2 = partitura.utils.note_array_from_part(part_zero)['duration_beat'][-1]\n",
    "    beat_2 = onset_beat_2 + duration_beat_2\n",
    "\n",
    "    onset_beat_3 = partitura.utils.note_array_from_part(part_zero)['onset_beat'][-1]\n",
    "    duration_beat_3 = partitura.utils.note_array_from_part(part_zero)['duration_beat'][-1]\n",
    "    beat_3 = onset_beat_3 + duration_beat_3\n",
    "    \n",
    "    onset_beat = partitura.utils.ensure_notearray(part)['onset_beat'][-1]\n",
    "    duration_beat = partitura.utils.ensure_notearray(part)['duration_beat'][-1]\n",
    "    beat_all = onset_beat + duration_beat\n",
    "\n",
    "    pr_zero = partitura.utils.compute_pianoroll(part_zero, time_unit = \"beat\",time_div = 12,piano_range=True,remove_silence=False,end_time=beat_0)\n",
    "    pr_zero = pr_zero.toarray()\n",
    "\n",
    "    pr_one = partitura.utils.compute_pianoroll(part_one, time_unit = \"beat\",time_div = 12,piano_range=True,remove_silence=False,end_time=beat_1)\n",
    "    pr_one = pr_one.toarray()\n",
    "\n",
    "    pr_two = partitura.utils.compute_pianoroll(part_two, time_unit = \"beat\",time_div = 12,piano_range=True,remove_silence=False,end_time=beat_2)\n",
    "    pr_two = pr_two.toarray()\n",
    "\n",
    "    pr_three = partitura.utils.compute_pianoroll(part_three, time_unit = \"beat\",time_div = 12,piano_range=True,remove_silence=False,end_time=beat_3)\n",
    "    pr_three = pr_three.toarray()\n",
    "\n",
    "    pr = partitura.utils.compute_pianoroll(part, time_unit = \"beat\",time_div = 12,piano_range=True,remove_silence=False,end_time=beat_all)\n",
    "    pr = pr.toarray()\n",
    "    \n",
    "    if pr_zero.shape == pr_one.shape == pr_two.shape == pr_three.shape == pr.shape : \n",
    "        pr_comp = pr_zero+pr_one+pr_two+pr_three\n",
    "        pr_comp =  np.where(pr_comp < 1 , pr_comp, 1) \n",
    "\n",
    "        file_out_names = [ \"voice_0_\" + filename[4:7]+ \".pkl\" , \"voice_1_\" + filename[4:7] + \".pkl\" , \"voice_2_\" + filename[4:7] + \".pkl\", \"voice_3_\" + filename[4:7] + \".pkl\", \"voice_all_\" + filename[4:7]+\".pkl\"   ]    \n",
    "        voice_folder = [\"voice_0\",\"voice_1\",\"voice_2\",\"voice_3\",\"voice_all\"]\n",
    "        pianorolls = [pr_zero,pr_one,pr_two,pr_three,pr]\n",
    "\n",
    "\n",
    "        for n,i in enumerate(pianorolls):\n",
    "            a_folder = voice_folder[n]\n",
    "            a_file = file_out_names[n]\n",
    "            joined_path = os.path.join(\"pianoroll_88\", a_folder, a_file)\n",
    "            #if a_file not in  [\"chor133.xml\", \"chor043.xml\", \"chor283.xml\"]:\n",
    "            with open(joined_path, 'wb') as f:\n",
    "                pickle.dump(i, f)    \n",
    "                \n",
    "    else:\n",
    "        print(filename)"
   ]
  },
  {
   "cell_type": "markdown",
   "metadata": {},
   "source": [
    "# Test pr col size by loading 2 measure piece in 4/4 with random notes"
   ]
  },
  {
   "cell_type": "code",
   "execution_count": 33,
   "metadata": {},
   "outputs": [],
   "source": [
    "name = \"test2.musicxml\"\n",
    "\n",
    "import_path = os.path.join(\"/Users/sayang/Masterproject\", name)\n",
    "part_group = partitura.load_musicxml(import_path)\n",
    "#print(part)\n",
    "part = part_group.children[0]"
   ]
  },
  {
   "cell_type": "code",
   "execution_count": 34,
   "metadata": {},
   "outputs": [
    {
     "data": {
      "text/plain": [
       "(128, 72)"
      ]
     },
     "execution_count": 34,
     "metadata": {},
     "output_type": "execute_result"
    }
   ],
   "source": [
    "test123 = partitura.utils.compute_pianoroll(part, time_unit = \"beat\",time_div = 12)\n",
    "test123 = test123.toarray()\n",
    "test123.shape"
   ]
  },
  {
   "cell_type": "code",
   "execution_count": 31,
   "metadata": {},
   "outputs": [
    {
     "data": {
      "text/plain": [
       "array([(0., 1., 0., 1., 0, 1, 70, 1, 'None'),\n",
       "       (4., 1., 4., 1., 4, 1, 74, 1, 'None')],\n",
       "      dtype=[('onset_beat', '<f4'), ('duration_beat', '<f4'), ('onset_quarter', '<f4'), ('duration_quarter', '<f4'), ('onset_div', '<i4'), ('duration_div', '<i4'), ('pitch', '<i4'), ('voice', '<i4'), ('id', '<U256')])"
      ]
     },
     "execution_count": 31,
     "metadata": {},
     "output_type": "execute_result"
    }
   ],
   "source": [
    "part.note_array"
   ]
  },
  {
   "cell_type": "code",
   "execution_count": null,
   "metadata": {},
   "outputs": [],
   "source": []
  }
 ],
 "metadata": {
  "kernelspec": {
   "display_name": "Python 3",
   "language": "python",
   "name": "python3"
  },
  "language_info": {
   "codemirror_mode": {
    "name": "ipython",
    "version": 3
   },
   "file_extension": ".py",
   "mimetype": "text/x-python",
   "name": "python",
   "nbconvert_exporter": "python",
   "pygments_lexer": "ipython3",
   "version": "3.7.9"
  }
 },
 "nbformat": 4,
 "nbformat_minor": 4
}
