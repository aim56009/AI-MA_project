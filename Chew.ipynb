{
  "nbformat": 4,
  "nbformat_minor": 0,
  "metadata": {
    "colab": {
      "name": "Chew.ipynb",
      "provenance": [],
      "collapsed_sections": [],
      "authorship_tag": "ABX9TyPFKpdJaSSuBOmmZ+PtPgFm",
      "include_colab_link": true
    },
    "kernelspec": {
      "name": "python3",
      "display_name": "Python 3"
    },
    "language_info": {
      "name": "python"
    }
  },
  "cells": [
    {
      "cell_type": "markdown",
      "metadata": {
        "id": "view-in-github",
        "colab_type": "text"
      },
      "source": [
        "<a href=\"https://colab.research.google.com/github/aim56009/AI-MA_project/blob/main/Chew.ipynb\" target=\"_parent\"><img src=\"https://colab.research.google.com/assets/colab-badge.svg\" alt=\"Open In Colab\"/></a>"
      ]
    },
    {
      "cell_type": "code",
      "execution_count": 2,
      "metadata": {
        "id": "3Bqce9bT68ge"
      },
      "outputs": [],
      "source": [
        "%matplotlib inline\n",
        "\n",
        "import numpy as np\n",
        "import torch\n",
        "import torch.nn as nn\n",
        "import torch.nn.functional as F\n",
        "import pickle\n",
        "import torchvision.transforms.functional as TF \n",
        "\n",
        "from torch.utils.data import DataLoader\n",
        "from torch.utils.data.dataset import Dataset\n",
        "import glob\n",
        "import os\n",
        "\n",
        "import random\n",
        "import click\n",
        "import sklearn\n",
        "import sklearn.model_selection\n",
        "from collections import defaultdict\n",
        "from sklearn.metrics import accuracy_score\n",
        "from pathlib import Path\n",
        "import sys\n",
        "from torch import optim\n",
        "from torch.optim import lr_scheduler\n",
        "from functools import partial\n",
        "import matplotlib.pyplot as plt"
      ]
    },
    {
      "cell_type": "code",
      "source": [
        "!git clone https://github.com/aim56009/AI-MA_project.git"
      ],
      "metadata": {
        "colab": {
          "base_uri": "https://localhost:8080/"
        },
        "id": "zxC0_I1s7HTO",
        "outputId": "71bd57f7-fc09-4121-c2b9-1ddc46c1805d"
      },
      "execution_count": 3,
      "outputs": [
        {
          "output_type": "stream",
          "name": "stdout",
          "text": [
            "fatal: destination path 'AI-MA_project' already exists and is not an empty directory.\n"
          ]
        }
      ]
    },
    {
      "cell_type": "markdown",
      "source": [
        "#Dataloader"
      ],
      "metadata": {
        "id": "zUyrQgTr7LGx"
      }
    },
    {
      "cell_type": "code",
      "source": [
        "batch_size = 1 \n",
        "PATH_TO_DATA = \"AI-MA_project/pianoroll\"\n",
        "workers = 0"
      ],
      "metadata": {
        "id": "6-HDI8lw7I4o"
      },
      "execution_count": 4,
      "outputs": []
    },
    {
      "cell_type": "code",
      "source": [
        "class MusicDataset(Dataset):\n",
        "\n",
        "    def __init__(self, data_dir, transforms=None):\n",
        "        self.transforms = transforms\n",
        "        self.data_dir = data_dir\n",
        "\n",
        "        labels = [\"voice_0\", \"voice_1\", \"voice_2\", \"voice_3\", \"voice_all\"]\n",
        "        self.labels = labels\n",
        "        self.pr_dict = {}\n",
        "        len_list = []\n",
        "\n",
        "        for iLabel in range(len(labels)):\n",
        "            \n",
        "            if iLabel == 4:   \n",
        "                voice_files = []\n",
        "                file_names = sorted(glob.glob(os.path.join(PATH_TO_DATA, self.labels[iLabel], \"*.pkl\")))   \n",
        "                for name in file_names:\n",
        "                    with open(name ,'rb') as f: \n",
        "                        loaded_obj = pickle.load(f)  \n",
        "                        voice_files.append(loaded_obj) \n",
        "                        len_list.append(len(loaded_obj.T))                             \n",
        "                self.pr_dict[self.labels[iLabel]] = voice_files \n",
        "                self.pr_dict[\"length\"] = len_list\n",
        "            \n",
        "            else:\n",
        "                voice_files = []\n",
        "                file_names = sorted(glob.glob(os.path.join(PATH_TO_DATA, self.labels[iLabel], \"*.pkl\")))   \n",
        "                for name in file_names:\n",
        "                    with open(name ,'rb') as f: \n",
        "                        loaded_obj = pickle.load(f)     \n",
        "                        voice_files.append(loaded_obj)                              \n",
        "                self.pr_dict[self.labels[iLabel]] = voice_files \n",
        "                                        \n",
        "\n",
        "    def __len__(self):\n",
        "      \n",
        "        return len(self.pr_dict[self.labels[0]])\n",
        "\n",
        "    def __getitem__(self, idx):          \n",
        "\n",
        "        out_list = []\n",
        "        for key, value in self.pr_dict.items():\n",
        "            out_list.append(self.pr_dict[key][idx])                  \n",
        "        v0 = torch.tensor(out_list[0].T)\n",
        "        v1 = torch.tensor(out_list[1].T)\n",
        "        v2 = torch.tensor(out_list[2].T)\n",
        "        v3 = torch.tensor(out_list[3].T)\n",
        "        v_all = torch.tensor(out_list[4].T) \n",
        "        length = self.pr_dict[\"length\"][idx]\n",
        "\n",
        "        return (v0, v1, v2, v3, v_all, length)"
      ],
      "metadata": {
        "id": "7YeqEt-a7NZo"
      },
      "execution_count": 5,
      "outputs": []
    },
    {
      "cell_type": "code",
      "source": [
        "dataset = MusicDataset(PATH_TO_DATA)\n",
        "loader = torch.utils.data.DataLoader(dataset,batch_size=batch_size, shuffle=False, num_workers=workers, drop_last=True)"
      ],
      "metadata": {
        "id": "iDNgR0DfFQCR"
      },
      "execution_count": 6,
      "outputs": []
    },
    {
      "cell_type": "code",
      "source": [
        "dataset[326][0].shape"
      ],
      "metadata": {
        "colab": {
          "base_uri": "https://localhost:8080/"
        },
        "id": "3mrU0-46FT6s",
        "outputId": "722fbf82-6c64-4a57-8a00-5d80b860683e"
      },
      "execution_count": 7,
      "outputs": [
        {
          "output_type": "execute_result",
          "data": {
            "text/plain": [
              "torch.Size([576, 128])"
            ]
          },
          "metadata": {},
          "execution_count": 7
        }
      ]
    },
    {
      "cell_type": "code",
      "source": [
        "\"\"\"\n",
        "0 = next(iter(loader))[0]\n",
        "v1 = next(iter(loader))[1]\n",
        "v2 = next(iter(loader))[2]\n",
        "v3 = next(iter(loader))[3]\n",
        "v4 = next(iter(loader))[4]\n",
        "label = next(iter(loader))[5]\n",
        "\n",
        "voices = next(iter(loader))[0:5]\n",
        "\"\"\""
      ],
      "metadata": {
        "colab": {
          "base_uri": "https://localhost:8080/",
          "height": 54
        },
        "id": "mgac1las9z6-",
        "outputId": "131a727d-f949-4388-954a-0fb90b3a55ca"
      },
      "execution_count": 8,
      "outputs": [
        {
          "output_type": "execute_result",
          "data": {
            "text/plain": [
              "'\\n0 = next(iter(loader))[0]\\nv1 = next(iter(loader))[1]\\nv2 = next(iter(loader))[2]\\nv3 = next(iter(loader))[3]\\nv4 = next(iter(loader))[4]\\nlabel = next(iter(loader))[5]\\n\\nvoices = next(iter(loader))[0:5]\\n'"
            ],
            "application/vnd.google.colaboratory.intrinsic+json": {
              "type": "string"
            }
          },
          "metadata": {},
          "execution_count": 8
        }
      ]
    },
    {
      "cell_type": "markdown",
      "source": [
        "# Chew\n"
      ],
      "metadata": {
        "id": "_IXxqGxk8j_b"
      }
    },
    {
      "cell_type": "code",
      "source": [
        "!pip3 install partitura"
      ],
      "metadata": {
        "colab": {
          "base_uri": "https://localhost:8080/"
        },
        "id": "SU_SAxSe8xL7",
        "outputId": "40194529-4b56-4b0d-9c88-220403731cfc"
      },
      "execution_count": 9,
      "outputs": [
        {
          "output_type": "stream",
          "name": "stdout",
          "text": [
            "Requirement already satisfied: partitura in /usr/local/lib/python3.7/dist-packages (0.4.0)\n",
            "Requirement already satisfied: scipy in /usr/local/lib/python3.7/dist-packages (from partitura) (1.4.1)\n",
            "Requirement already satisfied: xmlschema in /usr/local/lib/python3.7/dist-packages (from partitura) (1.10.0)\n",
            "Requirement already satisfied: mido in /usr/local/lib/python3.7/dist-packages (from partitura) (1.2.10)\n",
            "Requirement already satisfied: lxml in /usr/local/lib/python3.7/dist-packages (from partitura) (4.2.6)\n",
            "Requirement already satisfied: lark-parser in /usr/local/lib/python3.7/dist-packages (from partitura) (0.12.0)\n",
            "Requirement already satisfied: numpy in /usr/local/lib/python3.7/dist-packages (from partitura) (1.21.5)\n",
            "Requirement already satisfied: elementpath<3.0.0,>=2.5.0 in /usr/local/lib/python3.7/dist-packages (from xmlschema->partitura) (2.5.0)\n"
          ]
        }
      ]
    },
    {
      "cell_type": "code",
      "source": [
        "import partitura\n",
        "import numpy as np\n",
        "import os\n",
        "import pickle"
      ],
      "metadata": {
        "id": "E9cWSLeL-05q"
      },
      "execution_count": 10,
      "outputs": []
    },
    {
      "cell_type": "code",
      "source": [
        "name = \"chor326.xml\"\n",
        "part = partitura.load_musicxml(name)"
      ],
      "metadata": {
        "id": "V_wf51EcAj_7"
      },
      "execution_count": 11,
      "outputs": []
    },
    {
      "cell_type": "code",
      "source": [
        "chew_sep = partitura.musicanalysis.estimate_voices(part, monophonic_voices=True)\n",
        "#chew_sep_"
      ],
      "metadata": {
        "id": "MlbgckVpCXOM"
      },
      "execution_count": 12,
      "outputs": []
    },
    {
      "cell_type": "code",
      "source": [
        "pos_zero = np.where(chew_sep==1)\n",
        "pos_one = np.where(chew_sep==2)\n",
        "pos_two = np.where(chew_sep==3)\n",
        "pos_three = np.where(chew_sep==4)\n",
        "\n",
        "\n",
        "pos_zero,pos_one,pos_two,pos_three"
      ],
      "metadata": {
        "colab": {
          "base_uri": "https://localhost:8080/"
        },
        "id": "lH5ycXhmuGH7",
        "outputId": "3ed347ef-5281-40dc-8995-88894fe754e2"
      },
      "execution_count": 13,
      "outputs": [
        {
          "output_type": "execute_result",
          "data": {
            "text/plain": [
              "((array([  0,   6,  10,  11,  15,  20,  25,  29,  30,  34,  42,  43,  47,\n",
              "          48,  51,  54,  58,  62,  66,  67,  71,  74,  80,  84,  88,  92,\n",
              "          96,  97, 102, 106, 107, 112, 118, 122, 126, 130, 131, 135, 139,\n",
              "         143, 145, 149, 150, 154, 157, 161, 165, 166, 171, 175, 179, 181,\n",
              "         185, 189, 193, 197]),),\n",
              " (array([  1,   4,   7,  12,  16,  19,  21,  26,  31,  35,  38,  39,  44,\n",
              "          55,  59,  63,  69,  72,  75,  78,  79,  81,  85,  89,  93,  98,\n",
              "         103, 108, 113, 119, 123, 127, 132, 136, 140, 144, 146, 151, 158,\n",
              "         162, 167, 170, 172, 176, 182, 186, 190, 194, 198]),),\n",
              " (array([  2,   8,  13,  17,  22,  24,  27,  32,  36,  40,  45,  49,  52,\n",
              "          56,  60,  64,  68,  76,  82,  86,  90,  94,  99, 101, 104, 109,\n",
              "         111, 114, 116, 117, 120, 124, 128, 133, 137, 141, 147, 152, 155,\n",
              "         156, 159, 163, 168, 173, 177, 183, 187, 191, 195, 199]),),\n",
              " (array([  3,   5,   9,  14,  18,  23,  28,  33,  37,  41,  46,  50,  53,\n",
              "          57,  61,  65,  70,  73,  77,  83,  87,  91,  95, 100, 105, 110,\n",
              "         115, 121, 125, 129, 134, 138, 142, 148, 153, 160, 164, 169, 174,\n",
              "         178, 180, 184, 188, 192, 196, 200]),))"
            ]
          },
          "metadata": {},
          "execution_count": 13
        }
      ]
    },
    {
      "cell_type": "code",
      "source": [
        "note_array_zero = partitura.utils.ensure_notearray(part)[pos_zero]\n",
        "note_array_one = partitura.utils.ensure_notearray(part)[pos_one]\n",
        "note_array_two = partitura.utils.ensure_notearray(part)[pos_two]\n",
        "note_array_three = partitura.utils.ensure_notearray(part)[pos_three]"
      ],
      "metadata": {
        "id": "JAdMl-a3Fm5l"
      },
      "execution_count": 14,
      "outputs": []
    },
    {
      "cell_type": "code",
      "source": [
        "pr_zero = partitura.utils.compute_pianoroll(note_array_zero,time_unit = \"beat\",time_div = 12)\n",
        "pr_zero = pr_zero.toarray()\n",
        "\n",
        "pr_one = partitura.utils.compute_pianoroll(note_array_one,time_unit = \"beat\",time_div = 12)\n",
        "pr_one = pr_one.toarray()\n",
        "\n",
        "pr_two = partitura.utils.compute_pianoroll(note_array_two,time_unit = \"beat\",time_div = 12)\n",
        "pr_two = pr_two.toarray()\n",
        "\n",
        "pr_three = partitura.utils.compute_pianoroll(note_array_three,time_unit = \"beat\",time_div = 12)\n",
        "pr_three = pr_three.toarray()\n"
      ],
      "metadata": {
        "id": "kHOUhD9g2Z19"
      },
      "execution_count": 38,
      "outputs": []
    },
    {
      "cell_type": "code",
      "source": [
        "part_zero = part[0]\n",
        "part_one = part[1]\n",
        "part_two = part[2]\n",
        "part_three = part[3]"
      ],
      "metadata": {
        "id": "mhIU6dJUButV"
      },
      "execution_count": 39,
      "outputs": []
    },
    {
      "cell_type": "code",
      "source": [
        "pr_zero_ori = partitura.utils.compute_pianoroll(part_zero, time_unit = \"beat\",time_div = 12)\n",
        "v0 = pr_zero_ori.toarray()\n",
        "\n",
        "pr_one_ori = partitura.utils.compute_pianoroll(part_one, time_unit = \"beat\",time_div = 12)\n",
        "v1 = pr_one_ori.toarray()\n",
        "\n",
        "pr_two_ori = partitura.utils.compute_pianoroll(part_two, time_unit = \"beat\",time_div = 12)\n",
        "v2 = pr_two_ori.toarray()\n",
        "\n",
        "pr_three_ori = partitura.utils.compute_pianoroll(part_three, time_unit = \"beat\",time_div = 12)\n",
        "v3 = pr_three_ori.toarray()\n",
        "\n",
        "pr_ori = partitura.utils.compute_pianoroll(part, time_unit = \"beat\",time_div = 12)\n",
        "v_all = pr_ori.toarray()"
      ],
      "metadata": {
        "id": "nVwctUH7CFKM"
      },
      "execution_count": 40,
      "outputs": []
    },
    {
      "cell_type": "code",
      "source": [
        "#pr_zero_ori.shape, pr_one_ori.shape,pr_two_ori.shape, pr_three_ori.shape, pr_ori.shape\n",
        "#pr_zero.shape, pr_one.shape,pr_two.shape, pr_three.shape"
      ],
      "metadata": {
        "id": "WwnPkQHxH-8x"
      },
      "execution_count": 18,
      "outputs": []
    },
    {
      "cell_type": "code",
      "source": [
        "#np.sum(pr_zero_ == pr_zero) - 61440, np.sum(pr_one == pr_one_) - 61440 ,np.sum(pr_two == pr_two_) - 61440,np.sum(pr_three_ == pr_three) - 61440"
      ],
      "metadata": {
        "id": "1251OStlTs-h"
      },
      "execution_count": 20,
      "outputs": []
    },
    {
      "cell_type": "code",
      "source": [
        "loss = nn.CrossEntropyLoss(reduction=\"mean\")\n",
        "\"\"\"\n",
        "pr_zero = torch.tensor(pr_zero).type(torch.FloatTensor)\n",
        "v0 = torch.tensor(v0).type(torch.FloatTensor)\n",
        "\n",
        "pr_one = torch.tensor(pr_one).type(torch.FloatTensor)\n",
        "v1 = torch.tensor(v1).type(torch.FloatTensor)\n",
        "\n",
        "pr_two = torch.tensor(pr_two).type(torch.FloatTensor)\n",
        "v2 = torch.tensor(v2).type(torch.FloatTensor)\n",
        "\n",
        "pr_three = torch.tensor(pr_three).type(torch.FloatTensor)\n",
        "v3 = torch.tensor(v3).type(torch.FloatTensor)\n",
        "\n",
        "v0 = v0.squeeze()\n",
        "v1 = v1.squeeze()\n",
        "v2 = v2.squeeze()\n",
        "v3 = v3.squeeze()\n",
        "        \n",
        "losses = loss(pr_zero, v0) + loss(pr_one, v1) + loss(pr_two, v2) + loss(pr_three, v3)\n",
        "losses\n",
        "\"\"\""
      ],
      "metadata": {
        "id": "RTMVd00DDpNy"
      },
      "execution_count": null,
      "outputs": []
    },
    {
      "cell_type": "code",
      "source": [
        "from sklearn.metrics import accuracy_score\n",
        "\n",
        "acc_v0 = accuracy_score(torch.tensor(pr_zero), v0)\n",
        "acc_v1 = accuracy_score(torch.tensor(pr_one), v1)\n",
        "acc_v2 = accuracy_score(torch.tensor(pr_two),v2)\n",
        "acc_v3 = accuracy_score(torch.tensor(pr_three), v3)"
      ],
      "metadata": {
        "id": "p_iNU4N66xHw"
      },
      "execution_count": 49,
      "outputs": []
    },
    {
      "cell_type": "code",
      "source": [
        "acc_v0,acc_v1,acc_v2,acc_v3"
      ],
      "metadata": {
        "colab": {
          "base_uri": "https://localhost:8080/"
        },
        "id": "so09ScFo8tDk",
        "outputId": "c7aad71e-1e6a-47e8-f624-933d7a82d7ac"
      },
      "execution_count": 51,
      "outputs": [
        {
          "output_type": "execute_result",
          "data": {
            "text/plain": [
              "(0.96875, 0.9765625, 0.9921875, 1.0)"
            ]
          },
          "metadata": {},
          "execution_count": 51
        }
      ]
    }
  ]
}