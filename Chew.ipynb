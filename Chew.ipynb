{
  "nbformat": 4,
  "nbformat_minor": 0,
  "metadata": {
    "colab": {
      "name": "Chew.ipynb",
      "provenance": [],
      "collapsed_sections": [],
      "mount_file_id": "1PYfyIi8Z7ytAu4eGoCLbpqd0N0Rrhjal",
      "authorship_tag": "ABX9TyOm4pCG5/av6EuX+L9F5gKc",
      "include_colab_link": true
    },
    "kernelspec": {
      "name": "python3",
      "display_name": "Python 3"
    },
    "language_info": {
      "name": "python"
    }
  },
  "cells": [
    {
      "cell_type": "markdown",
      "metadata": {
        "id": "view-in-github",
        "colab_type": "text"
      },
      "source": [
        "<a href=\"https://colab.research.google.com/github/aim56009/AI-MA_project/blob/main/Chew.ipynb\" target=\"_parent\"><img src=\"https://colab.research.google.com/assets/colab-badge.svg\" alt=\"Open In Colab\"/></a>"
      ]
    },
    {
      "cell_type": "code",
      "source": [
        "!pip3 install partitura\n",
        "import partitura\n",
        "import numpy as np\n",
        "import os\n",
        "import pickle\n",
        "import torch\n",
        "from sklearn.metrics import accuracy_score\n",
        "from collections import defaultdict"
      ],
      "metadata": {
        "id": "SU_SAxSe8xL7"
      },
      "execution_count": null,
      "outputs": []
    },
    {
      "cell_type": "code",
      "source": [
        "!git clone https://github.com/aim56009/AI-MA_project.git"
      ],
      "metadata": {
        "id": "zxC0_I1s7HTO",
        "colab": {
          "base_uri": "https://localhost:8080/"
        },
        "outputId": "4c4172a6-6d49-465b-83a6-c9d8dcd89b28"
      },
      "execution_count": 1,
      "outputs": [
        {
          "output_type": "stream",
          "name": "stdout",
          "text": [
            "Cloning into 'AI-MA_project'...\n",
            "remote: Enumerating objects: 2950, done.\u001b[K\n",
            "remote: Counting objects: 100% (2950/2950), done.\u001b[K\n",
            "remote: Compressing objects: 100% (829/829), done.\u001b[K\n",
            "remote: Total 2950 (delta 2200), reused 2803 (delta 2119), pack-reused 0\u001b[K\n",
            "Receiving objects: 100% (2950/2950), 4.87 MiB | 6.11 MiB/s, done.\n",
            "Resolving deltas: 100% (2200/2200), done.\n",
            "Checking out files: 100% (3184/3184), done.\n"
          ]
        }
      ]
    },
    {
      "cell_type": "markdown",
      "source": [
        "# Chew\n"
      ],
      "metadata": {
        "id": "_IXxqGxk8j_b"
      }
    },
    {
      "cell_type": "code",
      "source": [
        "def evaluation_chew():\n",
        "\n",
        "    history = defaultdict(list)\n",
        "    path = \"AI-MA_project/chorales_converted\"\n",
        "\n",
        "    ### load the chorales in xml format ###\n",
        "    for filename in os.listdir(path):\n",
        "        if not filename.endswith('.xml'): continue\n",
        "        fullname = os.path.join(path, filename)\n",
        "        \n",
        "\n",
        "        part = partitura.load_musicxml(fullname)\n",
        "            \n",
        "\n",
        "        ### apply chews method ### \n",
        "        chew_sep = partitura.musicanalysis.estimate_voices(part, monophonic_voices=True)\n",
        "\n",
        "\n",
        "        ### seperate the results -> e.g. pos_zero = all positions where chew prediction says voice 0 ####\n",
        "        pos_zero = np.where(chew_sep==1)\n",
        "        pos_one = np.where(chew_sep==2)\n",
        "        pos_two = np.where(chew_sep==3)\n",
        "        pos_three = np.where(chew_sep==4)\n",
        "\n",
        "\n",
        "        ### create notearray object that contain only the corresponding voice ###\n",
        "        note_array_zero = partitura.utils.ensure_notearray(part)[pos_zero]\n",
        "        note_array_one = partitura.utils.ensure_notearray(part)[pos_one]\n",
        "        note_array_two = partitura.utils.ensure_notearray(part)[pos_two]\n",
        "        note_array_three = partitura.utils.ensure_notearray(part)[pos_three]\n",
        "\n",
        "\n",
        "        ### create pr representation of all voices ###\n",
        "        pr_zero = partitura.utils.compute_pianoroll(note_array_zero,time_unit = \"beat\",time_div = 12)\n",
        "        pr_zero = pr_zero.toarray()\n",
        "\n",
        "        pr_one = partitura.utils.compute_pianoroll(note_array_one,time_unit = \"beat\",time_div = 12)\n",
        "        pr_one = pr_one.toarray()\n",
        "\n",
        "        pr_two = partitura.utils.compute_pianoroll(note_array_two,time_unit = \"beat\",time_div = 12)\n",
        "        pr_two = pr_two.toarray()\n",
        "\n",
        "        pr_three = partitura.utils.compute_pianoroll(note_array_three,time_unit = \"beat\",time_div = 12)\n",
        "        pr_three = pr_three.toarray()\n",
        "\n",
        "\n",
        "        ### get original data (as labels) ###\n",
        "        part_zero = part[0]\n",
        "        part_one = part[1]\n",
        "        part_two = part[2]\n",
        "        part_three = part[3]\n",
        "\n",
        "\n",
        "        ### compute pianoroll representation of original data for computing acc ###\n",
        "        pr_zero_ori = partitura.utils.compute_pianoroll(part_zero, time_unit = \"beat\",time_div = 12)\n",
        "        v0 = pr_zero_ori.toarray()\n",
        "\n",
        "        pr_one_ori = partitura.utils.compute_pianoroll(part_one, time_unit = \"beat\",time_div = 12)\n",
        "        v1 = pr_one_ori.toarray()\n",
        "\n",
        "        pr_two_ori = partitura.utils.compute_pianoroll(part_two, time_unit = \"beat\",time_div = 12)\n",
        "        v2 = pr_two_ori.toarray()\n",
        "\n",
        "        pr_three_ori = partitura.utils.compute_pianoroll(part_three, time_unit = \"beat\",time_div = 12)\n",
        "        v3 = pr_three_ori.toarray()\n",
        "\n",
        "        if pr_zero.shape == pr_one.shape == pr_two.shape == pr_three.shape  :\n",
        "            ### compute accuracy ###\n",
        "            acc_v0 = accuracy_score(torch.tensor(pr_zero), v0)\n",
        "            acc_v1 = accuracy_score(torch.tensor(pr_one), v1)\n",
        "            acc_v2 = accuracy_score(torch.tensor(pr_two),v2)\n",
        "            acc_v3 = accuracy_score(torch.tensor(pr_three), v3)\n",
        "\n",
        "            history[\"accuracy_v0\"].append(acc_v0)\n",
        "            history[\"accuracy_v1\"].append(acc_v1)\n",
        "            history[\"accuracy_v2\"].append(acc_v2)\n",
        "            history[\"accuracy_v3\"].append(acc_v3)\n",
        "            \n",
        "        else: print(\"pr shape does not match for:\", filename)\n",
        "        \n",
        "    return history"
      ],
      "metadata": {
        "id": "E9cWSLeL-05q"
      },
      "execution_count": null,
      "outputs": []
    },
    {
      "cell_type": "code",
      "source": [
        "hist_acc =  evaluation_chew()"
      ],
      "metadata": {
        "colab": {
          "base_uri": "https://localhost:8080/"
        },
        "id": "bgJCl6Mx-nF4",
        "outputId": "457003e3-f858-413a-c223-06ad575cddda"
      },
      "execution_count": null,
      "outputs": [
        {
          "output_type": "stream",
          "name": "stdout",
          "text": [
            "pr shape does not match for: chor245.xml\n",
            "pr shape does not match for: chor264.xml\n",
            "pr shape does not match for: chor286.xml\n",
            "pr shape does not match for: chor056.xml\n",
            "pr shape does not match for: chor283.xml\n",
            "pr shape does not match for: chor074.xml\n",
            "pr shape does not match for: chor043.xml\n",
            "pr shape does not match for: chor252.xml\n",
            "pr shape does not match for: chor133.xml\n",
            "pr shape does not match for: chor095.xml\n"
          ]
        }
      ]
    },
    {
      "cell_type": "code",
      "source": [
        "total_len = len(hist_acc[\"accuracy_v0\"])\n",
        "total_len"
      ],
      "metadata": {
        "colab": {
          "base_uri": "https://localhost:8080/"
        },
        "id": "RHrKst6lESD1",
        "outputId": "b6f64ad1-1db6-4f4f-8054-344a8d369309"
      },
      "execution_count": null,
      "outputs": [
        {
          "output_type": "execute_result",
          "data": {
            "text/plain": [
              "360"
            ]
          },
          "metadata": {},
          "execution_count": 83
        }
      ]
    },
    {
      "cell_type": "code",
      "source": [
        "accuracy_v0 = np.sum(hist_acc[\"accuracy_v0\"])/total_len\n",
        "accuracy_v1 = np.sum(hist_acc[\"accuracy_v1\"])/total_len\n",
        "accuracy_v2 = np.sum(hist_acc[\"accuracy_v2\"])/total_len\n",
        "accuracy_v3 = np.sum(hist_acc[\"accuracy_v3\"])/total_len\n",
        "\n",
        "print(\"accuracy of v0-v3:\",accuracy_v0,accuracy_v1,accuracy_v2,accuracy_v3)"
      ],
      "metadata": {
        "colab": {
          "base_uri": "https://localhost:8080/"
        },
        "id": "X4UzqvcEE2gm",
        "outputId": "f20b9948-1414-4c64-ffad-099532661d94"
      },
      "execution_count": null,
      "outputs": [
        {
          "output_type": "stream",
          "name": "stdout",
          "text": [
            "accuracy of v0-v3: 0.9882161458333333 0.9801215277777777 0.9844618055555555 0.9959201388888889\n"
          ]
        }
      ]
    },
    {
      "cell_type": "markdown",
      "source": [
        "# HMM approach"
      ],
      "metadata": {
        "id": "wKTWlxty2JrN"
      }
    },
    {
      "cell_type": "code",
      "source": [
        "## This block was to save the xml files to midi and download it to put it in the right folder on github ###\n",
        "\"\"\"\n",
        "#path = \"AI-MA_project/chorales_converted\"\n",
        "path = \"chorales_converted\"\n",
        "\n",
        "\n",
        "for filename in os.listdir(path):\n",
        "    if not filename.endswith('.xml'): continue\n",
        "    fullname = os.path.join(path, filename)\n",
        "    part = partitura.load_musicxml(fullname)\n",
        "    try:\n",
        "      partitura.save_score_midi(part,out= \"midi_test/\"+filename[:8]+\"mid\",part_voice_assign_mode=4)\n",
        "    except:\n",
        "      print(filename[:8]+\"mid\")\n",
        "\n",
        "\n",
        "#path = \"midi_test/\"\n",
        "#for filename in os.listdir(path):\n",
        "#    files.download(path + filename) \n",
        "\n",
        "#!zip -r /content/file.zip midi_test\n",
        "#files.download(\"/content/midi_zip_file.zip\")\n",
        "\"\"\""
      ],
      "metadata": {
        "id": "NT_cg-w59ahz"
      },
      "execution_count": null,
      "outputs": []
    },
    {
      "cell_type": "markdown",
      "source": [
        "HMM loop"
      ],
      "metadata": {
        "id": "XE0iMK4F42N8"
      }
    },
    {
      "cell_type": "code",
      "source": [
        "def evaluation_hmm():\n",
        "    history_ = defaultdict(list)\n",
        "\n",
        "    path = \"AI-MA_project/hmm_sep\"\n",
        "\n",
        "    for filename in os.listdir(path):\n",
        "        if not filename.endswith('.mid'): continue\n",
        "        fullname = os.path.join(path, filename)\n",
        "\n",
        "        part_hmm = partitura.load_score_midi(fullname,part_voice_assign_mode=2)\n",
        "        voice_info = partitura.utils.note_array_from_part(part_hmm)[\"voice\"]\n",
        "\n",
        "        ### seperate the results -> e.g. pos_zero = all positions where chew prediction says voice 0 ####\n",
        "        pos_0 = np.where(voice_info==1)\n",
        "        pos_1 = np.where(voice_info==2)\n",
        "        pos_2 = np.where(voice_info==3)\n",
        "        pos_3 = np.where(voice_info==4)\n",
        "\n",
        "        ### create notearray object that contain only the corresponding voice ###\n",
        "        note_array_0= partitura.utils.ensure_notearray(part_hmm)[pos_0]\n",
        "        note_array_1 = partitura.utils.ensure_notearray(part_hmm)[pos_1]\n",
        "        note_array_2 = partitura.utils.ensure_notearray(part_hmm)[pos_2]\n",
        "        note_array_3 = partitura.utils.ensure_notearray(part_hmm)[pos_3]\n",
        "\n",
        "        if len(note_array_3) !=0 and len(note_array_2) !=0 and len(note_array_1) !=0 and len(note_array_0) !=0:\n",
        "            ### create pr representation of all voices ###\n",
        "            pr_0 = partitura.utils.compute_pianoroll(note_array_0,time_unit = \"beat\",time_div = 12)\n",
        "            pr_0 = pr_0.toarray()\n",
        "\n",
        "            pr_1 = partitura.utils.compute_pianoroll(note_array_1,time_unit = \"beat\",time_div = 12)\n",
        "            pr_1 = pr_1.toarray()\n",
        "\n",
        "            pr_2 = partitura.utils.compute_pianoroll(note_array_2,time_unit = \"beat\",time_div = 12)\n",
        "            pr_2 = pr_2.toarray()\n",
        "\n",
        "            pr_3 = partitura.utils.compute_pianoroll(note_array_3,time_unit = \"beat\",time_div = 12)\n",
        "            pr_3 = pr_3.toarray()\n",
        "\n",
        "\n",
        "            fullname_ = os.path.join(\"AI-MA_project/chorales_converted\", filename[:8] + \"xml\")\n",
        "            part_ = partitura.load_musicxml(fullname_)\n",
        "\n",
        "            ### get original data (as labels) ###\n",
        "            part_zero = part_[0]\n",
        "            part_one = part_[1]\n",
        "            part_two = part_[2]\n",
        "            part_three = part_[3]\n",
        "\n",
        "\n",
        "            ### compute pianoroll representation of original data for computing acc ###\n",
        "            pr_zero_ori = partitura.utils.compute_pianoroll(part_zero, time_unit = \"beat\",time_div = 12)\n",
        "            v0 = pr_zero_ori.toarray()\n",
        "\n",
        "            pr_one_ori = partitura.utils.compute_pianoroll(part_one, time_unit = \"beat\",time_div = 12)\n",
        "            v1 = pr_one_ori.toarray()\n",
        "\n",
        "            pr_two_ori = partitura.utils.compute_pianoroll(part_two, time_unit = \"beat\",time_div = 12)\n",
        "            v2 = pr_two_ori.toarray()\n",
        "\n",
        "            pr_three_ori = partitura.utils.compute_pianoroll(part_three, time_unit = \"beat\",time_div = 12)\n",
        "            v3 = pr_three_ori.toarray()\n",
        "\n",
        "            if pr_0.shape == pr_1.shape == pr_2.shape == pr_3.shape  :\n",
        "                ### compute accuracy ###\n",
        "                acc_v0 = accuracy_score(torch.tensor(pr_0), v0)\n",
        "                acc_v1 = accuracy_score(torch.tensor(pr_1), v1)\n",
        "                acc_v2 = accuracy_score(torch.tensor(pr_2),v2)\n",
        "                acc_v3 = accuracy_score(torch.tensor(pr_3), v3)\n",
        "\n",
        "                history_[\"accuracy_v0\"].append(acc_v0)\n",
        "                history_[\"accuracy_v1\"].append(acc_v1)\n",
        "                history_[\"accuracy_v2\"].append(acc_v2)\n",
        "                history_[\"accuracy_v3\"].append(acc_v3)\n",
        "            else:\n",
        "              print(\"size does not match\",filename)\n",
        "        \n",
        "    return history_"
      ],
      "metadata": {
        "id": "rNEoXK7K415q"
      },
      "execution_count": 49,
      "outputs": []
    },
    {
      "cell_type": "code",
      "source": [
        "hist_acc_hmm =  evaluation_hmm()"
      ],
      "metadata": {
        "id": "m7Gqo3Fi5sFC",
        "outputId": "2258b69e-96fd-4b56-ca07-418431148fe7",
        "colab": {
          "base_uri": "https://localhost:8080/"
        }
      },
      "execution_count": 50,
      "outputs": [
        {
          "output_type": "stream",
          "name": "stdout",
          "text": [
            "size does not match chor283.mid\n",
            "size does not match chor043.mid\n"
          ]
        }
      ]
    },
    {
      "cell_type": "code",
      "source": [
        "total_len_hmm = len(hist_acc_hmm[\"accuracy_v0\"])\n",
        "\n",
        "accuracy_v0_hmm = np.sum(hist_acc_hmm[\"accuracy_v0\"])/total_len_hmm\n",
        "accuracy_v1_hmm = np.sum(hist_acc_hmm[\"accuracy_v1\"])/total_len_hmm\n",
        "accuracy_v2_hmm = np.sum(hist_acc_hmm[\"accuracy_v2\"])/total_len_hmm\n",
        "accuracy_v3_hmm = np.sum(hist_acc_hmm[\"accuracy_v3\"])/total_len_hmm\n",
        "\n",
        "print(\"accuracy of v0-v3 -HMM:\",accuracy_v0_hmm,accuracy_v1_hmm,accuracy_v2_hmm,accuracy_v3_hmm)"
      ],
      "metadata": {
        "id": "AAN-Sdza6Ght",
        "outputId": "49d8565a-05f2-4ef9-8614-25b3e38fa4e1",
        "colab": {
          "base_uri": "https://localhost:8080/"
        }
      },
      "execution_count": 51,
      "outputs": [
        {
          "output_type": "stream",
          "name": "stdout",
          "text": [
            "accuracy of v0-v3 -HMM: 0.99189453125 0.982470703125 0.987744140625 0.9976806640625\n"
          ]
        }
      ]
    },
    {
      "cell_type": "markdown",
      "source": [
        "# Try single files"
      ],
      "metadata": {
        "id": "fg0QvMM28pKw"
      }
    },
    {
      "cell_type": "code",
      "source": [
        "part_hmm = partitura.load_score_midi(\"AI-MA_project/hmm_sep_t/chor002.mid\",part_voice_assign_mode=2)\n",
        "voice_info = partitura.utils.note_array_from_part(part_hmm)[\"voice\"]\n",
        "voice_info"
      ],
      "metadata": {
        "colab": {
          "base_uri": "https://localhost:8080/"
        },
        "id": "nVqcOmVbiXXx",
        "outputId": "f5a6ee3d-a301-42a2-989c-b49629dfc0c3"
      },
      "execution_count": 30,
      "outputs": [
        {
          "output_type": "execute_result",
          "data": {
            "text/plain": [
              "array([1, 2, 3, 4, 1, 1, 2, 3, 4, 1, 2, 3, 4, 2, 1, 2, 3, 4, 2, 1, 2, 3,\n",
              "       4, 1, 2, 3, 4, 1, 3, 4, 2, 1, 2, 3, 4, 1, 2, 3, 4, 1, 2, 3, 4, 1,\n",
              "       2, 3, 4, 3, 1, 2, 3, 4, 1, 4, 1, 4, 1, 2, 4, 1, 3, 4, 2, 1, 2, 3,\n",
              "       4, 1, 2, 3, 4, 3, 1, 2, 3, 4, 1, 2, 1, 2, 3, 4, 2, 1, 2, 3, 4, 1,\n",
              "       2, 3, 4, 1, 3, 1, 2, 3, 4, 3, 4, 1, 2, 3, 4, 1, 1, 2, 3, 4, 1, 2,\n",
              "       3, 4, 1, 2, 3, 4, 2, 3, 1, 3, 4, 2, 1, 2, 3, 4, 1, 3, 1, 2, 3, 4,\n",
              "       1, 2, 3, 4, 1, 2, 3, 4, 3, 1, 2, 3, 4, 1, 2, 3, 4, 1, 2, 1, 2, 3,\n",
              "       4, 2, 1, 2, 3, 4, 3, 1, 2, 3, 4, 1, 2, 1, 2, 4, 1, 2, 4, 1, 2, 3,\n",
              "       4, 1, 2, 3, 4, 1, 2, 3, 4, 1, 2, 3, 1, 2, 3, 4, 2, 1, 2, 3, 4, 1,\n",
              "       1, 2, 3, 2, 3, 4, 2, 3, 4, 1, 4, 1, 4, 2, 3, 1, 2, 3, 4, 1, 2, 1,\n",
              "       2, 3, 4, 2, 2, 1, 2, 3, 4], dtype=int32)"
            ]
          },
          "metadata": {},
          "execution_count": 30
        }
      ]
    },
    {
      "cell_type": "code",
      "source": [
        "### seperate the results -> e.g. pos_zero = all positions where chew prediction says voice 0 ####\n",
        "pos_0 = np.where(voice_info==1)\n",
        "pos_1 = np.where(voice_info==2)\n",
        "pos_2 = np.where(voice_info==3)\n",
        "pos_3 = np.where(voice_info==4)"
      ],
      "metadata": {
        "id": "-KpNjwrPo0qt"
      },
      "execution_count": 31,
      "outputs": []
    },
    {
      "cell_type": "code",
      "source": [
        "### create notearray object that contain only the corresponding voice ###\n",
        "note_array_0= partitura.utils.ensure_notearray(part_hmm)[pos_0]\n",
        "note_array_1 = partitura.utils.ensure_notearray(part_hmm)[pos_1]\n",
        "note_array_2 = partitura.utils.ensure_notearray(part_hmm)[pos_2]\n",
        "note_array_3 = partitura.utils.ensure_notearray(part_hmm)[pos_3]"
      ],
      "metadata": {
        "id": "GgdEzq4v363S"
      },
      "execution_count": 32,
      "outputs": []
    },
    {
      "cell_type": "code",
      "source": [
        "len(note_array_3)"
      ],
      "metadata": {
        "id": "lKpiYxyL5z5K",
        "outputId": "c4a77514-58e3-4003-ae79-b8ad71a470e1",
        "colab": {
          "base_uri": "https://localhost:8080/"
        }
      },
      "execution_count": 33,
      "outputs": [
        {
          "output_type": "execute_result",
          "data": {
            "text/plain": [
              "52"
            ]
          },
          "metadata": {},
          "execution_count": 33
        }
      ]
    },
    {
      "cell_type": "code",
      "source": [
        "### create pr representation of all voices ###\n",
        "pr_0 = partitura.utils.compute_pianoroll(note_array_0,time_unit = \"beat\",time_div = 12)\n",
        "pr_0 = pr_0.toarray()\n",
        "\n",
        "pr_1 = partitura.utils.compute_pianoroll(note_array_1,time_unit = \"beat\",time_div = 12)\n",
        "pr_1 = pr_1.toarray()\n",
        "\n",
        "pr_2 = partitura.utils.compute_pianoroll(note_array_2,time_unit = \"beat\",time_div = 12)\n",
        "pr_2 = pr_2.toarray()\n",
        "\n",
        "pr_3 = partitura.utils.compute_pianoroll(note_array_3,time_unit = \"beat\",time_div = 12)\n",
        "pr_3 = pr_3.toarray()"
      ],
      "metadata": {
        "id": "fw1qIIhaplwy"
      },
      "execution_count": 34,
      "outputs": []
    },
    {
      "cell_type": "code",
      "source": [
        "pr_0.shape,pr_1.shape , pr_2.shape , pr_3.shape"
      ],
      "metadata": {
        "id": "-OiRsAbyq4Mj",
        "outputId": "ec61fa21-8a14-4b57-e8f7-09aabea890bc",
        "colab": {
          "base_uri": "https://localhost:8080/"
        }
      },
      "execution_count": 35,
      "outputs": [
        {
          "output_type": "execute_result",
          "data": {
            "text/plain": [
              "((128, 624), (128, 624), (128, 624), (128, 624))"
            ]
          },
          "metadata": {},
          "execution_count": 35
        }
      ]
    },
    {
      "cell_type": "markdown",
      "source": [
        "### original pr of chor001"
      ],
      "metadata": {
        "id": "Eeka5UOXp07z"
      }
    },
    {
      "cell_type": "code",
      "source": [
        "path = \"AI-MA_project/chorales_converted\"\n",
        "\n",
        "fullname = os.path.join(path, \"chor001.xml\")\n",
        "part = partitura.load_musicxml(fullname)\n",
        "\n",
        "### get original data (as labels) ###\n",
        "part_zero = part[0]\n",
        "part_one = part[1]\n",
        "part_two = part[2]\n",
        "part_three = part[3]\n",
        "\n",
        "\n",
        "### compute pianoroll representation of original data for computing acc ###\n",
        "pr_zero_ori = partitura.utils.compute_pianoroll(part_zero, time_unit = \"beat\",time_div = 12)\n",
        "v0 = pr_zero_ori.toarray()\n",
        "\n",
        "pr_one_ori = partitura.utils.compute_pianoroll(part_one, time_unit = \"beat\",time_div = 12)\n",
        "v1 = pr_one_ori.toarray()\n",
        "\n",
        "pr_two_ori = partitura.utils.compute_pianoroll(part_two, time_unit = \"beat\",time_div = 12)\n",
        "v2 = pr_two_ori.toarray()\n",
        "\n",
        "pr_three_ori = partitura.utils.compute_pianoroll(part_three, time_unit = \"beat\",time_div = 12)\n",
        "v3 = pr_three_ori.toarray()"
      ],
      "metadata": {
        "id": "DYN-4BbD4LFU"
      },
      "execution_count": 82,
      "outputs": []
    },
    {
      "cell_type": "code",
      "source": [
        "v0.shape,v1.shape,v2.shape,v3.shape"
      ],
      "metadata": {
        "id": "Lo6JwoG5scwa",
        "outputId": "aeae0d2d-cce1-4b16-9d48-302d124b4432",
        "colab": {
          "base_uri": "https://localhost:8080/"
        }
      },
      "execution_count": 84,
      "outputs": [
        {
          "output_type": "execute_result",
          "data": {
            "text/plain": [
              "((128, 756), (128, 756), (128, 756), (128, 756))"
            ]
          },
          "metadata": {},
          "execution_count": 84
        }
      ]
    },
    {
      "cell_type": "code",
      "source": [
        "if pr_0.shape == pr_1.shape == pr_2.shape == pr_3.shape  :\n",
        "    ### compute accuracy ###\n",
        "    acc_v0 = accuracy_score(torch.tensor(pr_0), v0)\n",
        "    acc_v1 = accuracy_score(torch.tensor(pr_1), v1)\n",
        "    acc_v2 = accuracy_score(torch.tensor(pr_2),v2)\n",
        "    acc_v3 = accuracy_score(torch.tensor(pr_3), v3)\n",
        "\n",
        "    history[\"accuracy_v0\"].append(acc_v0)\n",
        "    history[\"accuracy_v1\"].append(acc_v1)\n",
        "    history[\"accuracy_v2\"].append(acc_v2)\n",
        "    history[\"accuracy_v3\"].append(acc_v3)\n",
        "else:\n",
        "  print(\"size does not match\")"
      ],
      "metadata": {
        "id": "cFXmcx8RmY9c",
        "outputId": "cf16c223-35b8-43eb-85fe-657c14e14006",
        "colab": {
          "base_uri": "https://localhost:8080/"
        }
      },
      "execution_count": 85,
      "outputs": [
        {
          "output_type": "stream",
          "name": "stdout",
          "text": [
            "size does not match\n"
          ]
        }
      ]
    },
    {
      "cell_type": "code",
      "source": [
        "pr_0.shape,pr_1.shape , pr_2.shape , pr_3.shape"
      ],
      "metadata": {
        "id": "994mHvdwmanp",
        "outputId": "5e292519-df71-4195-ed11-ac4469bf2538",
        "colab": {
          "base_uri": "https://localhost:8080/"
        }
      },
      "execution_count": 34,
      "outputs": [
        {
          "output_type": "execute_result",
          "data": {
            "text/plain": [
              "((128, 756), (128, 720), (128, 708), (128, 90))"
            ]
          },
          "metadata": {},
          "execution_count": 34
        }
      ]
    },
    {
      "cell_type": "code",
      "source": [
        ""
      ],
      "metadata": {
        "id": "0WtS2hjKqOVj"
      },
      "execution_count": null,
      "outputs": []
    }
  ]
}