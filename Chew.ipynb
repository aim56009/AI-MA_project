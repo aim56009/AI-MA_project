{
  "nbformat": 4,
  "nbformat_minor": 0,
  "metadata": {
    "colab": {
      "name": "Chew.ipynb",
      "provenance": [],
      "collapsed_sections": [],
      "mount_file_id": "1PYfyIi8Z7ytAu4eGoCLbpqd0N0Rrhjal",
      "authorship_tag": "ABX9TyNWphodRX8VFihFSGbOtcbd",
      "include_colab_link": true
    },
    "kernelspec": {
      "name": "python3",
      "display_name": "Python 3"
    },
    "language_info": {
      "name": "python"
    }
  },
  "cells": [
    {
      "cell_type": "markdown",
      "metadata": {
        "id": "view-in-github",
        "colab_type": "text"
      },
      "source": [
        "<a href=\"https://colab.research.google.com/github/aim56009/AI-MA_project/blob/main/Chew.ipynb\" target=\"_parent\"><img src=\"https://colab.research.google.com/assets/colab-badge.svg\" alt=\"Open In Colab\"/></a>"
      ]
    },
    {
      "cell_type": "code",
      "execution_count": 1,
      "metadata": {
        "id": "3Bqce9bT68ge"
      },
      "outputs": [],
      "source": [
        "%matplotlib inline\n",
        "\n",
        "import numpy as np\n",
        "import torch\n",
        "import torch.nn as nn\n",
        "import torch.nn.functional as F\n",
        "import pickle\n",
        "import torchvision.transforms.functional as TF \n",
        "\n",
        "from torch.utils.data import DataLoader\n",
        "from torch.utils.data.dataset import Dataset\n",
        "import glob\n",
        "import os\n",
        "\n",
        "import random\n",
        "import click\n",
        "import sklearn\n",
        "import sklearn.model_selection\n",
        "from collections import defaultdict\n",
        "from sklearn.metrics import accuracy_score\n",
        "from pathlib import Path\n",
        "import sys\n",
        "from torch import optim\n",
        "from torch.optim import lr_scheduler\n",
        "from functools import partial\n",
        "import matplotlib.pyplot as plt"
      ]
    },
    {
      "cell_type": "code",
      "source": [
        "!git clone https://github.com/aim56009/AI-MA_project.git"
      ],
      "metadata": {
        "id": "zxC0_I1s7HTO",
        "outputId": "687a12ac-748e-4639-c04b-e9f5734231a0",
        "colab": {
          "base_uri": "https://localhost:8080/"
        }
      },
      "execution_count": 2,
      "outputs": [
        {
          "output_type": "stream",
          "name": "stdout",
          "text": [
            "Cloning into 'AI-MA_project'...\n",
            "remote: Enumerating objects: 2299, done.\u001b[K\n",
            "remote: Counting objects: 100% (2299/2299), done.\u001b[K\n",
            "remote: Compressing objects: 100% (184/184), done.\u001b[K\n",
            "remote: Total 2299 (delta 2184), reused 2168 (delta 2114), pack-reused 0\u001b[K\n",
            "Receiving objects: 100% (2299/2299), 4.49 MiB | 7.72 MiB/s, done.\n",
            "Resolving deltas: 100% (2184/2184), done.\n",
            "Checking out files: 100% (2218/2218), done.\n"
          ]
        }
      ]
    },
    {
      "cell_type": "markdown",
      "source": [
        "# Chew\n"
      ],
      "metadata": {
        "id": "_IXxqGxk8j_b"
      }
    },
    {
      "cell_type": "code",
      "source": [
        "!pip3 install partitura\n",
        "import partitura\n",
        "import numpy as np\n",
        "import os\n",
        "import pickle\n",
        "from sklearn.metrics import accuracy_score"
      ],
      "metadata": {
        "id": "SU_SAxSe8xL7"
      },
      "execution_count": null,
      "outputs": []
    },
    {
      "cell_type": "code",
      "source": [
        "def evaluation_chew():\n",
        "\n",
        "    history = defaultdict(list)\n",
        "    path = \"AI-MA_project/chorales_converted\"\n",
        "\n",
        "    ### load the chorales in xml format ###\n",
        "    for filename in os.listdir(path):\n",
        "        if not filename.endswith('.xml'): continue\n",
        "        fullname = os.path.join(path, filename)\n",
        "        \n",
        "\n",
        "        part = partitura.load_musicxml(fullname)\n",
        "            \n",
        "\n",
        "        ### apply chews method ### \n",
        "        chew_sep = partitura.musicanalysis.estimate_voices(part, monophonic_voices=True)\n",
        "\n",
        "\n",
        "        ### seperate the results -> e.g. pos_zero = all positions where chew prediction says voice 0 ####\n",
        "        pos_zero = np.where(chew_sep==1)\n",
        "        pos_one = np.where(chew_sep==2)\n",
        "        pos_two = np.where(chew_sep==3)\n",
        "        pos_three = np.where(chew_sep==4)\n",
        "\n",
        "\n",
        "        ### create notearray object that contain only the corresponding voice ###\n",
        "        note_array_zero = partitura.utils.ensure_notearray(part)[pos_zero]\n",
        "        note_array_one = partitura.utils.ensure_notearray(part)[pos_one]\n",
        "        note_array_two = partitura.utils.ensure_notearray(part)[pos_two]\n",
        "        note_array_three = partitura.utils.ensure_notearray(part)[pos_three]\n",
        "\n",
        "\n",
        "        ### create pr representation of all voices ###\n",
        "        pr_zero = partitura.utils.compute_pianoroll(note_array_zero,time_unit = \"beat\",time_div = 12)\n",
        "        pr_zero = pr_zero.toarray()\n",
        "\n",
        "        pr_one = partitura.utils.compute_pianoroll(note_array_one,time_unit = \"beat\",time_div = 12)\n",
        "        pr_one = pr_one.toarray()\n",
        "\n",
        "        pr_two = partitura.utils.compute_pianoroll(note_array_two,time_unit = \"beat\",time_div = 12)\n",
        "        pr_two = pr_two.toarray()\n",
        "\n",
        "        pr_three = partitura.utils.compute_pianoroll(note_array_three,time_unit = \"beat\",time_div = 12)\n",
        "        pr_three = pr_three.toarray()\n",
        "\n",
        "\n",
        "        ### get original data (as labels) ###\n",
        "        part_zero = part[0]\n",
        "        part_one = part[1]\n",
        "        part_two = part[2]\n",
        "        part_three = part[3]\n",
        "\n",
        "\n",
        "        ### compute pianoroll representation of original data for computing acc ###\n",
        "        pr_zero_ori = partitura.utils.compute_pianoroll(part_zero, time_unit = \"beat\",time_div = 12)\n",
        "        v0 = pr_zero_ori.toarray()\n",
        "\n",
        "        pr_one_ori = partitura.utils.compute_pianoroll(part_one, time_unit = \"beat\",time_div = 12)\n",
        "        v1 = pr_one_ori.toarray()\n",
        "\n",
        "        pr_two_ori = partitura.utils.compute_pianoroll(part_two, time_unit = \"beat\",time_div = 12)\n",
        "        v2 = pr_two_ori.toarray()\n",
        "\n",
        "        pr_three_ori = partitura.utils.compute_pianoroll(part_three, time_unit = \"beat\",time_div = 12)\n",
        "        v3 = pr_three_ori.toarray()\n",
        "\n",
        "        pr_ori = partitura.utils.compute_pianoroll(part, time_unit = \"beat\",time_div = 12)\n",
        "        v_all = pr_ori.toarray()\n",
        "\n",
        "        if pr_zero.shape == pr_one.shape == pr_two.shape == pr_three.shape  :\n",
        "            ### compute accuracy ###\n",
        "            acc_v0 = accuracy_score(torch.tensor(pr_zero), v0)\n",
        "            acc_v1 = accuracy_score(torch.tensor(pr_one), v1)\n",
        "            acc_v2 = accuracy_score(torch.tensor(pr_two),v2)\n",
        "            acc_v3 = accuracy_score(torch.tensor(pr_three), v3)\n",
        "\n",
        "            history[\"accuracy_v0\"].append(acc_v0)\n",
        "            history[\"accuracy_v1\"].append(acc_v1)\n",
        "            history[\"accuracy_v2\"].append(acc_v2)\n",
        "            history[\"accuracy_v3\"].append(acc_v3)\n",
        "            \n",
        "        else: print(\"pr shape does not match for:\", filename)\n",
        "        \n",
        "    return history"
      ],
      "metadata": {
        "id": "E9cWSLeL-05q"
      },
      "execution_count": null,
      "outputs": []
    },
    {
      "cell_type": "code",
      "source": [
        "hist_acc =  evaluation_chew()"
      ],
      "metadata": {
        "colab": {
          "base_uri": "https://localhost:8080/"
        },
        "id": "bgJCl6Mx-nF4",
        "outputId": "457003e3-f858-413a-c223-06ad575cddda"
      },
      "execution_count": null,
      "outputs": [
        {
          "output_type": "stream",
          "name": "stdout",
          "text": [
            "pr shape does not match for: chor245.xml\n",
            "pr shape does not match for: chor264.xml\n",
            "pr shape does not match for: chor286.xml\n",
            "pr shape does not match for: chor056.xml\n",
            "pr shape does not match for: chor283.xml\n",
            "pr shape does not match for: chor074.xml\n",
            "pr shape does not match for: chor043.xml\n",
            "pr shape does not match for: chor252.xml\n",
            "pr shape does not match for: chor133.xml\n",
            "pr shape does not match for: chor095.xml\n"
          ]
        }
      ]
    },
    {
      "cell_type": "code",
      "source": [
        "total_len = len(hist_acc[\"accuracy_v0\"])\n",
        "total_len"
      ],
      "metadata": {
        "colab": {
          "base_uri": "https://localhost:8080/"
        },
        "id": "RHrKst6lESD1",
        "outputId": "b6f64ad1-1db6-4f4f-8054-344a8d369309"
      },
      "execution_count": null,
      "outputs": [
        {
          "output_type": "execute_result",
          "data": {
            "text/plain": [
              "360"
            ]
          },
          "metadata": {},
          "execution_count": 83
        }
      ]
    },
    {
      "cell_type": "code",
      "source": [
        "accuracy_v0 = np.sum(hist_acc[\"accuracy_v0\"])/total_len\n",
        "accuracy_v1 = np.sum(hist_acc[\"accuracy_v1\"])/total_len\n",
        "accuracy_v2 = np.sum(hist_acc[\"accuracy_v2\"])/total_len\n",
        "accuracy_v3 = np.sum(hist_acc[\"accuracy_v3\"])/total_len\n",
        "\n",
        "print(\"accuracy of v0-v3:\",accuracy_v0,accuracy_v1,accuracy_v2,accuracy_v3)"
      ],
      "metadata": {
        "colab": {
          "base_uri": "https://localhost:8080/"
        },
        "id": "X4UzqvcEE2gm",
        "outputId": "f20b9948-1414-4c64-ffad-099532661d94"
      },
      "execution_count": null,
      "outputs": [
        {
          "output_type": "stream",
          "name": "stdout",
          "text": [
            "accuracy of v0-v3: 0.9882161458333333 0.9801215277777777 0.9844618055555555 0.9959201388888889\n"
          ]
        }
      ]
    },
    {
      "cell_type": "markdown",
      "source": [
        "# HMM approach"
      ],
      "metadata": {
        "id": "wKTWlxty2JrN"
      }
    },
    {
      "cell_type": "code",
      "source": [
        "fullname = \"chor370.mid\"\n",
        "\n",
        "part = partitura.load_score_midi(fullname,estimate_voice_info=False)"
      ],
      "metadata": {
        "id": "jhXp0UxL2LK_"
      },
      "execution_count": 53,
      "outputs": []
    },
    {
      "cell_type": "code",
      "source": [
        "part"
      ],
      "metadata": {
        "id": "Tk804A6T5DiQ",
        "outputId": "6cac5c21-25e3-4abf-f8b2-05d8f0f841f2",
        "colab": {
          "base_uri": "https://localhost:8080/"
        }
      },
      "execution_count": 54,
      "outputs": [
        {
          "output_type": "execute_result",
          "data": {
            "text/plain": [
              "<partitura.score.Part at 0x7f7242db6850>"
            ]
          },
          "metadata": {},
          "execution_count": 54
        }
      ]
    },
    {
      "cell_type": "code",
      "source": [
        "pr = partitura.utils.compute_pianoroll(part, time_unit = \"beat\",time_div = 12)\n",
        "v0 = pr.toarray()\n",
        "v0.shape"
      ],
      "metadata": {
        "id": "UpTbfHMs3z_6",
        "outputId": "dbf7f6f6-d2bb-4e01-81ba-39fbed803cb9",
        "colab": {
          "base_uri": "https://localhost:8080/"
        }
      },
      "execution_count": 55,
      "outputs": [
        {
          "output_type": "execute_result",
          "data": {
            "text/plain": [
              "(128, 624)"
            ]
          },
          "metadata": {},
          "execution_count": 55
        }
      ]
    },
    {
      "cell_type": "code",
      "source": [
        "partitura.utils.ensure_notearray(part)"
      ],
      "metadata": {
        "id": "k13vCKak9e10",
        "outputId": "70332f37-2c23-48a2-bb84-6124fc31453d",
        "colab": {
          "base_uri": "https://localhost:8080/"
        }
      },
      "execution_count": 56,
      "outputs": [
        {
          "output_type": "execute_result",
          "data": {
            "text/plain": [
              "array([( 0. , 1. ,  0. , 1. ,   0,  4, 45, 1, 'n0'),\n",
              "       ( 1. , 1. ,  1. , 1. ,   4,  4, 57, 1, 'n1'),\n",
              "       ( 2. , 1. ,  2. , 1. ,   8,  4, 53, 1, 'n2'),\n",
              "       ( 3. , 1. ,  3. , 1. ,  12,  4, 48, 1, 'n3'),\n",
              "       ( 4. , 1. ,  4. , 1. ,  16,  4, 50, 1, 'n4'),\n",
              "       ( 5. , 1. ,  5. , 1. ,  20,  4, 44, 1, 'n5'),\n",
              "       ( 6. , 1. ,  6. , 1. ,  24,  4, 45, 1, 'n6'),\n",
              "       ( 7. , 1. ,  7. , 1. ,  28,  4, 52, 1, 'n7'),\n",
              "       ( 8. , 0.5,  8. , 0.5,  32,  2, 48, 1, 'n8'),\n",
              "       ( 8.5, 0.5,  8.5, 0.5,  34,  2, 47, 1, 'n9'),\n",
              "       ( 9. , 1. ,  9. , 1. ,  36,  4, 45, 1, 'n10'),\n",
              "       (10. , 1. , 10. , 1. ,  40,  4, 52, 1, 'n11'),\n",
              "       (11. , 0.5, 11. , 0.5,  44,  2, 57, 1, 'n12'),\n",
              "       (11.5, 0.5, 11.5, 0.5,  46,  2, 59, 1, 'n13'),\n",
              "       (12. , 1. , 12. , 1. ,  48,  4, 60, 1, 'n14'),\n",
              "       (13. , 1. , 13. , 1. ,  52,  4, 56, 1, 'n15'),\n",
              "       (14. , 1. , 14. , 1. ,  56,  4, 57, 1, 'n16'),\n",
              "       (15. , 1. , 15. , 1. ,  60,  4, 52, 1, 'n17'),\n",
              "       (16. , 0.5, 16. , 0.5,  64,  2, 57, 1, 'n18'),\n",
              "       (16.5, 0.5, 16.5, 0.5,  66,  2, 55, 1, 'n19'),\n",
              "       (17. , 0.5, 17. , 0.5,  68,  2, 54, 1, 'n20'),\n",
              "       (17.5, 0.5, 17.5, 0.5,  70,  2, 52, 1, 'n21'),\n",
              "       (18. , 0.5, 18. , 0.5,  72,  2, 50, 1, 'n22'),\n",
              "       (18.5, 0.5, 18.5, 0.5,  74,  2, 48, 1, 'n23'),\n",
              "       (19. , 1. , 19. , 1. ,  76,  4, 47, 1, 'n24'),\n",
              "       (20. , 0.5, 20. , 0.5,  80,  2, 52, 1, 'n25'),\n",
              "       (20.5, 0.5, 20.5, 0.5,  82,  2, 48, 1, 'n26'),\n",
              "       (21. , 2. , 21. , 2. ,  84,  8, 50, 1, 'n27'),\n",
              "       (23. , 1. , 23. , 1. ,  92,  4, 43, 1, 'n28'),\n",
              "       (24. , 0.5, 24. , 0.5,  96,  2, 48, 1, 'n29'),\n",
              "       (24.5, 0.5, 24.5, 0.5,  98,  2, 50, 1, 'n30'),\n",
              "       (25. , 0.5, 25. , 0.5, 100,  2, 52, 1, 'n31'),\n",
              "       (25.5, 0.5, 25.5, 0.5, 102,  2, 53, 1, 'n32'),\n",
              "       (26. , 0.5, 26. , 0.5, 104,  2, 55, 1, 'n33'),\n",
              "       (26.5, 0.5, 26.5, 0.5, 106,  2, 53, 1, 'n34'),\n",
              "       (27. , 1. , 27. , 1. , 108,  4, 52, 1, 'n35'),\n",
              "       (28. , 0.5, 28. , 0.5, 112,  2, 50, 1, 'n36'),\n",
              "       (28.5, 0.5, 28.5, 0.5, 114,  2, 48, 1, 'n37'),\n",
              "       (29. , 1. , 29. , 1. , 116,  4, 47, 1, 'n38'),\n",
              "       (30. , 1. , 30. , 1. , 120,  4, 45, 1, 'n39'),\n",
              "       (31. , 1. , 31. , 1. , 124,  4, 52, 1, 'n40'),\n",
              "       (32. , 0.5, 32. , 0.5, 128,  2, 57, 1, 'n41'),\n",
              "       (32.5, 0.5, 32.5, 0.5, 130,  2, 55, 1, 'n42'),\n",
              "       (33. , 0.5, 33. , 0.5, 132,  2, 54, 1, 'n43'),\n",
              "       (33.5, 0.5, 33.5, 0.5, 134,  2, 50, 1, 'n44'),\n",
              "       (34. , 0.5, 34. , 0.5, 136,  2, 55, 1, 'n45'),\n",
              "       (34.5, 0.5, 34.5, 0.5, 138,  2, 53, 1, 'n46'),\n",
              "       (35. , 0.5, 35. , 0.5, 140,  2, 52, 1, 'n47'),\n",
              "       (35.5, 0.5, 35.5, 0.5, 142,  2, 50, 1, 'n48'),\n",
              "       (36. , 0.5, 36. , 0.5, 144,  2, 48, 1, 'n49'),\n",
              "       (36.5, 0.5, 36.5, 0.5, 146,  2, 47, 1, 'n50'),\n",
              "       (37. , 0.5, 37. , 0.5, 148,  2, 45, 1, 'n51'),\n",
              "       (37.5, 0.5, 37.5, 0.5, 150,  2, 44, 1, 'n52'),\n",
              "       (38. , 1. , 38. , 1. , 152,  4, 45, 1, 'n53'),\n",
              "       (39. , 1. , 39. , 1. , 156,  4, 52, 1, 'n54'),\n",
              "       (40. , 1. , 40. , 1. , 160,  4, 52, 1, 'n55'),\n",
              "       (41. , 0.5, 41. , 0.5, 164,  2, 57, 1, 'n56'),\n",
              "       (41.5, 0.5, 41.5, 0.5, 166,  2, 55, 1, 'n57'),\n",
              "       (42. , 0.5, 42. , 0.5, 168,  2, 53, 1, 'n58'),\n",
              "       (42.5, 0.5, 42.5, 0.5, 170,  2, 52, 1, 'n59'),\n",
              "       (43. , 0.5, 43. , 0.5, 172,  2, 53, 1, 'n60'),\n",
              "       (43.5, 0.5, 43.5, 0.5, 174,  2, 52, 1, 'n61'),\n",
              "       (44. , 0.5, 44. , 0.5, 176,  2, 50, 1, 'n62'),\n",
              "       (44.5, 0.5, 44.5, 0.5, 178,  2, 48, 1, 'n63'),\n",
              "       (45. , 0.5, 45. , 0.5, 180,  2, 50, 1, 'n64'),\n",
              "       (45.5, 0.5, 45.5, 0.5, 182,  2, 47, 1, 'n65'),\n",
              "       (46. , 0.5, 46. , 0.5, 184,  2, 48, 1, 'n66'),\n",
              "       (46.5, 0.5, 46.5, 0.5, 186,  2, 50, 1, 'n67'),\n",
              "       (47. , 0.5, 47. , 0.5, 188,  2, 52, 1, 'n68'),\n",
              "       (47.5, 0.5, 47.5, 0.5, 190,  2, 50, 1, 'n69'),\n",
              "       (48. , 1. , 48. , 1. , 192,  4, 52, 1, 'n70'),\n",
              "       (49. , 3. , 49. , 3. , 196, 12, 45, 1, 'n71')],\n",
              "      dtype=[('onset_beat', '<f4'), ('duration_beat', '<f4'), ('onset_quarter', '<f4'), ('duration_quarter', '<f4'), ('onset_div', '<i4'), ('duration_div', '<i4'), ('pitch', '<i4'), ('voice', '<i4'), ('id', '<U256')])"
            ]
          },
          "metadata": {},
          "execution_count": 56
        }
      ]
    },
    {
      "cell_type": "code",
      "source": [
        "partitura.musicanalysis.estimate_voices(part, monophonic_voices=True)\n"
      ],
      "metadata": {
        "id": "vbCeQd1q864b",
        "outputId": "f840fb2d-15c7-4b6d-b751-c1afc8a6b262",
        "colab": {
          "base_uri": "https://localhost:8080/"
        }
      },
      "execution_count": 57,
      "outputs": [
        {
          "output_type": "execute_result",
          "data": {
            "text/plain": [
              "array([1, 1, 1, 1, 1, 1, 1, 1, 1, 1, 1, 1, 1, 1, 1, 1, 1, 1, 1, 1, 1, 1,\n",
              "       1, 1, 1, 1, 1, 1, 1, 1, 1, 1, 1, 1, 1, 1, 1, 1, 1, 1, 1, 1, 1, 1,\n",
              "       1, 1, 1, 1, 1, 1, 1, 1, 1, 1, 1, 1, 1, 1, 1, 1, 1, 1, 1, 1, 1, 1,\n",
              "       1, 1, 1, 1, 1, 1])"
            ]
          },
          "metadata": {},
          "execution_count": 57
        }
      ]
    },
    {
      "cell_type": "code",
      "source": [
        " partitura.utils.ensure_notearray(part)"
      ],
      "metadata": {
        "id": "dR9Ud8553taO",
        "outputId": "6bb9857b-9a86-4d0f-bb78-e4bfc33d4a08",
        "colab": {
          "base_uri": "https://localhost:8080/"
        }
      },
      "execution_count": 49,
      "outputs": [
        {
          "output_type": "execute_result",
          "data": {
            "text/plain": [
              "array([( 0. , 1. ,  0. , 1. ,   0,  4, 45, 1, 'n0'),\n",
              "       ( 1. , 1. ,  1. , 1. ,   4,  4, 57, 1, 'n1'),\n",
              "       ( 2. , 1. ,  2. , 1. ,   8,  4, 53, 1, 'n2'),\n",
              "       ( 3. , 1. ,  3. , 1. ,  12,  4, 48, 1, 'n3'),\n",
              "       ( 4. , 1. ,  4. , 1. ,  16,  4, 50, 1, 'n4'),\n",
              "       ( 5. , 1. ,  5. , 1. ,  20,  4, 44, 1, 'n5'),\n",
              "       ( 6. , 1. ,  6. , 1. ,  24,  4, 45, 1, 'n6'),\n",
              "       ( 7. , 1. ,  7. , 1. ,  28,  4, 52, 1, 'n7'),\n",
              "       ( 8. , 0.5,  8. , 0.5,  32,  2, 48, 1, 'n8'),\n",
              "       ( 8.5, 0.5,  8.5, 0.5,  34,  2, 47, 1, 'n9'),\n",
              "       ( 9. , 1. ,  9. , 1. ,  36,  4, 45, 1, 'n10'),\n",
              "       (10. , 1. , 10. , 1. ,  40,  4, 52, 1, 'n11'),\n",
              "       (11. , 0.5, 11. , 0.5,  44,  2, 57, 1, 'n12'),\n",
              "       (11.5, 0.5, 11.5, 0.5,  46,  2, 59, 1, 'n13'),\n",
              "       (12. , 1. , 12. , 1. ,  48,  4, 60, 1, 'n14'),\n",
              "       (13. , 1. , 13. , 1. ,  52,  4, 56, 1, 'n15'),\n",
              "       (14. , 1. , 14. , 1. ,  56,  4, 57, 1, 'n16'),\n",
              "       (15. , 1. , 15. , 1. ,  60,  4, 52, 1, 'n17'),\n",
              "       (16. , 0.5, 16. , 0.5,  64,  2, 57, 1, 'n18'),\n",
              "       (16.5, 0.5, 16.5, 0.5,  66,  2, 55, 1, 'n19'),\n",
              "       (17. , 0.5, 17. , 0.5,  68,  2, 54, 1, 'n20'),\n",
              "       (17.5, 0.5, 17.5, 0.5,  70,  2, 52, 1, 'n21'),\n",
              "       (18. , 0.5, 18. , 0.5,  72,  2, 50, 1, 'n22'),\n",
              "       (18.5, 0.5, 18.5, 0.5,  74,  2, 48, 1, 'n23'),\n",
              "       (19. , 1. , 19. , 1. ,  76,  4, 47, 1, 'n24'),\n",
              "       (20. , 0.5, 20. , 0.5,  80,  2, 52, 1, 'n25'),\n",
              "       (20.5, 0.5, 20.5, 0.5,  82,  2, 48, 1, 'n26'),\n",
              "       (21. , 2. , 21. , 2. ,  84,  8, 50, 1, 'n27'),\n",
              "       (23. , 1. , 23. , 1. ,  92,  4, 43, 1, 'n28'),\n",
              "       (24. , 0.5, 24. , 0.5,  96,  2, 48, 1, 'n29'),\n",
              "       (24.5, 0.5, 24.5, 0.5,  98,  2, 50, 1, 'n30'),\n",
              "       (25. , 0.5, 25. , 0.5, 100,  2, 52, 1, 'n31'),\n",
              "       (25.5, 0.5, 25.5, 0.5, 102,  2, 53, 1, 'n32'),\n",
              "       (26. , 0.5, 26. , 0.5, 104,  2, 55, 1, 'n33'),\n",
              "       (26.5, 0.5, 26.5, 0.5, 106,  2, 53, 1, 'n34'),\n",
              "       (27. , 1. , 27. , 1. , 108,  4, 52, 1, 'n35'),\n",
              "       (28. , 0.5, 28. , 0.5, 112,  2, 50, 1, 'n36'),\n",
              "       (28.5, 0.5, 28.5, 0.5, 114,  2, 48, 1, 'n37'),\n",
              "       (29. , 1. , 29. , 1. , 116,  4, 47, 1, 'n38'),\n",
              "       (30. , 1. , 30. , 1. , 120,  4, 45, 1, 'n39'),\n",
              "       (31. , 1. , 31. , 1. , 124,  4, 52, 1, 'n40'),\n",
              "       (32. , 0.5, 32. , 0.5, 128,  2, 57, 1, 'n41'),\n",
              "       (32.5, 0.5, 32.5, 0.5, 130,  2, 55, 1, 'n42'),\n",
              "       (33. , 0.5, 33. , 0.5, 132,  2, 54, 1, 'n43'),\n",
              "       (33.5, 0.5, 33.5, 0.5, 134,  2, 50, 1, 'n44'),\n",
              "       (34. , 0.5, 34. , 0.5, 136,  2, 55, 1, 'n45'),\n",
              "       (34.5, 0.5, 34.5, 0.5, 138,  2, 53, 1, 'n46'),\n",
              "       (35. , 0.5, 35. , 0.5, 140,  2, 52, 1, 'n47'),\n",
              "       (35.5, 0.5, 35.5, 0.5, 142,  2, 50, 1, 'n48'),\n",
              "       (36. , 0.5, 36. , 0.5, 144,  2, 48, 1, 'n49'),\n",
              "       (36.5, 0.5, 36.5, 0.5, 146,  2, 47, 1, 'n50'),\n",
              "       (37. , 0.5, 37. , 0.5, 148,  2, 45, 1, 'n51'),\n",
              "       (37.5, 0.5, 37.5, 0.5, 150,  2, 44, 1, 'n52'),\n",
              "       (38. , 1. , 38. , 1. , 152,  4, 45, 1, 'n53'),\n",
              "       (39. , 1. , 39. , 1. , 156,  4, 52, 1, 'n54'),\n",
              "       (40. , 1. , 40. , 1. , 160,  4, 52, 1, 'n55'),\n",
              "       (41. , 0.5, 41. , 0.5, 164,  2, 57, 1, 'n56'),\n",
              "       (41.5, 0.5, 41.5, 0.5, 166,  2, 55, 1, 'n57'),\n",
              "       (42. , 0.5, 42. , 0.5, 168,  2, 53, 1, 'n58'),\n",
              "       (42.5, 0.5, 42.5, 0.5, 170,  2, 52, 1, 'n59'),\n",
              "       (43. , 0.5, 43. , 0.5, 172,  2, 53, 1, 'n60'),\n",
              "       (43.5, 0.5, 43.5, 0.5, 174,  2, 52, 1, 'n61'),\n",
              "       (44. , 0.5, 44. , 0.5, 176,  2, 50, 1, 'n62'),\n",
              "       (44.5, 0.5, 44.5, 0.5, 178,  2, 48, 1, 'n63'),\n",
              "       (45. , 0.5, 45. , 0.5, 180,  2, 50, 1, 'n64'),\n",
              "       (45.5, 0.5, 45.5, 0.5, 182,  2, 47, 1, 'n65'),\n",
              "       (46. , 0.5, 46. , 0.5, 184,  2, 48, 1, 'n66'),\n",
              "       (46.5, 0.5, 46.5, 0.5, 186,  2, 50, 1, 'n67'),\n",
              "       (47. , 0.5, 47. , 0.5, 188,  2, 52, 1, 'n68'),\n",
              "       (47.5, 0.5, 47.5, 0.5, 190,  2, 50, 1, 'n69'),\n",
              "       (48. , 1. , 48. , 1. , 192,  4, 52, 1, 'n70'),\n",
              "       (49. , 3. , 49. , 3. , 196, 12, 45, 1, 'n71')],\n",
              "      dtype=[('onset_beat', '<f4'), ('duration_beat', '<f4'), ('onset_quarter', '<f4'), ('duration_quarter', '<f4'), ('onset_div', '<i4'), ('duration_div', '<i4'), ('pitch', '<i4'), ('voice', '<i4'), ('id', '<U256')])"
            ]
          },
          "metadata": {},
          "execution_count": 49
        }
      ]
    },
    {
      "cell_type": "code",
      "source": [
        ""
      ],
      "metadata": {
        "id": "NT_cg-w59ahz"
      },
      "execution_count": null,
      "outputs": []
    }
  ]
}