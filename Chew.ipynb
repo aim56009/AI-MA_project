{
  "nbformat": 4,
  "nbformat_minor": 0,
  "metadata": {
    "colab": {
      "name": "Chew.ipynb",
      "provenance": [],
      "collapsed_sections": [],
      "mount_file_id": "1PYfyIi8Z7ytAu4eGoCLbpqd0N0Rrhjal",
      "authorship_tag": "ABX9TyOwXStq7q4blsid1tFTeg3O",
      "include_colab_link": true
    },
    "kernelspec": {
      "name": "python3",
      "display_name": "Python 3"
    },
    "language_info": {
      "name": "python"
    }
  },
  "cells": [
    {
      "cell_type": "markdown",
      "metadata": {
        "id": "view-in-github",
        "colab_type": "text"
      },
      "source": [
        "<a href=\"https://colab.research.google.com/github/aim56009/AI-MA_project/blob/main/Chew.ipynb\" target=\"_parent\"><img src=\"https://colab.research.google.com/assets/colab-badge.svg\" alt=\"Open In Colab\"/></a>"
      ]
    },
    {
      "cell_type": "code",
      "execution_count": 1,
      "metadata": {
        "id": "3Bqce9bT68ge"
      },
      "outputs": [],
      "source": [
        "%matplotlib inline\n",
        "\n",
        "import numpy as np\n",
        "import torch\n",
        "import torch.nn as nn\n",
        "import torch.nn.functional as F\n",
        "import pickle\n",
        "import torchvision.transforms.functional as TF \n",
        "\n",
        "from torch.utils.data import DataLoader\n",
        "from torch.utils.data.dataset import Dataset\n",
        "import glob\n",
        "import os\n",
        "\n",
        "import random\n",
        "import click\n",
        "import sklearn\n",
        "import sklearn.model_selection\n",
        "from collections import defaultdict\n",
        "from sklearn.metrics import accuracy_score\n",
        "from pathlib import Path\n",
        "import sys\n",
        "from torch import optim\n",
        "from torch.optim import lr_scheduler\n",
        "from functools import partial\n",
        "import matplotlib.pyplot as plt"
      ]
    },
    {
      "cell_type": "code",
      "source": [
        "!git clone https://github.com/aim56009/AI-MA_project.git"
      ],
      "metadata": {
        "colab": {
          "base_uri": "https://localhost:8080/"
        },
        "id": "zxC0_I1s7HTO",
        "outputId": "2691ca70-8f38-4bdf-f4d0-df0c8aacd27a"
      },
      "execution_count": 2,
      "outputs": [
        {
          "output_type": "stream",
          "name": "stdout",
          "text": [
            "fatal: destination path 'AI-MA_project' already exists and is not an empty directory.\n"
          ]
        }
      ]
    },
    {
      "cell_type": "markdown",
      "source": [
        "#Dataloader"
      ],
      "metadata": {
        "id": "zUyrQgTr7LGx"
      }
    },
    {
      "cell_type": "code",
      "source": [
        "batch_size = 1 \n",
        "PATH_TO_DATA = \"AI-MA_project/pianoroll\"\n",
        "workers = 0"
      ],
      "metadata": {
        "id": "6-HDI8lw7I4o"
      },
      "execution_count": 3,
      "outputs": []
    },
    {
      "cell_type": "code",
      "source": [
        "class MusicDataset(Dataset):\n",
        "\n",
        "    def __init__(self, data_dir, transforms=None):\n",
        "        self.transforms = transforms\n",
        "        self.data_dir = data_dir\n",
        "\n",
        "        labels = [\"voice_0\", \"voice_1\", \"voice_2\", \"voice_3\", \"voice_all\"]\n",
        "        self.labels = labels\n",
        "        self.pr_dict = {}\n",
        "        len_list = []\n",
        "\n",
        "        for iLabel in range(len(labels)):\n",
        "            \n",
        "            if iLabel == 4:   \n",
        "                voice_files = []\n",
        "                file_names = sorted(glob.glob(os.path.join(PATH_TO_DATA, self.labels[iLabel], \"*.pkl\")))   \n",
        "                for name in file_names:\n",
        "                    with open(name ,'rb') as f: \n",
        "                        loaded_obj = pickle.load(f)  \n",
        "                        voice_files.append(loaded_obj) \n",
        "                        len_list.append(len(loaded_obj.T))                             \n",
        "                self.pr_dict[self.labels[iLabel]] = voice_files \n",
        "                self.pr_dict[\"length\"] = len_list\n",
        "            \n",
        "            else:\n",
        "                voice_files = []\n",
        "                file_names = sorted(glob.glob(os.path.join(PATH_TO_DATA, self.labels[iLabel], \"*.pkl\")))   \n",
        "                for name in file_names:\n",
        "                    with open(name ,'rb') as f: \n",
        "                        loaded_obj = pickle.load(f)     \n",
        "                        voice_files.append(loaded_obj)                              \n",
        "                self.pr_dict[self.labels[iLabel]] = voice_files \n",
        "                                        \n",
        "\n",
        "    def __len__(self):\n",
        "      \n",
        "        return len(self.pr_dict[self.labels[0]])\n",
        "\n",
        "    def __getitem__(self, idx):          \n",
        "\n",
        "        out_list = []\n",
        "        for key, value in self.pr_dict.items():\n",
        "            out_list.append(self.pr_dict[key][idx])                  \n",
        "        v0 = torch.tensor(out_list[0].T)\n",
        "        v1 = torch.tensor(out_list[1].T)\n",
        "        v2 = torch.tensor(out_list[2].T)\n",
        "        v3 = torch.tensor(out_list[3].T)\n",
        "        v_all = torch.tensor(out_list[4].T) \n",
        "        length = self.pr_dict[\"length\"][idx]\n",
        "\n",
        "        return (v0, v1, v2, v3, v_all, length)"
      ],
      "metadata": {
        "id": "7YeqEt-a7NZo"
      },
      "execution_count": 4,
      "outputs": []
    },
    {
      "cell_type": "code",
      "source": [
        "dataset = MusicDataset(PATH_TO_DATA)\n",
        "loader = torch.utils.data.DataLoader(dataset,batch_size=batch_size, shuffle=False, num_workers=workers, drop_last=True)"
      ],
      "metadata": {
        "id": "iDNgR0DfFQCR"
      },
      "execution_count": 5,
      "outputs": []
    },
    {
      "cell_type": "code",
      "source": [
        "dataset[326][0].shape"
      ],
      "metadata": {
        "colab": {
          "base_uri": "https://localhost:8080/"
        },
        "id": "3mrU0-46FT6s",
        "outputId": "34ff65ad-f8b2-45a2-ba0a-25ba6a843801"
      },
      "execution_count": 6,
      "outputs": [
        {
          "output_type": "execute_result",
          "data": {
            "text/plain": [
              "torch.Size([576, 128])"
            ]
          },
          "metadata": {},
          "execution_count": 6
        }
      ]
    },
    {
      "cell_type": "code",
      "source": [
        "\"\"\"\n",
        "0 = next(iter(loader))[0]\n",
        "v1 = next(iter(loader))[1]\n",
        "v2 = next(iter(loader))[2]\n",
        "v3 = next(iter(loader))[3]\n",
        "v4 = next(iter(loader))[4]\n",
        "label = next(iter(loader))[5]\n",
        "\n",
        "voices = next(iter(loader))[0:5]\n",
        "\"\"\""
      ],
      "metadata": {
        "colab": {
          "base_uri": "https://localhost:8080/",
          "height": 55
        },
        "id": "mgac1las9z6-",
        "outputId": "8a4002cf-d13d-4d66-bb9c-29b6512513f4"
      },
      "execution_count": 7,
      "outputs": [
        {
          "output_type": "execute_result",
          "data": {
            "text/plain": [
              "'\\n0 = next(iter(loader))[0]\\nv1 = next(iter(loader))[1]\\nv2 = next(iter(loader))[2]\\nv3 = next(iter(loader))[3]\\nv4 = next(iter(loader))[4]\\nlabel = next(iter(loader))[5]\\n\\nvoices = next(iter(loader))[0:5]\\n'"
            ],
            "application/vnd.google.colaboratory.intrinsic+json": {
              "type": "string"
            }
          },
          "metadata": {},
          "execution_count": 7
        }
      ]
    },
    {
      "cell_type": "markdown",
      "source": [
        "# Chew\n"
      ],
      "metadata": {
        "id": "_IXxqGxk8j_b"
      }
    },
    {
      "cell_type": "code",
      "source": [
        "!pip3 install partitura\n",
        "import partitura\n",
        "import numpy as np\n",
        "import os\n",
        "import pickle"
      ],
      "metadata": {
        "colab": {
          "base_uri": "https://localhost:8080/"
        },
        "id": "SU_SAxSe8xL7",
        "outputId": "bf088c3c-93a2-470b-c6ce-8226e0cad093"
      },
      "execution_count": 8,
      "outputs": [
        {
          "output_type": "stream",
          "name": "stdout",
          "text": [
            "Requirement already satisfied: partitura in /usr/local/lib/python3.7/dist-packages (0.4.0)\n",
            "Requirement already satisfied: scipy in /usr/local/lib/python3.7/dist-packages (from partitura) (1.4.1)\n",
            "Requirement already satisfied: lxml in /usr/local/lib/python3.7/dist-packages (from partitura) (4.2.6)\n",
            "Requirement already satisfied: numpy in /usr/local/lib/python3.7/dist-packages (from partitura) (1.21.5)\n",
            "Requirement already satisfied: mido in /usr/local/lib/python3.7/dist-packages (from partitura) (1.2.10)\n",
            "Requirement already satisfied: xmlschema in /usr/local/lib/python3.7/dist-packages (from partitura) (1.10.0)\n",
            "Requirement already satisfied: lark-parser in /usr/local/lib/python3.7/dist-packages (from partitura) (0.12.0)\n",
            "Requirement already satisfied: elementpath<3.0.0,>=2.5.0 in /usr/local/lib/python3.7/dist-packages (from xmlschema->partitura) (2.5.0)\n"
          ]
        }
      ]
    },
    {
      "cell_type": "code",
      "source": [
        "name = \"chor133.xml\"\n",
        "\n",
        "\n",
        "import_path = os.path.join(\"AI-MA_project/chorales_converted\", name)\n",
        "part = partitura.load_musicxml(import_path)"
      ],
      "metadata": {
        "colab": {
          "base_uri": "https://localhost:8080/",
          "height": 630
        },
        "id": "_zbXf3-u0Mud",
        "outputId": "fa005655-99c4-4fae-8d08-0fb2b5bd86d1"
      },
      "execution_count": 12,
      "outputs": [
        {
          "output_type": "error",
          "ename": "OSError",
          "evalue": "ignored",
          "traceback": [
            "\u001b[0;31m---------------------------------------------------------------------------\u001b[0m",
            "\u001b[0;31mOSError\u001b[0m                                   Traceback (most recent call last)",
            "\u001b[0;32m<ipython-input-12-ab5f54be5b75>\u001b[0m in \u001b[0;36m<module>\u001b[0;34m()\u001b[0m\n\u001b[1;32m      3\u001b[0m \u001b[0;34m\u001b[0m\u001b[0m\n\u001b[1;32m      4\u001b[0m \u001b[0mimport_path\u001b[0m \u001b[0;34m=\u001b[0m \u001b[0mos\u001b[0m\u001b[0;34m.\u001b[0m\u001b[0mpath\u001b[0m\u001b[0;34m.\u001b[0m\u001b[0mjoin\u001b[0m\u001b[0;34m(\u001b[0m\u001b[0;34m\"AI-MA_project/chorales_converted\"\u001b[0m\u001b[0;34m,\u001b[0m \u001b[0mname\u001b[0m\u001b[0;34m)\u001b[0m\u001b[0;34m\u001b[0m\u001b[0;34m\u001b[0m\u001b[0m\n\u001b[0;32m----> 5\u001b[0;31m \u001b[0mpart\u001b[0m \u001b[0;34m=\u001b[0m \u001b[0mpartitura\u001b[0m\u001b[0;34m.\u001b[0m\u001b[0mload_musicxml\u001b[0m\u001b[0;34m(\u001b[0m\u001b[0mimport_path\u001b[0m\u001b[0;34m)\u001b[0m\u001b[0;34m\u001b[0m\u001b[0;34m\u001b[0m\u001b[0m\n\u001b[0m",
            "\u001b[0;32m/usr/local/lib/python3.7/dist-packages/partitura/io/importmusicxml.py\u001b[0m in \u001b[0;36mload_musicxml\u001b[0;34m(xml, ensure_list, validate, force_note_ids)\u001b[0m\n\u001b[1;32m    201\u001b[0m         \u001b[0mremove_blank_text\u001b[0m\u001b[0;34m=\u001b[0m\u001b[0;32mTrue\u001b[0m\u001b[0;34m,\u001b[0m\u001b[0;34m\u001b[0m\u001b[0;34m\u001b[0m\u001b[0m\n\u001b[1;32m    202\u001b[0m     )\n\u001b[0;32m--> 203\u001b[0;31m     \u001b[0mdocument\u001b[0m \u001b[0;34m=\u001b[0m \u001b[0metree\u001b[0m\u001b[0;34m.\u001b[0m\u001b[0mparse\u001b[0m\u001b[0;34m(\u001b[0m\u001b[0mxml\u001b[0m\u001b[0;34m,\u001b[0m \u001b[0mparser\u001b[0m\u001b[0;34m)\u001b[0m\u001b[0;34m\u001b[0m\u001b[0;34m\u001b[0m\u001b[0m\n\u001b[0m\u001b[1;32m    204\u001b[0m \u001b[0;34m\u001b[0m\u001b[0m\n\u001b[1;32m    205\u001b[0m     \u001b[0;32mif\u001b[0m \u001b[0mdocument\u001b[0m\u001b[0;34m.\u001b[0m\u001b[0mgetroot\u001b[0m\u001b[0;34m(\u001b[0m\u001b[0;34m)\u001b[0m\u001b[0;34m.\u001b[0m\u001b[0mtag\u001b[0m \u001b[0;34m!=\u001b[0m \u001b[0;34m\"score-partwise\"\u001b[0m\u001b[0;34m:\u001b[0m\u001b[0;34m\u001b[0m\u001b[0;34m\u001b[0m\u001b[0m\n",
            "\u001b[0;32msrc/lxml/etree.pyx\u001b[0m in \u001b[0;36mlxml.etree.parse\u001b[0;34m()\u001b[0m\n",
            "\u001b[0;32msrc/lxml/parser.pxi\u001b[0m in \u001b[0;36mlxml.etree._parseDocument\u001b[0;34m()\u001b[0m\n",
            "\u001b[0;32msrc/lxml/parser.pxi\u001b[0m in \u001b[0;36mlxml.etree._parseDocumentFromURL\u001b[0;34m()\u001b[0m\n",
            "\u001b[0;32msrc/lxml/parser.pxi\u001b[0m in \u001b[0;36mlxml.etree._parseDocFromFile\u001b[0;34m()\u001b[0m\n",
            "\u001b[0;32msrc/lxml/parser.pxi\u001b[0m in \u001b[0;36mlxml.etree._BaseParser._parseDocFromFile\u001b[0;34m()\u001b[0m\n",
            "\u001b[0;32msrc/lxml/parser.pxi\u001b[0m in \u001b[0;36mlxml.etree._ParserContext._handleParseResultDoc\u001b[0;34m()\u001b[0m\n",
            "\u001b[0;32msrc/lxml/parser.pxi\u001b[0m in \u001b[0;36mlxml.etree._handleParseResult\u001b[0;34m()\u001b[0m\n",
            "\u001b[0;32msrc/lxml/parser.pxi\u001b[0m in \u001b[0;36mlxml.etree._raiseParseError\u001b[0;34m()\u001b[0m\n",
            "\u001b[0;31mOSError\u001b[0m: Error reading file 'AI-MA_project/chorales_converted/chor133.xml': failed to load external entity \"AI-MA_project/chorales_converted/chor133.xml\""
          ]
        }
      ]
    },
    {
      "cell_type": "code",
      "source": [
        "path_xml = \"AI-MA_project/chorales_converted\"\n",
        "\n",
        "for filename in os.listdir(path_xml):\n",
        "    fullname = os.path.join(path, filename)\n",
        "    part = partitura.load_musicxml(fullname)\n",
        "        \n",
        "    part_zero = part[0]\n",
        "    part_one = part[1]\n",
        "    part_two = part[2]\n",
        "    part_three = part[3]\n",
        "\n",
        "    part_zero"
      ],
      "metadata": {
        "colab": {
          "base_uri": "https://localhost:8080/",
          "height": 245
        },
        "id": "vOt2i3UdyixN",
        "outputId": "8ed8e924-bb52-4ce7-f3af-aa741633033a"
      },
      "execution_count": 10,
      "outputs": [
        {
          "output_type": "error",
          "ename": "FileNotFoundError",
          "evalue": "ignored",
          "traceback": [
            "\u001b[0;31m---------------------------------------------------------------------------\u001b[0m",
            "\u001b[0;31mFileNotFoundError\u001b[0m                         Traceback (most recent call last)",
            "\u001b[0;32m<ipython-input-10-ebe374543a9c>\u001b[0m in \u001b[0;36m<module>\u001b[0;34m()\u001b[0m\n\u001b[1;32m      1\u001b[0m \u001b[0mpath_xml\u001b[0m \u001b[0;34m=\u001b[0m \u001b[0;34m\"AI-MA_project/chorales_converted\"\u001b[0m\u001b[0;34m\u001b[0m\u001b[0;34m\u001b[0m\u001b[0m\n\u001b[0;32m----> 2\u001b[0;31m \u001b[0;32mfor\u001b[0m \u001b[0mfilename\u001b[0m \u001b[0;32min\u001b[0m \u001b[0mos\u001b[0m\u001b[0;34m.\u001b[0m\u001b[0mlistdir\u001b[0m\u001b[0;34m(\u001b[0m\u001b[0mpath_xml\u001b[0m\u001b[0;34m)\u001b[0m\u001b[0;34m:\u001b[0m\u001b[0;34m\u001b[0m\u001b[0;34m\u001b[0m\u001b[0m\n\u001b[0m\u001b[1;32m      3\u001b[0m     \u001b[0mfullname\u001b[0m \u001b[0;34m=\u001b[0m \u001b[0mos\u001b[0m\u001b[0;34m.\u001b[0m\u001b[0mpath\u001b[0m\u001b[0;34m.\u001b[0m\u001b[0mjoin\u001b[0m\u001b[0;34m(\u001b[0m\u001b[0mpath\u001b[0m\u001b[0;34m,\u001b[0m \u001b[0mfilename\u001b[0m\u001b[0;34m)\u001b[0m\u001b[0;34m\u001b[0m\u001b[0;34m\u001b[0m\u001b[0m\n\u001b[1;32m      4\u001b[0m     \u001b[0mpart\u001b[0m \u001b[0;34m=\u001b[0m \u001b[0mpartitura\u001b[0m\u001b[0;34m.\u001b[0m\u001b[0mload_musicxml\u001b[0m\u001b[0;34m(\u001b[0m\u001b[0mfullname\u001b[0m\u001b[0;34m)\u001b[0m\u001b[0;34m\u001b[0m\u001b[0;34m\u001b[0m\u001b[0m\n\u001b[1;32m      5\u001b[0m \u001b[0;34m\u001b[0m\u001b[0m\n",
            "\u001b[0;31mFileNotFoundError\u001b[0m: [Errno 2] No such file or directory: 'AI-MA_project/chorales_converted'"
          ]
        }
      ]
    },
    {
      "cell_type": "code",
      "source": [
        "path = \"AI-MA_project/chorales_converted\"\n",
        "\n",
        "for filename in os.listdir(path):\n",
        "    if not filename.endswith('.xml'): continue\n",
        "    fullname = os.path.join(path, filename)\n",
        "    part = partitura.load_musicxml(fullname)\n",
        "        \n",
        "    part_zero = part[0]\n",
        "    part_one = part[1]\n",
        "    part_two = part[2]\n",
        "    part_three = part[3]\n",
        "\n",
        "    part_zero"
      ],
      "metadata": {
        "id": "E9cWSLeL-05q"
      },
      "execution_count": null,
      "outputs": []
    },
    {
      "cell_type": "code",
      "source": [
        "path = \"/Users/sayang/Masterproject/chorales_converted\"\n",
        "\n",
        "for filename in os.listdir(path):\n",
        "    if not filename.endswith('.xml'): continue\n",
        "    fullname = os.path.join(path, filename)\n",
        "    part = partitura.load_musicxml(fullname)\n",
        "        \n",
        "    part_zero = part[0]\n",
        "    part_one = part[1]\n",
        "    part_two = part[2]\n",
        "    part_three = part[3]\n",
        "        \n",
        "    \n",
        "    pr_zero = partitura.utils.compute_pianoroll(part_zero, time_unit = \"beat\",time_div = 12)\n",
        "    pr_zero = pr_zero.toarray()\n",
        "\n",
        "    pr_one = partitura.utils.compute_pianoroll(part_one, time_unit = \"beat\",time_div = 12)\n",
        "    pr_one = pr_one.toarray()\n",
        "\n",
        "    pr_two = partitura.utils.compute_pianoroll(part_two, time_unit = \"beat\",time_div = 12)\n",
        "    pr_two = pr_two.toarray()\n",
        "\n",
        "    pr_three = partitura.utils.compute_pianoroll(part_three, time_unit = \"beat\",time_div = 12)\n",
        "    pr_three = pr_three.toarray()\n",
        "\n",
        "    pr = partitura.utils.compute_pianoroll(part, time_unit = \"beat\",time_div = 12)\n",
        "    pr = pr.toarray()\n",
        "    \n",
        "    if pr_zero.shape == pr_one.shape == pr_two.shape == pr_three.shape == pr.shape : \n",
        "        pr_comp = pr_zero+pr_one+pr_two+pr_three\n",
        "        pr_comp =  np.where(pr_comp < 1 , pr_comp, 1) \n",
        "\n",
        "        file_out_names = [ \"voice_0_\" + filename[4:7]+ \".pkl\" , \"voice_1_\" + filename[4:7] + \".pkl\" , \"voice_2_\" + filename[4:7] + \".pkl\", \"voice_3_\" + filename[4:7] + \".pkl\", \"voice_all_\" + filename[4:7]+\".pkl\"   ]    \n",
        "        voice_folder = [\"voice_0\",\"voice_1\",\"voice_2\",\"voice_3\",\"voice_all\"]\n",
        "        pianorolls = [pr_zero,pr_one,pr_two,pr_three,pr]\n",
        "\n",
        "\n",
        "        for n,i in enumerate(pianorolls):\n",
        "            a_folder = voice_folder[n]\n",
        "            a_file = file_out_names[n]\n",
        "            joined_path = os.path.join(\"pianoroll\", a_folder, a_file)\n",
        "            #if a_file not in  [\"chor133.xml\", \"chor043.xml\", \"chor283.xml\"]:\n",
        "            with open(joined_path, 'wb') as f:\n",
        "                pickle.dump(i, f)    \n",
        "                \n",
        "    else:\n",
        "        print(filename)\n"
      ],
      "metadata": {
        "id": "pY1PGvAmyMnb"
      },
      "execution_count": null,
      "outputs": []
    },
    {
      "cell_type": "code",
      "source": [
        "name = \"chor326.xml\"\n",
        "part = partitura.load_musicxml(name)"
      ],
      "metadata": {
        "id": "V_wf51EcAj_7"
      },
      "execution_count": null,
      "outputs": []
    },
    {
      "cell_type": "code",
      "source": [
        "chew_sep = partitura.musicanalysis.estimate_voices(part, monophonic_voices=True)\n",
        "#chew_sep_"
      ],
      "metadata": {
        "id": "MlbgckVpCXOM"
      },
      "execution_count": null,
      "outputs": []
    },
    {
      "cell_type": "code",
      "source": [
        "pos_zero = np.where(chew_sep==1)\n",
        "pos_one = np.where(chew_sep==2)\n",
        "pos_two = np.where(chew_sep==3)\n",
        "pos_three = np.where(chew_sep==4)\n",
        "\n",
        "\n",
        "pos_zero,pos_one,pos_two,pos_three"
      ],
      "metadata": {
        "id": "lH5ycXhmuGH7"
      },
      "execution_count": null,
      "outputs": []
    },
    {
      "cell_type": "code",
      "source": [
        "note_array_zero = partitura.utils.ensure_notearray(part)[pos_zero]\n",
        "note_array_one = partitura.utils.ensure_notearray(part)[pos_one]\n",
        "note_array_two = partitura.utils.ensure_notearray(part)[pos_two]\n",
        "note_array_three = partitura.utils.ensure_notearray(part)[pos_three]"
      ],
      "metadata": {
        "id": "JAdMl-a3Fm5l"
      },
      "execution_count": null,
      "outputs": []
    },
    {
      "cell_type": "code",
      "source": [
        "pr_zero = partitura.utils.compute_pianoroll(note_array_zero,time_unit = \"beat\",time_div = 12)\n",
        "pr_zero = pr_zero.toarray()\n",
        "\n",
        "pr_one = partitura.utils.compute_pianoroll(note_array_one,time_unit = \"beat\",time_div = 12)\n",
        "pr_one = pr_one.toarray()\n",
        "\n",
        "pr_two = partitura.utils.compute_pianoroll(note_array_two,time_unit = \"beat\",time_div = 12)\n",
        "pr_two = pr_two.toarray()\n",
        "\n",
        "pr_three = partitura.utils.compute_pianoroll(note_array_three,time_unit = \"beat\",time_div = 12)\n",
        "pr_three = pr_three.toarray()\n"
      ],
      "metadata": {
        "id": "kHOUhD9g2Z19"
      },
      "execution_count": null,
      "outputs": []
    },
    {
      "cell_type": "code",
      "source": [
        "part_zero = part[0]\n",
        "part_one = part[1]\n",
        "part_two = part[2]\n",
        "part_three = part[3]"
      ],
      "metadata": {
        "id": "mhIU6dJUButV"
      },
      "execution_count": null,
      "outputs": []
    },
    {
      "cell_type": "code",
      "source": [
        "pr_zero_ori = partitura.utils.compute_pianoroll(part_zero, time_unit = \"beat\",time_div = 12)\n",
        "v0 = pr_zero_ori.toarray()\n",
        "\n",
        "pr_one_ori = partitura.utils.compute_pianoroll(part_one, time_unit = \"beat\",time_div = 12)\n",
        "v1 = pr_one_ori.toarray()\n",
        "\n",
        "pr_two_ori = partitura.utils.compute_pianoroll(part_two, time_unit = \"beat\",time_div = 12)\n",
        "v2 = pr_two_ori.toarray()\n",
        "\n",
        "pr_three_ori = partitura.utils.compute_pianoroll(part_three, time_unit = \"beat\",time_div = 12)\n",
        "v3 = pr_three_ori.toarray()\n",
        "\n",
        "pr_ori = partitura.utils.compute_pianoroll(part, time_unit = \"beat\",time_div = 12)\n",
        "v_all = pr_ori.toarray()"
      ],
      "metadata": {
        "id": "nVwctUH7CFKM"
      },
      "execution_count": null,
      "outputs": []
    },
    {
      "cell_type": "code",
      "source": [
        "#pr_zero_ori.shape, pr_one_ori.shape,pr_two_ori.shape, pr_three_ori.shape, pr_ori.shape\n",
        "#pr_zero.shape, pr_one.shape,pr_two.shape, pr_three.shape"
      ],
      "metadata": {
        "id": "WwnPkQHxH-8x"
      },
      "execution_count": null,
      "outputs": []
    },
    {
      "cell_type": "code",
      "source": [
        "#np.sum(pr_zero_ == pr_zero) - 61440, np.sum(pr_one == pr_one_) - 61440 ,np.sum(pr_two == pr_two_) - 61440,np.sum(pr_three_ == pr_three) - 61440"
      ],
      "metadata": {
        "id": "1251OStlTs-h"
      },
      "execution_count": null,
      "outputs": []
    },
    {
      "cell_type": "code",
      "source": [
        "loss = nn.CrossEntropyLoss(reduction=\"mean\")\n",
        "\"\"\"\n",
        "pr_zero = torch.tensor(pr_zero).type(torch.FloatTensor)\n",
        "v0 = torch.tensor(v0).type(torch.FloatTensor)\n",
        "\n",
        "pr_one = torch.tensor(pr_one).type(torch.FloatTensor)\n",
        "v1 = torch.tensor(v1).type(torch.FloatTensor)\n",
        "\n",
        "pr_two = torch.tensor(pr_two).type(torch.FloatTensor)\n",
        "v2 = torch.tensor(v2).type(torch.FloatTensor)\n",
        "\n",
        "pr_three = torch.tensor(pr_three).type(torch.FloatTensor)\n",
        "v3 = torch.tensor(v3).type(torch.FloatTensor)\n",
        "\n",
        "v0 = v0.squeeze()\n",
        "v1 = v1.squeeze()\n",
        "v2 = v2.squeeze()\n",
        "v3 = v3.squeeze()\n",
        "        \n",
        "losses = loss(pr_zero, v0) + loss(pr_one, v1) + loss(pr_two, v2) + loss(pr_three, v3)\n",
        "losses\n",
        "\"\"\""
      ],
      "metadata": {
        "id": "RTMVd00DDpNy"
      },
      "execution_count": null,
      "outputs": []
    },
    {
      "cell_type": "code",
      "source": [
        "from sklearn.metrics import accuracy_score\n",
        "\n",
        "acc_v0 = accuracy_score(torch.tensor(pr_zero), v0)\n",
        "acc_v1 = accuracy_score(torch.tensor(pr_one), v1)\n",
        "acc_v2 = accuracy_score(torch.tensor(pr_two),v2)\n",
        "acc_v3 = accuracy_score(torch.tensor(pr_three), v3)"
      ],
      "metadata": {
        "id": "p_iNU4N66xHw"
      },
      "execution_count": null,
      "outputs": []
    },
    {
      "cell_type": "code",
      "source": [
        "acc_v0,acc_v1,acc_v2,acc_v3"
      ],
      "metadata": {
        "id": "so09ScFo8tDk"
      },
      "execution_count": null,
      "outputs": []
    }
  ]
}