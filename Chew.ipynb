{
  "nbformat": 4,
  "nbformat_minor": 0,
  "metadata": {
    "colab": {
      "name": "Chew.ipynb",
      "provenance": [],
      "collapsed_sections": [],
      "mount_file_id": "1PYfyIi8Z7ytAu4eGoCLbpqd0N0Rrhjal",
      "authorship_tag": "ABX9TyNh3x0oMOCiDqOEizLtR86W",
      "include_colab_link": true
    },
    "kernelspec": {
      "name": "python3",
      "display_name": "Python 3"
    },
    "language_info": {
      "name": "python"
    }
  },
  "cells": [
    {
      "cell_type": "markdown",
      "metadata": {
        "id": "view-in-github",
        "colab_type": "text"
      },
      "source": [
        "<a href=\"https://colab.research.google.com/github/aim56009/AI-MA_project/blob/main/Chew.ipynb\" target=\"_parent\"><img src=\"https://colab.research.google.com/assets/colab-badge.svg\" alt=\"Open In Colab\"/></a>"
      ]
    },
    {
      "cell_type": "code",
      "execution_count": null,
      "metadata": {
        "id": "3Bqce9bT68ge"
      },
      "outputs": [],
      "source": [
        "%matplotlib inline\n",
        "\n",
        "import numpy as np\n",
        "import torch\n",
        "import torch.nn as nn\n",
        "import torch.nn.functional as F\n",
        "import pickle\n",
        "import torchvision.transforms.functional as TF \n",
        "\n",
        "from torch.utils.data import DataLoader\n",
        "from torch.utils.data.dataset import Dataset\n",
        "import glob\n",
        "import os\n",
        "\n",
        "import random\n",
        "import click\n",
        "import sklearn\n",
        "import sklearn.model_selection\n",
        "from collections import defaultdict\n",
        "from sklearn.metrics import accuracy_score\n",
        "from pathlib import Path\n",
        "import sys\n",
        "from torch import optim\n",
        "from torch.optim import lr_scheduler\n",
        "from functools import partial\n",
        "import matplotlib.pyplot as plt"
      ]
    },
    {
      "cell_type": "code",
      "source": [
        "!git clone https://github.com/aim56009/AI-MA_project.git"
      ],
      "metadata": {
        "id": "zxC0_I1s7HTO",
        "colab": {
          "base_uri": "https://localhost:8080/"
        },
        "outputId": "6d232b02-8033-4678-cd0d-83720f75fdea"
      },
      "execution_count": 21,
      "outputs": [
        {
          "output_type": "stream",
          "name": "stdout",
          "text": [
            "Cloning into 'AI-MA_project'...\n",
            "remote: Enumerating objects: 2316, done.\u001b[K\n",
            "remote: Counting objects: 100% (2316/2316), done.\u001b[K\n",
            "remote: Compressing objects: 100% (199/199), done.\u001b[K\n",
            "remote: Total 2316 (delta 2192), reused 2173 (delta 2115), pack-reused 0\u001b[K\n",
            "Receiving objects: 100% (2316/2316), 4.52 MiB | 6.46 MiB/s, done.\n",
            "Resolving deltas: 100% (2192/2192), done.\n",
            "Checking out files: 100% (2219/2219), done.\n"
          ]
        }
      ]
    },
    {
      "cell_type": "markdown",
      "source": [
        "# Chew\n"
      ],
      "metadata": {
        "id": "_IXxqGxk8j_b"
      }
    },
    {
      "cell_type": "code",
      "source": [
        "!pip3 install partitura\n",
        "import partitura\n",
        "import numpy as np\n",
        "import os\n",
        "import pickle\n",
        "from sklearn.metrics import accuracy_score"
      ],
      "metadata": {
        "id": "SU_SAxSe8xL7",
        "colab": {
          "base_uri": "https://localhost:8080/"
        },
        "outputId": "1ace05b1-ca18-42bc-9dc7-1d712f93543d"
      },
      "execution_count": 22,
      "outputs": [
        {
          "output_type": "stream",
          "name": "stdout",
          "text": [
            "Requirement already satisfied: partitura in /usr/local/lib/python3.7/dist-packages (0.4.0)\n",
            "Requirement already satisfied: lark-parser in /usr/local/lib/python3.7/dist-packages (from partitura) (0.12.0)\n",
            "Requirement already satisfied: xmlschema in /usr/local/lib/python3.7/dist-packages (from partitura) (1.10.0)\n",
            "Requirement already satisfied: numpy in /usr/local/lib/python3.7/dist-packages (from partitura) (1.21.5)\n",
            "Requirement already satisfied: mido in /usr/local/lib/python3.7/dist-packages (from partitura) (1.2.10)\n",
            "Requirement already satisfied: lxml in /usr/local/lib/python3.7/dist-packages (from partitura) (4.2.6)\n",
            "Requirement already satisfied: scipy in /usr/local/lib/python3.7/dist-packages (from partitura) (1.4.1)\n",
            "Requirement already satisfied: elementpath<3.0.0,>=2.5.0 in /usr/local/lib/python3.7/dist-packages (from xmlschema->partitura) (2.5.0)\n"
          ]
        }
      ]
    },
    {
      "cell_type": "code",
      "source": [
        "def evaluation_chew():\n",
        "\n",
        "    history = defaultdict(list)\n",
        "    path = \"AI-MA_project/chorales_converted\"\n",
        "\n",
        "    ### load the chorales in xml format ###\n",
        "    for filename in os.listdir(path):\n",
        "        if not filename.endswith('.xml'): continue\n",
        "        fullname = os.path.join(path, filename)\n",
        "        \n",
        "\n",
        "        part = partitura.load_musicxml(fullname)\n",
        "            \n",
        "\n",
        "        ### apply chews method ### \n",
        "        chew_sep = partitura.musicanalysis.estimate_voices(part, monophonic_voices=True)\n",
        "\n",
        "\n",
        "        ### seperate the results -> e.g. pos_zero = all positions where chew prediction says voice 0 ####\n",
        "        pos_zero = np.where(chew_sep==1)\n",
        "        pos_one = np.where(chew_sep==2)\n",
        "        pos_two = np.where(chew_sep==3)\n",
        "        pos_three = np.where(chew_sep==4)\n",
        "\n",
        "\n",
        "        ### create notearray object that contain only the corresponding voice ###\n",
        "        note_array_zero = partitura.utils.ensure_notearray(part)[pos_zero]\n",
        "        note_array_one = partitura.utils.ensure_notearray(part)[pos_one]\n",
        "        note_array_two = partitura.utils.ensure_notearray(part)[pos_two]\n",
        "        note_array_three = partitura.utils.ensure_notearray(part)[pos_three]\n",
        "\n",
        "\n",
        "        ### create pr representation of all voices ###\n",
        "        pr_zero = partitura.utils.compute_pianoroll(note_array_zero,time_unit = \"beat\",time_div = 12)\n",
        "        pr_zero = pr_zero.toarray()\n",
        "\n",
        "        pr_one = partitura.utils.compute_pianoroll(note_array_one,time_unit = \"beat\",time_div = 12)\n",
        "        pr_one = pr_one.toarray()\n",
        "\n",
        "        pr_two = partitura.utils.compute_pianoroll(note_array_two,time_unit = \"beat\",time_div = 12)\n",
        "        pr_two = pr_two.toarray()\n",
        "\n",
        "        pr_three = partitura.utils.compute_pianoroll(note_array_three,time_unit = \"beat\",time_div = 12)\n",
        "        pr_three = pr_three.toarray()\n",
        "\n",
        "\n",
        "        ### get original data (as labels) ###\n",
        "        part_zero = part[0]\n",
        "        part_one = part[1]\n",
        "        part_two = part[2]\n",
        "        part_three = part[3]\n",
        "\n",
        "\n",
        "        ### compute pianoroll representation of original data for computing acc ###\n",
        "        pr_zero_ori = partitura.utils.compute_pianoroll(part_zero, time_unit = \"beat\",time_div = 12)\n",
        "        v0 = pr_zero_ori.toarray()\n",
        "\n",
        "        pr_one_ori = partitura.utils.compute_pianoroll(part_one, time_unit = \"beat\",time_div = 12)\n",
        "        v1 = pr_one_ori.toarray()\n",
        "\n",
        "        pr_two_ori = partitura.utils.compute_pianoroll(part_two, time_unit = \"beat\",time_div = 12)\n",
        "        v2 = pr_two_ori.toarray()\n",
        "\n",
        "        pr_three_ori = partitura.utils.compute_pianoroll(part_three, time_unit = \"beat\",time_div = 12)\n",
        "        v3 = pr_three_ori.toarray()\n",
        "\n",
        "        pr_ori = partitura.utils.compute_pianoroll(part, time_unit = \"beat\",time_div = 12)\n",
        "        v_all = pr_ori.toarray()\n",
        "\n",
        "        if pr_zero.shape == pr_one.shape == pr_two.shape == pr_three.shape  :\n",
        "            ### compute accuracy ###\n",
        "            acc_v0 = accuracy_score(torch.tensor(pr_zero), v0)\n",
        "            acc_v1 = accuracy_score(torch.tensor(pr_one), v1)\n",
        "            acc_v2 = accuracy_score(torch.tensor(pr_two),v2)\n",
        "            acc_v3 = accuracy_score(torch.tensor(pr_three), v3)\n",
        "\n",
        "            history[\"accuracy_v0\"].append(acc_v0)\n",
        "            history[\"accuracy_v1\"].append(acc_v1)\n",
        "            history[\"accuracy_v2\"].append(acc_v2)\n",
        "            history[\"accuracy_v3\"].append(acc_v3)\n",
        "            \n",
        "        else: print(\"pr shape does not match for:\", filename)\n",
        "        \n",
        "    return history"
      ],
      "metadata": {
        "id": "E9cWSLeL-05q"
      },
      "execution_count": null,
      "outputs": []
    },
    {
      "cell_type": "code",
      "source": [
        "hist_acc =  evaluation_chew()"
      ],
      "metadata": {
        "colab": {
          "base_uri": "https://localhost:8080/"
        },
        "id": "bgJCl6Mx-nF4",
        "outputId": "457003e3-f858-413a-c223-06ad575cddda"
      },
      "execution_count": null,
      "outputs": [
        {
          "output_type": "stream",
          "name": "stdout",
          "text": [
            "pr shape does not match for: chor245.xml\n",
            "pr shape does not match for: chor264.xml\n",
            "pr shape does not match for: chor286.xml\n",
            "pr shape does not match for: chor056.xml\n",
            "pr shape does not match for: chor283.xml\n",
            "pr shape does not match for: chor074.xml\n",
            "pr shape does not match for: chor043.xml\n",
            "pr shape does not match for: chor252.xml\n",
            "pr shape does not match for: chor133.xml\n",
            "pr shape does not match for: chor095.xml\n"
          ]
        }
      ]
    },
    {
      "cell_type": "code",
      "source": [
        "total_len = len(hist_acc[\"accuracy_v0\"])\n",
        "total_len"
      ],
      "metadata": {
        "colab": {
          "base_uri": "https://localhost:8080/"
        },
        "id": "RHrKst6lESD1",
        "outputId": "b6f64ad1-1db6-4f4f-8054-344a8d369309"
      },
      "execution_count": null,
      "outputs": [
        {
          "output_type": "execute_result",
          "data": {
            "text/plain": [
              "360"
            ]
          },
          "metadata": {},
          "execution_count": 83
        }
      ]
    },
    {
      "cell_type": "code",
      "source": [
        "accuracy_v0 = np.sum(hist_acc[\"accuracy_v0\"])/total_len\n",
        "accuracy_v1 = np.sum(hist_acc[\"accuracy_v1\"])/total_len\n",
        "accuracy_v2 = np.sum(hist_acc[\"accuracy_v2\"])/total_len\n",
        "accuracy_v3 = np.sum(hist_acc[\"accuracy_v3\"])/total_len\n",
        "\n",
        "print(\"accuracy of v0-v3:\",accuracy_v0,accuracy_v1,accuracy_v2,accuracy_v3)"
      ],
      "metadata": {
        "colab": {
          "base_uri": "https://localhost:8080/"
        },
        "id": "X4UzqvcEE2gm",
        "outputId": "f20b9948-1414-4c64-ffad-099532661d94"
      },
      "execution_count": null,
      "outputs": [
        {
          "output_type": "stream",
          "name": "stdout",
          "text": [
            "accuracy of v0-v3: 0.9882161458333333 0.9801215277777777 0.9844618055555555 0.9959201388888889\n"
          ]
        }
      ]
    },
    {
      "cell_type": "markdown",
      "source": [
        "# HMM approach"
      ],
      "metadata": {
        "id": "wKTWlxty2JrN"
      }
    },
    {
      "cell_type": "code",
      "source": [
        "fullname = \"chor001.xml\"\n",
        "\n",
        "#part = partitura.load_score_midi(fullname,part_voice_assign_mode=4,estimate_voice_info=False)\n",
        "part = partitura.load_musicxml(fullname)\n",
        "partitura.save_score_midi(part,fullname[:8]+\"mid\")"
      ],
      "metadata": {
        "id": "jhXp0UxL2LK_"
      },
      "execution_count": null,
      "outputs": []
    },
    {
      "cell_type": "code",
      "source": [
        "part = partitura.load_score_midi(\"chor238.mid\",part_voice_assign_mode=4,estimate_voice_info=False)\n",
        "part"
      ],
      "metadata": {
        "colab": {
          "base_uri": "https://localhost:8080/"
        },
        "id": "nVqcOmVbiXXx",
        "outputId": "fac845f8-05d1-4e50-fce9-e7b5f3fc6ce1"
      },
      "execution_count": null,
      "outputs": [
        {
          "output_type": "execute_result",
          "data": {
            "text/plain": [
              "<partitura.score.Part at 0x7f5fa052a150>"
            ]
          },
          "metadata": {},
          "execution_count": 26
        }
      ]
    },
    {
      "cell_type": "code",
      "source": [
        "pr = partitura.utils.compute_pianoroll(part, time_unit = \"beat\",time_div = 12)\n",
        "v0 = pr.toarray()\n",
        "v0.shape"
      ],
      "metadata": {
        "colab": {
          "base_uri": "https://localhost:8080/"
        },
        "id": "UpTbfHMs3z_6",
        "outputId": "d93beecd-c8f1-463f-ddc7-0c2c38475692"
      },
      "execution_count": null,
      "outputs": [
        {
          "output_type": "execute_result",
          "data": {
            "text/plain": [
              "(128, 480)"
            ]
          },
          "metadata": {},
          "execution_count": 27
        }
      ]
    },
    {
      "cell_type": "code",
      "source": [
        "voice_info = partitura.utils.note_array_from_part(part) \n",
        "voice_info[\"voice\"]"
      ],
      "metadata": {
        "colab": {
          "base_uri": "https://localhost:8080/"
        },
        "id": "vbCeQd1q864b",
        "outputId": "060535fe-4813-4f12-bed0-6bf982766d5f"
      },
      "execution_count": null,
      "outputs": [
        {
          "output_type": "execute_result",
          "data": {
            "text/plain": [
              "array([0, 0, 0, 0, 0, 0, 0, 0, 0, 0, 0, 0, 0, 0, 0, 0, 0, 0, 0, 0, 0, 0,\n",
              "       0, 0, 0, 0, 0, 0, 0, 0, 0, 0, 0, 0, 0, 0, 0, 0, 0, 0, 0, 0, 0, 0,\n",
              "       0, 0, 0, 0, 0, 0, 0, 0, 0, 0, 0, 0, 0, 0, 0, 0, 0, 0, 0, 0, 0, 0,\n",
              "       0, 0, 0, 0, 0, 0, 0, 0, 0, 0, 0, 0, 0, 0, 0, 0, 0, 0, 0, 0, 0, 0,\n",
              "       0, 0, 0, 0, 0, 0, 0, 0, 0, 0, 0, 0, 0, 0, 0, 0, 0, 0, 0, 0, 0, 0,\n",
              "       0, 0, 0, 0, 0, 0, 0, 0, 0, 0, 0, 0, 0, 0, 0, 0, 0, 0, 0, 0, 0, 0,\n",
              "       0, 0, 0, 0, 0, 0, 0, 0, 0, 0, 0, 0, 0, 0, 0, 0, 0, 0, 0, 0, 0, 0,\n",
              "       0, 0, 0, 0, 0, 0, 0, 0, 0, 0, 0, 0], dtype=int32)"
            ]
          },
          "metadata": {},
          "execution_count": 28
        }
      ]
    },
    {
      "cell_type": "code",
      "source": [
        "partitura.utils.ensure_notearray(part)"
      ],
      "metadata": {
        "id": "k13vCKak9e10"
      },
      "execution_count": null,
      "outputs": []
    },
    {
      "cell_type": "code",
      "source": [
        "%cd AI-MA_project\n",
        "!pwd"
      ],
      "metadata": {
        "colab": {
          "base_uri": "https://localhost:8080/"
        },
        "id": "L6hTUzNEke6S",
        "outputId": "a626f200-8a36-4f0e-aa19-2e64655a8b9d"
      },
      "execution_count": 23,
      "outputs": [
        {
          "output_type": "stream",
          "name": "stdout",
          "text": [
            "/content/AI-MA_project/AI-MA_project\n",
            "/content/AI-MA_project/AI-MA_project\n"
          ]
        }
      ]
    },
    {
      "cell_type": "code",
      "source": [
        "filename[:8]+\"mid\""
      ],
      "metadata": {
        "colab": {
          "base_uri": "https://localhost:8080/",
          "height": 36
        },
        "id": "EYRc6cVhpcVR",
        "outputId": "eed9e0a4-809f-4f44-ae7f-55976da8a72f"
      },
      "execution_count": null,
      "outputs": [
        {
          "output_type": "execute_result",
          "data": {
            "text/plain": [
              "'chor155.mid'"
            ],
            "application/vnd.google.colaboratory.intrinsic+json": {
              "type": "string"
            }
          },
          "metadata": {},
          "execution_count": 20
        }
      ]
    },
    {
      "cell_type": "code",
      "source": [
        "#path = \"AI-MA_project/chorales_converted\"\n",
        "path = \"chorales_converted\"\n",
        "\n",
        "\n",
        "for filename in os.listdir(path):\n",
        "    if not filename.endswith('.xml'): continue\n",
        "    fullname = os.path.join(path, filename)\n",
        "    #print(fullname)\n",
        "    part = partitura.load_musicxml(fullname)\n",
        "    #print(filename[:8]+\"mid\")\n",
        "    try:\n",
        "      partitura.save_score_midi(part,out= \"midi_test/\"+filename[:8]+\"mid\",part_voice_assign_mode=4)\n",
        "    except:\n",
        "      print(filename[:8]+\"mid\")\n"
      ],
      "metadata": {
        "colab": {
          "base_uri": "https://localhost:8080/"
        },
        "id": "NT_cg-w59ahz",
        "outputId": "25cf6eb6-fcf9-4fba-92e9-ef097c4a08c5"
      },
      "execution_count": 25,
      "outputs": [
        {
          "output_type": "stream",
          "name": "stdout",
          "text": [
            "chor155.mid\n",
            "chor162.mid\n",
            "chor210.mid\n",
            "chor015.mid\n",
            "chor187.mid\n",
            "chor244.mid\n",
            "chor241.mid\n",
            "chor237.mid\n",
            "chor113.mid\n",
            "chor122.mid\n",
            "chor206.mid\n",
            "chor087.mid\n",
            "chor180.mid\n",
            "chor302.mid\n",
            "chor160.mid\n",
            "chor199.mid\n",
            "chor357.mid\n",
            "chor184.mid\n",
            "chor110.mid\n",
            "chor284.mid\n",
            "chor154.mid\n",
            "chor288.mid\n",
            "chor205.mid\n",
            "chor127.mid\n",
            "chor369.mid\n",
            "chor034.mid\n",
            "chor025.mid\n",
            "chor166.mid\n",
            "chor171.mid\n",
            "chor203.mid\n",
            "chor232.mid\n",
            "chor119.mid\n",
            "chor019.mid\n",
            "chor174.mid\n",
            "chor262.mid\n",
            "chor231.mid\n",
            "chor168.mid\n",
            "chor008.mid\n",
            "chor186.mid\n",
            "chor082.mid\n",
            "chor197.mid\n",
            "chor133.mid\n",
            "chor003.mid\n",
            "chor070.mid\n",
            "chor049.mid\n",
            "chor218.mid\n",
            "chor325.mid\n",
            "chor185.mid\n"
          ]
        }
      ]
    },
    {
      "cell_type": "code",
      "source": [
        "#path = \"midi_test/\"\n",
        "#for filename in os.listdir(path):\n",
        "#    files.download(path + filename) "
      ],
      "metadata": {
        "id": "ENJzMnHTvfQA"
      },
      "execution_count": 35,
      "outputs": []
    },
    {
      "cell_type": "code",
      "source": [
        "#!zip -r /content/file.zip midi_test\n",
        "'files.download(\"/content/midi_zip_file.zip\")"
      ],
      "metadata": {
        "id": "5Ua5oIZuypZc"
      },
      "execution_count": null,
      "outputs": []
    },
    {
      "cell_type": "code",
      "source": [
        ""
      ],
      "metadata": {
        "id": "GgdEzq4v363S",
        "outputId": "17d6defb-7a58-47eb-910c-5474e3a1b768",
        "colab": {
          "base_uri": "https://localhost:8080/",
          "height": 17
        }
      },
      "execution_count": 34,
      "outputs": [
        {
          "output_type": "display_data",
          "data": {
            "text/plain": [
              "<IPython.core.display.Javascript object>"
            ],
            "application/javascript": [
              "\n",
              "    async function download(id, filename, size) {\n",
              "      if (!google.colab.kernel.accessAllowed) {\n",
              "        return;\n",
              "      }\n",
              "      const div = document.createElement('div');\n",
              "      const label = document.createElement('label');\n",
              "      label.textContent = `Downloading \"${filename}\": `;\n",
              "      div.appendChild(label);\n",
              "      const progress = document.createElement('progress');\n",
              "      progress.max = size;\n",
              "      div.appendChild(progress);\n",
              "      document.body.appendChild(div);\n",
              "\n",
              "      const buffers = [];\n",
              "      let downloaded = 0;\n",
              "\n",
              "      const channel = await google.colab.kernel.comms.open(id);\n",
              "      // Send a message to notify the kernel that we're ready.\n",
              "      channel.send({})\n",
              "\n",
              "      for await (const message of channel.messages) {\n",
              "        // Send a message to notify the kernel that we're ready.\n",
              "        channel.send({})\n",
              "        if (message.buffers) {\n",
              "          for (const buffer of message.buffers) {\n",
              "            buffers.push(buffer);\n",
              "            downloaded += buffer.byteLength;\n",
              "            progress.value = downloaded;\n",
              "          }\n",
              "        }\n",
              "      }\n",
              "      const blob = new Blob(buffers, {type: 'application/binary'});\n",
              "      const a = document.createElement('a');\n",
              "      a.href = window.URL.createObjectURL(blob);\n",
              "      a.download = filename;\n",
              "      div.appendChild(a);\n",
              "      a.click();\n",
              "      div.remove();\n",
              "    }\n",
              "  "
            ]
          },
          "metadata": {}
        },
        {
          "output_type": "display_data",
          "data": {
            "text/plain": [
              "<IPython.core.display.Javascript object>"
            ],
            "application/javascript": [
              "download(\"download_016da250-3b6a-45e2-9841-2e4b4b6a0ecf\", \"file.zip\", 234000)"
            ]
          },
          "metadata": {}
        }
      ]
    },
    {
      "cell_type": "code",
      "source": [
        ""
      ],
      "metadata": {
        "id": "DYN-4BbD4LFU"
      },
      "execution_count": null,
      "outputs": []
    }
  ]
}