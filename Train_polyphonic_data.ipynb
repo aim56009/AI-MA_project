{
  "nbformat": 4,
  "nbformat_minor": 0,
  "metadata": {
    "colab": {
      "name": "Train_polyphonic_data.ipynb",
      "provenance": [],
      "include_colab_link": true
    },
    "kernelspec": {
      "name": "python3",
      "display_name": "Python 3"
    },
    "language_info": {
      "name": "python"
    }
  },
  "cells": [
    {
      "cell_type": "markdown",
      "metadata": {
        "id": "view-in-github",
        "colab_type": "text"
      },
      "source": [
        "<a href=\"https://colab.research.google.com/github/aim56009/AI-MA_project/blob/main/Train_polyphonic_data.ipynb\" target=\"_parent\"><img src=\"https://colab.research.google.com/assets/colab-badge.svg\" alt=\"Open In Colab\"/></a>"
      ]
    },
    {
      "cell_type": "markdown",
      "source": [
        "# Imports\n"
      ],
      "metadata": {
        "id": "TGpH9G_kAwmy"
      }
    },
    {
      "cell_type": "code",
      "execution_count": 19,
      "metadata": {
        "id": "COo0mYvKAMmc"
      },
      "outputs": [],
      "source": [
        "%%capture\n",
        "%matplotlib inline\n",
        "\n",
        "import numpy as np\n",
        "import torch\n",
        "import torch.nn as nn\n",
        "import torch.nn.functional as F\n",
        "import pickle\n",
        "import torchvision.transforms.functional as TF \n",
        "\n",
        "from torch.utils.data import DataLoader\n",
        "from torch.utils.data.dataset import Dataset\n",
        "import glob\n",
        "import os\n",
        "import random\n",
        "import click\n",
        "import sklearn\n",
        "import sklearn.model_selection\n",
        "from collections import defaultdict\n",
        "from sklearn.metrics import accuracy_score\n",
        "from pathlib import Path\n",
        "import sys\n",
        "from torch import optim\n",
        "from torch.optim import lr_scheduler\n",
        "from functools import partial\n",
        "import matplotlib.pyplot as plt\n",
        "#!pip install partitura\n",
        "! pip install git+https://github.com/CPJKU/partitura.git@develop\n",
        "import partitura\n",
        "import statistics\n",
        "import matplotlib\n",
        "\n",
        "\n",
        "\n",
        "!git clone https://github.com/aim56009/AI-MA_project.git"
      ]
    },
    {
      "cell_type": "markdown",
      "source": [
        "#Dataloader - Set the dataset"
      ],
      "metadata": {
        "id": "de_kI138A7ms"
      }
    },
    {
      "cell_type": "code",
      "source": [
        "PATH_TO_DATA = \"AI-MA_project/pr_polyphonic\"\n",
        "\n",
        "batch_size = 1 \n",
        "workers = 0"
      ],
      "metadata": {
        "id": "GZhTj8KDA8Yf"
      },
      "execution_count": 20,
      "outputs": []
    },
    {
      "cell_type": "code",
      "source": [
        "from scipy import sparse"
      ],
      "metadata": {
        "id": "VIEk3O1r0PAZ"
      },
      "execution_count": 21,
      "outputs": []
    },
    {
      "cell_type": "code",
      "source": [
        "max_len_load = 3000\n",
        "\n",
        "class MusicDataset_polyphonic(Dataset):\n",
        "\n",
        "    def __init__(self, data_dir, transforms=None):\n",
        "        self.transforms = transforms\n",
        "        self.data_dir = data_dir\n",
        "        piece_lengths = [\"2_voice\",\"4_voice\"]\n",
        "        labels = [\"voice_0\", \"voice_1\", \"voice_2\", \"voice_3\", \"voice_all\"]\n",
        "        self.labels = labels\n",
        "        self.pr_dict = {}\n",
        "        len_list = []\n",
        "        nbr_voices_list = []\n",
        "        file_names_list = []\n",
        "\n",
        "        counter_files_v2 = 0\n",
        "\n",
        "        for v_len_idx in piece_lengths:\n",
        "            if v_len_idx == \"4_voice\":\n",
        "                for iLabel in range(len(labels)):\n",
        "                    if iLabel == 4:   \n",
        "                        voice_files = []\n",
        "                        file_names = sorted(glob.glob(os.path.join(PATH_TO_DATA, v_len_idx , self.labels[iLabel], \"*.pkl\")))       \n",
        "                        for name in file_names:\n",
        "                            with open(name ,'rb') as f: ### normal sollte es egal sein wenn voice_4 bei manchen nicht existiert - wenn nicht condition einführen damit das funktioniert\n",
        "                                loaded_obj = pickle.load(f)  \n",
        "\n",
        "                                #print(\"loaded_obj before:\",loaded_obj.shape)\n",
        "\n",
        "                                pitch, t_len = loaded_obj.shape\n",
        "                                if t_len > max_len_load:\n",
        "                                  loaded_obj = loaded_obj[:,:max_len_load]\n",
        "                            \n",
        "\n",
        "                                #print(\"loaded_obj after:\",loaded_obj.shape)\n",
        "\n",
        "                                voice_files.append(sparse.csr_matrix(loaded_obj))\n",
        "\n",
        "                                len_list.append(len(loaded_obj.T))\n",
        "                                file_names_list.append(name[-7:-4])\n",
        "                                nbr_voices_list.append(4)                        \n",
        "\n",
        "                        self.pr_dict[self.labels[iLabel]] += voice_files\n",
        "                        self.pr_dict[\"length\"] +=  len_list\n",
        "                        self.pr_dict[\"nbr_voices\"] +=  nbr_voices_list\n",
        "                        self.pr_dict[\"name\"] += file_names_list\n",
        "                   \n",
        "                    else:\n",
        "                        voice_files = []\n",
        "                        file_names = sorted(glob.glob(os.path.join(PATH_TO_DATA,v_len_idx, self.labels[iLabel], \"*.pkl\"))) \n",
        "                        for name in file_names:\n",
        "                            with open(name ,'rb') as f: \n",
        "                                  loaded_obj = pickle.load(f)\n",
        "\n",
        "                                  pitch, t_len = loaded_obj.shape\n",
        "                                  if t_len > max_len_load:\n",
        "                                    loaded_obj = loaded_obj[:,:max_len_load]\n",
        "\n",
        "\n",
        "                                  voice_files.append(sparse.csr_matrix(loaded_obj))\n",
        "                        self.pr_dict[self.labels[iLabel]] += voice_files\n",
        "\n",
        "\n",
        "            if v_len_idx == \"2_voice\":\n",
        "              #if counter_files_v2 < len(sorted(glob.glob(os.path.join(PATH_TO_DATA, \"4_voice\" , self.labels[4], \"*.pkl\")))):     ############### load as many 2 voice pieces as 4 voice pieces    ##########\n",
        "                #counter_files_v2 +=1\n",
        "                for iLabel in range(len(labels)):\n",
        "                    if iLabel == 4:   \n",
        "                        voice_files = []\n",
        "                        file_names = sorted(glob.glob(os.path.join(PATH_TO_DATA, v_len_idx , self.labels[iLabel], \"*.pkl\")))   \n",
        "                        for name in file_names:\n",
        "                            with open(name ,'rb') as f:\n",
        "                                loaded_obj = pickle.load(f)  \n",
        "\n",
        "                                pitch, t_len = loaded_obj.shape\n",
        "                                if t_len > max_len_load:\n",
        "                                  loaded_obj = loaded_obj[:,:max_len_load]\n",
        "\n",
        "                                voice_files.append(sparse.csr_matrix(loaded_obj))\n",
        "                                len_list.append(len(loaded_obj.T))\n",
        "                                file_names_list.append(name[-7:-4])\n",
        "                                nbr_voices_list.append(2)\n",
        "                              \n",
        "                        self.pr_dict[self.labels[iLabel]] = voice_files\n",
        "                        self.pr_dict[\"length\"] = len_list\n",
        "                        self.pr_dict[\"nbr_voices\"] = nbr_voices_list\n",
        "                        self.pr_dict[\"name\"] = file_names_list\n",
        "    \n",
        "                    else:\n",
        "                        voice_files = []\n",
        "                        file_names = sorted(glob.glob(os.path.join(PATH_TO_DATA,v_len_idx, self.labels[iLabel], \"*.pkl\"))) \n",
        "                        for name in file_names:\n",
        "                            with open(name ,'rb') as f: \n",
        "                                  loaded_obj = pickle.load(f)   \n",
        "\n",
        "                                  pitch, t_len = loaded_obj.shape\n",
        "                                  if t_len > max_len_load:\n",
        "                                    loaded_obj = loaded_obj[:,:max_len_load]\n",
        "\n",
        "                                  voice_files.append(sparse.csr_matrix(loaded_obj))  \n",
        "                        self.pr_dict[self.labels[iLabel]] = voice_files\n",
        "                    \n",
        "    def __len__(self):\n",
        "        file_names_2 = sorted(glob.glob(os.path.join(PATH_TO_DATA, \"2_voice\" , self.labels[4], \"*.pkl\")))\n",
        "        file_names_4 = sorted(glob.glob(os.path.join(PATH_TO_DATA, \"4_voice\" , self.labels[4], \"*.pkl\")))\n",
        "        return len(file_names_2) + len(file_names_4) \n",
        "\n",
        "    def __getitem__(self, idx):      \n",
        "        out_list = []\n",
        "        for key,value in self.pr_dict.items():\n",
        "          v0 = torch.tensor(sparse.csr_matrix.todense(self.pr_dict[\"voice_0\"][idx]).T)\n",
        "          v1 = torch.tensor(sparse.csr_matrix.todense(self.pr_dict[\"voice_1\"][idx]).T)\n",
        "          \n",
        "          if self.pr_dict[\"nbr_voices\"][idx] == 4:       ### -168 WORKS ONLY IN THIS CASE BC 168 SAMPLES OF LEN(2) ARE LOADED FIRST\n",
        "              v2 = torch.tensor(sparse.csr_matrix.todense(self.pr_dict[\"voice_2\"][idx-168]).T)\n",
        "              v3 = torch.tensor(sparse.csr_matrix.todense(self.pr_dict[\"voice_3\"][idx-168]).T)\n",
        "          if self.pr_dict[\"nbr_voices\"][idx] == 2:\n",
        "              v2 = torch.zeros(v1.shape)\n",
        "              v3 = torch.zeros(v1.shape)\n",
        "          \n",
        "          v_all = torch.tensor(sparse.csr_matrix.todense(self.pr_dict[\"voice_all\"][idx]).T)\n",
        "          length = self.pr_dict[\"length\"][idx]\n",
        "          nbr_voices = self.pr_dict[\"nbr_voices\"][idx]\n",
        "          file_name = self.pr_dict[\"name\"][idx]\n",
        "          voices = torch.stack([v0, v1, v2, v3, v_all], dim=2)\n",
        "\n",
        "        return (voices, length, nbr_voices, file_name)"
      ],
      "metadata": {
        "id": "RR_q4F28BE1t"
      },
      "execution_count": 22,
      "outputs": []
    },
    {
      "cell_type": "markdown",
      "source": [
        "## Plots\n"
      ],
      "metadata": {
        "id": "_iGHmvhijcEQ"
      }
    },
    {
      "cell_type": "code",
      "source": [
        "\"\"\"\n",
        "dataset = MusicDataset_polyphonic(PATH_TO_DATA)\n",
        "loader = torch.utils.data.DataLoader(dataset,batch_size=batch_size, shuffle=False, num_workers=workers, drop_last=True)\n",
        "\n",
        "for i, sample_batched in enumerate(loader):\n",
        "    if i == 168:\n",
        "        all_voices, length, nbr_voices, file_name = sample_batched\n",
        "        print(file_name[0],nbr_voices,all_voices.shape)\n",
        "        break\n",
        "\"\"\""
      ],
      "metadata": {
        "id": "HFMMT5ydBeDO",
        "outputId": "432dec3e-370d-4db6-9fe8-404289ab6a41",
        "colab": {
          "base_uri": "https://localhost:8080/",
          "height": 0
        }
      },
      "execution_count": 23,
      "outputs": [
        {
          "output_type": "execute_result",
          "data": {
            "text/plain": [
              "'\\ndataset = MusicDataset_polyphonic(PATH_TO_DATA)\\nloader = torch.utils.data.DataLoader(dataset,batch_size=batch_size, shuffle=False, num_workers=workers, drop_last=True)\\n\\nfor i, sample_batched in enumerate(loader):\\n    if i == 168:\\n        all_voices, length, nbr_voices, file_name = sample_batched\\n        print(file_name[0],nbr_voices,all_voices.shape)\\n        break\\n'"
            ],
            "application/vnd.google.colaboratory.intrinsic+json": {
              "type": "string"
            }
          },
          "metadata": {},
          "execution_count": 23
        }
      ]
    },
    {
      "cell_type": "code",
      "source": [
        "\"\"\"\n",
        "for i, sample_batched in enumerate(loader):\n",
        "    if i == 168:\n",
        "        all_voices, length, nbr_voices, file_name = sample_batched\n",
        "        print(file_name[0],nbr_voices,all_voices.shape)\n",
        "        break\n",
        "\"\"\""
      ],
      "metadata": {
        "id": "m6jxjpWJcD16",
        "outputId": "79f22b42-b4f9-42f2-d38f-65d172125404",
        "colab": {
          "base_uri": "https://localhost:8080/",
          "height": 0
        }
      },
      "execution_count": 24,
      "outputs": [
        {
          "output_type": "execute_result",
          "data": {
            "text/plain": [
              "'\\nfor i, sample_batched in enumerate(loader):\\n    if i == 168:\\n        all_voices, length, nbr_voices, file_name = sample_batched\\n        print(file_name[0],nbr_voices,all_voices.shape)\\n        break\\n'"
            ],
            "application/vnd.google.colaboratory.intrinsic+json": {
              "type": "string"
            }
          },
          "metadata": {},
          "execution_count": 24
        }
      ]
    },
    {
      "cell_type": "code",
      "source": [
        "\"\"\"\n",
        "pianoroll_0 = all_voices.squeeze()[:,:,0].numpy()\n",
        "pianoroll_1 = all_voices.squeeze()[:,:,1].numpy()\n",
        "pianoroll_2 = all_voices.squeeze()[:,:,2].numpy()\n",
        "pianoroll_3 = all_voices.squeeze()[:,:,3].numpy()\n",
        "pianoroll_all = all_voices.squeeze()[:,:,-1].numpy()\n",
        "\n",
        "colors_0 = 'none red'.split()\n",
        "colors_1 = 'none green'.split()\n",
        "colors_2 = 'none blue'.split()\n",
        "colors_3 = 'black orange'.split()\n",
        "\n",
        "cmap_0 = matplotlib.colors.ListedColormap(colors_0, name='colors', N=None)\n",
        "cmap_1 = matplotlib.colors.ListedColormap(colors_1, name='colors', N=None)\n",
        "cmap_2 = matplotlib.colors.ListedColormap(colors_2, name='colors', N=None)\n",
        "cmap_3 = matplotlib.colors.ListedColormap(colors_3, name='colors', N=None)\n",
        "\n",
        "fig, ax = plt.subplots(1, figsize=(20, 10))\n",
        "\n",
        "ax.imshow(pianoroll_3[3000:4000,:], origin=\"lower\", cmap=cmap_3, interpolation='nearest', aspect='auto')\n",
        "ax.imshow(pianoroll_2[3000:4000,:], origin=\"lower\", cmap=cmap_2, interpolation='nearest', aspect='auto')\n",
        "ax.imshow(pianoroll_1[3000:4000,:], origin=\"lower\", cmap=cmap_1, interpolation='nearest', aspect='auto')\n",
        "ax.imshow(pianoroll_0[3000:4000,:], origin=\"lower\", cmap=cmap_0, interpolation='nearest', aspect='auto')\n",
        "ax.set_xlabel(f'Time ({\"beat\"}s/{12})')\n",
        "ax.set_ylabel('Piano key')\n",
        "plt.show()\n",
        "\"\"\""
      ],
      "metadata": {
        "id": "NOV7MCxhSud7",
        "outputId": "d568a0a1-45d3-4bf1-9dac-a164fa1b5b7d",
        "colab": {
          "base_uri": "https://localhost:8080/",
          "height": 0
        }
      },
      "execution_count": 25,
      "outputs": [
        {
          "output_type": "execute_result",
          "data": {
            "text/plain": [
              "'\\npianoroll_0 = all_voices.squeeze()[:,:,0].numpy()\\npianoroll_1 = all_voices.squeeze()[:,:,1].numpy()\\npianoroll_2 = all_voices.squeeze()[:,:,2].numpy()\\npianoroll_3 = all_voices.squeeze()[:,:,3].numpy()\\npianoroll_all = all_voices.squeeze()[:,:,-1].numpy()\\n\\ncolors_0 = \\'none red\\'.split()\\ncolors_1 = \\'none green\\'.split()\\ncolors_2 = \\'none blue\\'.split()\\ncolors_3 = \\'black orange\\'.split()\\n\\ncmap_0 = matplotlib.colors.ListedColormap(colors_0, name=\\'colors\\', N=None)\\ncmap_1 = matplotlib.colors.ListedColormap(colors_1, name=\\'colors\\', N=None)\\ncmap_2 = matplotlib.colors.ListedColormap(colors_2, name=\\'colors\\', N=None)\\ncmap_3 = matplotlib.colors.ListedColormap(colors_3, name=\\'colors\\', N=None)\\n\\nfig, ax = plt.subplots(1, figsize=(20, 10))\\n\\nax.imshow(pianoroll_3[3000:4000,:], origin=\"lower\", cmap=cmap_3, interpolation=\\'nearest\\', aspect=\\'auto\\')\\nax.imshow(pianoroll_2[3000:4000,:], origin=\"lower\", cmap=cmap_2, interpolation=\\'nearest\\', aspect=\\'auto\\')\\nax.imshow(pianoroll_1[3000:4000,:], origin=\"lower\", cmap=cmap_1, interpolation=\\'nearest\\', aspect=\\'auto\\')\\nax.imshow(pianoroll_0[3000:4000,:], origin=\"lower\", cmap=cmap_0, interpolation=\\'nearest\\', aspect=\\'auto\\')\\nax.set_xlabel(f\\'Time ({\"beat\"}s/{12})\\')\\nax.set_ylabel(\\'Piano key\\')\\nplt.show()\\n'"
            ],
            "application/vnd.google.colaboratory.intrinsic+json": {
              "type": "string"
            }
          },
          "metadata": {},
          "execution_count": 25
        }
      ]
    },
    {
      "cell_type": "markdown",
      "source": [
        "#Define U-Net"
      ],
      "metadata": {
        "id": "fGlQ8KsIkl2y"
      }
    },
    {
      "cell_type": "code",
      "source": [
        "class UNET(nn.Module):\n",
        "    \n",
        "    def __init__(self, in_channels=1, classes=1):\n",
        "        super(UNET, self).__init__()\n",
        "        self.layers = [in_channels, 64, 128, 256, 512, 1024]\n",
        "        \n",
        "        self.double_conv_downs = nn.ModuleList([self.__double_conv(layer, layer_n) for layer, layer_n in zip(self.layers[:-1], self.layers[1:])])\n",
        "        \n",
        "        self.up_trans = nn.ModuleList([nn.ConvTranspose2d(layer, layer_n, kernel_size=2, stride=2) for layer, layer_n in zip(self.layers[::-1][:-2], self.layers[::-1][1:-1])])\n",
        "            \n",
        "        self.double_conv_ups = nn.ModuleList([self.__double_conv(layer, layer//2) for layer in self.layers[::-1][:-2]])\n",
        "        \n",
        "        self.max_pool_2x2 = nn.MaxPool2d(kernel_size=2, stride=2)\n",
        "        \n",
        "        self.final_conv = nn.Conv2d(64, classes, kernel_size=1)\n",
        "\n",
        "        \n",
        "    def __double_conv(self, in_channels, out_channels):\n",
        "        conv = nn.Sequential(\n",
        "            nn.Conv2d(in_channels, out_channels, kernel_size=3, padding=1, bias=False),\n",
        "            nn.BatchNorm2d(out_channels),\n",
        "            nn.ReLU(inplace=True),\n",
        "            nn.Conv2d(out_channels, out_channels, kernel_size=3, padding=1),\n",
        "            nn.ReLU(inplace=True)\n",
        "        )\n",
        "        return conv\n",
        "    \n",
        "    def forward(self, x):\n",
        "        # down layers\n",
        "        concat_layers = []\n",
        "        \n",
        "        for down in self.double_conv_downs:\n",
        "            x = down(x)\n",
        "            if down != self.double_conv_downs[-1]:\n",
        "                concat_layers.append(x)\n",
        "                x = self.max_pool_2x2(x)\n",
        "        y = x\n",
        "        concat_layers = concat_layers[::-1]\n",
        "\n",
        "        \n",
        "        # up layers\n",
        "        for up_trans, double_conv_up, concat_layer  in zip(self.up_trans, self.double_conv_ups, concat_layers):\n",
        "            x = up_trans(x)\n",
        "            if x.shape != concat_layer.shape:\n",
        "                x = TF.resize(x, concat_layer.shape[2:])\n",
        "            \n",
        "            concatenated = torch.cat((concat_layer, x), dim=1)\n",
        "            x = double_conv_up(concatenated)\n",
        "            \n",
        "        x = self.final_conv(x)\n",
        "        \n",
        "        return x, y"
      ],
      "metadata": {
        "id": "wD23kpffkfKy"
      },
      "execution_count": 26,
      "outputs": []
    },
    {
      "cell_type": "markdown",
      "source": [
        "# Define Network\n"
      ],
      "metadata": {
        "id": "GXc03KGJkfwG"
      }
    },
    {
      "cell_type": "code",
      "source": [
        "class MusicNetwork(nn.Module):\n",
        "\n",
        "    def __init__(self, network_type,output_dim=88, hidden_dim=300, rnn_depth=1, cell_type=\"GRU\"):                 \n",
        "        super(MusicNetwork, self).__init__()\n",
        "\n",
        "        self.network_type = network_type\n",
        "        self.n_out = output_dim\n",
        "        input_dim = output_dim \n",
        "        rnn_cell = nn.GRU\n",
        "        self.rnn = rnn_cell(input_size=input_dim, hidden_size=hidden_dim, num_layers=rnn_depth, batch_first=True)\n",
        "        self.cnn = UNET(in_channels=1, classes=4)\n",
        "        self.top_layer_voice_0 = nn.Linear(hidden_dim, self.n_out)\n",
        "        self.top_layer_voice_1 = nn.Linear(hidden_dim, self.n_out)\n",
        "        self.top_layer_voice_2 = nn.Linear(hidden_dim, self.n_out)\n",
        "        self.top_layer_voice_3 = nn.Linear(hidden_dim, self.n_out)\n",
        "\n",
        "        self.input_unet = int(np.floor(max_len_load/2/2/2/2)*1024*5)\n",
        "        self.clf_head = nn.Linear(self.input_unet, 4)                         ################   4 bc max nbr voices ==4 in our dataset\n",
        "        self.clf_head_gap = nn.Linear(1024, 128)\n",
        "        self.clf_head_gap_2 = nn.Linear(128, 4)\n",
        "        self.indicator = 0\n",
        "\n",
        "    \n",
        "\n",
        "    def compute_outputs(self, sentences, sentences_len):\n",
        "        if self.network_type == \"RNN\":\n",
        "          rnn_out ,_= self.rnn(sentences)     \n",
        "          out_0 = self.top_layer_voice_0(rnn_out)\n",
        "          out_1 = self.top_layer_voice_1(rnn_out)\n",
        "          out_2 = self.top_layer_voice_2(rnn_out)\n",
        "          out_3 = self.top_layer_voice_3(rnn_out)\n",
        "\n",
        "          return torch.stack([out_0, out_1, out_2, out_3], dim=1)\n",
        "\n",
        "        else: \n",
        "          sentences = sentences[:,None]\n",
        "          out, down_state = self.cnn(sentences)\n",
        "\n",
        "          self.down_state = down_state\n",
        "\n",
        "          ############### try implementing GAP ###############\n",
        "          #print(\"down_state\",down_state.shape)\n",
        "          gap = nn.AdaptiveAvgPool2d((1,1))\n",
        "          input = down_state\n",
        "          gap_reduced = gap(input).squeeze()\n",
        "          #print(gap_reduced.shape)\n",
        "          out_clf_head = self.clf_head_gap_2(self.clf_head_gap(gap_reduced))\n",
        "          #print(\"self.clf_head_gap(gap_reduced)\",self.clf_head_gap(gap_reduced))\n",
        "          ######################################################\n",
        "\n",
        "          return out, out_clf_head  \n",
        "          \"\"\"\n",
        "          if self.input_unet == torch.flatten(down_state).shape[0]:\n",
        "            self.indicator = 1\n",
        "            out_clf_head = self.clf_head(torch.flatten(down_state))\n",
        "            return out, out_clf_head                \n",
        "          else:      ### in case input is smaller than 5000\n",
        "            self.indicator = 0\n",
        "            return out, None        \n",
        "          \"\"\"                              \n",
        "        \n",
        "\n",
        "    def forward(self, voices, sentences_len, nbr_voices):            \n",
        "        # Compute the outputs. The shape is (max_len, n_sentences, n_labels).\n",
        "        scores_comb, out_clf_head = self.compute_outputs(voices[:,:,:,-1], sentences_len)\n",
        "\n",
        "        # Flatten the outputs and the labels, to compute the loss.\n",
        "        # The input to this loss needs to be one 2-dimensional and one 1-dimensional tensor.\n",
        "        score_0  = scores_comb[:,0,:,:].view(-1, self.n_out)\n",
        "        score_1  = scores_comb[:,1,:,:].view(-1, self.n_out)\n",
        "        score_2  = scores_comb[:,2,:,:].view(-1, self.n_out)\n",
        "        score_3  = scores_comb[:,3,:,:].view(-1, self.n_out)\n",
        "\n",
        "        #if self.indicator ==0:\n",
        "        #  loss_clf = 0\n",
        "        #else:\n",
        "        clf_score = out_clf_head.softmax(dim=0)\n",
        "        clf_label = nbr_voices[0]-1\n",
        "        define_clf_loss = nn.CrossEntropyLoss(reduction='mean')\n",
        "        loss_clf = define_clf_loss(clf_score, clf_label)\n",
        "\n",
        "        print(\"loss_clf\",loss_clf)\n",
        " \n",
        "\n",
        "        weight_v0 = voices[:,:,:,0].squeeze().sum()\n",
        "        weight_v1 = voices[:,:,:,1].squeeze().sum()\n",
        "        weight_v2 = voices[:,:,:,2].squeeze().sum()\n",
        "        weight_v3 = voices[:,:,:,3].squeeze().sum()\n",
        "\n",
        "        stack_tensors_gt = torch.swapaxes(torch.swapaxes(voices[:,:,:,:4].squeeze(), 0, 2), 1,2)\n",
        "        stack_gt = torch.argmax(stack_tensors_gt,axis=0)\n",
        "\n",
        "        \n",
        "        weight_tensor = torch.stack([weight_v0/weight_v0,weight_v0/weight_v0,weight_v0/weight_v0,weight_v0/weight_v0])\n",
        "        criterion_weighted = nn.CrossEntropyLoss(weight=weight_tensor,reduction='mean',ignore_index=99)  \n",
        "        stack_pred = torch.stack([score_0, score_1, score_2, score_3], dim=0).softmax(dim=0)[None, :]\n",
        "        mask_pred = torch.squeeze(voices[:,:,:,-1])== 0\n",
        "        stack_gt[mask_pred] = 99\n",
        "        loss = criterion_weighted(stack_pred, stack_gt[None,:])\n",
        "\n",
        "        if torch.any(torch.isnan(stack_pred)) or torch.any(torch.isinf(stack_pred)) :\n",
        "          print('invalid input detected at iteration ')\n",
        "\n",
        "        return loss + loss_clf\n",
        "\n",
        "\n",
        "    def predict(self, sentences, sentences_len,monophonic=True):\n",
        "        scores_comb, out_clf_head = self.compute_outputs(sentences, sentences_len)\n",
        "        sum_tensor = scores_comb * sentences[:,None,:,:]\n",
        "        prediction = np.squeeze(sum_tensor.cpu().numpy())                # prediction is of shape 4,T,88 and contains a probability for the result to belong to one of the 4 voices -> taking argmax: gives the voice with the highes probability\n",
        "        v_pred_argm = torch.tensor(np.argmax(prediction,axis=0))\n",
        "        \n",
        "        mask_pred = np.squeeze(sentences)== 0\n",
        "        v_pred_argm[mask_pred] = -1\n",
        "\n",
        "        ### only output if clf is not none ####       ####!!!!!!!!!NNEEEED TO TEST AGAIN !!!!\n",
        "        #if out_clf_head != None:\n",
        "        clf_score = out_clf_head.softmax(dim=0)\n",
        "        pred_clf = torch.argmax(clf_score,axis=0)              \n",
        "        #else:      \n",
        "        #  pred_clf = 0\n",
        "                \n",
        "        #clf_score = out_clf_head.softmax(dim=0)\n",
        "        #pred_clf = torch.argmax(clf_score,axis=0)\n",
        "\n",
        "        return v_pred_argm, pred_clf   "
      ],
      "metadata": {
        "id": "nO4PtE0kknDd"
      },
      "execution_count": 27,
      "outputs": []
    },
    {
      "cell_type": "code",
      "source": [
        "\"\"\"\n",
        "monophonic = True\n",
        "his = start_experiment(1, 0.001, hidden_dim, bs, momentum, rnn_depth, device, cell_type, decay, \"CNN\", learn_all)\n",
        "\"\"\""
      ],
      "metadata": {
        "id": "MDeP7tqWmJGb",
        "outputId": "b0fdd98f-3052-44f3-d618-02eefd9b27c0",
        "colab": {
          "base_uri": "https://localhost:8080/",
          "height": 35
        }
      },
      "execution_count": 28,
      "outputs": [
        {
          "output_type": "execute_result",
          "data": {
            "text/plain": [
              "'\\nmonophonic = True\\nhis = start_experiment(1, 0.001, hidden_dim, bs, momentum, rnn_depth, device, cell_type, decay, \"CNN\", learn_all)\\n'"
            ],
            "application/vnd.google.colaboratory.intrinsic+json": {
              "type": "string"
            }
          },
          "metadata": {},
          "execution_count": 28
        }
      ]
    },
    {
      "cell_type": "markdown",
      "source": [
        "# Define Training Process"
      ],
      "metadata": {
        "id": "QyIAxKS-k4m2"
      }
    },
    {
      "cell_type": "code",
      "source": [
        "def train(epochs, lr, hidden_dim, momentum, rnn_depth, device, rnn_cell, weight_decay,network_type, train_dataloader, val_dataloader=None):\n",
        "    \n",
        "    output_dim = 88\n",
        "    model = MusicNetwork(network_type, output_dim, hidden_dim, rnn_depth, cell_type)              \n",
        "    optimizer = optim.Adam(model.parameters(), lr=lr, weight_decay=weight_decay)\n",
        "    scheduler = lr_scheduler.MultiStepLR(optimizer, [epochs // 2], gamma=0.1, verbose=True)\n",
        "\n",
        "    history = training_loop(model, optimizer, train_dataloader,monophonic, epochs=epochs, val_dataloader=val_dataloader, device=device, scheduler=scheduler)\n",
        "\n",
        "    return model, history"
      ],
      "metadata": {
        "id": "UrErJAevk2Sg"
      },
      "execution_count": 29,
      "outputs": []
    },
    {
      "cell_type": "markdown",
      "source": [
        "# Tryining Loop"
      ],
      "metadata": {
        "id": "u2R-p3BnlZdy"
      }
    },
    {
      "cell_type": "code",
      "source": [
        "#### versuch hier mal nur für 4 voices zu trainieren\n",
        "\n",
        "def training_loop(model,optimizer, train_dataloader, monophonic, epochs=50, val_dataloader=None, device=None, scheduler=None):\n",
        "    if device is None:\n",
        "        device = (torch.device(\"cuda\") if torch.cuda.is_available() else torch.device(\"cpu\"))\n",
        "        print(f\"Training on device: {device}\")\n",
        "\n",
        "    model = model.to(device)\n",
        "    history = defaultdict(list)\n",
        "\n",
        "    for i_epoch in range(1, epochs + 1):\n",
        "        loss_sum = 0\n",
        "        loss_sum_clf = 0\n",
        "        model.train()\n",
        "                \n",
        "        for idx, (voices, lens, nbr_voices, _) in enumerate(train_dataloader):  \n",
        "            #if nbr_voices == 4:\n",
        "            if idx < 120:\n",
        "              voices = voices.to(device).float()\n",
        "              optimizer.zero_grad()\n",
        "              loss = model.forward(voices, lens, nbr_voices)\n",
        "              print(\"sample {} / {}\".format(idx,len(train_dataloader)))           \n",
        "              print(\"loss:\",loss)\n",
        "              loss.backward()\n",
        "              optimizer.step()\n",
        "              loss_sum += loss.item()  \n",
        "\n",
        "        train_loss = loss_sum / len(train_dataloader)\n",
        "        print(\"Epoch: {}, Train Loss: {}\".format(i_epoch,train_loss)) \n",
        "\n",
        "        if scheduler is not None:\n",
        "            scheduler.step()\n",
        "        \n",
        "    torch.save({'model_state_dict': model.state_dict()}, Path(\"./AI-MA_project/model_temp_epoch{}.pkl\".format(i_epoch)))\n",
        "\n",
        "    return history"
      ],
      "metadata": {
        "id": "50qWCIMNk7ZL"
      },
      "execution_count": 42,
      "outputs": []
    },
    {
      "cell_type": "code",
      "source": [
        "def start_experiment( epochs, lr, hidden_dim, bs, momentum, rnn_depth, device, cell, decay,network_type, learn_all):\n",
        "    \n",
        "    trainer = partial(train,epochs, lr, hidden_dim, momentum, rnn_depth, device, cell, decay, network_type)\n",
        "\n",
        "    if learn_all == True:\n",
        "        print(\"Learning from full dataset\")\n",
        "        train_dataset = MusicDataset_polyphonic(PATH_TO_DATA) \n",
        "        train_dataloader = torch.utils.data.DataLoader(train_dataset,batch_size=batch_size, shuffle=False, num_workers=workers, drop_last=True)\n",
        "        _, history = trainer(train_dataloader)\n",
        "\n",
        "    \n",
        "    else:\n",
        "        # Divide train and validation set\n",
        "        dataset = MusicDataset_polyphonic(PATH_TO_DATA) \n",
        "        train_dataset, validation_dataset = sklearn.model_selection.train_test_split(dataset, test_size=0.15, random_state=10,)\n",
        "        train_dataloader = torch.utils.data.DataLoader(train_dataset,batch_size=batch_size, shuffle=False, num_workers=workers, drop_last=True)\n",
        "        val_dataloader = torch.utils.data.DataLoader(validation_dataset,batch_size=batch_size, shuffle=False, num_workers=workers, drop_last=True)\n",
        "\n",
        "        print(\"train_dataloader\",len(train_dataloader),\"val_dataloader\",len(val_dataloader))\n",
        "        _, history = trainer(train_dataloader, val_dataloader)\n",
        "\n",
        "    return history, val_dataloader"
      ],
      "metadata": {
        "id": "-NUWBUvqk_No"
      },
      "execution_count": 43,
      "outputs": []
    },
    {
      "cell_type": "markdown",
      "source": [
        "# Hyperparameter choice"
      ],
      "metadata": {
        "id": "-bFYYY_6l5hi"
      }
    },
    {
      "cell_type": "code",
      "source": [
        "model = MusicNetwork\n",
        "epochs = 1\n",
        "lr = 0.001 # was 0.001    #0.00001\n",
        "momentum = 0.9\n",
        "decay = 1e-4\n",
        "hidden_dim = 300\n",
        "bs = 1\n",
        "rnn_depth = 2 \n",
        "device = None                 #if None:  choses device automatically\n",
        "cell_type = \"GRU\"\n",
        "optimizer = \"Adam\"\n",
        "learn_all = \"False\"           # False -> uses train and valid set\n",
        "network_type= \"CNN\" # with clf head: \"CNN_CLF\"\n",
        "\n",
        "monophonic = True"
      ],
      "metadata": {
        "id": "qlFVa23Ql5yz"
      },
      "execution_count": 44,
      "outputs": []
    },
    {
      "cell_type": "markdown",
      "source": [
        "# Run the experiment"
      ],
      "metadata": {
        "id": "Bq16m1D9lXHz"
      }
    },
    {
      "cell_type": "code",
      "source": [
        "his, val_dataloader = start_experiment(epochs, lr, hidden_dim, bs, momentum, rnn_depth, device, cell_type, decay, network_type, learn_all)"
      ],
      "metadata": {
        "id": "kO3ZxWbzlBis",
        "outputId": "55e40b49-3316-47c1-f819-db3645483d5b",
        "colab": {
          "base_uri": "https://localhost:8080/"
        }
      },
      "execution_count": 45,
      "outputs": [
        {
          "output_type": "stream",
          "name": "stdout",
          "text": [
            "train_dataloader 260 val_dataloader 46\n",
            "Adjusting learning rate of group 0 to 1.0000e-04.\n",
            "Training on device: cpu\n",
            "loss_clf tensor(1.3876, grad_fn=<NllLossBackward0>)\n",
            "sample 0 / 260\n",
            "loss: tensor(2.7568, grad_fn=<AddBackward0>)\n",
            "loss_clf tensor(1.5730, grad_fn=<NllLossBackward0>)\n",
            "sample 1 / 260\n",
            "loss: tensor(2.9309, grad_fn=<AddBackward0>)\n",
            "loss_clf tensor(1.5118, grad_fn=<NllLossBackward0>)\n",
            "sample 2 / 260\n",
            "loss: tensor(2.8507, grad_fn=<AddBackward0>)\n",
            "loss_clf tensor(1.3419, grad_fn=<NllLossBackward0>)\n",
            "sample 3 / 260\n",
            "loss: tensor(2.6070, grad_fn=<AddBackward0>)\n",
            "loss_clf tensor(1.1361, grad_fn=<NllLossBackward0>)\n",
            "sample 4 / 260\n",
            "loss: tensor(2.3968, grad_fn=<AddBackward0>)\n",
            "loss_clf tensor(0.9757, grad_fn=<NllLossBackward0>)\n",
            "sample 5 / 260\n",
            "loss: tensor(2.2268, grad_fn=<AddBackward0>)\n",
            "loss_clf tensor(1.5663, grad_fn=<NllLossBackward0>)\n",
            "sample 6 / 260\n",
            "loss: tensor(2.9637, grad_fn=<AddBackward0>)\n",
            "loss_clf tensor(0.8350, grad_fn=<NllLossBackward0>)\n",
            "sample 7 / 260\n",
            "loss: tensor(2.0343, grad_fn=<AddBackward0>)\n",
            "loss_clf tensor(0.8048, grad_fn=<NllLossBackward0>)\n",
            "sample 8 / 260\n",
            "loss: tensor(2.0210, grad_fn=<AddBackward0>)\n",
            "loss_clf tensor(0.7838, grad_fn=<NllLossBackward0>)\n",
            "sample 9 / 260\n",
            "loss: tensor(1.9613, grad_fn=<AddBackward0>)\n",
            "loss_clf tensor(1.7072, grad_fn=<NllLossBackward0>)\n",
            "sample 10 / 260\n",
            "loss: tensor(3.0790, grad_fn=<AddBackward0>)\n",
            "loss_clf tensor(1.7199, grad_fn=<NllLossBackward0>)\n",
            "sample 11 / 260\n",
            "loss: tensor(3.0660, grad_fn=<AddBackward0>)\n",
            "loss_clf tensor(1.7235, grad_fn=<NllLossBackward0>)\n",
            "sample 12 / 260\n",
            "loss: tensor(3.1004, grad_fn=<AddBackward0>)\n",
            "loss_clf tensor(0.7521, grad_fn=<NllLossBackward0>)\n",
            "sample 13 / 260\n",
            "loss: tensor(1.8944, grad_fn=<AddBackward0>)\n",
            "loss_clf tensor(1.7318, grad_fn=<NllLossBackward0>)\n",
            "sample 14 / 260\n",
            "loss: tensor(3.0955, grad_fn=<AddBackward0>)\n",
            "loss_clf tensor(1.7337, grad_fn=<NllLossBackward0>)\n",
            "sample 15 / 260\n",
            "loss: tensor(3.0807, grad_fn=<AddBackward0>)\n",
            "loss_clf tensor(0.7481, grad_fn=<NllLossBackward0>)\n",
            "sample 16 / 260\n",
            "loss: tensor(1.8029, grad_fn=<AddBackward0>)\n",
            "loss_clf tensor(1.7362, grad_fn=<NllLossBackward0>)\n",
            "sample 17 / 260\n",
            "loss: tensor(3.0587, grad_fn=<AddBackward0>)\n",
            "loss_clf tensor(0.7476, grad_fn=<NllLossBackward0>)\n",
            "sample 18 / 260\n",
            "loss: tensor(1.8169, grad_fn=<AddBackward0>)\n",
            "loss_clf tensor(0.7471, grad_fn=<NllLossBackward0>)\n",
            "sample 19 / 260\n",
            "loss: tensor(1.7668, grad_fn=<AddBackward0>)\n",
            "loss_clf tensor(0.7472, grad_fn=<NllLossBackward0>)\n",
            "sample 20 / 260\n",
            "loss: tensor(1.7646, grad_fn=<AddBackward0>)\n",
            "loss_clf tensor(1.7381, grad_fn=<NllLossBackward0>)\n",
            "sample 21 / 260\n",
            "loss: tensor(3.1224, grad_fn=<AddBackward0>)\n",
            "loss_clf tensor(1.7390, grad_fn=<NllLossBackward0>)\n",
            "sample 22 / 260\n",
            "loss: tensor(3.1053, grad_fn=<AddBackward0>)\n",
            "loss_clf tensor(1.7395, grad_fn=<NllLossBackward0>)\n",
            "sample 23 / 260\n",
            "loss: tensor(3.0082, grad_fn=<AddBackward0>)\n",
            "loss_clf tensor(0.7458, grad_fn=<NllLossBackward0>)\n",
            "sample 24 / 260\n",
            "loss: tensor(1.8329, grad_fn=<AddBackward0>)\n",
            "loss_clf tensor(0.7465, grad_fn=<NllLossBackward0>)\n",
            "sample 25 / 260\n",
            "loss: tensor(1.7628, grad_fn=<AddBackward0>)\n",
            "loss_clf tensor(0.7457, grad_fn=<NllLossBackward0>)\n",
            "sample 26 / 260\n",
            "loss: tensor(1.6617, grad_fn=<AddBackward0>)\n",
            "loss_clf tensor(1.7399, grad_fn=<NllLossBackward0>)\n",
            "sample 27 / 260\n",
            "loss: tensor(3.1055, grad_fn=<AddBackward0>)\n",
            "loss_clf tensor(1.7397, grad_fn=<NllLossBackward0>)\n",
            "sample 28 / 260\n",
            "loss: tensor(3.0409, grad_fn=<AddBackward0>)\n",
            "loss_clf tensor(0.7457, grad_fn=<NllLossBackward0>)\n",
            "sample 29 / 260\n",
            "loss: tensor(1.7267, grad_fn=<AddBackward0>)\n",
            "loss_clf tensor(1.7399, grad_fn=<NllLossBackward0>)\n",
            "sample 30 / 260\n",
            "loss: tensor(3.0726, grad_fn=<AddBackward0>)\n",
            "loss_clf tensor(1.7394, grad_fn=<NllLossBackward0>)\n",
            "sample 31 / 260\n",
            "loss: tensor(3.0226, grad_fn=<AddBackward0>)\n",
            "loss_clf tensor(1.7397, grad_fn=<NllLossBackward0>)\n",
            "sample 32 / 260\n",
            "loss: tensor(3.0760, grad_fn=<AddBackward0>)\n",
            "loss_clf tensor(0.7471, grad_fn=<NllLossBackward0>)\n",
            "sample 33 / 260\n",
            "loss: tensor(1.6763, grad_fn=<AddBackward0>)\n",
            "loss_clf tensor(1.7396, grad_fn=<NllLossBackward0>)\n",
            "sample 34 / 260\n",
            "loss: tensor(2.9763, grad_fn=<AddBackward0>)\n",
            "loss_clf tensor(0.7464, grad_fn=<NllLossBackward0>)\n",
            "sample 35 / 260\n",
            "loss: tensor(1.5841, grad_fn=<AddBackward0>)\n",
            "loss_clf tensor(1.7390, grad_fn=<NllLossBackward0>)\n",
            "sample 36 / 260\n",
            "loss: tensor(3.0574, grad_fn=<AddBackward0>)\n",
            "loss_clf tensor(1.7385, grad_fn=<NllLossBackward0>)\n",
            "sample 37 / 260\n",
            "loss: tensor(2.9917, grad_fn=<AddBackward0>)\n",
            "loss_clf tensor(0.7464, grad_fn=<NllLossBackward0>)\n",
            "sample 38 / 260\n",
            "loss: tensor(1.8864, grad_fn=<AddBackward0>)\n",
            "loss_clf tensor(1.7384, grad_fn=<NllLossBackward0>)\n",
            "sample 39 / 260\n",
            "loss: tensor(2.9746, grad_fn=<AddBackward0>)\n",
            "loss_clf tensor(0.7466, grad_fn=<NllLossBackward0>)\n",
            "sample 40 / 260\n",
            "loss: tensor(1.6980, grad_fn=<AddBackward0>)\n",
            "loss_clf tensor(0.7466, grad_fn=<NllLossBackward0>)\n",
            "sample 41 / 260\n",
            "loss: tensor(1.7060, grad_fn=<AddBackward0>)\n",
            "loss_clf tensor(1.7376, grad_fn=<NllLossBackward0>)\n",
            "sample 42 / 260\n",
            "loss: tensor(3.0035, grad_fn=<AddBackward0>)\n",
            "loss_clf tensor(0.7471, grad_fn=<NllLossBackward0>)\n",
            "sample 43 / 260\n",
            "loss: tensor(1.6453, grad_fn=<AddBackward0>)\n",
            "loss_clf tensor(1.7370, grad_fn=<NllLossBackward0>)\n",
            "sample 44 / 260\n",
            "loss: tensor(3.0150, grad_fn=<AddBackward0>)\n",
            "loss_clf tensor(0.7472, grad_fn=<NllLossBackward0>)\n",
            "sample 45 / 260\n",
            "loss: tensor(1.6270, grad_fn=<AddBackward0>)\n",
            "loss_clf tensor(1.7366, grad_fn=<NllLossBackward0>)\n",
            "sample 46 / 260\n",
            "loss: tensor(3.0201, grad_fn=<AddBackward0>)\n",
            "loss_clf tensor(1.7362, grad_fn=<NllLossBackward0>)\n",
            "sample 47 / 260\n",
            "loss: tensor(3.0020, grad_fn=<AddBackward0>)\n",
            "loss_clf tensor(0.7478, grad_fn=<NllLossBackward0>)\n",
            "sample 48 / 260\n",
            "loss: tensor(1.6069, grad_fn=<AddBackward0>)\n",
            "loss_clf tensor(0.7492, grad_fn=<NllLossBackward0>)\n",
            "sample 49 / 260\n",
            "loss: tensor(1.7069, grad_fn=<AddBackward0>)\n",
            "loss_clf tensor(0.7484, grad_fn=<NllLossBackward0>)\n",
            "sample 50 / 260\n",
            "loss: tensor(1.5531, grad_fn=<AddBackward0>)\n",
            "loss_clf tensor(1.7345, grad_fn=<NllLossBackward0>)\n",
            "sample 51 / 260\n",
            "loss: tensor(2.9350, grad_fn=<AddBackward0>)\n",
            "loss_clf tensor(1.7338, grad_fn=<NllLossBackward0>)\n",
            "sample 52 / 260\n",
            "loss: tensor(3.0215, grad_fn=<AddBackward0>)\n",
            "loss_clf tensor(0.7495, grad_fn=<NllLossBackward0>)\n",
            "sample 53 / 260\n",
            "loss: tensor(1.6700, grad_fn=<AddBackward0>)\n",
            "loss_clf tensor(0.7495, grad_fn=<NllLossBackward0>)\n",
            "sample 54 / 260\n",
            "loss: tensor(1.6514, grad_fn=<AddBackward0>)\n",
            "loss_clf tensor(0.7505, grad_fn=<NllLossBackward0>)\n",
            "sample 55 / 260\n",
            "loss: tensor(1.6628, grad_fn=<AddBackward0>)\n",
            "loss_clf tensor(1.7325, grad_fn=<NllLossBackward0>)\n",
            "sample 56 / 260\n",
            "loss: tensor(3.0748, grad_fn=<AddBackward0>)\n",
            "loss_clf tensor(0.7508, grad_fn=<NllLossBackward0>)\n",
            "sample 57 / 260\n",
            "loss: tensor(1.6414, grad_fn=<AddBackward0>)\n",
            "loss_clf tensor(1.7329, grad_fn=<NllLossBackward0>)\n",
            "sample 58 / 260\n",
            "loss: tensor(3.1131, grad_fn=<AddBackward0>)\n",
            "loss_clf tensor(1.7310, grad_fn=<NllLossBackward0>)\n",
            "sample 59 / 260\n",
            "loss: tensor(3.0831, grad_fn=<AddBackward0>)\n",
            "loss_clf tensor(0.7512, grad_fn=<NllLossBackward0>)\n",
            "sample 60 / 260\n",
            "loss: tensor(1.6186, grad_fn=<AddBackward0>)\n",
            "loss_clf tensor(1.7269, grad_fn=<NllLossBackward0>)\n",
            "sample 61 / 260\n",
            "loss: tensor(3.0534, grad_fn=<AddBackward0>)\n",
            "loss_clf tensor(1.7258, grad_fn=<NllLossBackward0>)\n",
            "sample 62 / 260\n",
            "loss: tensor(3.0103, grad_fn=<AddBackward0>)\n",
            "loss_clf tensor(1.7233, grad_fn=<NllLossBackward0>)\n",
            "sample 63 / 260\n",
            "loss: tensor(3.0719, grad_fn=<AddBackward0>)\n",
            "loss_clf tensor(1.7176, grad_fn=<NllLossBackward0>)\n",
            "sample 64 / 260\n",
            "loss: tensor(3.0279, grad_fn=<AddBackward0>)\n",
            "loss_clf tensor(0.7603, grad_fn=<NllLossBackward0>)\n",
            "sample 65 / 260\n",
            "loss: tensor(1.7533, grad_fn=<AddBackward0>)\n",
            "loss_clf tensor(0.7649, grad_fn=<NllLossBackward0>)\n",
            "sample 66 / 260\n",
            "loss: tensor(1.7664, grad_fn=<AddBackward0>)\n",
            "loss_clf tensor(0.7655, grad_fn=<NllLossBackward0>)\n",
            "sample 67 / 260\n",
            "loss: tensor(1.7383, grad_fn=<AddBackward0>)\n",
            "loss_clf tensor(1.7010, grad_fn=<NllLossBackward0>)\n",
            "sample 68 / 260\n",
            "loss: tensor(2.9444, grad_fn=<AddBackward0>)\n",
            "loss_clf tensor(1.6940, grad_fn=<NllLossBackward0>)\n",
            "sample 69 / 260\n",
            "loss: tensor(3.0112, grad_fn=<AddBackward0>)\n",
            "loss_clf tensor(0.7816, grad_fn=<NllLossBackward0>)\n",
            "sample 70 / 260\n",
            "loss: tensor(1.6265, grad_fn=<AddBackward0>)\n",
            "loss_clf tensor(0.7820, grad_fn=<NllLossBackward0>)\n",
            "sample 71 / 260\n",
            "loss: tensor(1.6834, grad_fn=<AddBackward0>)\n",
            "loss_clf tensor(0.7868, grad_fn=<NllLossBackward0>)\n",
            "sample 72 / 260\n",
            "loss: tensor(1.6610, grad_fn=<AddBackward0>)\n",
            "loss_clf tensor(1.6833, grad_fn=<NllLossBackward0>)\n",
            "sample 73 / 260\n",
            "loss: tensor(3.1276, grad_fn=<AddBackward0>)\n",
            "loss_clf tensor(1.6750, grad_fn=<NllLossBackward0>)\n",
            "sample 74 / 260\n",
            "loss: tensor(3.0880, grad_fn=<AddBackward0>)\n",
            "loss_clf tensor(0.7872, grad_fn=<NllLossBackward0>)\n",
            "sample 75 / 260\n",
            "loss: tensor(1.9293, grad_fn=<AddBackward0>)\n",
            "loss_clf tensor(1.6561, grad_fn=<NllLossBackward0>)\n",
            "sample 76 / 260\n",
            "loss: tensor(3.1412, grad_fn=<AddBackward0>)\n",
            "loss_clf tensor(0.8095, grad_fn=<NllLossBackward0>)\n",
            "sample 77 / 260\n",
            "loss: tensor(1.6489, grad_fn=<AddBackward0>)\n",
            "loss_clf tensor(0.8051, grad_fn=<NllLossBackward0>)\n",
            "sample 78 / 260\n",
            "loss: tensor(1.6664, grad_fn=<AddBackward0>)\n",
            "loss_clf tensor(0.8071, grad_fn=<NllLossBackward0>)\n",
            "sample 79 / 260\n",
            "loss: tensor(1.7244, grad_fn=<AddBackward0>)\n",
            "loss_clf tensor(0.7984, grad_fn=<NllLossBackward0>)\n",
            "sample 80 / 260\n",
            "loss: tensor(1.5978, grad_fn=<AddBackward0>)\n",
            "loss_clf tensor(1.6595, grad_fn=<NllLossBackward0>)\n",
            "sample 81 / 260\n",
            "loss: tensor(3.0419, grad_fn=<AddBackward0>)\n",
            "loss_clf tensor(1.6663, grad_fn=<NllLossBackward0>)\n",
            "sample 82 / 260\n",
            "loss: tensor(3.0047, grad_fn=<AddBackward0>)\n",
            "loss_clf tensor(0.7936, grad_fn=<NllLossBackward0>)\n",
            "sample 83 / 260\n",
            "loss: tensor(1.7170, grad_fn=<AddBackward0>)\n",
            "loss_clf tensor(0.7917, grad_fn=<NllLossBackward0>)\n",
            "sample 84 / 260\n",
            "loss: tensor(1.8740, grad_fn=<AddBackward0>)\n",
            "loss_clf tensor(1.6671, grad_fn=<NllLossBackward0>)\n",
            "sample 85 / 260\n",
            "loss: tensor(3.0249, grad_fn=<AddBackward0>)\n",
            "loss_clf tensor(1.6592, grad_fn=<NllLossBackward0>)\n",
            "sample 86 / 260\n",
            "loss: tensor(2.9439, grad_fn=<AddBackward0>)\n",
            "loss_clf tensor(1.6483, grad_fn=<NllLossBackward0>)\n",
            "sample 87 / 260\n",
            "loss: tensor(2.9176, grad_fn=<AddBackward0>)\n",
            "loss_clf tensor(0.8133, grad_fn=<NllLossBackward0>)\n",
            "sample 88 / 260\n",
            "loss: tensor(1.6582, grad_fn=<AddBackward0>)\n",
            "loss_clf tensor(0.8188, grad_fn=<NllLossBackward0>)\n",
            "sample 89 / 260\n",
            "loss: tensor(1.7499, grad_fn=<AddBackward0>)\n",
            "loss_clf tensor(1.6057, grad_fn=<NllLossBackward0>)\n",
            "sample 90 / 260\n",
            "loss: tensor(2.9173, grad_fn=<AddBackward0>)\n",
            "loss_clf tensor(0.8489, grad_fn=<NllLossBackward0>)\n",
            "sample 91 / 260\n",
            "loss: tensor(1.7627, grad_fn=<AddBackward0>)\n",
            "loss_clf tensor(1.5640, grad_fn=<NllLossBackward0>)\n",
            "sample 92 / 260\n",
            "loss: tensor(2.8866, grad_fn=<AddBackward0>)\n",
            "loss_clf tensor(1.5352, grad_fn=<NllLossBackward0>)\n",
            "sample 93 / 260\n",
            "loss: tensor(2.9135, grad_fn=<AddBackward0>)\n",
            "loss_clf tensor(1.4865, grad_fn=<NllLossBackward0>)\n",
            "sample 94 / 260\n",
            "loss: tensor(2.8429, grad_fn=<AddBackward0>)\n",
            "loss_clf tensor(1.3961, grad_fn=<NllLossBackward0>)\n",
            "sample 95 / 260\n",
            "loss: tensor(2.7512, grad_fn=<AddBackward0>)\n",
            "loss_clf tensor(1.3081, grad_fn=<NllLossBackward0>)\n",
            "sample 96 / 260\n",
            "loss: tensor(2.6953, grad_fn=<AddBackward0>)\n",
            "loss_clf tensor(1.1629, grad_fn=<NllLossBackward0>)\n",
            "sample 97 / 260\n",
            "loss: tensor(1.9580, grad_fn=<AddBackward0>)\n",
            "loss_clf tensor(1.2189, grad_fn=<NllLossBackward0>)\n",
            "sample 98 / 260\n",
            "loss: tensor(2.0456, grad_fn=<AddBackward0>)\n",
            "loss_clf tensor(1.2358, grad_fn=<NllLossBackward0>)\n",
            "sample 99 / 260\n",
            "loss: tensor(2.1410, grad_fn=<AddBackward0>)\n",
            "loss_clf tensor(1.1240, grad_fn=<NllLossBackward0>)\n",
            "sample 100 / 260\n",
            "loss: tensor(2.4731, grad_fn=<AddBackward0>)\n",
            "loss_clf tensor(1.2399, grad_fn=<NllLossBackward0>)\n",
            "sample 101 / 260\n",
            "loss: tensor(2.1856, grad_fn=<AddBackward0>)\n",
            "loss_clf tensor(1.2337, grad_fn=<NllLossBackward0>)\n",
            "sample 102 / 260\n",
            "loss: tensor(2.1430, grad_fn=<AddBackward0>)\n",
            "loss_clf tensor(1.2126, grad_fn=<NllLossBackward0>)\n",
            "sample 103 / 260\n",
            "loss: tensor(2.1180, grad_fn=<AddBackward0>)\n",
            "loss_clf tensor(1.1785, grad_fn=<NllLossBackward0>)\n",
            "sample 104 / 260\n",
            "loss: tensor(2.4601, grad_fn=<AddBackward0>)\n",
            "loss_clf tensor(1.1718, grad_fn=<NllLossBackward0>)\n",
            "sample 105 / 260\n",
            "loss: tensor(2.0077, grad_fn=<AddBackward0>)\n",
            "loss_clf tensor(1.2114, grad_fn=<NllLossBackward0>)\n",
            "sample 106 / 260\n",
            "loss: tensor(2.4141, grad_fn=<AddBackward0>)\n",
            "loss_clf tensor(1.1446, grad_fn=<NllLossBackward0>)\n",
            "sample 107 / 260\n",
            "loss: tensor(1.9969, grad_fn=<AddBackward0>)\n",
            "loss_clf tensor(1.1291, grad_fn=<NllLossBackward0>)\n",
            "sample 108 / 260\n",
            "loss: tensor(2.0705, grad_fn=<AddBackward0>)\n",
            "loss_clf tensor(1.1028, grad_fn=<NllLossBackward0>)\n",
            "sample 109 / 260\n",
            "loss: tensor(1.9889, grad_fn=<AddBackward0>)\n",
            "loss_clf tensor(1.0714, grad_fn=<NllLossBackward0>)\n",
            "sample 110 / 260\n",
            "loss: tensor(1.9415, grad_fn=<AddBackward0>)\n",
            "loss_clf tensor(1.0336, grad_fn=<NllLossBackward0>)\n",
            "sample 111 / 260\n",
            "loss: tensor(1.8216, grad_fn=<AddBackward0>)\n",
            "loss_clf tensor(0.9813, grad_fn=<NllLossBackward0>)\n",
            "sample 112 / 260\n",
            "loss: tensor(1.8280, grad_fn=<AddBackward0>)\n",
            "loss_clf tensor(1.4552, grad_fn=<NllLossBackward0>)\n",
            "sample 113 / 260\n",
            "loss: tensor(2.7458, grad_fn=<AddBackward0>)\n",
            "loss_clf tensor(1.4885, grad_fn=<NllLossBackward0>)\n",
            "sample 114 / 260\n",
            "loss: tensor(2.8207, grad_fn=<AddBackward0>)\n",
            "loss_clf tensor(1.5006, grad_fn=<NllLossBackward0>)\n",
            "sample 115 / 260\n",
            "loss: tensor(2.8619, grad_fn=<AddBackward0>)\n",
            "loss_clf tensor(1.4984, grad_fn=<NllLossBackward0>)\n",
            "sample 116 / 260\n",
            "loss: tensor(2.7953, grad_fn=<AddBackward0>)\n",
            "loss_clf tensor(1.4856, grad_fn=<NllLossBackward0>)\n",
            "sample 117 / 260\n",
            "loss: tensor(2.8083, grad_fn=<AddBackward0>)\n",
            "loss_clf tensor(1.4582, grad_fn=<NllLossBackward0>)\n",
            "sample 118 / 260\n",
            "loss: tensor(2.8504, grad_fn=<AddBackward0>)\n",
            "loss_clf tensor(0.9523, grad_fn=<NllLossBackward0>)\n",
            "sample 119 / 260\n",
            "loss: tensor(1.8547, grad_fn=<AddBackward0>)\n",
            "Epoch: 1, Train Loss: 1.1050728027637189\n",
            "Adjusting learning rate of group 0 to 1.0000e-04.\n"
          ]
        }
      ]
    },
    {
      "cell_type": "markdown",
      "source": [
        "# Load trained model"
      ],
      "metadata": {
        "id": "UoqAYzPnnj1-"
      }
    },
    {
      "cell_type": "code",
      "source": [
        "dataset = MusicDataset_polyphonic(PATH_TO_DATA) \n",
        "train_dataset, validation_dataset = sklearn.model_selection.train_test_split(dataset, test_size=0.15, random_state=10,)\n",
        "#train_dataloader = torch.utils.data.DataLoader(train_dataset,batch_size=batch_size, shuffle=False, num_workers=workers, drop_last=True)\n",
        "val_dataloader = torch.utils.data.DataLoader(validation_dataset,batch_size=batch_size, shuffle=False, num_workers=workers, drop_last=True)"
      ],
      "metadata": {
        "id": "qTx4tg3mLisA"
      },
      "execution_count": 46,
      "outputs": []
    },
    {
      "cell_type": "code",
      "source": [
        "train_dataset = MusicDataset_polyphonic(PATH_TO_DATA) \n",
        "train_dataloader = torch.utils.data.DataLoader(train_dataset,batch_size=batch_size, shuffle=False, num_workers=workers, drop_last=True)\n",
        "\n",
        "val_dataloader"
      ],
      "metadata": {
        "id": "dSlYUsRUmALB",
        "outputId": "d2198e4a-369c-49ca-dc02-a113652cca12",
        "colab": {
          "base_uri": "https://localhost:8080/"
        }
      },
      "execution_count": 47,
      "outputs": [
        {
          "output_type": "execute_result",
          "data": {
            "text/plain": [
              "<torch.utils.data.dataloader.DataLoader at 0x7f99f1b83990>"
            ]
          },
          "metadata": {},
          "execution_count": 47
        }
      ]
    },
    {
      "cell_type": "code",
      "source": [
        "len(val_dataloader)"
      ],
      "metadata": {
        "id": "ZRtGR86j1DYB",
        "outputId": "60f0e427-7912-4bc6-f9ff-8e5d1823fd07",
        "colab": {
          "base_uri": "https://localhost:8080/"
        }
      },
      "execution_count": 48,
      "outputs": [
        {
          "output_type": "execute_result",
          "data": {
            "text/plain": [
              "46"
            ]
          },
          "metadata": {},
          "execution_count": 48
        }
      ]
    },
    {
      "cell_type": "code",
      "source": [
        "%%capture  \n",
        "output_dim = 88\n",
        "model = MusicNetwork(network_type, output_dim, hidden_dim, rnn_depth, cell_type)  \n",
        "checkpoint = torch.load(\"./AI-MA_project/model_temp_epoch1.pkl\")\n",
        "model.load_state_dict(checkpoint['model_state_dict'])\n",
        "model.eval()"
      ],
      "metadata": {
        "id": "yFBgUAmNntEo"
      },
      "execution_count": 49,
      "outputs": []
    },
    {
      "cell_type": "markdown",
      "source": [
        "# Create dic with key:filename, val: part_obj  "
      ],
      "metadata": {
        "id": "iIXfywU8n3f5"
      }
    },
    {
      "cell_type": "code",
      "source": [
        "#%%capture\n",
        "\n",
        "path_parts = \"AI-MA_project/polyphonic_new\"\n",
        "part_dic = {}\n",
        "\n",
        "#### create a list with all filenames in the right order ####\n",
        "file_names_part = []\n",
        "\n",
        "for filename in sorted(os.listdir(path_parts)):\n",
        "    if not filename.endswith('.mid'): continue\n",
        "    file_names_part.append(filename[9:12])\n",
        "print(file_names_part)"
      ],
      "metadata": {
        "id": "k29NpOgtn3np",
        "outputId": "6ea41325-da7d-4ea5-d319-569a1fea89e2",
        "colab": {
          "base_uri": "https://localhost:8080/"
        }
      },
      "execution_count": 50,
      "outputs": [
        {
          "output_type": "stream",
          "name": "stdout",
          "text": [
            "['000', '001', '002', '003', '004', '005', '006', '007', '008', '009', '010', '011', '012', '013', '014', '015', '016', '018', '019', '020', '021', '022', '023', '024', '025', '026', '027', '028', '029', '030', '031', '032', '033', '034', '035', '036', '037', '039', '040', '041', '042', '043', '044', '045', '046', '047', '048', '049', '050', '051', '052', '053', '054', '055', '056', '057', '058', '059', '060', '061', '062', '063', '064', '065', '066', '067', '068', '069', '070', '071', '072', '073', '074', '075', '076', '077', '078', '079', '080', '081', '082', '083', '084', '085', '087', '088', '089', '090', '091', '092', '093', '094', '095', '096', '097', '098', '099', '100', '101', '102', '103', '104', '105', '106', '107', '108', '109', '110', '111', '112', '113', '114', '115', '116', '117', '118', '119', '120', '121', '122', '123', '124', '125', '126', '127', '128', '129', '130', '131', '132', '133', '134', '135', '136', '137', '138', '139', '140', '141', '142', '143', '144', '145', '146', '147', '148', '149', '150', '151', '152', '153', '154', '155', '156', '157', '158', '159', '160', '161', '162', '163', '164', '165', '166', '167', '168', '169', '170', '171', '172', '173', '174', '175', '176', '177', '178', '179', '180', '181', '182', '183', '184', '185', '186', '187', '188', '189', '190', '191', '192', '193', '194', '195', '196', '197', '198', '199', '200', '201', '202', '203', '204', '205', '206', '207', '208', '209', '210', '211', '212', '213', '214', '215', '216', '217', '218', '219', '220', '221', '222', '223', '224', '225', '226', '227', '228', '229', '230', '231', '232', '233', '234', '235', '236', '237', '238', '239', '240', '241', '242', '243', '244', '245', '246', '247', '248', '249', '250', '251', '252', '253', '254', '255', '256', '257', '258', '259', '260', '261', '262', '263', '264', '265', '266', '267', '268', '269', '270', '271', '272', '273', '274', '275', '276', '277', '278', '279', '280', '281', '282', '283', '284', '285', '286', '287', '288', '289', '290', '291', '292', '293', '294', '295', '296', '297', '298', '299', '300', '301', '302', '303', '304', '305', '306', '307', '308', '309', '310', '311', '312', '313', '314', '315', '316', '317', '318', '319', '320', '321', '322', '323', '324', '325', '326', '327', '328', '329', '330', '331', '332', '333', '334', '335', '336', '337', '338', '339', '340', '341', '342']\n"
          ]
        }
      ]
    },
    {
      "cell_type": "markdown",
      "source": [
        "# Compute polyphonic accuracy"
      ],
      "metadata": {
        "id": "JO7EESFlO6rz"
      }
    },
    {
      "cell_type": "code",
      "source": [
        "def evaluate_accuracy_polyphonic_separate(model, train_dataloader, part_dic,print_predictions=False):\n",
        "\n",
        "    unitl_len_idx = max_len_load\n",
        "\n",
        "    path_parts = \"AI-MA_project/polyphonic_new\"\n",
        "    acc_score_dict = {'0': [], '1': [], '2': [], '3': [] }\n",
        "    acc_score_dict_two = {'0': [], '1': [] }\n",
        "    for idx, (voices, lens, nbr_voices, file_name) in enumerate(train_dataloader):\n",
        "        #print(\"nbr_voices:\",nbr_voices)\n",
        "        if idx not in [0, 3, 7, 8, 15, 21, 25, 32, 35] and idx >5:   \n",
        "            print(\"idx:\",idx)\n",
        "            if nbr_voices == 4:\n",
        "                file_name = file_name[0]\n",
        "                filename_part = os.path.join(path_parts, \"part_file\" + file_name + \".mid\")\n",
        "                part = partitura.load_score_midi(filename_part)\n",
        "\n",
        "                part_0 = part[0]\n",
        "                part_1 = part[1]\n",
        "                part_2 = part[2]\n",
        "                part_3 = part[3]\n",
        "                \n",
        "                note_array_0 = partitura.utils.note_array_from_part(part_0)\n",
        "                note_array_1 = partitura.utils.note_array_from_part(part_1)              \n",
        "                note_array_2 = partitura.utils.note_array_from_part(part_2)\n",
        "                note_array_3 = partitura.utils.note_array_from_part(part_3)\n",
        "\n",
        "                list_of_note_arrays = [note_array_0,note_array_1,note_array_2,note_array_3]\n",
        "                \n",
        "                ground_truth_label_list = [0,1,2,3]              \n",
        "                total_predictions_dict = {'0': [], '1': [], '2': [], '3': [] }\n",
        "                total_truth_dict = {'0': [], '1': [], '2': [], '3': [] }\n",
        "            \n",
        "                for el_note_arr, note_array in enumerate(list_of_note_arrays):\n",
        "                    onset_beat = note_array[\"onset_beat\"]\n",
        "                    duration_beat = note_array[\"duration_beat\"]\n",
        "                    pitch_list = note_array[\"pitch\"]\n",
        "                    pitch_list = pitch_list - 21             \n",
        "                    note_idx_start = 12 * onset_beat\n",
        "                    note_idx_end = 12 * (onset_beat+duration_beat)\n",
        "\n",
        "\n",
        "                    ### round every entry up to next integer for the starting idx ###\n",
        "                    note_idx_start = [int(np.ceil(num)) for num in note_idx_start]                      # do this fur whole np array np.ceil(note_idx_start)\n",
        "                    ### round every entry down to next integer for the ending idx###\n",
        "                    note_idx_end = [int(np.floor(num)) for num in note_idx_end]\n",
        "\n",
        "                               \n",
        "                    # do model prediction\n",
        "                    model.eval()\n",
        "                    voices = voices.to(device).float()\n",
        "                    monophonic=True\n",
        "                    with torch.no_grad():\n",
        "                        prediction, prediction_clf = model.predict(voices[:,:,:,-1], lens, monophonic)  \n",
        "                        label = ground_truth_label_list[el_note_arr]\n",
        "                        print(\"prediction number of voices:\",prediction_clf+1)\n",
        "                    for i in range(len(note_idx_start)):\n",
        "\n",
        "                        start_first = note_idx_start[i]\n",
        "                        end_first =  note_idx_end[i]   \n",
        "\n",
        "                        if end_first <= unitl_len_idx:\n",
        "                          pitch_first = pitch_list[i]\n",
        "                          pred_list_first = prediction[start_first:end_first,pitch_first]\n",
        "                          truth_list = [label for i in range(len(pred_list_first))]\n",
        "              \n",
        "                          result = all(elem == pred_list_first[0] for elem in pred_list_first)\n",
        "                          # do majority vote if not all predictions are for same voice\n",
        "                          if result == False:\n",
        "                              major, major_idx = torch.mode(pred_list_first,0)\n",
        "                              major = major.numpy().tolist()\n",
        "                              pred_list_first = [major for i in pred_list_first]\n",
        "\n",
        "                        total_predictions_dict[str(label)].append(pred_list_first)\n",
        "                        total_truth_dict[str(label)].append(truth_list)\n",
        "\n",
        "                        if len(pred_list_first)==0:\n",
        "                          print(\"ATTENTION:\", len(pred_list_first),str(label) )\n",
        "                          print(\"index:\", idx)\n",
        "                          print(\"------------------------------------------------------------------------\")\n",
        "\n",
        "                if print_predictions == True:\n",
        "                    #################### print pr ####################\n",
        "                    fig_size_1 = (10, 5)\n",
        "\n",
        "                    prediction_0 = np.where(prediction ==0, 1, 0)\n",
        "                    prediction_1 = np.where(prediction ==1, 1, 0)\n",
        "                    prediction_2 = np.where(prediction ==2, 1, 0)\n",
        "                    prediction_3 = np.where(prediction ==3, 1, 0)\n",
        "\n",
        "                    ####### print predicte pr #######                  \n",
        "                    colors_0 = 'black red'.split()\n",
        "                    colors_1 = 'none green'.split()  \n",
        "                    colors_2 = 'none blue'.split() \n",
        "                    colors_3 = 'none orange'.split()                \n",
        "                    cmap_0 = matplotlib.colors.ListedColormap(colors_0, name='colors', N=None)        \n",
        "                    cmap_1 = matplotlib.colors.ListedColormap(colors_1, name='colors', N=None)\n",
        "                    cmap_2 = matplotlib.colors.ListedColormap(colors_2, name='colors', N=None)\n",
        "                    cmap_3 = matplotlib.colors.ListedColormap(colors_3, name='colors', N=None)\n",
        "\n",
        "                    fig, ax = plt.subplots(1, figsize=fig_size_1)\n",
        "\n",
        "                    ax.imshow(prediction_0.T, origin=\"lower\", cmap=cmap_0, interpolation='nearest', aspect='auto') \n",
        "                    ax.imshow(prediction_1.T, origin=\"lower\", cmap=cmap_1, interpolation='nearest', aspect='auto')   \n",
        "                    ax.imshow(prediction_2.T, origin=\"lower\", cmap=cmap_2, interpolation='nearest', aspect='auto')\n",
        "                    ax.imshow(prediction_3.T, origin=\"lower\", cmap=cmap_3, interpolation='nearest', aspect='auto')\n",
        "\n",
        "                    ax.set_title(\"PREDICTED: red-v0, green-v1, blue-v2, orange-v3\")                \n",
        "                    ax.set_xlabel(f'Time ({\"beat\"}s/{12})')\n",
        "                    ax.set_ylabel('Piano key')\n",
        "                    plt.show()\n",
        "\n",
        "                    ####### print original pr #######\n",
        "                    onset_beat = partitura.utils.ensure_notearray(part)['onset_beat'][-1]\n",
        "                    duration_beat = partitura.utils.ensure_notearray(part)['duration_beat'][-1]\n",
        "                    beat_all = onset_beat + duration_beat\n",
        "                    pr_zero = partitura.utils.compute_pianoroll(part_0, time_unit = \"beat\",time_div = 12,piano_range=True,remove_silence=False,end_time=beat_all)\n",
        "                    pr_zero = pr_zero.toarray()\n",
        "                    pr_one = partitura.utils.compute_pianoroll(part_1, time_unit = \"beat\",time_div = 12,piano_range=True,remove_silence=False,end_time=beat_all)\n",
        "                    pr_one = pr_one.toarray()\n",
        "                    pr_two = partitura.utils.compute_pianoroll(part_2, time_unit = \"beat\",time_div = 12,piano_range=True,remove_silence=False,end_time=beat_all)\n",
        "                    pr_two = pr_two.toarray()\n",
        "                    pr_three = partitura.utils.compute_pianoroll(part_3, time_unit = \"beat\",time_div = 12,piano_range=True,remove_silence=False,end_time=beat_all)\n",
        "                    pr_three = pr_three.toarray()\n",
        "\n",
        "                    fig, ax = plt.subplots(1, figsize=fig_size_1)\n",
        "                    ax.imshow(pr_zero[:,:unitl_len_idx], origin=\"lower\", cmap=cmap_0, interpolation='nearest', aspect='auto')\n",
        "                    ax.imshow(pr_one[:,:unitl_len_idx], origin=\"lower\", cmap=cmap_1, interpolation='nearest', aspect='auto')\n",
        "                    ax.imshow(pr_two[:,:unitl_len_idx], origin=\"lower\", cmap=cmap_2, interpolation='nearest', aspect='auto')\n",
        "                    ax.imshow(pr_three[:,:unitl_len_idx], origin=\"lower\", cmap=cmap_3, interpolation='nearest', aspect='auto')\n",
        "                    \n",
        "                    \n",
        "                        \n",
        "                    ax.set_title(\"ORIGINAL: red-v0, green-v1 ,blue-v2, orange-v3\")                \n",
        "                    ax.set_xlabel(f'Time ({\"beat\"}s/{12})')\n",
        "                    ax.set_ylabel('Piano key' )\n",
        "                    plt.show()\n",
        "\n",
        "                    count_dict_2 = {'0': [], '1': [], '2': [], '3': [] }\n",
        "\n",
        "                    for gt, i in enumerate(total_predictions_dict.keys()):\n",
        "                      counting = 0\n",
        "                      for j in range(len(total_predictions_dict[i])):\n",
        "                          if total_predictions_dict[i][j][0] == gt:         \n",
        "                            counting +=1\n",
        "                      count_dict_2[i].append(counting)\n",
        "\n",
        "\n",
        "                acc_0 = count_dict_2[\"0\"][0]/len(total_predictions_dict[\"0\"])\n",
        "                acc_1 = count_dict_2[\"1\"][0]/len(total_predictions_dict[\"1\"])\n",
        "                acc_2 = count_dict_2[\"2\"][0]/len(total_predictions_dict[\"2\"])\n",
        "                acc_3 = count_dict_2[\"3\"][0]/len(total_predictions_dict[\"3\"])\n",
        "                \n",
        "                print(\"acc 0, sample {}:\".format(idx),acc_0)\n",
        "                print(\"acc 1, sample {}:\".format(idx),acc_1)\n",
        "                print(\"acc 2, sample {}:\".format(idx),acc_2)\n",
        "                print(\"acc 3, sample {}:\".format(idx),acc_3)\n",
        "\n",
        "                acc_score_dict[\"0\"].append(acc_0)\n",
        "                acc_score_dict[\"1\"].append(acc_1)\n",
        "                acc_score_dict[\"2\"].append(acc_2)\n",
        "                acc_score_dict[\"3\"].append(acc_3)\n",
        "\n",
        "\n",
        "\n",
        "            if nbr_voices == 2:\n",
        "                file_name = file_name[0]\n",
        "                filename_part = os.path.join(path_parts, \"part_file\" + file_name + \".mid\")\n",
        "                part = partitura.load_score_midi(filename_part)\n",
        "\n",
        "                part_0 = part[0]\n",
        "                part_1 = part[1]\n",
        "                \n",
        "                note_array_0 = partitura.utils.note_array_from_part(part_0)\n",
        "                note_array_1 = partitura.utils.note_array_from_part(part_1)\n",
        "                \n",
        "                list_of_note_arrays_2 = [note_array_0,note_array_1]\n",
        "\n",
        "                \n",
        "                ground_truth_label_list_2 = [0,1]              \n",
        "                total_predictions_dict_2 = {'0': [], '1': [] }\n",
        "                total_truth_dict_2 = {'0': [], '1': [] }\n",
        "            \n",
        "\n",
        "                for el_note_arr, note_array in enumerate(list_of_note_arrays_2):\n",
        "                    onset_beat = note_array[\"onset_beat\"]\n",
        "                    duration_beat = note_array[\"duration_beat\"]\n",
        "                    pitch_list = note_array[\"pitch\"]\n",
        "                    pitch_list = pitch_list - 21             \n",
        "                    note_idx_start = 12 * onset_beat\n",
        "                    note_idx_end = 12 * (onset_beat+duration_beat)\n",
        "\n",
        "\n",
        "                    ### round every entry up to next integer for the starting idx ###\n",
        "                    note_idx_start = [int(np.ceil(num)) for num in note_idx_start]                      # do this fur whole np array np.ceil(note_idx_start)\n",
        "                    ### round every entry down to next integer for the ending idx###\n",
        "                    note_idx_end = [int(np.floor(num)) for num in note_idx_end]\n",
        "\n",
        "                               \n",
        "                    # do model prediction\n",
        "                    model.eval()\n",
        "                    voices = voices.to(device).float()\n",
        "                    monophonic=True\n",
        "                    with torch.no_grad():\n",
        "                        prediction, prediction_clf = model.predict(voices[:,:,:,-1], lens, monophonic)   \n",
        "                        label = ground_truth_label_list_2[el_note_arr]\n",
        "                        print(\"prediction number of voices:\",prediction_clf+1)\n",
        "\n",
        "\n",
        "                    for i in range(len(note_idx_start)):\n",
        "                        start_first = note_idx_start[i]\n",
        "                        end_first =  note_idx_end[i]   \n",
        "\n",
        "                        if end_first <= unitl_len_idx:\n",
        "                          pitch_first = pitch_list[i]\n",
        "                          pred_list_first = prediction[start_first:end_first,pitch_first]\n",
        "                          truth_list = [label for i in range(len(pred_list_first))]\n",
        "              \n",
        "                          result = all(elem == pred_list_first[0] for elem in pred_list_first)\n",
        "                          # do majority vote if not all predictions are for same voice\n",
        "                          if result == False:\n",
        "                              major, major_idx = torch.mode(pred_list_first,0)\n",
        "                              major = major.numpy().tolist()\n",
        "                              pred_list_first = [major for i in pred_list_first]\n",
        "\n",
        "                        total_predictions_dict_2[str(label)].append(pred_list_first)\n",
        "                        total_truth_dict_2[str(label)].append(truth_list)\n",
        "\n",
        "                        if len(pred_list_first)==0:\n",
        "                          print(\"ATTENTION:\", len(pred_list_first),str(label) )\n",
        "                          print(\"index:\", idx)\n",
        "                          print(\"------------------------------------------------------------------------\")\n",
        "\n",
        "                if print_predictions == True:\n",
        "                    #################### print pr ####################\n",
        "                    fig_size_1 = (10, 5)\n",
        "                    prediction_0 = np.where(prediction ==0, 1, 0)\n",
        "                    prediction_1 = np.where(prediction ==1, 1, 0)\n",
        "                    prediction_2 = np.where(prediction ==2, 1, 0)\n",
        "                    prediction_3 = np.where(prediction ==3, 1, 0)\n",
        "\n",
        "                    ####### print predicte pr #######                  \n",
        "                    colors_0 = 'black red'.split()\n",
        "                    colors_1 = 'none green'.split()  \n",
        "                    colors_2 = 'none blue'.split() \n",
        "                    colors_3 = 'none orange'.split()                \n",
        "                    cmap_0 = matplotlib.colors.ListedColormap(colors_0, name='colors', N=None)        \n",
        "                    cmap_1 = matplotlib.colors.ListedColormap(colors_1, name='colors', N=None)\n",
        "                    cmap_2 = matplotlib.colors.ListedColormap(colors_2, name='colors', N=None)\n",
        "                    cmap_3 = matplotlib.colors.ListedColormap(colors_3, name='colors', N=None)\n",
        "\n",
        "                    fig, ax = plt.subplots(1, figsize=fig_size_1)\n",
        "\n",
        "                    ax.imshow(prediction_0.T, origin=\"lower\", cmap=cmap_0, interpolation='nearest', aspect='auto') \n",
        "                    ax.imshow(prediction_1.T, origin=\"lower\", cmap=cmap_1, interpolation='nearest', aspect='auto')   \n",
        "                    ax.imshow(prediction_2.T, origin=\"lower\", cmap=cmap_2, interpolation='nearest', aspect='auto')\n",
        "                    ax.imshow(prediction_3.T, origin=\"lower\", cmap=cmap_3, interpolation='nearest', aspect='auto')\n",
        "                    ax.set_title(\"PREDICTED: 2 piece red-v0, green-v1, blue-v2, orange-v3\")                \n",
        "                    ax.set_xlabel(f'Time ({\"beat\"}s/{12})')\n",
        "                    ax.set_ylabel('Piano key')\n",
        "                    plt.show()\n",
        "\n",
        "\n",
        "                    ####### print original pr #######\n",
        "                    onset_beat = partitura.utils.ensure_notearray(part)['onset_beat'][-1]\n",
        "                    duration_beat = partitura.utils.ensure_notearray(part)['duration_beat'][-1]\n",
        "                    beat_all = onset_beat + duration_beat\n",
        "                    pr_zero = partitura.utils.compute_pianoroll(part_0, time_unit = \"beat\",time_div = 12,piano_range=True,remove_silence=False,end_time=beat_all)\n",
        "                    pr_zero = pr_zero.toarray()\n",
        "                    pr_one = partitura.utils.compute_pianoroll(part_1, time_unit = \"beat\",time_div = 12,piano_range=True,remove_silence=False,end_time=beat_all)\n",
        "                    pr_one = pr_one.toarray()\n",
        "\n",
        "                    fig, ax = plt.subplots(1, figsize=fig_size_1)\n",
        "                    ax.imshow(pr_zero[:,:unitl_len_idx], origin=\"lower\", cmap=cmap_0, interpolation='nearest', aspect='auto')\n",
        "                    ax.imshow(pr_one[:,:unitl_len_idx], origin=\"lower\", cmap=cmap_1, interpolation='nearest', aspect='auto') \n",
        "                    ax.set_title(\"ORIGINAL: 2 piece red-v0, green-v1\")                \n",
        "                    ax.set_xlabel(f'Time ({\"beat\"}s/{12})')\n",
        "                    ax.set_ylabel('Piano key')\n",
        "                    plt.show()\n",
        "\n",
        "\n",
        "                ########## COMPARE HERE EACH PREDICTION ALWAYS WITH ALL VOICES !!!   ##########\n",
        "                count_dict_22 = {'0': [], '1': [] }\n",
        "                intermed_dict = {'0': [], '1': [], '2': [], '3': [] }\n",
        "\n",
        "                for gt, i in enumerate(total_predictions_dict_2.keys()):\n",
        "                  intermed_dict = {'0': [], '1': [], '2': [], '3': [] } \n",
        "                  for j in range(len(total_predictions_dict_2[i])):\n",
        "                    for idx_tr, tr in enumerate([0,1,2,3]):\n",
        "                      if total_predictions_dict_2[i][j][0] == tr:\n",
        "                        intermed_dict[list(intermed_dict.keys())[idx_tr]].append(1)\n",
        "                  sum_0 = np.array([intermed_dict[\"0\"]]).sum()\n",
        "                  sum_1 = np.array([intermed_dict[\"1\"]]).sum()\n",
        "                  sum_2 = np.array([intermed_dict[\"2\"]]).sum()\n",
        "                  sum_3 = np.array([intermed_dict[\"3\"]]).sum()\n",
        "                  count_dict_22[list(count_dict_22.keys())[gt]] = intermed_dict\n",
        "\n",
        "\n",
        "                hit_list_0 = [np.array([count_dict_22[\"0\"][\"0\"]]).sum(),np.array([count_dict_22[\"0\"][\"1\"]]).sum(),np.array([count_dict_22[\"0\"][\"2\"]]).sum(),np.array([count_dict_22[\"0\"][\"3\"]]).sum() ]\n",
        "                hit_list_1 = [np.array([count_dict_22[\"1\"][\"0\"]]).sum(),np.array([count_dict_22[\"1\"][\"1\"]]).sum(),np.array([count_dict_22[\"1\"][\"2\"]]).sum(),np.array([count_dict_22[\"1\"][\"3\"]]).sum() ]  \n",
        "                max_0 = np.max(hit_list_0)\n",
        "                max_idx_0 = np.argmax(hit_list_0)\n",
        "                max_1 = np.max(hit_list_1)\n",
        "                max_idx_1 = np.argmax(hit_list_1)\n",
        "\n",
        "                if max_0 >= max_1:\n",
        "                    acc_0_2 = max_0/len(total_predictions_dict_2[\"0\"])\n",
        "                    print(\"maximal overlap voice 0 and :\",max_idx_0)\n",
        "                    if max_idx_0 == max_idx_1:\n",
        "                        acc_1_2 = np.argsort(hit_list_1)[-2]/len(total_predictions_dict_2[\"1\"])\n",
        "                        print(\"maximal overlap voice 1 and :\",np.argsort(hit_list_1)[-2])\n",
        "                    else:\n",
        "                        acc_1_2 = max_1/len(total_predictions_dict_2[\"1\"])\n",
        "                        print(\"maximal overlap voice 1 and :\",max_idx_1)\n",
        "                    \n",
        "                if max_1 > max_0:\n",
        "                    if max_idx_0 == max_idx_1:\n",
        "                        acc_0_2 = np.argsort(hit_list_0)[-2]/len(total_predictions_dict_2[\"0\"])\n",
        "                        print(\"maximal overlap voice 0 and :\",np.argsort(hit_list_0)[-2])\n",
        "                    else:\n",
        "                        acc_0_2 = max_0/len(total_predictions_dict_2[\"0\"])\n",
        "                        print(\"maximal overlap voice 0 and :\",max_idx_0)\n",
        "                    \n",
        "                    acc_1_2 = max_1/len(total_predictions_dict_2[\"1\"])\n",
        "                    print(\"maximal overlap voice 1 and :\",max_idx_1)\n",
        "\n",
        "                #acc_0_2 = count_dict_22[\"0\"][0]/len(total_predictions_dict_2[\"0\"])\n",
        "                #acc_1_2 = count_dict_22[\"1\"][0]/len(total_predictions_dict_2[\"1\"])\n",
        "\n",
        "                print(\"acc_0_2, sample {}:\".format(idx),acc_0_2)\n",
        "                print(\"acc_1_2, sample {}:\".format(idx),acc_1_2)\n",
        "\n",
        "                acc_score_dict_two[\"0\"].append(acc_0_2)\n",
        "                acc_score_dict_two[\"1\"].append(acc_1_2)\n",
        "\n",
        "\n",
        "    return total_predictions_dict, total_truth_dict, statistics.mean(acc_score_dict_two[\"0\"]), statistics.mean(acc_score_dict_two[\"1\"]), statistics.mean(acc_score_dict[\"0\"]), statistics.mean(acc_score_dict[\"1\"]), statistics.mean(acc_score_dict[\"2\"]),statistics.mean(acc_score_dict[\"3\"])"
      ],
      "metadata": {
        "id": "WqSAyLg6-3HF"
      },
      "execution_count": 55,
      "outputs": []
    },
    {
      "cell_type": "code",
      "source": [
        "dict_pred , dict_gt, acc_0_2, acc_1_2, acc_0 , acc_1, acc_2, acc_3 = evaluate_accuracy_polyphonic_separate(model,val_dataloader,part_dic=file_names_part,print_predictions=True)\n",
        "\n",
        "print(\"acc_0_2:\",acc_0_2)\n",
        "print(\"acc_1_2:\",acc_1_2)\n",
        "print(\"acc_0:\",acc_0)\n",
        "print(\"acc_1:\",acc_1)\n",
        "print(\"acc_2:\",acc_2)\n",
        "print(\"acc_3:\",acc_3)"
      ],
      "metadata": {
        "id": "Ku1I666FYFQk",
        "outputId": "704375d6-ff8a-4dd7-eac2-e9e4c14ecc05",
        "colab": {
          "base_uri": "https://localhost:8080/",
          "height": 1000
        }
      },
      "execution_count": 56,
      "outputs": [
        {
          "output_type": "stream",
          "name": "stdout",
          "text": [
            "idx: 6\n"
          ]
        },
        {
          "output_type": "stream",
          "name": "stderr",
          "text": [
            "/usr/local/lib/python3.7/dist-packages/partitura/io/importmidi.py:360: UserWarning: ignoring MIDI message note_off channel=0 note=67 velocity=83 time=0\n",
            "  warnings.warn(\"ignoring MIDI message %s\" % msg)\n",
            "/usr/local/lib/python3.7/dist-packages/partitura/io/importmidi.py:360: UserWarning: ignoring MIDI message note_off channel=0 note=96 velocity=64 time=28\n",
            "  warnings.warn(\"ignoring MIDI message %s\" % msg)\n",
            "/usr/local/lib/python3.7/dist-packages/partitura/io/importmidi.py:360: UserWarning: ignoring MIDI message note_on channel=0 note=0 velocity=0 time=119\n",
            "  warnings.warn(\"ignoring MIDI message %s\" % msg)\n",
            "/usr/local/lib/python3.7/dist-packages/partitura/io/importmidi.py:419: UserWarning: pitch spelling\n",
            "  warnings.warn(\"pitch spelling\")\n",
            "/usr/local/lib/python3.7/dist-packages/ipykernel_launcher.py:168: UserWarning: voice estimation\n",
            "/usr/local/lib/python3.7/dist-packages/partitura/io/importmidi.py:489: UserWarning: create_part\n",
            "  part_name=part_names.get(part_nr, None),\n",
            "/usr/local/lib/python3.7/dist-packages/partitura/io/importmidi.py:489: UserWarning: add notes\n",
            "  part_name=part_names.get(part_nr, None),\n",
            "/usr/local/lib/python3.7/dist-packages/partitura/io/importmidi.py:489: UserWarning: add time sigs and measures\n",
            "  part_name=part_names.get(part_nr, None),\n",
            "/usr/local/lib/python3.7/dist-packages/partitura/io/importmidi.py:489: UserWarning: tie notes\n",
            "  part_name=part_names.get(part_nr, None),\n",
            "/usr/local/lib/python3.7/dist-packages/partitura/io/importmidi.py:489: UserWarning: find tuplets\n",
            "  part_name=part_names.get(part_nr, None),\n",
            "/usr/local/lib/python3.7/dist-packages/partitura/io/importmidi.py:489: UserWarning: done create_part\n",
            "  part_name=part_names.get(part_nr, None),\n"
          ]
        },
        {
          "output_type": "stream",
          "name": "stdout",
          "text": [
            "prediction number of voices: tensor(2)\n",
            "prediction number of voices: tensor(2)\n"
          ]
        },
        {
          "output_type": "display_data",
          "data": {
            "text/plain": [
              "<Figure size 720x360 with 1 Axes>"
            ],
            "image/png": "[encoded data removed]"
          },
          "metadata": {
            "needs_background": "light"
          }
        },
        {
          "output_type": "display_data",
          "data": {
            "text/plain": [
              "<Figure size 720x360 with 1 Axes>"
            ],
            "image/png": "[encoded data removed]"
          },
          "metadata": {
            "needs_background": "light"
          }
        },
        {
          "output_type": "stream",
          "name": "stdout",
          "text": [
            "max_0 336.0 [336, 56, 0.0, 0.0]\n",
            "max_1 371.0 [12, 371, 0.0, 0.0]\n",
            "maximal overlap voice 0 and : 0\n",
            "maximal overlap voice 1 and : 1\n",
            "acc_0_2, sample 6: 0.8527918781725888\n",
            "acc_1_2, sample 6: 0.9636363636363636\n",
            "idx: 9\n"
          ]
        },
        {
          "output_type": "stream",
          "name": "stderr",
          "text": [
            "/usr/local/lib/python3.7/dist-packages/partitura/io/importmidi.py:360: UserWarning: ignoring MIDI message note_off channel=0 note=69 velocity=64 time=0\n",
            "  warnings.warn(\"ignoring MIDI message %s\" % msg)\n",
            "/usr/local/lib/python3.7/dist-packages/partitura/io/importmidi.py:360: UserWarning: ignoring MIDI message note_off channel=0 note=66 velocity=64 time=0\n",
            "  warnings.warn(\"ignoring MIDI message %s\" % msg)\n",
            "/usr/local/lib/python3.7/dist-packages/partitura/io/importmidi.py:360: UserWarning: ignoring MIDI message note_on channel=0 note=0 velocity=0 time=359\n",
            "  warnings.warn(\"ignoring MIDI message %s\" % msg)\n",
            "/usr/local/lib/python3.7/dist-packages/ipykernel_launcher.py:15: UserWarning: voice estimation\n",
            "  from ipykernel import kernelapp as app\n"
          ]
        },
        {
          "output_type": "stream",
          "name": "stdout",
          "text": [
            "prediction number of voices: tensor(2)\n",
            "prediction number of voices: tensor(2)\n",
            "prediction number of voices: tensor(2)\n",
            "prediction number of voices: tensor(2)\n"
          ]
        },
        {
          "output_type": "display_data",
          "data": {
            "text/plain": [
              "<Figure size 720x360 with 1 Axes>"
            ],
            "image/png": "[encoded data removed]"
          },
          "metadata": {
            "needs_background": "light"
          }
        },
        {
          "output_type": "display_data",
          "data": {
            "text/plain": [
              "<Figure size 720x360 with 1 Axes>"
            ],
            "image/png": "[encoded data removed]"
          },
          "metadata": {
            "needs_background": "light"
          }
        },
        {
          "output_type": "stream",
          "name": "stdout",
          "text": [
            "acc 0, sample 9: 0.9822888283378747\n",
            "acc 1, sample 9: 0.14805825242718446\n",
            "acc 2, sample 9: 0.0\n",
            "acc 3, sample 9: 0.0\n",
            "idx: 10\n"
          ]
        },
        {
          "output_type": "stream",
          "name": "stderr",
          "text": [
            "/usr/local/lib/python3.7/dist-packages/partitura/io/importmidi.py:360: UserWarning: ignoring MIDI message note_off channel=0 note=60 velocity=64 time=48\n",
            "  warnings.warn(\"ignoring MIDI message %s\" % msg)\n",
            "/usr/local/lib/python3.7/dist-packages/partitura/io/importmidi.py:360: UserWarning: ignoring MIDI message note_off channel=0 note=65 velocity=64 time=48\n",
            "  warnings.warn(\"ignoring MIDI message %s\" % msg)\n",
            "/usr/local/lib/python3.7/dist-packages/partitura/io/importmidi.py:360: UserWarning: ignoring MIDI message note_off channel=0 note=73 velocity=64 time=228\n",
            "  warnings.warn(\"ignoring MIDI message %s\" % msg)\n",
            "/usr/local/lib/python3.7/dist-packages/partitura/io/importmidi.py:360: UserWarning: ignoring MIDI message note_off channel=0 note=77 velocity=64 time=228\n",
            "  warnings.warn(\"ignoring MIDI message %s\" % msg)\n",
            "/usr/local/lib/python3.7/dist-packages/partitura/io/importmidi.py:360: UserWarning: ignoring MIDI message note_off channel=0 note=79 velocity=64 time=228\n",
            "  warnings.warn(\"ignoring MIDI message %s\" % msg)\n",
            "/usr/local/lib/python3.7/dist-packages/partitura/io/importmidi.py:360: UserWarning: ignoring MIDI message note_off channel=0 note=70 velocity=64 time=228\n",
            "  warnings.warn(\"ignoring MIDI message %s\" % msg)\n",
            "/usr/local/lib/python3.7/dist-packages/partitura/io/importmidi.py:360: UserWarning: ignoring MIDI message note_off channel=0 note=79 velocity=64 time=48\n",
            "  warnings.warn(\"ignoring MIDI message %s\" % msg)\n",
            "/usr/local/lib/python3.7/dist-packages/partitura/io/importmidi.py:360: UserWarning: ignoring MIDI message note_off channel=0 note=84 velocity=64 time=48\n",
            "  warnings.warn(\"ignoring MIDI message %s\" % msg)\n",
            "/usr/local/lib/python3.7/dist-packages/partitura/io/importmidi.py:360: UserWarning: ignoring MIDI message note_off channel=0 note=86 velocity=64 time=48\n",
            "  warnings.warn(\"ignoring MIDI message %s\" % msg)\n",
            "/usr/local/lib/python3.7/dist-packages/partitura/io/importmidi.py:360: UserWarning: ignoring MIDI message note_off channel=0 note=74 velocity=64 time=228\n",
            "  warnings.warn(\"ignoring MIDI message %s\" % msg)\n",
            "/usr/local/lib/python3.7/dist-packages/partitura/io/importmidi.py:360: UserWarning: ignoring MIDI message note_off channel=0 note=76 velocity=64 time=228\n",
            "  warnings.warn(\"ignoring MIDI message %s\" % msg)\n",
            "/usr/local/lib/python3.7/dist-packages/partitura/io/importmidi.py:360: UserWarning: ignoring MIDI message note_off channel=0 note=73 velocity=64 time=48\n",
            "  warnings.warn(\"ignoring MIDI message %s\" % msg)\n",
            "/usr/local/lib/python3.7/dist-packages/partitura/io/importmidi.py:360: UserWarning: ignoring MIDI message note_off channel=1 note=65 velocity=64 time=228\n",
            "  warnings.warn(\"ignoring MIDI message %s\" % msg)\n",
            "/usr/local/lib/python3.7/dist-packages/partitura/io/importmidi.py:360: UserWarning: ignoring MIDI message note_off channel=1 note=67 velocity=64 time=228\n",
            "  warnings.warn(\"ignoring MIDI message %s\" % msg)\n",
            "/usr/local/lib/python3.7/dist-packages/partitura/io/importmidi.py:360: UserWarning: ignoring MIDI message note_off channel=1 note=56 velocity=64 time=228\n",
            "  warnings.warn(\"ignoring MIDI message %s\" % msg)\n",
            "/usr/local/lib/python3.7/dist-packages/partitura/io/importmidi.py:360: UserWarning: ignoring MIDI message note_off channel=1 note=63 velocity=64 time=228\n",
            "  warnings.warn(\"ignoring MIDI message %s\" % msg)\n",
            "/usr/local/lib/python3.7/dist-packages/partitura/io/importmidi.py:360: UserWarning: ignoring MIDI message note_off channel=1 note=74 velocity=64 time=228\n",
            "  warnings.warn(\"ignoring MIDI message %s\" % msg)\n",
            "/usr/local/lib/python3.7/dist-packages/partitura/io/importmidi.py:360: UserWarning: ignoring MIDI message note_off channel=1 note=76 velocity=64 time=228\n",
            "  warnings.warn(\"ignoring MIDI message %s\" % msg)\n",
            "/usr/local/lib/python3.7/dist-packages/partitura/io/importmidi.py:360: UserWarning: ignoring MIDI message note_off channel=2 note=65 velocity=64 time=228\n",
            "  warnings.warn(\"ignoring MIDI message %s\" % msg)\n",
            "/usr/local/lib/python3.7/dist-packages/partitura/io/importmidi.py:360: UserWarning: ignoring MIDI message note_off channel=2 note=67 velocity=64 time=228\n",
            "  warnings.warn(\"ignoring MIDI message %s\" % msg)\n",
            "/usr/local/lib/python3.7/dist-packages/partitura/io/importmidi.py:360: UserWarning: ignoring MIDI message note_off channel=2 note=48 velocity=64 time=0\n",
            "  warnings.warn(\"ignoring MIDI message %s\" % msg)\n",
            "/usr/local/lib/python3.7/dist-packages/partitura/io/importmidi.py:360: UserWarning: ignoring MIDI message note_off channel=2 note=62 velocity=64 time=228\n",
            "  warnings.warn(\"ignoring MIDI message %s\" % msg)\n",
            "/usr/local/lib/python3.7/dist-packages/partitura/io/importmidi.py:360: UserWarning: ignoring MIDI message note_off channel=2 note=60 velocity=64 time=228\n",
            "  warnings.warn(\"ignoring MIDI message %s\" % msg)\n",
            "/usr/local/lib/python3.7/dist-packages/partitura/io/importmidi.py:360: UserWarning: ignoring MIDI message note_off channel=4 note=67 velocity=64 time=228\n",
            "  warnings.warn(\"ignoring MIDI message %s\" % msg)\n"
          ]
        },
        {
          "output_type": "stream",
          "name": "stdout",
          "text": [
            "prediction number of voices: tensor(2)\n",
            "prediction number of voices: tensor(2)\n",
            "prediction number of voices: tensor(2)\n",
            "prediction number of voices: tensor(2)\n"
          ]
        },
        {
          "output_type": "display_data",
          "data": {
            "text/plain": [
              "<Figure size 720x360 with 1 Axes>"
            ],
            "image/png": "[encoded data removed]"
          },
          "metadata": {
            "needs_background": "light"
          }
        },
        {
          "output_type": "display_data",
          "data": {
            "text/plain": [
              "<Figure size 720x360 with 1 Axes>"
            ],
            "image/png": "[encoded data removed]"
          },
          "metadata": {
            "needs_background": "light"
          }
        },
        {
          "output_type": "stream",
          "name": "stdout",
          "text": [
            "acc 0, sample 10: 0.9925775978407557\n",
            "acc 1, sample 10: 0.9443708609271523\n",
            "acc 2, sample 10: 0.0\n",
            "acc 3, sample 10: 0.0\n",
            "idx: 11\n"
          ]
        },
        {
          "output_type": "stream",
          "name": "stderr",
          "text": [
            "/usr/local/lib/python3.7/dist-packages/partitura/io/importmidi.py:360: UserWarning: ignoring MIDI message note_on channel=0 note=0 velocity=0 time=479\n",
            "  warnings.warn(\"ignoring MIDI message %s\" % msg)\n"
          ]
        },
        {
          "output_type": "error",
          "ename": "KeyboardInterrupt",
          "evalue": "ignored",
          "traceback": [
            "\u001b[0;31m---------------------------------------------------------------------------\u001b[0m",
            "\u001b[0;31mKeyboardInterrupt\u001b[0m                         Traceback (most recent call last)",
            "\u001b[0;32m<ipython-input-56-8aa7cc93601e>\u001b[0m in \u001b[0;36m<module>\u001b[0;34m()\u001b[0m\n\u001b[0;32m----> 1\u001b[0;31m \u001b[0mdict_pred\u001b[0m \u001b[0;34m,\u001b[0m \u001b[0mdict_gt\u001b[0m\u001b[0;34m,\u001b[0m \u001b[0macc_0_2\u001b[0m\u001b[0;34m,\u001b[0m \u001b[0macc_1_2\u001b[0m\u001b[0;34m,\u001b[0m \u001b[0macc_0\u001b[0m \u001b[0;34m,\u001b[0m \u001b[0macc_1\u001b[0m\u001b[0;34m,\u001b[0m \u001b[0macc_2\u001b[0m\u001b[0;34m,\u001b[0m \u001b[0macc_3\u001b[0m \u001b[0;34m=\u001b[0m \u001b[0mevaluate_accuracy_polyphonic_separate\u001b[0m\u001b[0;34m(\u001b[0m\u001b[0mmodel\u001b[0m\u001b[0;34m,\u001b[0m\u001b[0mval_dataloader\u001b[0m\u001b[0;34m,\u001b[0m\u001b[0mpart_dic\u001b[0m\u001b[0;34m=\u001b[0m\u001b[0mfile_names_part\u001b[0m\u001b[0;34m,\u001b[0m\u001b[0mprint_predictions\u001b[0m\u001b[0;34m=\u001b[0m\u001b[0;32mTrue\u001b[0m\u001b[0;34m)\u001b[0m\u001b[0;34m\u001b[0m\u001b[0;34m\u001b[0m\u001b[0m\n\u001b[0m\u001b[1;32m      2\u001b[0m \u001b[0;34m\u001b[0m\u001b[0m\n\u001b[1;32m      3\u001b[0m \u001b[0mprint\u001b[0m\u001b[0;34m(\u001b[0m\u001b[0;34m\"acc_0_2:\"\u001b[0m\u001b[0;34m,\u001b[0m\u001b[0macc_0_2\u001b[0m\u001b[0;34m)\u001b[0m\u001b[0;34m\u001b[0m\u001b[0;34m\u001b[0m\u001b[0m\n\u001b[1;32m      4\u001b[0m \u001b[0mprint\u001b[0m\u001b[0;34m(\u001b[0m\u001b[0;34m\"acc_1_2:\"\u001b[0m\u001b[0;34m,\u001b[0m\u001b[0macc_1_2\u001b[0m\u001b[0;34m)\u001b[0m\u001b[0;34m\u001b[0m\u001b[0;34m\u001b[0m\u001b[0m\n\u001b[1;32m      5\u001b[0m \u001b[0mprint\u001b[0m\u001b[0;34m(\u001b[0m\u001b[0;34m\"acc_0:\"\u001b[0m\u001b[0;34m,\u001b[0m\u001b[0macc_0\u001b[0m\u001b[0;34m)\u001b[0m\u001b[0;34m\u001b[0m\u001b[0;34m\u001b[0m\u001b[0m\n",
            "\u001b[0;32m<ipython-input-55-59cb3c5ad9f0>\u001b[0m in \u001b[0;36mevaluate_accuracy_polyphonic_separate\u001b[0;34m(model, train_dataloader, part_dic, print_predictions)\u001b[0m\n\u001b[1;32m     51\u001b[0m                     \u001b[0mmonophonic\u001b[0m\u001b[0;34m=\u001b[0m\u001b[0;32mTrue\u001b[0m\u001b[0;34m\u001b[0m\u001b[0;34m\u001b[0m\u001b[0m\n\u001b[1;32m     52\u001b[0m                     \u001b[0;32mwith\u001b[0m \u001b[0mtorch\u001b[0m\u001b[0;34m.\u001b[0m\u001b[0mno_grad\u001b[0m\u001b[0;34m(\u001b[0m\u001b[0;34m)\u001b[0m\u001b[0;34m:\u001b[0m\u001b[0;34m\u001b[0m\u001b[0;34m\u001b[0m\u001b[0m\n\u001b[0;32m---> 53\u001b[0;31m                         \u001b[0mprediction\u001b[0m\u001b[0;34m,\u001b[0m \u001b[0mprediction_clf\u001b[0m \u001b[0;34m=\u001b[0m \u001b[0mmodel\u001b[0m\u001b[0;34m.\u001b[0m\u001b[0mpredict\u001b[0m\u001b[0;34m(\u001b[0m\u001b[0mvoices\u001b[0m\u001b[0;34m[\u001b[0m\u001b[0;34m:\u001b[0m\u001b[0;34m,\u001b[0m\u001b[0;34m:\u001b[0m\u001b[0;34m,\u001b[0m\u001b[0;34m:\u001b[0m\u001b[0;34m,\u001b[0m\u001b[0;34m-\u001b[0m\u001b[0;36m1\u001b[0m\u001b[0;34m]\u001b[0m\u001b[0;34m,\u001b[0m \u001b[0mlens\u001b[0m\u001b[0;34m,\u001b[0m \u001b[0mmonophonic\u001b[0m\u001b[0;34m)\u001b[0m\u001b[0;34m\u001b[0m\u001b[0;34m\u001b[0m\u001b[0m\n\u001b[0m\u001b[1;32m     54\u001b[0m                         \u001b[0mlabel\u001b[0m \u001b[0;34m=\u001b[0m \u001b[0mground_truth_label_list\u001b[0m\u001b[0;34m[\u001b[0m\u001b[0mel_note_arr\u001b[0m\u001b[0;34m]\u001b[0m\u001b[0;34m\u001b[0m\u001b[0;34m\u001b[0m\u001b[0m\n\u001b[1;32m     55\u001b[0m                         \u001b[0mprint\u001b[0m\u001b[0;34m(\u001b[0m\u001b[0;34m\"prediction number of voices:\"\u001b[0m\u001b[0;34m,\u001b[0m\u001b[0mprediction_clf\u001b[0m\u001b[0;34m+\u001b[0m\u001b[0;36m1\u001b[0m\u001b[0;34m)\u001b[0m\u001b[0;34m\u001b[0m\u001b[0;34m\u001b[0m\u001b[0m\n",
            "\u001b[0;32m<ipython-input-27-907559ed6a20>\u001b[0m in \u001b[0;36mpredict\u001b[0;34m(self, sentences, sentences_len, monophonic)\u001b[0m\n\u001b[1;32m    106\u001b[0m \u001b[0;34m\u001b[0m\u001b[0m\n\u001b[1;32m    107\u001b[0m     \u001b[0;32mdef\u001b[0m \u001b[0mpredict\u001b[0m\u001b[0;34m(\u001b[0m\u001b[0mself\u001b[0m\u001b[0;34m,\u001b[0m \u001b[0msentences\u001b[0m\u001b[0;34m,\u001b[0m \u001b[0msentences_len\u001b[0m\u001b[0;34m,\u001b[0m\u001b[0mmonophonic\u001b[0m\u001b[0;34m=\u001b[0m\u001b[0;32mTrue\u001b[0m\u001b[0;34m)\u001b[0m\u001b[0;34m:\u001b[0m\u001b[0;34m\u001b[0m\u001b[0;34m\u001b[0m\u001b[0m\n\u001b[0;32m--> 108\u001b[0;31m         \u001b[0mscores_comb\u001b[0m\u001b[0;34m,\u001b[0m \u001b[0mout_clf_head\u001b[0m \u001b[0;34m=\u001b[0m \u001b[0mself\u001b[0m\u001b[0;34m.\u001b[0m\u001b[0mcompute_outputs\u001b[0m\u001b[0;34m(\u001b[0m\u001b[0msentences\u001b[0m\u001b[0;34m,\u001b[0m \u001b[0msentences_len\u001b[0m\u001b[0;34m)\u001b[0m\u001b[0;34m\u001b[0m\u001b[0;34m\u001b[0m\u001b[0m\n\u001b[0m\u001b[1;32m    109\u001b[0m         \u001b[0msum_tensor\u001b[0m \u001b[0;34m=\u001b[0m \u001b[0mscores_comb\u001b[0m \u001b[0;34m*\u001b[0m \u001b[0msentences\u001b[0m\u001b[0;34m[\u001b[0m\u001b[0;34m:\u001b[0m\u001b[0;34m,\u001b[0m\u001b[0;32mNone\u001b[0m\u001b[0;34m,\u001b[0m\u001b[0;34m:\u001b[0m\u001b[0;34m,\u001b[0m\u001b[0;34m:\u001b[0m\u001b[0;34m]\u001b[0m\u001b[0;34m\u001b[0m\u001b[0;34m\u001b[0m\u001b[0m\n\u001b[1;32m    110\u001b[0m         \u001b[0mprediction\u001b[0m \u001b[0;34m=\u001b[0m \u001b[0mnp\u001b[0m\u001b[0;34m.\u001b[0m\u001b[0msqueeze\u001b[0m\u001b[0;34m(\u001b[0m\u001b[0msum_tensor\u001b[0m\u001b[0;34m.\u001b[0m\u001b[0mcpu\u001b[0m\u001b[0;34m(\u001b[0m\u001b[0;34m)\u001b[0m\u001b[0;34m.\u001b[0m\u001b[0mnumpy\u001b[0m\u001b[0;34m(\u001b[0m\u001b[0;34m)\u001b[0m\u001b[0;34m)\u001b[0m                \u001b[0;31m# prediction is of shape 4,T,88 and contains a probability for the result to belong to one of the 4 voices -> taking argmax: gives the voice with the highes probability\u001b[0m\u001b[0;34m\u001b[0m\u001b[0;34m\u001b[0m\u001b[0m\n",
            "\u001b[0;32m<ipython-input-27-907559ed6a20>\u001b[0m in \u001b[0;36mcompute_outputs\u001b[0;34m(self, sentences, sentences_len)\u001b[0m\n\u001b[1;32m     35\u001b[0m         \u001b[0;32melse\u001b[0m\u001b[0;34m:\u001b[0m\u001b[0;34m\u001b[0m\u001b[0;34m\u001b[0m\u001b[0m\n\u001b[1;32m     36\u001b[0m           \u001b[0msentences\u001b[0m \u001b[0;34m=\u001b[0m \u001b[0msentences\u001b[0m\u001b[0;34m[\u001b[0m\u001b[0;34m:\u001b[0m\u001b[0;34m,\u001b[0m\u001b[0;32mNone\u001b[0m\u001b[0;34m]\u001b[0m\u001b[0;34m\u001b[0m\u001b[0;34m\u001b[0m\u001b[0m\n\u001b[0;32m---> 37\u001b[0;31m           \u001b[0mout\u001b[0m\u001b[0;34m,\u001b[0m \u001b[0mdown_state\u001b[0m \u001b[0;34m=\u001b[0m \u001b[0mself\u001b[0m\u001b[0;34m.\u001b[0m\u001b[0mcnn\u001b[0m\u001b[0;34m(\u001b[0m\u001b[0msentences\u001b[0m\u001b[0;34m)\u001b[0m\u001b[0;34m\u001b[0m\u001b[0;34m\u001b[0m\u001b[0m\n\u001b[0m\u001b[1;32m     38\u001b[0m \u001b[0;34m\u001b[0m\u001b[0m\n\u001b[1;32m     39\u001b[0m           \u001b[0mself\u001b[0m\u001b[0;34m.\u001b[0m\u001b[0mdown_state\u001b[0m \u001b[0;34m=\u001b[0m \u001b[0mdown_state\u001b[0m\u001b[0;34m\u001b[0m\u001b[0;34m\u001b[0m\u001b[0m\n",
            "\u001b[0;32m/usr/local/lib/python3.7/dist-packages/torch/nn/modules/module.py\u001b[0m in \u001b[0;36m_call_impl\u001b[0;34m(self, *input, **kwargs)\u001b[0m\n\u001b[1;32m   1108\u001b[0m         if not (self._backward_hooks or self._forward_hooks or self._forward_pre_hooks or _global_backward_hooks\n\u001b[1;32m   1109\u001b[0m                 or _global_forward_hooks or _global_forward_pre_hooks):\n\u001b[0;32m-> 1110\u001b[0;31m             \u001b[0;32mreturn\u001b[0m \u001b[0mforward_call\u001b[0m\u001b[0;34m(\u001b[0m\u001b[0;34m*\u001b[0m\u001b[0minput\u001b[0m\u001b[0;34m,\u001b[0m \u001b[0;34m**\u001b[0m\u001b[0mkwargs\u001b[0m\u001b[0;34m)\u001b[0m\u001b[0;34m\u001b[0m\u001b[0;34m\u001b[0m\u001b[0m\n\u001b[0m\u001b[1;32m   1111\u001b[0m         \u001b[0;31m# Do not call functions when jit is used\u001b[0m\u001b[0;34m\u001b[0m\u001b[0;34m\u001b[0m\u001b[0;34m\u001b[0m\u001b[0m\n\u001b[1;32m   1112\u001b[0m         \u001b[0mfull_backward_hooks\u001b[0m\u001b[0;34m,\u001b[0m \u001b[0mnon_full_backward_hooks\u001b[0m \u001b[0;34m=\u001b[0m \u001b[0;34m[\u001b[0m\u001b[0;34m]\u001b[0m\u001b[0;34m,\u001b[0m \u001b[0;34m[\u001b[0m\u001b[0;34m]\u001b[0m\u001b[0;34m\u001b[0m\u001b[0;34m\u001b[0m\u001b[0m\n",
            "\u001b[0;32m<ipython-input-26-88ccce604c53>\u001b[0m in \u001b[0;36mforward\u001b[0;34m(self, x)\u001b[0m\n\u001b[1;32m     46\u001b[0m \u001b[0;34m\u001b[0m\u001b[0m\n\u001b[1;32m     47\u001b[0m             \u001b[0mconcatenated\u001b[0m \u001b[0;34m=\u001b[0m \u001b[0mtorch\u001b[0m\u001b[0;34m.\u001b[0m\u001b[0mcat\u001b[0m\u001b[0;34m(\u001b[0m\u001b[0;34m(\u001b[0m\u001b[0mconcat_layer\u001b[0m\u001b[0;34m,\u001b[0m \u001b[0mx\u001b[0m\u001b[0;34m)\u001b[0m\u001b[0;34m,\u001b[0m \u001b[0mdim\u001b[0m\u001b[0;34m=\u001b[0m\u001b[0;36m1\u001b[0m\u001b[0;34m)\u001b[0m\u001b[0;34m\u001b[0m\u001b[0;34m\u001b[0m\u001b[0m\n\u001b[0;32m---> 48\u001b[0;31m             \u001b[0mx\u001b[0m \u001b[0;34m=\u001b[0m \u001b[0mdouble_conv_up\u001b[0m\u001b[0;34m(\u001b[0m\u001b[0mconcatenated\u001b[0m\u001b[0;34m)\u001b[0m\u001b[0;34m\u001b[0m\u001b[0;34m\u001b[0m\u001b[0m\n\u001b[0m\u001b[1;32m     49\u001b[0m \u001b[0;34m\u001b[0m\u001b[0m\n\u001b[1;32m     50\u001b[0m         \u001b[0mx\u001b[0m \u001b[0;34m=\u001b[0m \u001b[0mself\u001b[0m\u001b[0;34m.\u001b[0m\u001b[0mfinal_conv\u001b[0m\u001b[0;34m(\u001b[0m\u001b[0mx\u001b[0m\u001b[0;34m)\u001b[0m\u001b[0;34m\u001b[0m\u001b[0;34m\u001b[0m\u001b[0m\n",
            "\u001b[0;32m/usr/local/lib/python3.7/dist-packages/torch/nn/modules/module.py\u001b[0m in \u001b[0;36m_call_impl\u001b[0;34m(self, *input, **kwargs)\u001b[0m\n\u001b[1;32m   1108\u001b[0m         if not (self._backward_hooks or self._forward_hooks or self._forward_pre_hooks or _global_backward_hooks\n\u001b[1;32m   1109\u001b[0m                 or _global_forward_hooks or _global_forward_pre_hooks):\n\u001b[0;32m-> 1110\u001b[0;31m             \u001b[0;32mreturn\u001b[0m \u001b[0mforward_call\u001b[0m\u001b[0;34m(\u001b[0m\u001b[0;34m*\u001b[0m\u001b[0minput\u001b[0m\u001b[0;34m,\u001b[0m \u001b[0;34m**\u001b[0m\u001b[0mkwargs\u001b[0m\u001b[0;34m)\u001b[0m\u001b[0;34m\u001b[0m\u001b[0;34m\u001b[0m\u001b[0m\n\u001b[0m\u001b[1;32m   1111\u001b[0m         \u001b[0;31m# Do not call functions when jit is used\u001b[0m\u001b[0;34m\u001b[0m\u001b[0;34m\u001b[0m\u001b[0;34m\u001b[0m\u001b[0m\n\u001b[1;32m   1112\u001b[0m         \u001b[0mfull_backward_hooks\u001b[0m\u001b[0;34m,\u001b[0m \u001b[0mnon_full_backward_hooks\u001b[0m \u001b[0;34m=\u001b[0m \u001b[0;34m[\u001b[0m\u001b[0;34m]\u001b[0m\u001b[0;34m,\u001b[0m \u001b[0;34m[\u001b[0m\u001b[0;34m]\u001b[0m\u001b[0;34m\u001b[0m\u001b[0;34m\u001b[0m\u001b[0m\n",
            "\u001b[0;32m/usr/local/lib/python3.7/dist-packages/torch/nn/modules/container.py\u001b[0m in \u001b[0;36mforward\u001b[0;34m(self, input)\u001b[0m\n\u001b[1;32m    139\u001b[0m     \u001b[0;32mdef\u001b[0m \u001b[0mforward\u001b[0m\u001b[0;34m(\u001b[0m\u001b[0mself\u001b[0m\u001b[0;34m,\u001b[0m \u001b[0minput\u001b[0m\u001b[0;34m)\u001b[0m\u001b[0;34m:\u001b[0m\u001b[0;34m\u001b[0m\u001b[0;34m\u001b[0m\u001b[0m\n\u001b[1;32m    140\u001b[0m         \u001b[0;32mfor\u001b[0m \u001b[0mmodule\u001b[0m \u001b[0;32min\u001b[0m \u001b[0mself\u001b[0m\u001b[0;34m:\u001b[0m\u001b[0;34m\u001b[0m\u001b[0;34m\u001b[0m\u001b[0m\n\u001b[0;32m--> 141\u001b[0;31m             \u001b[0minput\u001b[0m \u001b[0;34m=\u001b[0m \u001b[0mmodule\u001b[0m\u001b[0;34m(\u001b[0m\u001b[0minput\u001b[0m\u001b[0;34m)\u001b[0m\u001b[0;34m\u001b[0m\u001b[0;34m\u001b[0m\u001b[0m\n\u001b[0m\u001b[1;32m    142\u001b[0m         \u001b[0;32mreturn\u001b[0m \u001b[0minput\u001b[0m\u001b[0;34m\u001b[0m\u001b[0;34m\u001b[0m\u001b[0m\n\u001b[1;32m    143\u001b[0m \u001b[0;34m\u001b[0m\u001b[0m\n",
            "\u001b[0;32m/usr/local/lib/python3.7/dist-packages/torch/nn/modules/module.py\u001b[0m in \u001b[0;36m_call_impl\u001b[0;34m(self, *input, **kwargs)\u001b[0m\n\u001b[1;32m   1108\u001b[0m         if not (self._backward_hooks or self._forward_hooks or self._forward_pre_hooks or _global_backward_hooks\n\u001b[1;32m   1109\u001b[0m                 or _global_forward_hooks or _global_forward_pre_hooks):\n\u001b[0;32m-> 1110\u001b[0;31m             \u001b[0;32mreturn\u001b[0m \u001b[0mforward_call\u001b[0m\u001b[0;34m(\u001b[0m\u001b[0;34m*\u001b[0m\u001b[0minput\u001b[0m\u001b[0;34m,\u001b[0m \u001b[0;34m**\u001b[0m\u001b[0mkwargs\u001b[0m\u001b[0;34m)\u001b[0m\u001b[0;34m\u001b[0m\u001b[0;34m\u001b[0m\u001b[0m\n\u001b[0m\u001b[1;32m   1111\u001b[0m         \u001b[0;31m# Do not call functions when jit is used\u001b[0m\u001b[0;34m\u001b[0m\u001b[0;34m\u001b[0m\u001b[0;34m\u001b[0m\u001b[0m\n\u001b[1;32m   1112\u001b[0m         \u001b[0mfull_backward_hooks\u001b[0m\u001b[0;34m,\u001b[0m \u001b[0mnon_full_backward_hooks\u001b[0m \u001b[0;34m=\u001b[0m \u001b[0;34m[\u001b[0m\u001b[0;34m]\u001b[0m\u001b[0;34m,\u001b[0m \u001b[0;34m[\u001b[0m\u001b[0;34m]\u001b[0m\u001b[0;34m\u001b[0m\u001b[0;34m\u001b[0m\u001b[0m\n",
            "\u001b[0;32m/usr/local/lib/python3.7/dist-packages/torch/nn/modules/conv.py\u001b[0m in \u001b[0;36mforward\u001b[0;34m(self, input)\u001b[0m\n\u001b[1;32m    445\u001b[0m \u001b[0;34m\u001b[0m\u001b[0m\n\u001b[1;32m    446\u001b[0m     \u001b[0;32mdef\u001b[0m \u001b[0mforward\u001b[0m\u001b[0;34m(\u001b[0m\u001b[0mself\u001b[0m\u001b[0;34m,\u001b[0m \u001b[0minput\u001b[0m\u001b[0;34m:\u001b[0m \u001b[0mTensor\u001b[0m\u001b[0;34m)\u001b[0m \u001b[0;34m->\u001b[0m \u001b[0mTensor\u001b[0m\u001b[0;34m:\u001b[0m\u001b[0;34m\u001b[0m\u001b[0;34m\u001b[0m\u001b[0m\n\u001b[0;32m--> 447\u001b[0;31m         \u001b[0;32mreturn\u001b[0m \u001b[0mself\u001b[0m\u001b[0;34m.\u001b[0m\u001b[0m_conv_forward\u001b[0m\u001b[0;34m(\u001b[0m\u001b[0minput\u001b[0m\u001b[0;34m,\u001b[0m \u001b[0mself\u001b[0m\u001b[0;34m.\u001b[0m\u001b[0mweight\u001b[0m\u001b[0;34m,\u001b[0m \u001b[0mself\u001b[0m\u001b[0;34m.\u001b[0m\u001b[0mbias\u001b[0m\u001b[0;34m)\u001b[0m\u001b[0;34m\u001b[0m\u001b[0;34m\u001b[0m\u001b[0m\n\u001b[0m\u001b[1;32m    448\u001b[0m \u001b[0;34m\u001b[0m\u001b[0m\n\u001b[1;32m    449\u001b[0m \u001b[0;32mclass\u001b[0m \u001b[0mConv3d\u001b[0m\u001b[0;34m(\u001b[0m\u001b[0m_ConvNd\u001b[0m\u001b[0;34m)\u001b[0m\u001b[0;34m:\u001b[0m\u001b[0;34m\u001b[0m\u001b[0;34m\u001b[0m\u001b[0m\n",
            "\u001b[0;32m/usr/local/lib/python3.7/dist-packages/torch/nn/modules/conv.py\u001b[0m in \u001b[0;36m_conv_forward\u001b[0;34m(self, input, weight, bias)\u001b[0m\n\u001b[1;32m    442\u001b[0m                             _pair(0), self.dilation, self.groups)\n\u001b[1;32m    443\u001b[0m         return F.conv2d(input, weight, bias, self.stride,\n\u001b[0;32m--> 444\u001b[0;31m                         self.padding, self.dilation, self.groups)\n\u001b[0m\u001b[1;32m    445\u001b[0m \u001b[0;34m\u001b[0m\u001b[0m\n\u001b[1;32m    446\u001b[0m     \u001b[0;32mdef\u001b[0m \u001b[0mforward\u001b[0m\u001b[0;34m(\u001b[0m\u001b[0mself\u001b[0m\u001b[0;34m,\u001b[0m \u001b[0minput\u001b[0m\u001b[0;34m:\u001b[0m \u001b[0mTensor\u001b[0m\u001b[0;34m)\u001b[0m \u001b[0;34m->\u001b[0m \u001b[0mTensor\u001b[0m\u001b[0;34m:\u001b[0m\u001b[0;34m\u001b[0m\u001b[0;34m\u001b[0m\u001b[0m\n",
            "\u001b[0;31mKeyboardInterrupt\u001b[0m: "
          ]
        }
      ]
    },
    {
      "cell_type": "markdown",
      "source": [
        "# Accuracy mixed all voices (old)"
      ],
      "metadata": {
        "id": "u2frgy_KLUDm"
      }
    },
    {
      "cell_type": "code",
      "source": [
        "def evaluate_accuracy_polyphonic(model, train_dataloader, part_dic):\n",
        "\n",
        "    unitl_len_idx = max_len_load\n",
        "    path_parts = \"AI-MA_project/polyphonic_new\"\n",
        "    acc_score_dict = {'0': [], '1': [], '2': [], '3': [] }\n",
        "    for idx, (voices, lens, nbr_voices, file_name) in enumerate(train_dataloader):\n",
        "                                      \n",
        "                #print(\"nbr_voices:\",nbr_voices)\n",
        "        if idx >30 and idx not in [0, 7, 21, 32, 35]: \n",
        "            #if nbr_voices == 2:\n",
        "                \n",
        "                file_name = file_name[0]\n",
        "                filename_part = os.path.join(path_parts, \"part_file\" + file_name + \".mid\")\n",
        "                part = partitura.load_score_midi(filename_part)\n",
        "\n",
        "                part_0 = part[0]\n",
        "                part_1 = part[1]\n",
        "                \n",
        "                note_array_0 = partitura.utils.note_array_from_part(part_0)\n",
        "                note_array_1 = partitura.utils.note_array_from_part(part_1)\n",
        "                \n",
        "\n",
        "                list_of_note_arrays = [note_array_0,note_array_1]\n",
        "\n",
        "                if len(part)== 4:\n",
        "                    part_2 = part[2]\n",
        "                    note_array_2 = partitura.utils.note_array_from_part(part_2)\n",
        "\n",
        "                    part_3 = part[3]\n",
        "                    note_array_3 = partitura.utils.note_array_from_part(part_3)\n",
        "                    list_of_note_arrays = [note_array_0,note_array_1,note_array_2,note_array_3]\n",
        "                \n",
        "                ground_truth_label_list = [0,1,2,3]              \n",
        "                total_predictions_dict = {'0': [], '1': [], '2': [], '3': [] }\n",
        "                total_truth_dict = {'0': [], '1': [], '2': [], '3': [] }\n",
        "                accordance_dict = {'0': [], '1': [], '2': [], '3': [] }\n",
        "            \n",
        "\n",
        "                for el_note_arr, note_array in enumerate(list_of_note_arrays):\n",
        "                    onset_beat = note_array[\"onset_beat\"]\n",
        "                    duration_beat = note_array[\"duration_beat\"]\n",
        "                    pitch_list = note_array[\"pitch\"]\n",
        "                    pitch_list = pitch_list - 21             \n",
        "                    note_idx_start = 12 * onset_beat\n",
        "                    note_idx_end = 12 * (onset_beat+duration_beat)\n",
        "\n",
        "                    \n",
        "\n",
        "                    ### round every entry up to next integer for the starting idx ###\n",
        "                    note_idx_start = [int(np.ceil(num)) for num in note_idx_start]                      # do this fur whole np array np.ceil(note_idx_start)\n",
        "                    ### round every entry down to next integer for the ending idx###\n",
        "                    note_idx_end = [int(np.floor(num)) for num in note_idx_end]\n",
        "\n",
        "                               \n",
        "                    # do model prediction\n",
        "                    model.eval()\n",
        "                    voices = voices.to(device).float()\n",
        "                    monophonic=True\n",
        "                    with torch.no_grad():\n",
        "                        prediction, prediction_clf = model.predict(voices[:,:,:,-1], lens, monophonic)  \n",
        "                        label = ground_truth_label_list[el_note_arr]\n",
        "                        print(\"prediction clf:\",prediction_clf)\n",
        "\n",
        "\n",
        "                \n",
        "                    for i in range(len(note_idx_start)):\n",
        "\n",
        "                        start_first = note_idx_start[i]\n",
        "                        end_first =  note_idx_end[i]   \n",
        "\n",
        "                        if end_first <= unitl_len_idx:\n",
        "                          #print(\"stop\",end_first)\n",
        "                          pitch_first = pitch_list[i]\n",
        "                          pred_list_first = prediction[start_first:end_first,pitch_first]\n",
        "                          truth_list = [label for i in range(len(pred_list_first))]\n",
        "              \n",
        "                          result = all(elem == pred_list_first[0] for elem in pred_list_first)\n",
        "                          # do majority vote if not all predictions are for same voice\n",
        "                          if result == False:\n",
        "                              major, major_idx = torch.mode(pred_list_first,0)\n",
        "                              major = major.numpy().tolist()\n",
        "                              pred_list_first = [major for i in pred_list_first]\n",
        "\n",
        "                        \n",
        "                        total_predictions_dict[str(label)].append(pred_list_first)\n",
        "                        total_truth_dict[str(label)].append(truth_list)\n",
        "\n",
        "                        #print(\"pred_list\",str(label),len(pred_list_first),pred_list_first)\n",
        "                        if len(pred_list_first)==0:\n",
        "                          print(\"ATTENTION:\", len(pred_list_first),str(label) )\n",
        "                          print(\"index:\", idx)\n",
        "                          print(\"------------------------------------------------------------------------\")\n",
        "                          print(\"total_predictions_dict\",str(label),len(pred_list_first),pred_list_first)\n",
        "\n",
        "\n",
        "\n",
        "\n",
        "                count_dict_2 = {'0': [], '1': [], '2': [], '3': [] }\n",
        "\n",
        "                for gt, i in enumerate(total_predictions_dict.keys()):\n",
        "                  counting = 0\n",
        "                  for j in range(len(total_predictions_dict[i])):\n",
        "                      if total_predictions_dict[i][j][0] == gt:         \n",
        "                        counting +=1\n",
        "                  count_dict_2[i].append(counting)\n",
        "\n",
        "\n",
        "\n",
        "                acc_0 = count_dict_2[\"0\"][0]/len(total_predictions_dict[\"0\"])\n",
        "                acc_1 = count_dict_2[\"1\"][0]/len(total_predictions_dict[\"1\"])\n",
        "                \n",
        "\n",
        "                print(\"acc 0, sample {}:\".format(idx),acc_0)\n",
        "                print(\"acc 1, sample {}:\".format(idx),acc_1)\n",
        "                \n",
        "\n",
        "                if len(list_of_note_arrays)==4:\n",
        "                    acc_2 = count_dict_2[\"2\"][0]/len(total_predictions_dict[\"2\"])\n",
        "                    print(\"acc 2, sample {}:\".format(idx),acc_2)\n",
        "                    acc_score_dict[\"2\"].append(acc_2)\n",
        "\n",
        "                    acc_3 = count_dict_2[\"3\"][0]/len(total_predictions_dict[\"3\"])\n",
        "                    print(\"acc 3, sample {}:\".format(idx),acc_3)\n",
        "                    acc_score_dict[\"3\"].append(acc_3)\n",
        "\n",
        "\n",
        "                acc_score_dict[\"0\"].append(acc_0)\n",
        "                acc_score_dict[\"1\"].append(acc_1)\n",
        "                \n",
        "\n",
        "                \n",
        "    print(\"total_predictions_dict\",total_predictions_dict.keys())\n",
        "\n",
        "    return total_predictions_dict, total_truth_dict, statistics.mean(acc_score_dict[\"0\"]), statistics.mean(acc_score_dict[\"1\"]), statistics.mean(acc_score_dict[\"2\"]),statistics.mean(acc_score_dict[\"3\"])"
      ],
      "metadata": {
        "id": "yvS8dZJaoxkq"
      },
      "execution_count": null,
      "outputs": []
    },
    {
      "cell_type": "code",
      "source": [
        "dict_pred , dict_gt, acc_0 , acc_1, acc_2, acc_3 = evaluate_accuracy_polyphonic(model,val_dataloader,part_dic=file_names_part)\n",
        "\n",
        "\n",
        "print(\"acc_0:\",acc_0)\n",
        "print(\"acc_1:\",acc_1)\n",
        "print(\"acc_2:\",acc_2)\n",
        "print(\"acc_3:\",acc_3)"
      ],
      "metadata": {
        "id": "8KzCauC6_FsY"
      },
      "execution_count": null,
      "outputs": []
    },
    {
      "cell_type": "code",
      "source": [
        ""
      ],
      "metadata": {
        "id": "7tL0aaP711g5"
      },
      "execution_count": null,
      "outputs": []
    }
  ]
}