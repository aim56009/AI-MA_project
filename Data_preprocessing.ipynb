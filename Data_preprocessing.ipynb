{
 "cells": [
  {
   "cell_type": "code",
   "execution_count": 140,
   "metadata": {},
   "outputs": [],
   "source": [
    "import partitura"
   ]
  },
  {
   "cell_type": "code",
   "execution_count": 141,
   "metadata": {},
   "outputs": [],
   "source": [
    "### Load data in partitura ###\n",
    "\n",
    "part = partitura.load_musicxml(\"chorales/output371.xml\")\n",
    "#print(part)"
   ]
  },
  {
   "cell_type": "code",
   "execution_count": 142,
   "metadata": {},
   "outputs": [],
   "source": [
    "### Seperate the 4 different voices ####\n",
    "\n",
    "part_zero = part[0]\n",
    "part_one = part[1]\n",
    "part_two = part[2]\n",
    "part_three = part[3]"
   ]
  },
  {
   "cell_type": "code",
   "execution_count": 143,
   "metadata": {},
   "outputs": [],
   "source": [
    "### Visualize the different voices ###\n",
    "\n",
    "#print(part_one.pretty())   \n",
    "partitura.render(part_one) #still doesnt work"
   ]
  },
  {
   "cell_type": "code",
   "execution_count": 144,
   "metadata": {},
   "outputs": [],
   "source": [
    "### Convert every voice into a pianoroll numpy array ###\n",
    "\n",
    "pr_zero = partitura.utils.compute_pianoroll(part_zero)\n",
    "pr_zero = pr_zero.toarray()\n",
    "\n",
    "pr_one = partitura.utils.compute_pianoroll(part_one)\n",
    "pr_one = pr_one.toarray()\n",
    "\n",
    "pr_two = partitura.utils.compute_pianoroll(part_two)\n",
    "pr_two = pr_two.toarray()\n",
    "\n",
    "pr_three = partitura.utils.compute_pianoroll(part_three)\n",
    "pr_three = pr_three.toarray()\n",
    "\n",
    "pr = partitura.utils.compute_pianoroll(part)\n",
    "pr = pr.toarray()"
   ]
  },
  {
   "cell_type": "code",
   "execution_count": 145,
   "metadata": {},
   "outputs": [
    {
     "name": "stdout",
     "output_type": "stream",
     "text": [
      "(128, 384)\n",
      "(128, 384)\n",
      "(128, 384)\n",
      "(128, 384)\n",
      "(128, 384)\n"
     ]
    }
   ],
   "source": [
    "### print the shape of the np arrays ###\n",
    "\n",
    "print(pr_zero.shape)\n",
    "print(pr_one.shape)\n",
    "print(pr_two.shape)\n",
    "print(pr_three.shape)\n",
    "print(pr.shape)"
   ]
  },
  {
   "cell_type": "code",
   "execution_count": 146,
   "metadata": {},
   "outputs": [
    {
     "name": "stdout",
     "output_type": "stream",
     "text": [
      "376\n",
      "376\n",
      "376\n",
      "376\n",
      "sum of all 4 voice: 1504\n",
      "sum of mixed pr representation: 1468\n"
     ]
    }
   ],
   "source": [
    "### See that the sum of the individual represenations are exaclty the same as the original ###\n",
    "### - if not set all values bigger than 1 to 0 again ###\n",
    "\n",
    "print(np.sum(pr_zero))\n",
    "print(np.sum(pr_one))\n",
    "print(np.sum(pr_two))\n",
    "print(np.sum(pr_three))\n",
    "\n",
    "print(\"sum of all 4 voice:\", np.sum(pr_zero+pr_one+pr_two+pr_three))\n",
    "\n",
    "print(\"sum of mixed pr representation:\",np.sum(pr))"
   ]
  },
  {
   "cell_type": "code",
   "execution_count": 147,
   "metadata": {},
   "outputs": [
    {
     "name": "stdout",
     "output_type": "stream",
     "text": [
      "True\n"
     ]
    }
   ],
   "source": [
    "### set all values > 1 in the composition of the 4 seperate voices to 1 ###\n",
    "\n",
    "pr_comp = pr_zero+pr_one+pr_two+pr_three\n",
    "pr_comp =  np.where(pr_comp < 1 , pr_comp, 1) \n",
    "\n",
    "print( np.sum(pr_comp) == np.sum(pr))"
   ]
  },
  {
   "cell_type": "code",
   "execution_count": 129,
   "metadata": {},
   "outputs": [],
   "source": []
  },
  {
   "cell_type": "code",
   "execution_count": null,
   "metadata": {},
   "outputs": [],
   "source": []
  }
 ],
 "metadata": {
  "kernelspec": {
   "display_name": "Python 3 (ipykernel)",
   "language": "python",
   "name": "python3"
  },
  "language_info": {
   "codemirror_mode": {
    "name": "ipython",
    "version": 3
   },
   "file_extension": ".py",
   "mimetype": "text/x-python",
   "name": "python",
   "nbconvert_exporter": "python",
   "pygments_lexer": "ipython3",
   "version": "3.9.7"
  }
 },
 "nbformat": 4,
 "nbformat_minor": 4
}
