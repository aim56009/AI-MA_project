{
 "cells": [
  {
   "cell_type": "code",
   "execution_count": 52,
   "metadata": {},
   "outputs": [],
   "source": [
    "import partitura\n",
    "import numpy as np\n",
    "import os"
   ]
  },
  {
   "cell_type": "code",
   "execution_count": 55,
   "metadata": {},
   "outputs": [],
   "source": [
    "name = \"output371.xml\"\n",
    "\n",
    "\n",
    "inport_path = os.path.join(\"chorales\", name)\n",
    "part = partitura.load_musicxml(inport_path)"
   ]
  },
  {
   "cell_type": "code",
   "execution_count": 56,
   "metadata": {},
   "outputs": [],
   "source": [
    "### Load data in partitura ###\n",
    "\n",
    "part = partitura.load_musicxml(\"chorales/output371.xml\")\n",
    "#print(part)"
   ]
  },
  {
   "cell_type": "code",
   "execution_count": 49,
   "metadata": {},
   "outputs": [],
   "source": [
    "### Seperate the 4 different voices ####\n",
    "\n",
    "part_zero = part[0]\n",
    "part_one = part[1]\n",
    "part_two = part[2]\n",
    "part_three = part[3]"
   ]
  },
  {
   "cell_type": "code",
   "execution_count": 11,
   "metadata": {},
   "outputs": [],
   "source": [
    "### Visualize the different voices ###\n",
    "\n",
    "#print(part_one.pretty())   \n",
    "#partitura.render(part_one) #still doesnt work"
   ]
  },
  {
   "cell_type": "code",
   "execution_count": 38,
   "metadata": {},
   "outputs": [],
   "source": [
    "### maybe use time_uni = beat and time_div =12\n",
    "### Convert every voice into a pianoroll numpy array ###\n",
    "\n",
    "pr_zero = partitura.utils.compute_pianoroll(part_zero, time_unit = \"beat\",time_div = 12)\n",
    "pr_zero = pr_zero.toarray()\n",
    "\n",
    "pr_one = partitura.utils.compute_pianoroll(part_one, time_unit = \"beat\",time_div = 12)\n",
    "pr_one = pr_one.toarray()\n",
    "\n",
    "pr_two = partitura.utils.compute_pianoroll(part_two, time_unit = \"beat\",time_div = 12)\n",
    "pr_two = pr_two.toarray()\n",
    "\n",
    "pr_three = partitura.utils.compute_pianoroll(part_three, time_unit = \"beat\",time_div = 12)\n",
    "pr_three = pr_three.toarray()\n",
    "\n",
    "pr = partitura.utils.compute_pianoroll(part, time_unit = \"beat\",time_div = 12)\n",
    "pr = pr.toarray()"
   ]
  },
  {
   "cell_type": "code",
   "execution_count": 39,
   "metadata": {},
   "outputs": [
    {
     "name": "stdout",
     "output_type": "stream",
     "text": [
      "(128, 576)\n",
      "(128, 576)\n",
      "(128, 576)\n",
      "(128, 576)\n",
      "(128, 576)\n"
     ]
    }
   ],
   "source": [
    "### print the shape of the np arrays ###\n",
    "\n",
    "print(pr_zero.shape)\n",
    "print(pr_one.shape)\n",
    "print(pr_two.shape)\n",
    "print(pr_three.shape)\n",
    "print(pr.shape)"
   ]
  },
  {
   "cell_type": "code",
   "execution_count": 40,
   "metadata": {},
   "outputs": [
    {
     "name": "stdout",
     "output_type": "stream",
     "text": [
      "564\n",
      "564\n",
      "564\n",
      "564\n",
      "sum of all 4 voice: 2256\n",
      "sum of mixed pr representation: 2202\n"
     ]
    }
   ],
   "source": [
    "### See that the sum of the individual represenations are exaclty the same as the original ###\n",
    "### - if not set all values bigger than 1 to 0 again ###\n",
    "\n",
    "print(np.sum(pr_zero))\n",
    "print(np.sum(pr_one))\n",
    "print(np.sum(pr_two))\n",
    "print(np.sum(pr_three))\n",
    "\n",
    "print(\"sum of all 4 voice:\", np.sum(pr_zero+pr_one+pr_two+pr_three))\n",
    "\n",
    "print(\"sum of mixed pr representation:\",np.sum(pr))"
   ]
  },
  {
   "cell_type": "markdown",
   "metadata": {},
   "source": [
    "## set all values > 1 in the composition of the 4 seperate voices to 1 ###\n",
    "\n"
   ]
  },
  {
   "cell_type": "code",
   "execution_count": 101,
   "metadata": {},
   "outputs": [
    {
     "name": "stdout",
     "output_type": "stream",
     "text": [
      "True\n"
     ]
    }
   ],
   "source": [
    "pr_comp = pr_zero+pr_one+pr_two+pr_three\n",
    "pr_comp =  np.where(pr_comp < 1 , pr_comp, 1) \n",
    "\n",
    "print( np.sum(pr_comp) == np.sum(pr))"
   ]
  },
  {
   "cell_type": "markdown",
   "metadata": {},
   "source": [
    "# save the Data   "
   ]
  },
  {
   "cell_type": "markdown",
   "metadata": {},
   "source": [
    "save every voice in a seperate folder as well as mixed representation the naming scheme is \n",
    " e.g. pianoroll/voice_0/voice_0_371.pkl"
   ]
  },
  {
   "cell_type": "code",
   "execution_count": 42,
   "metadata": {},
   "outputs": [],
   "source": [
    "import pickle"
   ]
  },
  {
   "cell_type": "code",
   "execution_count": 72,
   "metadata": {},
   "outputs": [
    {
     "data": {
      "text/plain": [
       "'pianoroll/voice_0/output371.xml'"
      ]
     },
     "execution_count": 72,
     "metadata": {},
     "output_type": "execute_result"
    }
   ],
   "source": [
    "os.path.join(\"pianoroll\", voice_folder[0], name)"
   ]
  },
  {
   "cell_type": "code",
   "execution_count": 95,
   "metadata": {},
   "outputs": [],
   "source": [
    "file_out_names = [ \"voice_0_\" + name[6:9]+ \".pkl\" , \"voice_1_\" + name[6:9] + \".pkl\" , \"voice_2_\" + name[6:9] , \"voice_3_\" + name[6:9] + \".pkl\", \"voice_all_\" + name[6:9]+\".pkl\"   ]"
   ]
  },
  {
   "cell_type": "code",
   "execution_count": 96,
   "metadata": {},
   "outputs": [],
   "source": [
    "voice_folder = [\"voice_0\",\"voice_1\",\"voice_2\",\"voice_3\",\"voice_all\"]\n",
    "pianorolls = [pr_zero,pr_one,pr_two,pr_three,pr]\n",
    "\n",
    "\n",
    "for n,i in enumerate(pianorolls):\n",
    "    a_folder = voice_folder[n]\n",
    "    a_file = file_out_names[n]\n",
    "    joined_path = os.path.join(\"pianoroll\", a_folder, a_file)\n",
    "    with open(joined_path, 'wb') as f:\n",
    "        pickle.dump(i, f)\n",
    "    \n",
    "    \n",
    "    \n"
   ]
  },
  {
   "cell_type": "markdown",
   "metadata": {},
   "source": [
    "# test - loading pickle file again"
   ]
  },
  {
   "cell_type": "code",
   "execution_count": 99,
   "metadata": {},
   "outputs": [
    {
     "name": "stdout",
     "output_type": "stream",
     "text": [
      "(128, 576)\n"
     ]
    }
   ],
   "source": [
    "with open(\"pianoroll/voice_0/voice_0_371.pkl\",'rb') as f:\n",
    "    loaded_obj = pickle.load(f)\n",
    "    print(loaded_obj.shape)"
   ]
  }
 ],
 "metadata": {
  "kernelspec": {
   "display_name": "Python 3 (ipykernel)",
   "language": "python",
   "name": "python3"
  },
  "language_info": {
   "codemirror_mode": {
    "name": "ipython",
    "version": 3
   },
   "file_extension": ".py",
   "mimetype": "text/x-python",
   "name": "python",
   "nbconvert_exporter": "python",
   "pygments_lexer": "ipython3",
   "version": "3.9.7"
  }
 },
 "nbformat": 4,
 "nbformat_minor": 4
}
