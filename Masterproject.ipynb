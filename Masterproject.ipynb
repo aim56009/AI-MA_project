{
  "nbformat": 4,
  "nbformat_minor": 0,
  "metadata": {
    "colab": {
      "name": "Masterproject.ipynb",
      "provenance": []
    },
    "kernelspec": {
      "name": "python3",
      "display_name": "Python 3"
    },
    "language_info": {
      "name": "python"
    }
  },
  "cells": [
    {
      "cell_type": "code",
      "metadata": {
        "id": "ZDUwCmeIW8i1"
      },
      "source": [
        "%matplotlib inline\n",
        "\n",
        "import numpy as np\n",
        "import torch\n",
        "import torch.nn as nn\n",
        "import torch.nn.functional as F\n",
        "import pickle\n",
        "\n",
        "from torch.utils.data import DataLoader\n",
        "from torch.utils.data.dataset import Dataset\n",
        "import glob\n",
        "import os"
      ],
      "execution_count": 3,
      "outputs": []
    },
    {
      "cell_type": "code",
      "metadata": {
        "id": "CsFs8dyqXBx2",
        "colab": {
          "base_uri": "https://localhost:8080/"
        },
        "outputId": "463981b4-cd39-4a37-f694-831675c403ed"
      },
      "source": [
        "!git clone https://github.com/aim56009/AI-MA_project.git"
      ],
      "execution_count": 4,
      "outputs": [
        {
          "output_type": "stream",
          "name": "stdout",
          "text": [
            "Cloning into 'AI-MA_project'...\n",
            "remote: Enumerating objects: 1824, done.\u001b[K\n",
            "remote: Counting objects: 100% (1824/1824), done.\u001b[K\n",
            "remote: Compressing objects: 100% (76/76), done.\u001b[K\n",
            "remote: Total 1824 (delta 1765), reused 1780 (delta 1747), pack-reused 0\u001b[K\n",
            "Receiving objects: 100% (1824/1824), 3.88 MiB | 8.23 MiB/s, done.\n",
            "Resolving deltas: 100% (1765/1765), done.\n",
            "Checking out files: 100% (1846/1846), done.\n"
          ]
        }
      ]
    },
    {
      "cell_type": "markdown",
      "metadata": {
        "id": "OYpz1MOIOgtk"
      },
      "source": [
        "# Dataloader"
      ]
    },
    {
      "cell_type": "markdown",
      "metadata": {
        "id": "77uea5NROiFC"
      },
      "source": [
        "transpose data in datloader!!\n"
      ]
    },
    {
      "cell_type": "code",
      "metadata": {
        "id": "ygWXNSrCbRQi"
      },
      "source": [
        "batch_size = 1      # later try diff.\n",
        "PATH_TO_DATA = \"AI-MA_project/pianoroll\"\n",
        "workers = 0"
      ],
      "execution_count": 5,
      "outputs": []
    },
    {
      "cell_type": "code",
      "metadata": {
        "id": "Ew5g9Q-3PAAr"
      },
      "source": [
        "class MusicDataset(Dataset):\n",
        "\n",
        "    def __init__(self, data_dir, labels, n, transforms=None):\n",
        "        self.transforms = transforms\n",
        "        self.data_dir = data_dir\n",
        "        # load all files like below  (maybe do dicts instead of 1 big array)\n",
        "        # make list of dict.  -voice_0 ..voice_all, length (-6 in total)\n",
        "\n",
        "\n",
        "        for iLabel in range(len(labels)):\n",
        "            file_names = sorted(glob.glob(os.path.join(data_dir, labels[iLabel], \"*.pkl\")))    \n",
        "\n",
        "            if iLabel == 0:\n",
        "                self.data = np.array(file_names[:n])\n",
        "                self.labels = np.array(np.repeat(labels[iLabel], len(self.data)))\n",
        "                \n",
        "            else:\n",
        "                self.data = np.append(self.data, file_names[:n])\n",
        "                self.labels = np.append(self.labels, np.repeat(labels[iLabel], len(self.data)))\n",
        "                \n",
        "        #with open(self.data[idx]  ,'rb') as f:     ### load all data here (list,or np)   sort it after len(rows)\n",
        "        #  loaded_obj = pickle.load(f)\n",
        "\n",
        "    def __len__(self):\n",
        "        return len(self.data)\n",
        "\n",
        "    def __getitem__(self, idx):    ###maybe later revert sorted idx to file name idx\n",
        "        print(self.data[idx])\n",
        "\n",
        "        with open(self.data[idx]  ,'rb') as f:\n",
        "          loaded_obj = pickle.load(f)\n",
        "    \n",
        "        pr_load = torch.tensor(loaded_obj.T)      # transpose np array first\n",
        "\n",
        "\n",
        "        sample = {'pr': pr_load.float(), 'label': self.labels[idx]}     # also output the len \n",
        "        return sample"
      ],
      "execution_count": 8,
      "outputs": []
    },
    {
      "cell_type": "code",
      "metadata": {
        "colab": {
          "base_uri": "https://localhost:8080/",
          "height": 207
        },
        "id": "23wSMB895wGD",
        "outputId": "1d082701-ddd6-47c3-be71-fc1475169a48"
      },
      "source": [
        " with open(PATH_TO_DATA + \"/\" + labels[0]  ,'rb') as f:\n",
        "          loaded_obj = pickle.load(f)\n"
      ],
      "execution_count": 19,
      "outputs": [
        {
          "output_type": "error",
          "ename": "IsADirectoryError",
          "evalue": "ignored",
          "traceback": [
            "\u001b[0;31m---------------------------------------------------------------------------\u001b[0m",
            "\u001b[0;31mIsADirectoryError\u001b[0m                         Traceback (most recent call last)",
            "\u001b[0;32m<ipython-input-19-934be90f2395>\u001b[0m in \u001b[0;36m<module>\u001b[0;34m()\u001b[0m\n\u001b[0;32m----> 1\u001b[0;31m \u001b[0;32mwith\u001b[0m \u001b[0mopen\u001b[0m\u001b[0;34m(\u001b[0m\u001b[0mPATH_TO_DATA\u001b[0m \u001b[0;34m+\u001b[0m \u001b[0;34m\"/\"\u001b[0m \u001b[0;34m+\u001b[0m \u001b[0mlabels\u001b[0m\u001b[0;34m[\u001b[0m\u001b[0;36m0\u001b[0m\u001b[0;34m]\u001b[0m  \u001b[0;34m,\u001b[0m\u001b[0;34m'rb'\u001b[0m\u001b[0;34m)\u001b[0m \u001b[0;32mas\u001b[0m \u001b[0mf\u001b[0m\u001b[0;34m:\u001b[0m\u001b[0;34m\u001b[0m\u001b[0;34m\u001b[0m\u001b[0m\n\u001b[0m\u001b[1;32m      2\u001b[0m          \u001b[0mloaded_obj\u001b[0m \u001b[0;34m=\u001b[0m \u001b[0mpickle\u001b[0m\u001b[0;34m.\u001b[0m\u001b[0mload\u001b[0m\u001b[0;34m(\u001b[0m\u001b[0mf\u001b[0m\u001b[0;34m)\u001b[0m\u001b[0;34m\u001b[0m\u001b[0;34m\u001b[0m\u001b[0m\n\u001b[1;32m      3\u001b[0m \u001b[0mP\u001b[0m\u001b[0;34m\u001b[0m\u001b[0;34m\u001b[0m\u001b[0m\n",
            "\u001b[0;31mIsADirectoryError\u001b[0m: [Errno 21] Is a directory: 'AI-MA_project/pianoroll/voice_0'"
          ]
        }
      ]
    },
    {
      "cell_type": "code",
      "metadata": {
        "colab": {
          "base_uri": "https://localhost:8080/"
        },
        "id": "oo8nf0fS5qmj",
        "outputId": "30f25eab-fbeb-488f-adb8-9f1764035da1"
      },
      "source": [
        "all_files = [] # Creates an empty list\n",
        "for files in os.walk(PATH_TO_DATA + \"/\" + labels[0]):\n",
        "    print(files)\n",
        "    #loaded_file = pickle.load(files)\n",
        "    #all_files.append(loaded_file)\n",
        "\n",
        "#all_files"
      ],
      "execution_count": 18,
      "outputs": [
        {
          "output_type": "stream",
          "name": "stdout",
          "text": [
            "('AI-MA_project/pianoroll/voice_0', [], ['voice_0_033.pkl', 'voice_0_258.pkl', 'voice_0_149.pkl', 'voice_0_228.pkl', 'voice_0_209.pkl', 'voice_0_200.pkl', 'voice_0_352.pkl', 'voice_0_327.pkl', 'voice_0_188.pkl', 'voice_0_077.pkl', 'voice_0_087.pkl', 'voice_0_007.pkl', 'voice_0_244.pkl', 'voice_0_334.pkl', 'voice_0_245.pkl', 'voice_0_288.pkl', 'voice_0_189.pkl', 'voice_0_014.pkl', 'voice_0_281.pkl', 'voice_0_282.pkl', 'voice_0_218.pkl', 'voice_0_242.pkl', 'voice_0_254.pkl', 'voice_0_026.pkl', 'voice_0_073.pkl', 'voice_0_006.pkl', 'voice_0_088.pkl', 'voice_0_275.pkl', 'voice_0_361.pkl', 'voice_0_267.pkl', 'voice_0_199.pkl', 'voice_0_074.pkl', 'voice_0_230.pkl', 'voice_0_326.pkl', 'voice_0_121.pkl', 'voice_0_164.pkl', 'voice_0_234.pkl', 'voice_0_337.pkl', 'voice_0_030.pkl', 'voice_0_192.pkl', 'voice_0_095.pkl', 'voice_0_323.pkl', 'voice_0_132.pkl', 'voice_0_143.pkl', 'voice_0_250.pkl', 'voice_0_063.pkl', 'voice_0_353.pkl', 'voice_0_202.pkl', 'voice_0_198.pkl', 'voice_0_243.pkl', 'voice_0_336.pkl', 'voice_0_155.pkl', 'voice_0_041.pkl', 'voice_0_191.pkl', 'voice_0_359.pkl', 'voice_0_138.pkl', 'voice_0_259.pkl', 'voice_0_172.pkl', 'voice_0_317.pkl', 'voice_0_233.pkl', 'voice_0_277.pkl', 'voice_0_201.pkl', 'voice_0_115.pkl', 'voice_0_284.pkl', 'voice_0_357.pkl', 'voice_0_153.pkl', 'voice_0_157.pkl', 'voice_0_348.pkl', 'voice_0_222.pkl', 'voice_0_003.pkl', 'voice_0_329.pkl', 'voice_0_213.pkl', 'voice_0_219.pkl', 'voice_0_072.pkl', 'voice_0_124.pkl', 'voice_0_367.pkl', 'voice_0_272.pkl', 'voice_0_251.pkl', 'voice_0_045.pkl', 'voice_0_110.pkl', 'voice_0_322.pkl', 'voice_0_065.pkl', 'voice_0_112.pkl', 'voice_0_052.pkl', 'voice_0_196.pkl', 'voice_0_290.pkl', 'voice_0_207.pkl', 'voice_0_249.pkl', 'voice_0_214.pkl', 'voice_0_117.pkl', 'voice_0_246.pkl', 'voice_0_206.pkl', 'voice_0_332.pkl', 'voice_0_010.pkl', 'voice_0_253.pkl', 'voice_0_368.pkl', 'voice_0_260.pkl', 'voice_0_216.pkl', 'voice_0_360.pkl', 'voice_0_032.pkl', 'voice_0_173.pkl', 'voice_0_212.pkl', 'voice_0_013.pkl', 'voice_0_193.pkl', 'voice_0_236.pkl', 'voice_0_187.pkl', 'voice_0_091.pkl', 'voice_0_119.pkl', 'voice_0_180.pkl', 'voice_0_286.pkl', 'voice_0_078.pkl', 'voice_0_001.pkl', 'voice_0_324.pkl', 'voice_0_042.pkl', 'voice_0_098.pkl', 'voice_0_099.pkl', 'voice_0_035.pkl', 'voice_0_325.pkl', 'voice_0_118.pkl', 'voice_0_076.pkl', 'voice_0_040.pkl', 'voice_0_102.pkl', 'voice_0_130.pkl', 'voice_0_084.pkl', 'voice_0_313.pkl', 'voice_0_270.pkl', 'voice_0_194.pkl', 'voice_0_190.pkl', 'voice_0_127.pkl', 'voice_0_276.pkl', 'voice_0_146.pkl', 'voice_0_252.pkl', 'voice_0_349.pkl', 'voice_0_333.pkl', 'voice_0_067.pkl', 'voice_0_068.pkl', 'voice_0_057.pkl', 'voice_0_004.pkl', 'voice_0_227.pkl', 'voice_0_093.pkl', 'voice_0_113.pkl', 'voice_0_081.pkl', 'voice_0_075.pkl', 'voice_0_240.pkl', 'voice_0_319.pkl', 'voice_0_171.pkl', 'voice_0_023.pkl', 'voice_0_235.pkl', '.DS_Store', 'voice_0_111.pkl', 'voice_0_046.pkl', 'voice_0_224.pkl', 'voice_0_307.pkl', 'voice_0_346.pkl', 'voice_0_079.pkl', 'voice_0_103.pkl', 'voice_0_100.pkl', 'voice_0_195.pkl', 'voice_0_049.pkl', 'voice_0_302.pkl', 'voice_0_179.pkl', 'voice_0_291.pkl', 'voice_0_351.pkl', 'voice_0_114.pkl', 'voice_0_365.pkl', 'voice_0_296.pkl', 'voice_0_177.pkl', 'voice_0_170.pkl', 'voice_0_017.pkl', 'voice_0_059.pkl', 'voice_0_128.pkl', 'voice_0_273.pkl', 'voice_0_129.pkl', 'voice_0_369.pkl', 'voice_0_139.pkl', 'voice_0_363.pkl', 'voice_0_144.pkl', 'voice_0_301.pkl', 'voice_0_038.pkl', 'voice_0_295.pkl', 'voice_0_094.pkl', 'voice_0_086.pkl', 'voice_0_331.pkl', 'voice_0_054.pkl', 'voice_0_123.pkl', 'voice_0_358.pkl', 'voice_0_147.pkl', 'voice_0_237.pkl', 'voice_0_008.pkl', 'voice_0_265.pkl', 'voice_0_060.pkl', 'voice_0_341.pkl', 'voice_0_289.pkl', 'voice_0_165.pkl', 'voice_0_354.pkl', 'voice_0_262.pkl', 'voice_0_293.pkl', 'voice_0_316.pkl', 'voice_0_168.pkl', 'voice_0_310.pkl', 'voice_0_107.pkl', 'voice_0_229.pkl', 'voice_0_175.pkl', 'voice_0_169.pkl', 'voice_0_159.pkl', 'voice_0_056.pkl', 'voice_0_109.pkl', 'voice_0_266.pkl', 'voice_0_287.pkl', 'voice_0_186.pkl', 'voice_0_215.pkl', 'voice_0_263.pkl', 'voice_0_355.pkl', 'voice_0_342.pkl', 'voice_0_106.pkl', 'voice_0_066.pkl', 'voice_0_137.pkl', 'voice_0_255.pkl', 'voice_0_264.pkl', 'voice_0_141.pkl', 'voice_0_184.pkl', 'voice_0_140.pkl', 'voice_0_131.pkl', 'voice_0_050.pkl', 'voice_0_261.pkl', 'voice_0_183.pkl', 'voice_0_162.pkl', 'voice_0_085.pkl', 'voice_0_338.pkl', 'voice_0_027.pkl', 'voice_0_306.pkl', 'voice_0_344.pkl', 'voice_0_345.pkl', 'voice_0_096.pkl', 'voice_0_314.pkl', 'voice_0_226.pkl', 'voice_0_031.pkl', 'voice_0_097.pkl', 'voice_0_174.pkl', 'voice_0_051.pkl', 'voice_0_039.pkl', 'voice_0_047.pkl', 'voice_0_343.pkl', 'voice_0_197.pkl', 'voice_0_241.pkl', 'voice_0_036.pkl', 'voice_0_002.pkl', 'voice_0_101.pkl', 'voice_0_125.pkl', 'voice_0_021.pkl', 'voice_0_142.pkl', 'voice_0_080.pkl', 'voice_0_071.pkl', 'voice_0_231.pkl', 'voice_0_370.pkl', 'voice_0_163.pkl', 'voice_0_058.pkl', 'voice_0_203.pkl', 'voice_0_208.pkl', 'voice_0_148.pkl', 'voice_0_158.pkl', 'voice_0_210.pkl', 'voice_0_136.pkl', 'voice_0_061.pkl', 'voice_0_304.pkl', 'voice_0_256.pkl', 'voice_0_104.pkl', 'voice_0_339.pkl', 'voice_0_298.pkl', 'voice_0_280.pkl', 'voice_0_082.pkl', 'voice_0_321.pkl', 'voice_0_350.pkl', 'voice_0_120.pkl', 'voice_0_315.pkl', 'voice_0_182.pkl', 'voice_0_217.pkl', 'voice_0_154.pkl', 'voice_0_328.pkl', 'voice_0_070.pkl', 'voice_0_018.pkl', 'voice_0_238.pkl', 'voice_0_297.pkl', 'voice_0_108.pkl', 'voice_0_364.pkl', 'voice_0_029.pkl', 'voice_0_185.pkl', 'voice_0_161.pkl', 'voice_0_268.pkl', 'voice_0_271.pkl', 'voice_0_016.pkl', 'voice_0_220.pkl', 'voice_0_037.pkl', 'voice_0_366.pkl', 'voice_0_320.pkl', 'voice_0_335.pkl', 'voice_0_011.pkl', 'voice_0_340.pkl', 'voice_0_239.pkl', 'voice_0_232.pkl', 'voice_0_083.pkl', 'voice_0_022.pkl', 'voice_0_062.pkl', 'voice_0_126.pkl', 'voice_0_020.pkl', 'voice_0_053.pkl', 'voice_0_135.pkl', 'voice_0_309.pkl', 'voice_0_311.pkl', 'voice_0_122.pkl', 'voice_0_221.pkl', 'voice_0_308.pkl', 'voice_0_299.pkl', 'voice_0_347.pkl', 'voice_0_178.pkl', 'voice_0_105.pkl', 'voice_0_151.pkl', 'voice_0_300.pkl', 'voice_0_330.pkl', 'voice_0_034.pkl', 'voice_0_116.pkl', 'voice_0_176.pkl', 'voice_0_167.pkl', 'voice_0_069.pkl', 'voice_0_005.pkl', 'voice_0_145.pkl', 'voice_0_044.pkl', 'voice_0_064.pkl', 'voice_0_090.pkl', 'voice_0_055.pkl', 'voice_0_015.pkl', 'voice_0_285.pkl', 'voice_0_024.pkl', 'voice_0_025.pkl', 'voice_0_204.pkl', 'voice_0_292.pkl', 'voice_0_356.pkl', 'voice_0_152.pkl', 'voice_0_225.pkl', 'voice_0_205.pkl', 'voice_0_269.pkl', 'voice_0_257.pkl', 'voice_0_009.pkl', 'voice_0_223.pkl', 'voice_0_305.pkl', 'voice_0_248.pkl', 'voice_0_156.pkl', 'voice_0_089.pkl', 'voice_0_012.pkl', 'voice_0_019.pkl', 'voice_0_279.pkl', 'voice_0_362.pkl', 'voice_0_211.pkl', 'voice_0_028.pkl', 'voice_0_166.pkl', 'voice_0_371.pkl', 'voice_0_247.pkl', 'voice_0_318.pkl', 'voice_0_181.pkl', 'voice_0_134.pkl', 'voice_0_048.pkl', 'voice_0_092.pkl', 'voice_0_294.pkl', 'voice_0_274.pkl', 'voice_0_160.pkl', 'voice_0_303.pkl', 'voice_0_278.pkl', 'voice_0_312.pkl'])\n"
          ]
        }
      ]
    },
    {
      "cell_type": "code",
      "metadata": {
        "id": "h1-u8zYd-gyo"
      },
      "source": [
        "class MusicDataset(Dataset):\n",
        "\n",
        "    def __init__(self, data_dir, labels, n, transforms=None):\n",
        "        self.transforms = transforms\n",
        "        self.data_dir = data_dir\n",
        "\n",
        "        self.labels = labels\n",
        "        self.pr_dict = {}\n",
        "        # load all files like below  (maybe do dicts instead of 1 big array)\n",
        "        # make list of dict.  -voice_0 ..voice_all, length (-6 in total)\n",
        "\n",
        "        for iLabel in range(len(labels)):\n",
        "            voice_files = []\n",
        "            file_names = sorted(glob.glob(os.path.join(PATH_TO_DATA, self.labels[iLabel], \"*.pkl\")))   \n",
        "            for name in file_names:\n",
        "                with open(name ,'rb') as f: \n",
        "                    loaded_obj = pickle.load(f)     \n",
        "                    voice_files.append(loaded_obj)             ## for later: sort it after len(rows)\n",
        "            self.pr_dict[self.labels[iLabel]] = voice_files     # add data for voice_x list to corresponding voice_x key\n",
        "        \n",
        "\n",
        "\n",
        "    def __len__(self):\n",
        "      \n",
        "        return len(self.pr_dict[self.labels[0]])\n",
        "\n",
        "    def __getitem__(self, idx):    ###maybe later revert sorted idx to file name idx\n",
        "\n",
        "        out_list = []\n",
        "        for key, value in self.pr_dict.items():\n",
        "            out_list.append(self.pr_dict[key][idx])\n",
        "          \n",
        "        v0 = torch.tensor(out_list[0].T)\n",
        "        v1 = torch.tensor(out_list[1].T)\n",
        "        v2 = torch.tensor(out_list[2].T)\n",
        "        v3 = torch.tensor(out_list[3].T)\n",
        "        v_all = torch.tensor(out_list[4].T) \n",
        "\n",
        "        print(v0.shape)\n",
        "        \n",
        "\n",
        "        return v0, v1, v2, v3, v_all "
      ],
      "execution_count": 140,
      "outputs": []
    },
    {
      "cell_type": "code",
      "metadata": {
        "colab": {
          "base_uri": "https://localhost:8080/"
        },
        "id": "c9qQpTh9y1He",
        "outputId": "d3a58e6f-1441-4425-8736-d67f6d114418"
      },
      "source": [
        "pr_dict = {}\n",
        "\n",
        "for iLabel in range(len(labels)):\n",
        "            voice_files = []\n",
        "            file_names = sorted(glob.glob(os.path.join(PATH_TO_DATA, labels[iLabel], \"*.pkl\"))) \n",
        "            print(file_names)\n",
        "   \n",
        "            for name in file_names:\n",
        "                with open(name ,'rb') as f: \n",
        "                    loaded_obj = pickle.load(f)     \n",
        "                    voice_files.append(loaded_obj)             ## for later: sort it after len(rows)\n",
        "            pr_dict[labels[iLabel]] = voice_files     # add data for voice_x list to corresponding voice_x key\n",
        "\n"
      ],
      "execution_count": 152,
      "outputs": [
        {
          "output_type": "stream",
          "name": "stdout",
          "text": [
            "['AI-MA_project/pianoroll/voice_0/voice_0_001.pkl', 'AI-MA_project/pianoroll/voice_0/voice_0_002.pkl', 'AI-MA_project/pianoroll/voice_0/voice_0_003.pkl', 'AI-MA_project/pianoroll/voice_0/voice_0_004.pkl', 'AI-MA_project/pianoroll/voice_0/voice_0_005.pkl', 'AI-MA_project/pianoroll/voice_0/voice_0_006.pkl', 'AI-MA_project/pianoroll/voice_0/voice_0_007.pkl', 'AI-MA_project/pianoroll/voice_0/voice_0_008.pkl', 'AI-MA_project/pianoroll/voice_0/voice_0_009.pkl', 'AI-MA_project/pianoroll/voice_0/voice_0_010.pkl', 'AI-MA_project/pianoroll/voice_0/voice_0_011.pkl', 'AI-MA_project/pianoroll/voice_0/voice_0_012.pkl', 'AI-MA_project/pianoroll/voice_0/voice_0_013.pkl', 'AI-MA_project/pianoroll/voice_0/voice_0_014.pkl', 'AI-MA_project/pianoroll/voice_0/voice_0_015.pkl', 'AI-MA_project/pianoroll/voice_0/voice_0_016.pkl', 'AI-MA_project/pianoroll/voice_0/voice_0_017.pkl', 'AI-MA_project/pianoroll/voice_0/voice_0_018.pkl', 'AI-MA_project/pianoroll/voice_0/voice_0_019.pkl', 'AI-MA_project/pianoroll/voice_0/voice_0_020.pkl', 'AI-MA_project/pianoroll/voice_0/voice_0_021.pkl', 'AI-MA_project/pianoroll/voice_0/voice_0_022.pkl', 'AI-MA_project/pianoroll/voice_0/voice_0_023.pkl', 'AI-MA_project/pianoroll/voice_0/voice_0_024.pkl', 'AI-MA_project/pianoroll/voice_0/voice_0_025.pkl', 'AI-MA_project/pianoroll/voice_0/voice_0_026.pkl', 'AI-MA_project/pianoroll/voice_0/voice_0_027.pkl', 'AI-MA_project/pianoroll/voice_0/voice_0_028.pkl', 'AI-MA_project/pianoroll/voice_0/voice_0_029.pkl', 'AI-MA_project/pianoroll/voice_0/voice_0_030.pkl', 'AI-MA_project/pianoroll/voice_0/voice_0_031.pkl', 'AI-MA_project/pianoroll/voice_0/voice_0_032.pkl', 'AI-MA_project/pianoroll/voice_0/voice_0_033.pkl', 'AI-MA_project/pianoroll/voice_0/voice_0_034.pkl', 'AI-MA_project/pianoroll/voice_0/voice_0_035.pkl', 'AI-MA_project/pianoroll/voice_0/voice_0_036.pkl', 'AI-MA_project/pianoroll/voice_0/voice_0_037.pkl', 'AI-MA_project/pianoroll/voice_0/voice_0_038.pkl', 'AI-MA_project/pianoroll/voice_0/voice_0_039.pkl', 'AI-MA_project/pianoroll/voice_0/voice_0_040.pkl', 'AI-MA_project/pianoroll/voice_0/voice_0_041.pkl', 'AI-MA_project/pianoroll/voice_0/voice_0_042.pkl', 'AI-MA_project/pianoroll/voice_0/voice_0_044.pkl', 'AI-MA_project/pianoroll/voice_0/voice_0_045.pkl', 'AI-MA_project/pianoroll/voice_0/voice_0_046.pkl', 'AI-MA_project/pianoroll/voice_0/voice_0_047.pkl', 'AI-MA_project/pianoroll/voice_0/voice_0_048.pkl', 'AI-MA_project/pianoroll/voice_0/voice_0_049.pkl', 'AI-MA_project/pianoroll/voice_0/voice_0_050.pkl', 'AI-MA_project/pianoroll/voice_0/voice_0_051.pkl', 'AI-MA_project/pianoroll/voice_0/voice_0_052.pkl', 'AI-MA_project/pianoroll/voice_0/voice_0_053.pkl', 'AI-MA_project/pianoroll/voice_0/voice_0_054.pkl', 'AI-MA_project/pianoroll/voice_0/voice_0_055.pkl', 'AI-MA_project/pianoroll/voice_0/voice_0_056.pkl', 'AI-MA_project/pianoroll/voice_0/voice_0_057.pkl', 'AI-MA_project/pianoroll/voice_0/voice_0_058.pkl', 'AI-MA_project/pianoroll/voice_0/voice_0_059.pkl', 'AI-MA_project/pianoroll/voice_0/voice_0_060.pkl', 'AI-MA_project/pianoroll/voice_0/voice_0_061.pkl', 'AI-MA_project/pianoroll/voice_0/voice_0_062.pkl', 'AI-MA_project/pianoroll/voice_0/voice_0_063.pkl', 'AI-MA_project/pianoroll/voice_0/voice_0_064.pkl', 'AI-MA_project/pianoroll/voice_0/voice_0_065.pkl', 'AI-MA_project/pianoroll/voice_0/voice_0_066.pkl', 'AI-MA_project/pianoroll/voice_0/voice_0_067.pkl', 'AI-MA_project/pianoroll/voice_0/voice_0_068.pkl', 'AI-MA_project/pianoroll/voice_0/voice_0_069.pkl', 'AI-MA_project/pianoroll/voice_0/voice_0_070.pkl', 'AI-MA_project/pianoroll/voice_0/voice_0_071.pkl', 'AI-MA_project/pianoroll/voice_0/voice_0_072.pkl', 'AI-MA_project/pianoroll/voice_0/voice_0_073.pkl', 'AI-MA_project/pianoroll/voice_0/voice_0_074.pkl', 'AI-MA_project/pianoroll/voice_0/voice_0_075.pkl', 'AI-MA_project/pianoroll/voice_0/voice_0_076.pkl', 'AI-MA_project/pianoroll/voice_0/voice_0_077.pkl', 'AI-MA_project/pianoroll/voice_0/voice_0_078.pkl', 'AI-MA_project/pianoroll/voice_0/voice_0_079.pkl', 'AI-MA_project/pianoroll/voice_0/voice_0_080.pkl', 'AI-MA_project/pianoroll/voice_0/voice_0_081.pkl', 'AI-MA_project/pianoroll/voice_0/voice_0_082.pkl', 'AI-MA_project/pianoroll/voice_0/voice_0_083.pkl', 'AI-MA_project/pianoroll/voice_0/voice_0_084.pkl', 'AI-MA_project/pianoroll/voice_0/voice_0_085.pkl', 'AI-MA_project/pianoroll/voice_0/voice_0_086.pkl', 'AI-MA_project/pianoroll/voice_0/voice_0_087.pkl', 'AI-MA_project/pianoroll/voice_0/voice_0_088.pkl', 'AI-MA_project/pianoroll/voice_0/voice_0_089.pkl', 'AI-MA_project/pianoroll/voice_0/voice_0_090.pkl', 'AI-MA_project/pianoroll/voice_0/voice_0_091.pkl', 'AI-MA_project/pianoroll/voice_0/voice_0_092.pkl', 'AI-MA_project/pianoroll/voice_0/voice_0_093.pkl', 'AI-MA_project/pianoroll/voice_0/voice_0_094.pkl', 'AI-MA_project/pianoroll/voice_0/voice_0_095.pkl', 'AI-MA_project/pianoroll/voice_0/voice_0_096.pkl', 'AI-MA_project/pianoroll/voice_0/voice_0_097.pkl', 'AI-MA_project/pianoroll/voice_0/voice_0_098.pkl', 'AI-MA_project/pianoroll/voice_0/voice_0_099.pkl', 'AI-MA_project/pianoroll/voice_0/voice_0_100.pkl', 'AI-MA_project/pianoroll/voice_0/voice_0_101.pkl', 'AI-MA_project/pianoroll/voice_0/voice_0_102.pkl', 'AI-MA_project/pianoroll/voice_0/voice_0_103.pkl', 'AI-MA_project/pianoroll/voice_0/voice_0_104.pkl', 'AI-MA_project/pianoroll/voice_0/voice_0_105.pkl', 'AI-MA_project/pianoroll/voice_0/voice_0_106.pkl', 'AI-MA_project/pianoroll/voice_0/voice_0_107.pkl', 'AI-MA_project/pianoroll/voice_0/voice_0_108.pkl', 'AI-MA_project/pianoroll/voice_0/voice_0_109.pkl', 'AI-MA_project/pianoroll/voice_0/voice_0_110.pkl', 'AI-MA_project/pianoroll/voice_0/voice_0_111.pkl', 'AI-MA_project/pianoroll/voice_0/voice_0_112.pkl', 'AI-MA_project/pianoroll/voice_0/voice_0_113.pkl', 'AI-MA_project/pianoroll/voice_0/voice_0_114.pkl', 'AI-MA_project/pianoroll/voice_0/voice_0_115.pkl', 'AI-MA_project/pianoroll/voice_0/voice_0_116.pkl', 'AI-MA_project/pianoroll/voice_0/voice_0_117.pkl', 'AI-MA_project/pianoroll/voice_0/voice_0_118.pkl', 'AI-MA_project/pianoroll/voice_0/voice_0_119.pkl', 'AI-MA_project/pianoroll/voice_0/voice_0_120.pkl', 'AI-MA_project/pianoroll/voice_0/voice_0_121.pkl', 'AI-MA_project/pianoroll/voice_0/voice_0_122.pkl', 'AI-MA_project/pianoroll/voice_0/voice_0_123.pkl', 'AI-MA_project/pianoroll/voice_0/voice_0_124.pkl', 'AI-MA_project/pianoroll/voice_0/voice_0_125.pkl', 'AI-MA_project/pianoroll/voice_0/voice_0_126.pkl', 'AI-MA_project/pianoroll/voice_0/voice_0_127.pkl', 'AI-MA_project/pianoroll/voice_0/voice_0_128.pkl', 'AI-MA_project/pianoroll/voice_0/voice_0_129.pkl', 'AI-MA_project/pianoroll/voice_0/voice_0_130.pkl', 'AI-MA_project/pianoroll/voice_0/voice_0_131.pkl', 'AI-MA_project/pianoroll/voice_0/voice_0_132.pkl', 'AI-MA_project/pianoroll/voice_0/voice_0_134.pkl', 'AI-MA_project/pianoroll/voice_0/voice_0_135.pkl', 'AI-MA_project/pianoroll/voice_0/voice_0_136.pkl', 'AI-MA_project/pianoroll/voice_0/voice_0_137.pkl', 'AI-MA_project/pianoroll/voice_0/voice_0_138.pkl', 'AI-MA_project/pianoroll/voice_0/voice_0_139.pkl', 'AI-MA_project/pianoroll/voice_0/voice_0_140.pkl', 'AI-MA_project/pianoroll/voice_0/voice_0_141.pkl', 'AI-MA_project/pianoroll/voice_0/voice_0_142.pkl', 'AI-MA_project/pianoroll/voice_0/voice_0_143.pkl', 'AI-MA_project/pianoroll/voice_0/voice_0_144.pkl', 'AI-MA_project/pianoroll/voice_0/voice_0_145.pkl', 'AI-MA_project/pianoroll/voice_0/voice_0_146.pkl', 'AI-MA_project/pianoroll/voice_0/voice_0_147.pkl', 'AI-MA_project/pianoroll/voice_0/voice_0_148.pkl', 'AI-MA_project/pianoroll/voice_0/voice_0_149.pkl', 'AI-MA_project/pianoroll/voice_0/voice_0_151.pkl', 'AI-MA_project/pianoroll/voice_0/voice_0_152.pkl', 'AI-MA_project/pianoroll/voice_0/voice_0_153.pkl', 'AI-MA_project/pianoroll/voice_0/voice_0_154.pkl', 'AI-MA_project/pianoroll/voice_0/voice_0_155.pkl', 'AI-MA_project/pianoroll/voice_0/voice_0_156.pkl', 'AI-MA_project/pianoroll/voice_0/voice_0_157.pkl', 'AI-MA_project/pianoroll/voice_0/voice_0_158.pkl', 'AI-MA_project/pianoroll/voice_0/voice_0_159.pkl', 'AI-MA_project/pianoroll/voice_0/voice_0_160.pkl', 'AI-MA_project/pianoroll/voice_0/voice_0_161.pkl', 'AI-MA_project/pianoroll/voice_0/voice_0_162.pkl', 'AI-MA_project/pianoroll/voice_0/voice_0_163.pkl', 'AI-MA_project/pianoroll/voice_0/voice_0_164.pkl', 'AI-MA_project/pianoroll/voice_0/voice_0_165.pkl', 'AI-MA_project/pianoroll/voice_0/voice_0_166.pkl', 'AI-MA_project/pianoroll/voice_0/voice_0_167.pkl', 'AI-MA_project/pianoroll/voice_0/voice_0_168.pkl', 'AI-MA_project/pianoroll/voice_0/voice_0_169.pkl', 'AI-MA_project/pianoroll/voice_0/voice_0_170.pkl', 'AI-MA_project/pianoroll/voice_0/voice_0_171.pkl', 'AI-MA_project/pianoroll/voice_0/voice_0_172.pkl', 'AI-MA_project/pianoroll/voice_0/voice_0_173.pkl', 'AI-MA_project/pianoroll/voice_0/voice_0_174.pkl', 'AI-MA_project/pianoroll/voice_0/voice_0_175.pkl', 'AI-MA_project/pianoroll/voice_0/voice_0_176.pkl', 'AI-MA_project/pianoroll/voice_0/voice_0_177.pkl', 'AI-MA_project/pianoroll/voice_0/voice_0_178.pkl', 'AI-MA_project/pianoroll/voice_0/voice_0_179.pkl', 'AI-MA_project/pianoroll/voice_0/voice_0_180.pkl', 'AI-MA_project/pianoroll/voice_0/voice_0_181.pkl', 'AI-MA_project/pianoroll/voice_0/voice_0_182.pkl', 'AI-MA_project/pianoroll/voice_0/voice_0_183.pkl', 'AI-MA_project/pianoroll/voice_0/voice_0_184.pkl', 'AI-MA_project/pianoroll/voice_0/voice_0_185.pkl', 'AI-MA_project/pianoroll/voice_0/voice_0_186.pkl', 'AI-MA_project/pianoroll/voice_0/voice_0_187.pkl', 'AI-MA_project/pianoroll/voice_0/voice_0_188.pkl', 'AI-MA_project/pianoroll/voice_0/voice_0_189.pkl', 'AI-MA_project/pianoroll/voice_0/voice_0_190.pkl', 'AI-MA_project/pianoroll/voice_0/voice_0_191.pkl', 'AI-MA_project/pianoroll/voice_0/voice_0_192.pkl', 'AI-MA_project/pianoroll/voice_0/voice_0_193.pkl', 'AI-MA_project/pianoroll/voice_0/voice_0_194.pkl', 'AI-MA_project/pianoroll/voice_0/voice_0_195.pkl', 'AI-MA_project/pianoroll/voice_0/voice_0_196.pkl', 'AI-MA_project/pianoroll/voice_0/voice_0_197.pkl', 'AI-MA_project/pianoroll/voice_0/voice_0_198.pkl', 'AI-MA_project/pianoroll/voice_0/voice_0_199.pkl', 'AI-MA_project/pianoroll/voice_0/voice_0_200.pkl', 'AI-MA_project/pianoroll/voice_0/voice_0_201.pkl', 'AI-MA_project/pianoroll/voice_0/voice_0_202.pkl', 'AI-MA_project/pianoroll/voice_0/voice_0_203.pkl', 'AI-MA_project/pianoroll/voice_0/voice_0_204.pkl', 'AI-MA_project/pianoroll/voice_0/voice_0_205.pkl', 'AI-MA_project/pianoroll/voice_0/voice_0_206.pkl', 'AI-MA_project/pianoroll/voice_0/voice_0_207.pkl', 'AI-MA_project/pianoroll/voice_0/voice_0_208.pkl', 'AI-MA_project/pianoroll/voice_0/voice_0_209.pkl', 'AI-MA_project/pianoroll/voice_0/voice_0_210.pkl', 'AI-MA_project/pianoroll/voice_0/voice_0_211.pkl', 'AI-MA_project/pianoroll/voice_0/voice_0_212.pkl', 'AI-MA_project/pianoroll/voice_0/voice_0_213.pkl', 'AI-MA_project/pianoroll/voice_0/voice_0_214.pkl', 'AI-MA_project/pianoroll/voice_0/voice_0_215.pkl', 'AI-MA_project/pianoroll/voice_0/voice_0_216.pkl', 'AI-MA_project/pianoroll/voice_0/voice_0_217.pkl', 'AI-MA_project/pianoroll/voice_0/voice_0_218.pkl', 'AI-MA_project/pianoroll/voice_0/voice_0_219.pkl', 'AI-MA_project/pianoroll/voice_0/voice_0_220.pkl', 'AI-MA_project/pianoroll/voice_0/voice_0_221.pkl', 'AI-MA_project/pianoroll/voice_0/voice_0_222.pkl', 'AI-MA_project/pianoroll/voice_0/voice_0_223.pkl', 'AI-MA_project/pianoroll/voice_0/voice_0_224.pkl', 'AI-MA_project/pianoroll/voice_0/voice_0_225.pkl', 'AI-MA_project/pianoroll/voice_0/voice_0_226.pkl', 'AI-MA_project/pianoroll/voice_0/voice_0_227.pkl', 'AI-MA_project/pianoroll/voice_0/voice_0_228.pkl', 'AI-MA_project/pianoroll/voice_0/voice_0_229.pkl', 'AI-MA_project/pianoroll/voice_0/voice_0_230.pkl', 'AI-MA_project/pianoroll/voice_0/voice_0_231.pkl', 'AI-MA_project/pianoroll/voice_0/voice_0_232.pkl', 'AI-MA_project/pianoroll/voice_0/voice_0_233.pkl', 'AI-MA_project/pianoroll/voice_0/voice_0_234.pkl', 'AI-MA_project/pianoroll/voice_0/voice_0_235.pkl', 'AI-MA_project/pianoroll/voice_0/voice_0_236.pkl', 'AI-MA_project/pianoroll/voice_0/voice_0_237.pkl', 'AI-MA_project/pianoroll/voice_0/voice_0_238.pkl', 'AI-MA_project/pianoroll/voice_0/voice_0_239.pkl', 'AI-MA_project/pianoroll/voice_0/voice_0_240.pkl', 'AI-MA_project/pianoroll/voice_0/voice_0_241.pkl', 'AI-MA_project/pianoroll/voice_0/voice_0_242.pkl', 'AI-MA_project/pianoroll/voice_0/voice_0_243.pkl', 'AI-MA_project/pianoroll/voice_0/voice_0_244.pkl', 'AI-MA_project/pianoroll/voice_0/voice_0_245.pkl', 'AI-MA_project/pianoroll/voice_0/voice_0_246.pkl', 'AI-MA_project/pianoroll/voice_0/voice_0_247.pkl', 'AI-MA_project/pianoroll/voice_0/voice_0_248.pkl', 'AI-MA_project/pianoroll/voice_0/voice_0_249.pkl', 'AI-MA_project/pianoroll/voice_0/voice_0_250.pkl', 'AI-MA_project/pianoroll/voice_0/voice_0_251.pkl', 'AI-MA_project/pianoroll/voice_0/voice_0_252.pkl', 'AI-MA_project/pianoroll/voice_0/voice_0_253.pkl', 'AI-MA_project/pianoroll/voice_0/voice_0_254.pkl', 'AI-MA_project/pianoroll/voice_0/voice_0_255.pkl', 'AI-MA_project/pianoroll/voice_0/voice_0_256.pkl', 'AI-MA_project/pianoroll/voice_0/voice_0_257.pkl', 'AI-MA_project/pianoroll/voice_0/voice_0_258.pkl', 'AI-MA_project/pianoroll/voice_0/voice_0_259.pkl', 'AI-MA_project/pianoroll/voice_0/voice_0_260.pkl', 'AI-MA_project/pianoroll/voice_0/voice_0_261.pkl', 'AI-MA_project/pianoroll/voice_0/voice_0_262.pkl', 'AI-MA_project/pianoroll/voice_0/voice_0_263.pkl', 'AI-MA_project/pianoroll/voice_0/voice_0_264.pkl', 'AI-MA_project/pianoroll/voice_0/voice_0_265.pkl', 'AI-MA_project/pianoroll/voice_0/voice_0_266.pkl', 'AI-MA_project/pianoroll/voice_0/voice_0_267.pkl', 'AI-MA_project/pianoroll/voice_0/voice_0_268.pkl', 'AI-MA_project/pianoroll/voice_0/voice_0_269.pkl', 'AI-MA_project/pianoroll/voice_0/voice_0_270.pkl', 'AI-MA_project/pianoroll/voice_0/voice_0_271.pkl', 'AI-MA_project/pianoroll/voice_0/voice_0_272.pkl', 'AI-MA_project/pianoroll/voice_0/voice_0_273.pkl', 'AI-MA_project/pianoroll/voice_0/voice_0_274.pkl', 'AI-MA_project/pianoroll/voice_0/voice_0_275.pkl', 'AI-MA_project/pianoroll/voice_0/voice_0_276.pkl', 'AI-MA_project/pianoroll/voice_0/voice_0_277.pkl', 'AI-MA_project/pianoroll/voice_0/voice_0_278.pkl', 'AI-MA_project/pianoroll/voice_0/voice_0_279.pkl', 'AI-MA_project/pianoroll/voice_0/voice_0_280.pkl', 'AI-MA_project/pianoroll/voice_0/voice_0_281.pkl', 'AI-MA_project/pianoroll/voice_0/voice_0_282.pkl', 'AI-MA_project/pianoroll/voice_0/voice_0_284.pkl', 'AI-MA_project/pianoroll/voice_0/voice_0_285.pkl', 'AI-MA_project/pianoroll/voice_0/voice_0_286.pkl', 'AI-MA_project/pianoroll/voice_0/voice_0_287.pkl', 'AI-MA_project/pianoroll/voice_0/voice_0_288.pkl', 'AI-MA_project/pianoroll/voice_0/voice_0_289.pkl', 'AI-MA_project/pianoroll/voice_0/voice_0_290.pkl', 'AI-MA_project/pianoroll/voice_0/voice_0_291.pkl', 'AI-MA_project/pianoroll/voice_0/voice_0_292.pkl', 'AI-MA_project/pianoroll/voice_0/voice_0_293.pkl', 'AI-MA_project/pianoroll/voice_0/voice_0_294.pkl', 'AI-MA_project/pianoroll/voice_0/voice_0_295.pkl', 'AI-MA_project/pianoroll/voice_0/voice_0_296.pkl', 'AI-MA_project/pianoroll/voice_0/voice_0_297.pkl', 'AI-MA_project/pianoroll/voice_0/voice_0_298.pkl', 'AI-MA_project/pianoroll/voice_0/voice_0_299.pkl', 'AI-MA_project/pianoroll/voice_0/voice_0_300.pkl', 'AI-MA_project/pianoroll/voice_0/voice_0_301.pkl', 'AI-MA_project/pianoroll/voice_0/voice_0_302.pkl', 'AI-MA_project/pianoroll/voice_0/voice_0_303.pkl', 'AI-MA_project/pianoroll/voice_0/voice_0_304.pkl', 'AI-MA_project/pianoroll/voice_0/voice_0_305.pkl', 'AI-MA_project/pianoroll/voice_0/voice_0_306.pkl', 'AI-MA_project/pianoroll/voice_0/voice_0_307.pkl', 'AI-MA_project/pianoroll/voice_0/voice_0_308.pkl', 'AI-MA_project/pianoroll/voice_0/voice_0_309.pkl', 'AI-MA_project/pianoroll/voice_0/voice_0_310.pkl', 'AI-MA_project/pianoroll/voice_0/voice_0_311.pkl', 'AI-MA_project/pianoroll/voice_0/voice_0_312.pkl', 'AI-MA_project/pianoroll/voice_0/voice_0_313.pkl', 'AI-MA_project/pianoroll/voice_0/voice_0_314.pkl', 'AI-MA_project/pianoroll/voice_0/voice_0_315.pkl', 'AI-MA_project/pianoroll/voice_0/voice_0_316.pkl', 'AI-MA_project/pianoroll/voice_0/voice_0_317.pkl', 'AI-MA_project/pianoroll/voice_0/voice_0_318.pkl', 'AI-MA_project/pianoroll/voice_0/voice_0_319.pkl', 'AI-MA_project/pianoroll/voice_0/voice_0_320.pkl', 'AI-MA_project/pianoroll/voice_0/voice_0_321.pkl', 'AI-MA_project/pianoroll/voice_0/voice_0_322.pkl', 'AI-MA_project/pianoroll/voice_0/voice_0_323.pkl', 'AI-MA_project/pianoroll/voice_0/voice_0_324.pkl', 'AI-MA_project/pianoroll/voice_0/voice_0_325.pkl', 'AI-MA_project/pianoroll/voice_0/voice_0_326.pkl', 'AI-MA_project/pianoroll/voice_0/voice_0_327.pkl', 'AI-MA_project/pianoroll/voice_0/voice_0_328.pkl', 'AI-MA_project/pianoroll/voice_0/voice_0_329.pkl', 'AI-MA_project/pianoroll/voice_0/voice_0_330.pkl', 'AI-MA_project/pianoroll/voice_0/voice_0_331.pkl', 'AI-MA_project/pianoroll/voice_0/voice_0_332.pkl', 'AI-MA_project/pianoroll/voice_0/voice_0_333.pkl', 'AI-MA_project/pianoroll/voice_0/voice_0_334.pkl', 'AI-MA_project/pianoroll/voice_0/voice_0_335.pkl', 'AI-MA_project/pianoroll/voice_0/voice_0_336.pkl', 'AI-MA_project/pianoroll/voice_0/voice_0_337.pkl', 'AI-MA_project/pianoroll/voice_0/voice_0_338.pkl', 'AI-MA_project/pianoroll/voice_0/voice_0_339.pkl', 'AI-MA_project/pianoroll/voice_0/voice_0_340.pkl', 'AI-MA_project/pianoroll/voice_0/voice_0_341.pkl', 'AI-MA_project/pianoroll/voice_0/voice_0_342.pkl', 'AI-MA_project/pianoroll/voice_0/voice_0_343.pkl', 'AI-MA_project/pianoroll/voice_0/voice_0_344.pkl', 'AI-MA_project/pianoroll/voice_0/voice_0_345.pkl', 'AI-MA_project/pianoroll/voice_0/voice_0_346.pkl', 'AI-MA_project/pianoroll/voice_0/voice_0_347.pkl', 'AI-MA_project/pianoroll/voice_0/voice_0_348.pkl', 'AI-MA_project/pianoroll/voice_0/voice_0_349.pkl', 'AI-MA_project/pianoroll/voice_0/voice_0_350.pkl', 'AI-MA_project/pianoroll/voice_0/voice_0_351.pkl', 'AI-MA_project/pianoroll/voice_0/voice_0_352.pkl', 'AI-MA_project/pianoroll/voice_0/voice_0_353.pkl', 'AI-MA_project/pianoroll/voice_0/voice_0_354.pkl', 'AI-MA_project/pianoroll/voice_0/voice_0_355.pkl', 'AI-MA_project/pianoroll/voice_0/voice_0_356.pkl', 'AI-MA_project/pianoroll/voice_0/voice_0_357.pkl', 'AI-MA_project/pianoroll/voice_0/voice_0_358.pkl', 'AI-MA_project/pianoroll/voice_0/voice_0_359.pkl', 'AI-MA_project/pianoroll/voice_0/voice_0_360.pkl', 'AI-MA_project/pianoroll/voice_0/voice_0_361.pkl', 'AI-MA_project/pianoroll/voice_0/voice_0_362.pkl', 'AI-MA_project/pianoroll/voice_0/voice_0_363.pkl', 'AI-MA_project/pianoroll/voice_0/voice_0_364.pkl', 'AI-MA_project/pianoroll/voice_0/voice_0_365.pkl', 'AI-MA_project/pianoroll/voice_0/voice_0_366.pkl', 'AI-MA_project/pianoroll/voice_0/voice_0_367.pkl', 'AI-MA_project/pianoroll/voice_0/voice_0_368.pkl', 'AI-MA_project/pianoroll/voice_0/voice_0_369.pkl', 'AI-MA_project/pianoroll/voice_0/voice_0_370.pkl', 'AI-MA_project/pianoroll/voice_0/voice_0_371.pkl']\n",
            "['AI-MA_project/pianoroll/voice_1/voice_1_001.pkl', 'AI-MA_project/pianoroll/voice_1/voice_1_002.pkl', 'AI-MA_project/pianoroll/voice_1/voice_1_003.pkl', 'AI-MA_project/pianoroll/voice_1/voice_1_004.pkl', 'AI-MA_project/pianoroll/voice_1/voice_1_005.pkl', 'AI-MA_project/pianoroll/voice_1/voice_1_006.pkl', 'AI-MA_project/pianoroll/voice_1/voice_1_007.pkl', 'AI-MA_project/pianoroll/voice_1/voice_1_008.pkl', 'AI-MA_project/pianoroll/voice_1/voice_1_009.pkl', 'AI-MA_project/pianoroll/voice_1/voice_1_010.pkl', 'AI-MA_project/pianoroll/voice_1/voice_1_011.pkl', 'AI-MA_project/pianoroll/voice_1/voice_1_012.pkl', 'AI-MA_project/pianoroll/voice_1/voice_1_013.pkl', 'AI-MA_project/pianoroll/voice_1/voice_1_014.pkl', 'AI-MA_project/pianoroll/voice_1/voice_1_015.pkl', 'AI-MA_project/pianoroll/voice_1/voice_1_016.pkl', 'AI-MA_project/pianoroll/voice_1/voice_1_017.pkl', 'AI-MA_project/pianoroll/voice_1/voice_1_018.pkl', 'AI-MA_project/pianoroll/voice_1/voice_1_019.pkl', 'AI-MA_project/pianoroll/voice_1/voice_1_020.pkl', 'AI-MA_project/pianoroll/voice_1/voice_1_021.pkl', 'AI-MA_project/pianoroll/voice_1/voice_1_022.pkl', 'AI-MA_project/pianoroll/voice_1/voice_1_023.pkl', 'AI-MA_project/pianoroll/voice_1/voice_1_024.pkl', 'AI-MA_project/pianoroll/voice_1/voice_1_025.pkl', 'AI-MA_project/pianoroll/voice_1/voice_1_026.pkl', 'AI-MA_project/pianoroll/voice_1/voice_1_027.pkl', 'AI-MA_project/pianoroll/voice_1/voice_1_028.pkl', 'AI-MA_project/pianoroll/voice_1/voice_1_029.pkl', 'AI-MA_project/pianoroll/voice_1/voice_1_030.pkl', 'AI-MA_project/pianoroll/voice_1/voice_1_031.pkl', 'AI-MA_project/pianoroll/voice_1/voice_1_032.pkl', 'AI-MA_project/pianoroll/voice_1/voice_1_033.pkl', 'AI-MA_project/pianoroll/voice_1/voice_1_034.pkl', 'AI-MA_project/pianoroll/voice_1/voice_1_035.pkl', 'AI-MA_project/pianoroll/voice_1/voice_1_036.pkl', 'AI-MA_project/pianoroll/voice_1/voice_1_037.pkl', 'AI-MA_project/pianoroll/voice_1/voice_1_038.pkl', 'AI-MA_project/pianoroll/voice_1/voice_1_039.pkl', 'AI-MA_project/pianoroll/voice_1/voice_1_040.pkl', 'AI-MA_project/pianoroll/voice_1/voice_1_041.pkl', 'AI-MA_project/pianoroll/voice_1/voice_1_042.pkl', 'AI-MA_project/pianoroll/voice_1/voice_1_044.pkl', 'AI-MA_project/pianoroll/voice_1/voice_1_045.pkl', 'AI-MA_project/pianoroll/voice_1/voice_1_046.pkl', 'AI-MA_project/pianoroll/voice_1/voice_1_047.pkl', 'AI-MA_project/pianoroll/voice_1/voice_1_048.pkl', 'AI-MA_project/pianoroll/voice_1/voice_1_049.pkl', 'AI-MA_project/pianoroll/voice_1/voice_1_050.pkl', 'AI-MA_project/pianoroll/voice_1/voice_1_051.pkl', 'AI-MA_project/pianoroll/voice_1/voice_1_052.pkl', 'AI-MA_project/pianoroll/voice_1/voice_1_053.pkl', 'AI-MA_project/pianoroll/voice_1/voice_1_054.pkl', 'AI-MA_project/pianoroll/voice_1/voice_1_055.pkl', 'AI-MA_project/pianoroll/voice_1/voice_1_056.pkl', 'AI-MA_project/pianoroll/voice_1/voice_1_057.pkl', 'AI-MA_project/pianoroll/voice_1/voice_1_058.pkl', 'AI-MA_project/pianoroll/voice_1/voice_1_059.pkl', 'AI-MA_project/pianoroll/voice_1/voice_1_060.pkl', 'AI-MA_project/pianoroll/voice_1/voice_1_061.pkl', 'AI-MA_project/pianoroll/voice_1/voice_1_062.pkl', 'AI-MA_project/pianoroll/voice_1/voice_1_063.pkl', 'AI-MA_project/pianoroll/voice_1/voice_1_064.pkl', 'AI-MA_project/pianoroll/voice_1/voice_1_065.pkl', 'AI-MA_project/pianoroll/voice_1/voice_1_066.pkl', 'AI-MA_project/pianoroll/voice_1/voice_1_067.pkl', 'AI-MA_project/pianoroll/voice_1/voice_1_068.pkl', 'AI-MA_project/pianoroll/voice_1/voice_1_069.pkl', 'AI-MA_project/pianoroll/voice_1/voice_1_070.pkl', 'AI-MA_project/pianoroll/voice_1/voice_1_071.pkl', 'AI-MA_project/pianoroll/voice_1/voice_1_072.pkl', 'AI-MA_project/pianoroll/voice_1/voice_1_073.pkl', 'AI-MA_project/pianoroll/voice_1/voice_1_074.pkl', 'AI-MA_project/pianoroll/voice_1/voice_1_075.pkl', 'AI-MA_project/pianoroll/voice_1/voice_1_076.pkl', 'AI-MA_project/pianoroll/voice_1/voice_1_077.pkl', 'AI-MA_project/pianoroll/voice_1/voice_1_078.pkl', 'AI-MA_project/pianoroll/voice_1/voice_1_079.pkl', 'AI-MA_project/pianoroll/voice_1/voice_1_080.pkl', 'AI-MA_project/pianoroll/voice_1/voice_1_081.pkl', 'AI-MA_project/pianoroll/voice_1/voice_1_082.pkl', 'AI-MA_project/pianoroll/voice_1/voice_1_083.pkl', 'AI-MA_project/pianoroll/voice_1/voice_1_084.pkl', 'AI-MA_project/pianoroll/voice_1/voice_1_085.pkl', 'AI-MA_project/pianoroll/voice_1/voice_1_086.pkl', 'AI-MA_project/pianoroll/voice_1/voice_1_087.pkl', 'AI-MA_project/pianoroll/voice_1/voice_1_088.pkl', 'AI-MA_project/pianoroll/voice_1/voice_1_089.pkl', 'AI-MA_project/pianoroll/voice_1/voice_1_090.pkl', 'AI-MA_project/pianoroll/voice_1/voice_1_091.pkl', 'AI-MA_project/pianoroll/voice_1/voice_1_092.pkl', 'AI-MA_project/pianoroll/voice_1/voice_1_093.pkl', 'AI-MA_project/pianoroll/voice_1/voice_1_094.pkl', 'AI-MA_project/pianoroll/voice_1/voice_1_095.pkl', 'AI-MA_project/pianoroll/voice_1/voice_1_096.pkl', 'AI-MA_project/pianoroll/voice_1/voice_1_097.pkl', 'AI-MA_project/pianoroll/voice_1/voice_1_098.pkl', 'AI-MA_project/pianoroll/voice_1/voice_1_099.pkl', 'AI-MA_project/pianoroll/voice_1/voice_1_100.pkl', 'AI-MA_project/pianoroll/voice_1/voice_1_101.pkl', 'AI-MA_project/pianoroll/voice_1/voice_1_102.pkl', 'AI-MA_project/pianoroll/voice_1/voice_1_103.pkl', 'AI-MA_project/pianoroll/voice_1/voice_1_104.pkl', 'AI-MA_project/pianoroll/voice_1/voice_1_105.pkl', 'AI-MA_project/pianoroll/voice_1/voice_1_106.pkl', 'AI-MA_project/pianoroll/voice_1/voice_1_107.pkl', 'AI-MA_project/pianoroll/voice_1/voice_1_108.pkl', 'AI-MA_project/pianoroll/voice_1/voice_1_109.pkl', 'AI-MA_project/pianoroll/voice_1/voice_1_110.pkl', 'AI-MA_project/pianoroll/voice_1/voice_1_111.pkl', 'AI-MA_project/pianoroll/voice_1/voice_1_112.pkl', 'AI-MA_project/pianoroll/voice_1/voice_1_113.pkl', 'AI-MA_project/pianoroll/voice_1/voice_1_114.pkl', 'AI-MA_project/pianoroll/voice_1/voice_1_115.pkl', 'AI-MA_project/pianoroll/voice_1/voice_1_116.pkl', 'AI-MA_project/pianoroll/voice_1/voice_1_117.pkl', 'AI-MA_project/pianoroll/voice_1/voice_1_118.pkl', 'AI-MA_project/pianoroll/voice_1/voice_1_119.pkl', 'AI-MA_project/pianoroll/voice_1/voice_1_120.pkl', 'AI-MA_project/pianoroll/voice_1/voice_1_121.pkl', 'AI-MA_project/pianoroll/voice_1/voice_1_122.pkl', 'AI-MA_project/pianoroll/voice_1/voice_1_123.pkl', 'AI-MA_project/pianoroll/voice_1/voice_1_124.pkl', 'AI-MA_project/pianoroll/voice_1/voice_1_125.pkl', 'AI-MA_project/pianoroll/voice_1/voice_1_126.pkl', 'AI-MA_project/pianoroll/voice_1/voice_1_127.pkl', 'AI-MA_project/pianoroll/voice_1/voice_1_128.pkl', 'AI-MA_project/pianoroll/voice_1/voice_1_129.pkl', 'AI-MA_project/pianoroll/voice_1/voice_1_130.pkl', 'AI-MA_project/pianoroll/voice_1/voice_1_131.pkl', 'AI-MA_project/pianoroll/voice_1/voice_1_132.pkl', 'AI-MA_project/pianoroll/voice_1/voice_1_134.pkl', 'AI-MA_project/pianoroll/voice_1/voice_1_135.pkl', 'AI-MA_project/pianoroll/voice_1/voice_1_136.pkl', 'AI-MA_project/pianoroll/voice_1/voice_1_137.pkl', 'AI-MA_project/pianoroll/voice_1/voice_1_138.pkl', 'AI-MA_project/pianoroll/voice_1/voice_1_139.pkl', 'AI-MA_project/pianoroll/voice_1/voice_1_140.pkl', 'AI-MA_project/pianoroll/voice_1/voice_1_141.pkl', 'AI-MA_project/pianoroll/voice_1/voice_1_142.pkl', 'AI-MA_project/pianoroll/voice_1/voice_1_143.pkl', 'AI-MA_project/pianoroll/voice_1/voice_1_144.pkl', 'AI-MA_project/pianoroll/voice_1/voice_1_145.pkl', 'AI-MA_project/pianoroll/voice_1/voice_1_146.pkl', 'AI-MA_project/pianoroll/voice_1/voice_1_147.pkl', 'AI-MA_project/pianoroll/voice_1/voice_1_148.pkl', 'AI-MA_project/pianoroll/voice_1/voice_1_149.pkl', 'AI-MA_project/pianoroll/voice_1/voice_1_151.pkl', 'AI-MA_project/pianoroll/voice_1/voice_1_152.pkl', 'AI-MA_project/pianoroll/voice_1/voice_1_153.pkl', 'AI-MA_project/pianoroll/voice_1/voice_1_154.pkl', 'AI-MA_project/pianoroll/voice_1/voice_1_155.pkl', 'AI-MA_project/pianoroll/voice_1/voice_1_156.pkl', 'AI-MA_project/pianoroll/voice_1/voice_1_157.pkl', 'AI-MA_project/pianoroll/voice_1/voice_1_158.pkl', 'AI-MA_project/pianoroll/voice_1/voice_1_159.pkl', 'AI-MA_project/pianoroll/voice_1/voice_1_160.pkl', 'AI-MA_project/pianoroll/voice_1/voice_1_161.pkl', 'AI-MA_project/pianoroll/voice_1/voice_1_162.pkl', 'AI-MA_project/pianoroll/voice_1/voice_1_163.pkl', 'AI-MA_project/pianoroll/voice_1/voice_1_164.pkl', 'AI-MA_project/pianoroll/voice_1/voice_1_165.pkl', 'AI-MA_project/pianoroll/voice_1/voice_1_166.pkl', 'AI-MA_project/pianoroll/voice_1/voice_1_167.pkl', 'AI-MA_project/pianoroll/voice_1/voice_1_168.pkl', 'AI-MA_project/pianoroll/voice_1/voice_1_169.pkl', 'AI-MA_project/pianoroll/voice_1/voice_1_170.pkl', 'AI-MA_project/pianoroll/voice_1/voice_1_171.pkl', 'AI-MA_project/pianoroll/voice_1/voice_1_172.pkl', 'AI-MA_project/pianoroll/voice_1/voice_1_173.pkl', 'AI-MA_project/pianoroll/voice_1/voice_1_174.pkl', 'AI-MA_project/pianoroll/voice_1/voice_1_175.pkl', 'AI-MA_project/pianoroll/voice_1/voice_1_176.pkl', 'AI-MA_project/pianoroll/voice_1/voice_1_177.pkl', 'AI-MA_project/pianoroll/voice_1/voice_1_178.pkl', 'AI-MA_project/pianoroll/voice_1/voice_1_179.pkl', 'AI-MA_project/pianoroll/voice_1/voice_1_180.pkl', 'AI-MA_project/pianoroll/voice_1/voice_1_181.pkl', 'AI-MA_project/pianoroll/voice_1/voice_1_182.pkl', 'AI-MA_project/pianoroll/voice_1/voice_1_183.pkl', 'AI-MA_project/pianoroll/voice_1/voice_1_184.pkl', 'AI-MA_project/pianoroll/voice_1/voice_1_185.pkl', 'AI-MA_project/pianoroll/voice_1/voice_1_186.pkl', 'AI-MA_project/pianoroll/voice_1/voice_1_187.pkl', 'AI-MA_project/pianoroll/voice_1/voice_1_188.pkl', 'AI-MA_project/pianoroll/voice_1/voice_1_189.pkl', 'AI-MA_project/pianoroll/voice_1/voice_1_190.pkl', 'AI-MA_project/pianoroll/voice_1/voice_1_191.pkl', 'AI-MA_project/pianoroll/voice_1/voice_1_192.pkl', 'AI-MA_project/pianoroll/voice_1/voice_1_193.pkl', 'AI-MA_project/pianoroll/voice_1/voice_1_194.pkl', 'AI-MA_project/pianoroll/voice_1/voice_1_195.pkl', 'AI-MA_project/pianoroll/voice_1/voice_1_196.pkl', 'AI-MA_project/pianoroll/voice_1/voice_1_197.pkl', 'AI-MA_project/pianoroll/voice_1/voice_1_198.pkl', 'AI-MA_project/pianoroll/voice_1/voice_1_199.pkl', 'AI-MA_project/pianoroll/voice_1/voice_1_200.pkl', 'AI-MA_project/pianoroll/voice_1/voice_1_201.pkl', 'AI-MA_project/pianoroll/voice_1/voice_1_202.pkl', 'AI-MA_project/pianoroll/voice_1/voice_1_203.pkl', 'AI-MA_project/pianoroll/voice_1/voice_1_204.pkl', 'AI-MA_project/pianoroll/voice_1/voice_1_205.pkl', 'AI-MA_project/pianoroll/voice_1/voice_1_206.pkl', 'AI-MA_project/pianoroll/voice_1/voice_1_207.pkl', 'AI-MA_project/pianoroll/voice_1/voice_1_208.pkl', 'AI-MA_project/pianoroll/voice_1/voice_1_209.pkl', 'AI-MA_project/pianoroll/voice_1/voice_1_210.pkl', 'AI-MA_project/pianoroll/voice_1/voice_1_211.pkl', 'AI-MA_project/pianoroll/voice_1/voice_1_212.pkl', 'AI-MA_project/pianoroll/voice_1/voice_1_213.pkl', 'AI-MA_project/pianoroll/voice_1/voice_1_214.pkl', 'AI-MA_project/pianoroll/voice_1/voice_1_215.pkl', 'AI-MA_project/pianoroll/voice_1/voice_1_216.pkl', 'AI-MA_project/pianoroll/voice_1/voice_1_217.pkl', 'AI-MA_project/pianoroll/voice_1/voice_1_218.pkl', 'AI-MA_project/pianoroll/voice_1/voice_1_219.pkl', 'AI-MA_project/pianoroll/voice_1/voice_1_220.pkl', 'AI-MA_project/pianoroll/voice_1/voice_1_221.pkl', 'AI-MA_project/pianoroll/voice_1/voice_1_222.pkl', 'AI-MA_project/pianoroll/voice_1/voice_1_223.pkl', 'AI-MA_project/pianoroll/voice_1/voice_1_224.pkl', 'AI-MA_project/pianoroll/voice_1/voice_1_225.pkl', 'AI-MA_project/pianoroll/voice_1/voice_1_226.pkl', 'AI-MA_project/pianoroll/voice_1/voice_1_227.pkl', 'AI-MA_project/pianoroll/voice_1/voice_1_228.pkl', 'AI-MA_project/pianoroll/voice_1/voice_1_229.pkl', 'AI-MA_project/pianoroll/voice_1/voice_1_230.pkl', 'AI-MA_project/pianoroll/voice_1/voice_1_231.pkl', 'AI-MA_project/pianoroll/voice_1/voice_1_232.pkl', 'AI-MA_project/pianoroll/voice_1/voice_1_233.pkl', 'AI-MA_project/pianoroll/voice_1/voice_1_234.pkl', 'AI-MA_project/pianoroll/voice_1/voice_1_235.pkl', 'AI-MA_project/pianoroll/voice_1/voice_1_236.pkl', 'AI-MA_project/pianoroll/voice_1/voice_1_237.pkl', 'AI-MA_project/pianoroll/voice_1/voice_1_238.pkl', 'AI-MA_project/pianoroll/voice_1/voice_1_239.pkl', 'AI-MA_project/pianoroll/voice_1/voice_1_240.pkl', 'AI-MA_project/pianoroll/voice_1/voice_1_241.pkl', 'AI-MA_project/pianoroll/voice_1/voice_1_242.pkl', 'AI-MA_project/pianoroll/voice_1/voice_1_243.pkl', 'AI-MA_project/pianoroll/voice_1/voice_1_244.pkl', 'AI-MA_project/pianoroll/voice_1/voice_1_245.pkl', 'AI-MA_project/pianoroll/voice_1/voice_1_246.pkl', 'AI-MA_project/pianoroll/voice_1/voice_1_247.pkl', 'AI-MA_project/pianoroll/voice_1/voice_1_248.pkl', 'AI-MA_project/pianoroll/voice_1/voice_1_249.pkl', 'AI-MA_project/pianoroll/voice_1/voice_1_250.pkl', 'AI-MA_project/pianoroll/voice_1/voice_1_251.pkl', 'AI-MA_project/pianoroll/voice_1/voice_1_252.pkl', 'AI-MA_project/pianoroll/voice_1/voice_1_253.pkl', 'AI-MA_project/pianoroll/voice_1/voice_1_254.pkl', 'AI-MA_project/pianoroll/voice_1/voice_1_255.pkl', 'AI-MA_project/pianoroll/voice_1/voice_1_256.pkl', 'AI-MA_project/pianoroll/voice_1/voice_1_257.pkl', 'AI-MA_project/pianoroll/voice_1/voice_1_258.pkl', 'AI-MA_project/pianoroll/voice_1/voice_1_259.pkl', 'AI-MA_project/pianoroll/voice_1/voice_1_260.pkl', 'AI-MA_project/pianoroll/voice_1/voice_1_261.pkl', 'AI-MA_project/pianoroll/voice_1/voice_1_262.pkl', 'AI-MA_project/pianoroll/voice_1/voice_1_263.pkl', 'AI-MA_project/pianoroll/voice_1/voice_1_264.pkl', 'AI-MA_project/pianoroll/voice_1/voice_1_265.pkl', 'AI-MA_project/pianoroll/voice_1/voice_1_266.pkl', 'AI-MA_project/pianoroll/voice_1/voice_1_267.pkl', 'AI-MA_project/pianoroll/voice_1/voice_1_268.pkl', 'AI-MA_project/pianoroll/voice_1/voice_1_269.pkl', 'AI-MA_project/pianoroll/voice_1/voice_1_270.pkl', 'AI-MA_project/pianoroll/voice_1/voice_1_271.pkl', 'AI-MA_project/pianoroll/voice_1/voice_1_272.pkl', 'AI-MA_project/pianoroll/voice_1/voice_1_273.pkl', 'AI-MA_project/pianoroll/voice_1/voice_1_274.pkl', 'AI-MA_project/pianoroll/voice_1/voice_1_275.pkl', 'AI-MA_project/pianoroll/voice_1/voice_1_276.pkl', 'AI-MA_project/pianoroll/voice_1/voice_1_277.pkl', 'AI-MA_project/pianoroll/voice_1/voice_1_278.pkl', 'AI-MA_project/pianoroll/voice_1/voice_1_279.pkl', 'AI-MA_project/pianoroll/voice_1/voice_1_280.pkl', 'AI-MA_project/pianoroll/voice_1/voice_1_281.pkl', 'AI-MA_project/pianoroll/voice_1/voice_1_282.pkl', 'AI-MA_project/pianoroll/voice_1/voice_1_284.pkl', 'AI-MA_project/pianoroll/voice_1/voice_1_285.pkl', 'AI-MA_project/pianoroll/voice_1/voice_1_286.pkl', 'AI-MA_project/pianoroll/voice_1/voice_1_287.pkl', 'AI-MA_project/pianoroll/voice_1/voice_1_288.pkl', 'AI-MA_project/pianoroll/voice_1/voice_1_289.pkl', 'AI-MA_project/pianoroll/voice_1/voice_1_290.pkl', 'AI-MA_project/pianoroll/voice_1/voice_1_291.pkl', 'AI-MA_project/pianoroll/voice_1/voice_1_292.pkl', 'AI-MA_project/pianoroll/voice_1/voice_1_293.pkl', 'AI-MA_project/pianoroll/voice_1/voice_1_294.pkl', 'AI-MA_project/pianoroll/voice_1/voice_1_295.pkl', 'AI-MA_project/pianoroll/voice_1/voice_1_296.pkl', 'AI-MA_project/pianoroll/voice_1/voice_1_297.pkl', 'AI-MA_project/pianoroll/voice_1/voice_1_298.pkl', 'AI-MA_project/pianoroll/voice_1/voice_1_299.pkl', 'AI-MA_project/pianoroll/voice_1/voice_1_300.pkl', 'AI-MA_project/pianoroll/voice_1/voice_1_301.pkl', 'AI-MA_project/pianoroll/voice_1/voice_1_302.pkl', 'AI-MA_project/pianoroll/voice_1/voice_1_303.pkl', 'AI-MA_project/pianoroll/voice_1/voice_1_304.pkl', 'AI-MA_project/pianoroll/voice_1/voice_1_305.pkl', 'AI-MA_project/pianoroll/voice_1/voice_1_306.pkl', 'AI-MA_project/pianoroll/voice_1/voice_1_307.pkl', 'AI-MA_project/pianoroll/voice_1/voice_1_308.pkl', 'AI-MA_project/pianoroll/voice_1/voice_1_309.pkl', 'AI-MA_project/pianoroll/voice_1/voice_1_310.pkl', 'AI-MA_project/pianoroll/voice_1/voice_1_311.pkl', 'AI-MA_project/pianoroll/voice_1/voice_1_312.pkl', 'AI-MA_project/pianoroll/voice_1/voice_1_313.pkl', 'AI-MA_project/pianoroll/voice_1/voice_1_314.pkl', 'AI-MA_project/pianoroll/voice_1/voice_1_315.pkl', 'AI-MA_project/pianoroll/voice_1/voice_1_316.pkl', 'AI-MA_project/pianoroll/voice_1/voice_1_317.pkl', 'AI-MA_project/pianoroll/voice_1/voice_1_318.pkl', 'AI-MA_project/pianoroll/voice_1/voice_1_319.pkl', 'AI-MA_project/pianoroll/voice_1/voice_1_320.pkl', 'AI-MA_project/pianoroll/voice_1/voice_1_321.pkl', 'AI-MA_project/pianoroll/voice_1/voice_1_322.pkl', 'AI-MA_project/pianoroll/voice_1/voice_1_323.pkl', 'AI-MA_project/pianoroll/voice_1/voice_1_324.pkl', 'AI-MA_project/pianoroll/voice_1/voice_1_325.pkl', 'AI-MA_project/pianoroll/voice_1/voice_1_326.pkl', 'AI-MA_project/pianoroll/voice_1/voice_1_327.pkl', 'AI-MA_project/pianoroll/voice_1/voice_1_328.pkl', 'AI-MA_project/pianoroll/voice_1/voice_1_329.pkl', 'AI-MA_project/pianoroll/voice_1/voice_1_330.pkl', 'AI-MA_project/pianoroll/voice_1/voice_1_331.pkl', 'AI-MA_project/pianoroll/voice_1/voice_1_332.pkl', 'AI-MA_project/pianoroll/voice_1/voice_1_333.pkl', 'AI-MA_project/pianoroll/voice_1/voice_1_334.pkl', 'AI-MA_project/pianoroll/voice_1/voice_1_335.pkl', 'AI-MA_project/pianoroll/voice_1/voice_1_336.pkl', 'AI-MA_project/pianoroll/voice_1/voice_1_337.pkl', 'AI-MA_project/pianoroll/voice_1/voice_1_338.pkl', 'AI-MA_project/pianoroll/voice_1/voice_1_339.pkl', 'AI-MA_project/pianoroll/voice_1/voice_1_340.pkl', 'AI-MA_project/pianoroll/voice_1/voice_1_341.pkl', 'AI-MA_project/pianoroll/voice_1/voice_1_342.pkl', 'AI-MA_project/pianoroll/voice_1/voice_1_343.pkl', 'AI-MA_project/pianoroll/voice_1/voice_1_344.pkl', 'AI-MA_project/pianoroll/voice_1/voice_1_345.pkl', 'AI-MA_project/pianoroll/voice_1/voice_1_346.pkl', 'AI-MA_project/pianoroll/voice_1/voice_1_347.pkl', 'AI-MA_project/pianoroll/voice_1/voice_1_348.pkl', 'AI-MA_project/pianoroll/voice_1/voice_1_349.pkl', 'AI-MA_project/pianoroll/voice_1/voice_1_350.pkl', 'AI-MA_project/pianoroll/voice_1/voice_1_351.pkl', 'AI-MA_project/pianoroll/voice_1/voice_1_352.pkl', 'AI-MA_project/pianoroll/voice_1/voice_1_353.pkl', 'AI-MA_project/pianoroll/voice_1/voice_1_354.pkl', 'AI-MA_project/pianoroll/voice_1/voice_1_355.pkl', 'AI-MA_project/pianoroll/voice_1/voice_1_356.pkl', 'AI-MA_project/pianoroll/voice_1/voice_1_357.pkl', 'AI-MA_project/pianoroll/voice_1/voice_1_358.pkl', 'AI-MA_project/pianoroll/voice_1/voice_1_359.pkl', 'AI-MA_project/pianoroll/voice_1/voice_1_360.pkl', 'AI-MA_project/pianoroll/voice_1/voice_1_361.pkl', 'AI-MA_project/pianoroll/voice_1/voice_1_362.pkl', 'AI-MA_project/pianoroll/voice_1/voice_1_363.pkl', 'AI-MA_project/pianoroll/voice_1/voice_1_364.pkl', 'AI-MA_project/pianoroll/voice_1/voice_1_365.pkl', 'AI-MA_project/pianoroll/voice_1/voice_1_366.pkl', 'AI-MA_project/pianoroll/voice_1/voice_1_367.pkl', 'AI-MA_project/pianoroll/voice_1/voice_1_368.pkl', 'AI-MA_project/pianoroll/voice_1/voice_1_369.pkl', 'AI-MA_project/pianoroll/voice_1/voice_1_370.pkl', 'AI-MA_project/pianoroll/voice_1/voice_1_371.pkl']\n",
            "[]\n",
            "['AI-MA_project/pianoroll/voice_3/voice_3_001.pkl', 'AI-MA_project/pianoroll/voice_3/voice_3_002.pkl', 'AI-MA_project/pianoroll/voice_3/voice_3_003.pkl', 'AI-MA_project/pianoroll/voice_3/voice_3_004.pkl', 'AI-MA_project/pianoroll/voice_3/voice_3_005.pkl', 'AI-MA_project/pianoroll/voice_3/voice_3_006.pkl', 'AI-MA_project/pianoroll/voice_3/voice_3_007.pkl', 'AI-MA_project/pianoroll/voice_3/voice_3_008.pkl', 'AI-MA_project/pianoroll/voice_3/voice_3_009.pkl', 'AI-MA_project/pianoroll/voice_3/voice_3_010.pkl', 'AI-MA_project/pianoroll/voice_3/voice_3_011.pkl', 'AI-MA_project/pianoroll/voice_3/voice_3_012.pkl', 'AI-MA_project/pianoroll/voice_3/voice_3_013.pkl', 'AI-MA_project/pianoroll/voice_3/voice_3_014.pkl', 'AI-MA_project/pianoroll/voice_3/voice_3_015.pkl', 'AI-MA_project/pianoroll/voice_3/voice_3_016.pkl', 'AI-MA_project/pianoroll/voice_3/voice_3_017.pkl', 'AI-MA_project/pianoroll/voice_3/voice_3_018.pkl', 'AI-MA_project/pianoroll/voice_3/voice_3_019.pkl', 'AI-MA_project/pianoroll/voice_3/voice_3_020.pkl', 'AI-MA_project/pianoroll/voice_3/voice_3_021.pkl', 'AI-MA_project/pianoroll/voice_3/voice_3_022.pkl', 'AI-MA_project/pianoroll/voice_3/voice_3_023.pkl', 'AI-MA_project/pianoroll/voice_3/voice_3_024.pkl', 'AI-MA_project/pianoroll/voice_3/voice_3_025.pkl', 'AI-MA_project/pianoroll/voice_3/voice_3_026.pkl', 'AI-MA_project/pianoroll/voice_3/voice_3_027.pkl', 'AI-MA_project/pianoroll/voice_3/voice_3_028.pkl', 'AI-MA_project/pianoroll/voice_3/voice_3_029.pkl', 'AI-MA_project/pianoroll/voice_3/voice_3_030.pkl', 'AI-MA_project/pianoroll/voice_3/voice_3_031.pkl', 'AI-MA_project/pianoroll/voice_3/voice_3_032.pkl', 'AI-MA_project/pianoroll/voice_3/voice_3_033.pkl', 'AI-MA_project/pianoroll/voice_3/voice_3_034.pkl', 'AI-MA_project/pianoroll/voice_3/voice_3_035.pkl', 'AI-MA_project/pianoroll/voice_3/voice_3_036.pkl', 'AI-MA_project/pianoroll/voice_3/voice_3_037.pkl', 'AI-MA_project/pianoroll/voice_3/voice_3_038.pkl', 'AI-MA_project/pianoroll/voice_3/voice_3_039.pkl', 'AI-MA_project/pianoroll/voice_3/voice_3_040.pkl', 'AI-MA_project/pianoroll/voice_3/voice_3_041.pkl', 'AI-MA_project/pianoroll/voice_3/voice_3_042.pkl', 'AI-MA_project/pianoroll/voice_3/voice_3_044.pkl', 'AI-MA_project/pianoroll/voice_3/voice_3_045.pkl', 'AI-MA_project/pianoroll/voice_3/voice_3_046.pkl', 'AI-MA_project/pianoroll/voice_3/voice_3_047.pkl', 'AI-MA_project/pianoroll/voice_3/voice_3_048.pkl', 'AI-MA_project/pianoroll/voice_3/voice_3_049.pkl', 'AI-MA_project/pianoroll/voice_3/voice_3_050.pkl', 'AI-MA_project/pianoroll/voice_3/voice_3_051.pkl', 'AI-MA_project/pianoroll/voice_3/voice_3_052.pkl', 'AI-MA_project/pianoroll/voice_3/voice_3_053.pkl', 'AI-MA_project/pianoroll/voice_3/voice_3_054.pkl', 'AI-MA_project/pianoroll/voice_3/voice_3_055.pkl', 'AI-MA_project/pianoroll/voice_3/voice_3_056.pkl', 'AI-MA_project/pianoroll/voice_3/voice_3_057.pkl', 'AI-MA_project/pianoroll/voice_3/voice_3_058.pkl', 'AI-MA_project/pianoroll/voice_3/voice_3_059.pkl', 'AI-MA_project/pianoroll/voice_3/voice_3_060.pkl', 'AI-MA_project/pianoroll/voice_3/voice_3_061.pkl', 'AI-MA_project/pianoroll/voice_3/voice_3_062.pkl', 'AI-MA_project/pianoroll/voice_3/voice_3_063.pkl', 'AI-MA_project/pianoroll/voice_3/voice_3_064.pkl', 'AI-MA_project/pianoroll/voice_3/voice_3_065.pkl', 'AI-MA_project/pianoroll/voice_3/voice_3_066.pkl', 'AI-MA_project/pianoroll/voice_3/voice_3_067.pkl', 'AI-MA_project/pianoroll/voice_3/voice_3_068.pkl', 'AI-MA_project/pianoroll/voice_3/voice_3_069.pkl', 'AI-MA_project/pianoroll/voice_3/voice_3_070.pkl', 'AI-MA_project/pianoroll/voice_3/voice_3_071.pkl', 'AI-MA_project/pianoroll/voice_3/voice_3_072.pkl', 'AI-MA_project/pianoroll/voice_3/voice_3_073.pkl', 'AI-MA_project/pianoroll/voice_3/voice_3_074.pkl', 'AI-MA_project/pianoroll/voice_3/voice_3_075.pkl', 'AI-MA_project/pianoroll/voice_3/voice_3_076.pkl', 'AI-MA_project/pianoroll/voice_3/voice_3_077.pkl', 'AI-MA_project/pianoroll/voice_3/voice_3_078.pkl', 'AI-MA_project/pianoroll/voice_3/voice_3_079.pkl', 'AI-MA_project/pianoroll/voice_3/voice_3_080.pkl', 'AI-MA_project/pianoroll/voice_3/voice_3_081.pkl', 'AI-MA_project/pianoroll/voice_3/voice_3_082.pkl', 'AI-MA_project/pianoroll/voice_3/voice_3_083.pkl', 'AI-MA_project/pianoroll/voice_3/voice_3_084.pkl', 'AI-MA_project/pianoroll/voice_3/voice_3_085.pkl', 'AI-MA_project/pianoroll/voice_3/voice_3_086.pkl', 'AI-MA_project/pianoroll/voice_3/voice_3_087.pkl', 'AI-MA_project/pianoroll/voice_3/voice_3_088.pkl', 'AI-MA_project/pianoroll/voice_3/voice_3_089.pkl', 'AI-MA_project/pianoroll/voice_3/voice_3_090.pkl', 'AI-MA_project/pianoroll/voice_3/voice_3_091.pkl', 'AI-MA_project/pianoroll/voice_3/voice_3_092.pkl', 'AI-MA_project/pianoroll/voice_3/voice_3_093.pkl', 'AI-MA_project/pianoroll/voice_3/voice_3_094.pkl', 'AI-MA_project/pianoroll/voice_3/voice_3_095.pkl', 'AI-MA_project/pianoroll/voice_3/voice_3_096.pkl', 'AI-MA_project/pianoroll/voice_3/voice_3_097.pkl', 'AI-MA_project/pianoroll/voice_3/voice_3_098.pkl', 'AI-MA_project/pianoroll/voice_3/voice_3_099.pkl', 'AI-MA_project/pianoroll/voice_3/voice_3_100.pkl', 'AI-MA_project/pianoroll/voice_3/voice_3_101.pkl', 'AI-MA_project/pianoroll/voice_3/voice_3_102.pkl', 'AI-MA_project/pianoroll/voice_3/voice_3_103.pkl', 'AI-MA_project/pianoroll/voice_3/voice_3_104.pkl', 'AI-MA_project/pianoroll/voice_3/voice_3_105.pkl', 'AI-MA_project/pianoroll/voice_3/voice_3_106.pkl', 'AI-MA_project/pianoroll/voice_3/voice_3_107.pkl', 'AI-MA_project/pianoroll/voice_3/voice_3_108.pkl', 'AI-MA_project/pianoroll/voice_3/voice_3_109.pkl', 'AI-MA_project/pianoroll/voice_3/voice_3_110.pkl', 'AI-MA_project/pianoroll/voice_3/voice_3_111.pkl', 'AI-MA_project/pianoroll/voice_3/voice_3_112.pkl', 'AI-MA_project/pianoroll/voice_3/voice_3_113.pkl', 'AI-MA_project/pianoroll/voice_3/voice_3_114.pkl', 'AI-MA_project/pianoroll/voice_3/voice_3_115.pkl', 'AI-MA_project/pianoroll/voice_3/voice_3_116.pkl', 'AI-MA_project/pianoroll/voice_3/voice_3_117.pkl', 'AI-MA_project/pianoroll/voice_3/voice_3_118.pkl', 'AI-MA_project/pianoroll/voice_3/voice_3_119.pkl', 'AI-MA_project/pianoroll/voice_3/voice_3_120.pkl', 'AI-MA_project/pianoroll/voice_3/voice_3_121.pkl', 'AI-MA_project/pianoroll/voice_3/voice_3_122.pkl', 'AI-MA_project/pianoroll/voice_3/voice_3_123.pkl', 'AI-MA_project/pianoroll/voice_3/voice_3_124.pkl', 'AI-MA_project/pianoroll/voice_3/voice_3_125.pkl', 'AI-MA_project/pianoroll/voice_3/voice_3_126.pkl', 'AI-MA_project/pianoroll/voice_3/voice_3_127.pkl', 'AI-MA_project/pianoroll/voice_3/voice_3_128.pkl', 'AI-MA_project/pianoroll/voice_3/voice_3_129.pkl', 'AI-MA_project/pianoroll/voice_3/voice_3_130.pkl', 'AI-MA_project/pianoroll/voice_3/voice_3_131.pkl', 'AI-MA_project/pianoroll/voice_3/voice_3_132.pkl', 'AI-MA_project/pianoroll/voice_3/voice_3_134.pkl', 'AI-MA_project/pianoroll/voice_3/voice_3_135.pkl', 'AI-MA_project/pianoroll/voice_3/voice_3_136.pkl', 'AI-MA_project/pianoroll/voice_3/voice_3_137.pkl', 'AI-MA_project/pianoroll/voice_3/voice_3_138.pkl', 'AI-MA_project/pianoroll/voice_3/voice_3_139.pkl', 'AI-MA_project/pianoroll/voice_3/voice_3_140.pkl', 'AI-MA_project/pianoroll/voice_3/voice_3_141.pkl', 'AI-MA_project/pianoroll/voice_3/voice_3_142.pkl', 'AI-MA_project/pianoroll/voice_3/voice_3_143.pkl', 'AI-MA_project/pianoroll/voice_3/voice_3_144.pkl', 'AI-MA_project/pianoroll/voice_3/voice_3_145.pkl', 'AI-MA_project/pianoroll/voice_3/voice_3_146.pkl', 'AI-MA_project/pianoroll/voice_3/voice_3_147.pkl', 'AI-MA_project/pianoroll/voice_3/voice_3_148.pkl', 'AI-MA_project/pianoroll/voice_3/voice_3_149.pkl', 'AI-MA_project/pianoroll/voice_3/voice_3_151.pkl', 'AI-MA_project/pianoroll/voice_3/voice_3_152.pkl', 'AI-MA_project/pianoroll/voice_3/voice_3_153.pkl', 'AI-MA_project/pianoroll/voice_3/voice_3_154.pkl', 'AI-MA_project/pianoroll/voice_3/voice_3_155.pkl', 'AI-MA_project/pianoroll/voice_3/voice_3_156.pkl', 'AI-MA_project/pianoroll/voice_3/voice_3_157.pkl', 'AI-MA_project/pianoroll/voice_3/voice_3_158.pkl', 'AI-MA_project/pianoroll/voice_3/voice_3_159.pkl', 'AI-MA_project/pianoroll/voice_3/voice_3_160.pkl', 'AI-MA_project/pianoroll/voice_3/voice_3_161.pkl', 'AI-MA_project/pianoroll/voice_3/voice_3_162.pkl', 'AI-MA_project/pianoroll/voice_3/voice_3_163.pkl', 'AI-MA_project/pianoroll/voice_3/voice_3_164.pkl', 'AI-MA_project/pianoroll/voice_3/voice_3_165.pkl', 'AI-MA_project/pianoroll/voice_3/voice_3_166.pkl', 'AI-MA_project/pianoroll/voice_3/voice_3_167.pkl', 'AI-MA_project/pianoroll/voice_3/voice_3_168.pkl', 'AI-MA_project/pianoroll/voice_3/voice_3_169.pkl', 'AI-MA_project/pianoroll/voice_3/voice_3_170.pkl', 'AI-MA_project/pianoroll/voice_3/voice_3_171.pkl', 'AI-MA_project/pianoroll/voice_3/voice_3_172.pkl', 'AI-MA_project/pianoroll/voice_3/voice_3_173.pkl', 'AI-MA_project/pianoroll/voice_3/voice_3_174.pkl', 'AI-MA_project/pianoroll/voice_3/voice_3_175.pkl', 'AI-MA_project/pianoroll/voice_3/voice_3_176.pkl', 'AI-MA_project/pianoroll/voice_3/voice_3_177.pkl', 'AI-MA_project/pianoroll/voice_3/voice_3_178.pkl', 'AI-MA_project/pianoroll/voice_3/voice_3_179.pkl', 'AI-MA_project/pianoroll/voice_3/voice_3_180.pkl', 'AI-MA_project/pianoroll/voice_3/voice_3_181.pkl', 'AI-MA_project/pianoroll/voice_3/voice_3_182.pkl', 'AI-MA_project/pianoroll/voice_3/voice_3_183.pkl', 'AI-MA_project/pianoroll/voice_3/voice_3_184.pkl', 'AI-MA_project/pianoroll/voice_3/voice_3_185.pkl', 'AI-MA_project/pianoroll/voice_3/voice_3_186.pkl', 'AI-MA_project/pianoroll/voice_3/voice_3_187.pkl', 'AI-MA_project/pianoroll/voice_3/voice_3_188.pkl', 'AI-MA_project/pianoroll/voice_3/voice_3_189.pkl', 'AI-MA_project/pianoroll/voice_3/voice_3_190.pkl', 'AI-MA_project/pianoroll/voice_3/voice_3_191.pkl', 'AI-MA_project/pianoroll/voice_3/voice_3_192.pkl', 'AI-MA_project/pianoroll/voice_3/voice_3_193.pkl', 'AI-MA_project/pianoroll/voice_3/voice_3_194.pkl', 'AI-MA_project/pianoroll/voice_3/voice_3_195.pkl', 'AI-MA_project/pianoroll/voice_3/voice_3_196.pkl', 'AI-MA_project/pianoroll/voice_3/voice_3_197.pkl', 'AI-MA_project/pianoroll/voice_3/voice_3_198.pkl', 'AI-MA_project/pianoroll/voice_3/voice_3_199.pkl', 'AI-MA_project/pianoroll/voice_3/voice_3_200.pkl', 'AI-MA_project/pianoroll/voice_3/voice_3_201.pkl', 'AI-MA_project/pianoroll/voice_3/voice_3_202.pkl', 'AI-MA_project/pianoroll/voice_3/voice_3_203.pkl', 'AI-MA_project/pianoroll/voice_3/voice_3_204.pkl', 'AI-MA_project/pianoroll/voice_3/voice_3_205.pkl', 'AI-MA_project/pianoroll/voice_3/voice_3_206.pkl', 'AI-MA_project/pianoroll/voice_3/voice_3_207.pkl', 'AI-MA_project/pianoroll/voice_3/voice_3_208.pkl', 'AI-MA_project/pianoroll/voice_3/voice_3_209.pkl', 'AI-MA_project/pianoroll/voice_3/voice_3_210.pkl', 'AI-MA_project/pianoroll/voice_3/voice_3_211.pkl', 'AI-MA_project/pianoroll/voice_3/voice_3_212.pkl', 'AI-MA_project/pianoroll/voice_3/voice_3_213.pkl', 'AI-MA_project/pianoroll/voice_3/voice_3_214.pkl', 'AI-MA_project/pianoroll/voice_3/voice_3_215.pkl', 'AI-MA_project/pianoroll/voice_3/voice_3_216.pkl', 'AI-MA_project/pianoroll/voice_3/voice_3_217.pkl', 'AI-MA_project/pianoroll/voice_3/voice_3_218.pkl', 'AI-MA_project/pianoroll/voice_3/voice_3_219.pkl', 'AI-MA_project/pianoroll/voice_3/voice_3_220.pkl', 'AI-MA_project/pianoroll/voice_3/voice_3_221.pkl', 'AI-MA_project/pianoroll/voice_3/voice_3_222.pkl', 'AI-MA_project/pianoroll/voice_3/voice_3_223.pkl', 'AI-MA_project/pianoroll/voice_3/voice_3_224.pkl', 'AI-MA_project/pianoroll/voice_3/voice_3_225.pkl', 'AI-MA_project/pianoroll/voice_3/voice_3_226.pkl', 'AI-MA_project/pianoroll/voice_3/voice_3_227.pkl', 'AI-MA_project/pianoroll/voice_3/voice_3_228.pkl', 'AI-MA_project/pianoroll/voice_3/voice_3_229.pkl', 'AI-MA_project/pianoroll/voice_3/voice_3_230.pkl', 'AI-MA_project/pianoroll/voice_3/voice_3_231.pkl', 'AI-MA_project/pianoroll/voice_3/voice_3_232.pkl', 'AI-MA_project/pianoroll/voice_3/voice_3_233.pkl', 'AI-MA_project/pianoroll/voice_3/voice_3_234.pkl', 'AI-MA_project/pianoroll/voice_3/voice_3_235.pkl', 'AI-MA_project/pianoroll/voice_3/voice_3_236.pkl', 'AI-MA_project/pianoroll/voice_3/voice_3_237.pkl', 'AI-MA_project/pianoroll/voice_3/voice_3_238.pkl', 'AI-MA_project/pianoroll/voice_3/voice_3_239.pkl', 'AI-MA_project/pianoroll/voice_3/voice_3_240.pkl', 'AI-MA_project/pianoroll/voice_3/voice_3_241.pkl', 'AI-MA_project/pianoroll/voice_3/voice_3_242.pkl', 'AI-MA_project/pianoroll/voice_3/voice_3_243.pkl', 'AI-MA_project/pianoroll/voice_3/voice_3_244.pkl', 'AI-MA_project/pianoroll/voice_3/voice_3_245.pkl', 'AI-MA_project/pianoroll/voice_3/voice_3_246.pkl', 'AI-MA_project/pianoroll/voice_3/voice_3_247.pkl', 'AI-MA_project/pianoroll/voice_3/voice_3_248.pkl', 'AI-MA_project/pianoroll/voice_3/voice_3_249.pkl', 'AI-MA_project/pianoroll/voice_3/voice_3_250.pkl', 'AI-MA_project/pianoroll/voice_3/voice_3_251.pkl', 'AI-MA_project/pianoroll/voice_3/voice_3_252.pkl', 'AI-MA_project/pianoroll/voice_3/voice_3_253.pkl', 'AI-MA_project/pianoroll/voice_3/voice_3_254.pkl', 'AI-MA_project/pianoroll/voice_3/voice_3_255.pkl', 'AI-MA_project/pianoroll/voice_3/voice_3_256.pkl', 'AI-MA_project/pianoroll/voice_3/voice_3_257.pkl', 'AI-MA_project/pianoroll/voice_3/voice_3_258.pkl', 'AI-MA_project/pianoroll/voice_3/voice_3_259.pkl', 'AI-MA_project/pianoroll/voice_3/voice_3_260.pkl', 'AI-MA_project/pianoroll/voice_3/voice_3_261.pkl', 'AI-MA_project/pianoroll/voice_3/voice_3_262.pkl', 'AI-MA_project/pianoroll/voice_3/voice_3_263.pkl', 'AI-MA_project/pianoroll/voice_3/voice_3_264.pkl', 'AI-MA_project/pianoroll/voice_3/voice_3_265.pkl', 'AI-MA_project/pianoroll/voice_3/voice_3_266.pkl', 'AI-MA_project/pianoroll/voice_3/voice_3_267.pkl', 'AI-MA_project/pianoroll/voice_3/voice_3_268.pkl', 'AI-MA_project/pianoroll/voice_3/voice_3_269.pkl', 'AI-MA_project/pianoroll/voice_3/voice_3_270.pkl', 'AI-MA_project/pianoroll/voice_3/voice_3_271.pkl', 'AI-MA_project/pianoroll/voice_3/voice_3_272.pkl', 'AI-MA_project/pianoroll/voice_3/voice_3_273.pkl', 'AI-MA_project/pianoroll/voice_3/voice_3_274.pkl', 'AI-MA_project/pianoroll/voice_3/voice_3_275.pkl', 'AI-MA_project/pianoroll/voice_3/voice_3_276.pkl', 'AI-MA_project/pianoroll/voice_3/voice_3_277.pkl', 'AI-MA_project/pianoroll/voice_3/voice_3_278.pkl', 'AI-MA_project/pianoroll/voice_3/voice_3_279.pkl', 'AI-MA_project/pianoroll/voice_3/voice_3_280.pkl', 'AI-MA_project/pianoroll/voice_3/voice_3_281.pkl', 'AI-MA_project/pianoroll/voice_3/voice_3_282.pkl', 'AI-MA_project/pianoroll/voice_3/voice_3_284.pkl', 'AI-MA_project/pianoroll/voice_3/voice_3_285.pkl', 'AI-MA_project/pianoroll/voice_3/voice_3_286.pkl', 'AI-MA_project/pianoroll/voice_3/voice_3_287.pkl', 'AI-MA_project/pianoroll/voice_3/voice_3_288.pkl', 'AI-MA_project/pianoroll/voice_3/voice_3_289.pkl', 'AI-MA_project/pianoroll/voice_3/voice_3_290.pkl', 'AI-MA_project/pianoroll/voice_3/voice_3_291.pkl', 'AI-MA_project/pianoroll/voice_3/voice_3_292.pkl', 'AI-MA_project/pianoroll/voice_3/voice_3_293.pkl', 'AI-MA_project/pianoroll/voice_3/voice_3_294.pkl', 'AI-MA_project/pianoroll/voice_3/voice_3_295.pkl', 'AI-MA_project/pianoroll/voice_3/voice_3_296.pkl', 'AI-MA_project/pianoroll/voice_3/voice_3_297.pkl', 'AI-MA_project/pianoroll/voice_3/voice_3_298.pkl', 'AI-MA_project/pianoroll/voice_3/voice_3_299.pkl', 'AI-MA_project/pianoroll/voice_3/voice_3_300.pkl', 'AI-MA_project/pianoroll/voice_3/voice_3_301.pkl', 'AI-MA_project/pianoroll/voice_3/voice_3_302.pkl', 'AI-MA_project/pianoroll/voice_3/voice_3_303.pkl', 'AI-MA_project/pianoroll/voice_3/voice_3_304.pkl', 'AI-MA_project/pianoroll/voice_3/voice_3_305.pkl', 'AI-MA_project/pianoroll/voice_3/voice_3_306.pkl', 'AI-MA_project/pianoroll/voice_3/voice_3_307.pkl', 'AI-MA_project/pianoroll/voice_3/voice_3_308.pkl', 'AI-MA_project/pianoroll/voice_3/voice_3_309.pkl', 'AI-MA_project/pianoroll/voice_3/voice_3_310.pkl', 'AI-MA_project/pianoroll/voice_3/voice_3_311.pkl', 'AI-MA_project/pianoroll/voice_3/voice_3_312.pkl', 'AI-MA_project/pianoroll/voice_3/voice_3_313.pkl', 'AI-MA_project/pianoroll/voice_3/voice_3_314.pkl', 'AI-MA_project/pianoroll/voice_3/voice_3_315.pkl', 'AI-MA_project/pianoroll/voice_3/voice_3_316.pkl', 'AI-MA_project/pianoroll/voice_3/voice_3_317.pkl', 'AI-MA_project/pianoroll/voice_3/voice_3_318.pkl', 'AI-MA_project/pianoroll/voice_3/voice_3_319.pkl', 'AI-MA_project/pianoroll/voice_3/voice_3_320.pkl', 'AI-MA_project/pianoroll/voice_3/voice_3_321.pkl', 'AI-MA_project/pianoroll/voice_3/voice_3_322.pkl', 'AI-MA_project/pianoroll/voice_3/voice_3_323.pkl', 'AI-MA_project/pianoroll/voice_3/voice_3_324.pkl', 'AI-MA_project/pianoroll/voice_3/voice_3_325.pkl', 'AI-MA_project/pianoroll/voice_3/voice_3_326.pkl', 'AI-MA_project/pianoroll/voice_3/voice_3_327.pkl', 'AI-MA_project/pianoroll/voice_3/voice_3_328.pkl', 'AI-MA_project/pianoroll/voice_3/voice_3_329.pkl', 'AI-MA_project/pianoroll/voice_3/voice_3_330.pkl', 'AI-MA_project/pianoroll/voice_3/voice_3_331.pkl', 'AI-MA_project/pianoroll/voice_3/voice_3_332.pkl', 'AI-MA_project/pianoroll/voice_3/voice_3_333.pkl', 'AI-MA_project/pianoroll/voice_3/voice_3_334.pkl', 'AI-MA_project/pianoroll/voice_3/voice_3_335.pkl', 'AI-MA_project/pianoroll/voice_3/voice_3_336.pkl', 'AI-MA_project/pianoroll/voice_3/voice_3_337.pkl', 'AI-MA_project/pianoroll/voice_3/voice_3_338.pkl', 'AI-MA_project/pianoroll/voice_3/voice_3_339.pkl', 'AI-MA_project/pianoroll/voice_3/voice_3_340.pkl', 'AI-MA_project/pianoroll/voice_3/voice_3_341.pkl', 'AI-MA_project/pianoroll/voice_3/voice_3_342.pkl', 'AI-MA_project/pianoroll/voice_3/voice_3_343.pkl', 'AI-MA_project/pianoroll/voice_3/voice_3_344.pkl', 'AI-MA_project/pianoroll/voice_3/voice_3_345.pkl', 'AI-MA_project/pianoroll/voice_3/voice_3_346.pkl', 'AI-MA_project/pianoroll/voice_3/voice_3_347.pkl', 'AI-MA_project/pianoroll/voice_3/voice_3_348.pkl', 'AI-MA_project/pianoroll/voice_3/voice_3_349.pkl', 'AI-MA_project/pianoroll/voice_3/voice_3_350.pkl', 'AI-MA_project/pianoroll/voice_3/voice_3_351.pkl', 'AI-MA_project/pianoroll/voice_3/voice_3_352.pkl', 'AI-MA_project/pianoroll/voice_3/voice_3_353.pkl', 'AI-MA_project/pianoroll/voice_3/voice_3_354.pkl', 'AI-MA_project/pianoroll/voice_3/voice_3_355.pkl', 'AI-MA_project/pianoroll/voice_3/voice_3_356.pkl', 'AI-MA_project/pianoroll/voice_3/voice_3_357.pkl', 'AI-MA_project/pianoroll/voice_3/voice_3_358.pkl', 'AI-MA_project/pianoroll/voice_3/voice_3_359.pkl', 'AI-MA_project/pianoroll/voice_3/voice_3_360.pkl', 'AI-MA_project/pianoroll/voice_3/voice_3_361.pkl', 'AI-MA_project/pianoroll/voice_3/voice_3_362.pkl', 'AI-MA_project/pianoroll/voice_3/voice_3_363.pkl', 'AI-MA_project/pianoroll/voice_3/voice_3_364.pkl', 'AI-MA_project/pianoroll/voice_3/voice_3_365.pkl', 'AI-MA_project/pianoroll/voice_3/voice_3_366.pkl', 'AI-MA_project/pianoroll/voice_3/voice_3_367.pkl', 'AI-MA_project/pianoroll/voice_3/voice_3_368.pkl', 'AI-MA_project/pianoroll/voice_3/voice_3_369.pkl', 'AI-MA_project/pianoroll/voice_3/voice_3_370.pkl', 'AI-MA_project/pianoroll/voice_3/voice_3_371.pkl']\n",
            "['AI-MA_project/pianoroll/voice_all/voice_all_001.pkl', 'AI-MA_project/pianoroll/voice_all/voice_all_002.pkl', 'AI-MA_project/pianoroll/voice_all/voice_all_003.pkl', 'AI-MA_project/pianoroll/voice_all/voice_all_004.pkl', 'AI-MA_project/pianoroll/voice_all/voice_all_005.pkl', 'AI-MA_project/pianoroll/voice_all/voice_all_006.pkl', 'AI-MA_project/pianoroll/voice_all/voice_all_007.pkl', 'AI-MA_project/pianoroll/voice_all/voice_all_008.pkl', 'AI-MA_project/pianoroll/voice_all/voice_all_009.pkl', 'AI-MA_project/pianoroll/voice_all/voice_all_010.pkl', 'AI-MA_project/pianoroll/voice_all/voice_all_011.pkl', 'AI-MA_project/pianoroll/voice_all/voice_all_012.pkl', 'AI-MA_project/pianoroll/voice_all/voice_all_013.pkl', 'AI-MA_project/pianoroll/voice_all/voice_all_014.pkl', 'AI-MA_project/pianoroll/voice_all/voice_all_015.pkl', 'AI-MA_project/pianoroll/voice_all/voice_all_016.pkl', 'AI-MA_project/pianoroll/voice_all/voice_all_017.pkl', 'AI-MA_project/pianoroll/voice_all/voice_all_018.pkl', 'AI-MA_project/pianoroll/voice_all/voice_all_019.pkl', 'AI-MA_project/pianoroll/voice_all/voice_all_020.pkl', 'AI-MA_project/pianoroll/voice_all/voice_all_021.pkl', 'AI-MA_project/pianoroll/voice_all/voice_all_022.pkl', 'AI-MA_project/pianoroll/voice_all/voice_all_023.pkl', 'AI-MA_project/pianoroll/voice_all/voice_all_024.pkl', 'AI-MA_project/pianoroll/voice_all/voice_all_025.pkl', 'AI-MA_project/pianoroll/voice_all/voice_all_026.pkl', 'AI-MA_project/pianoroll/voice_all/voice_all_027.pkl', 'AI-MA_project/pianoroll/voice_all/voice_all_028.pkl', 'AI-MA_project/pianoroll/voice_all/voice_all_029.pkl', 'AI-MA_project/pianoroll/voice_all/voice_all_030.pkl', 'AI-MA_project/pianoroll/voice_all/voice_all_031.pkl', 'AI-MA_project/pianoroll/voice_all/voice_all_032.pkl', 'AI-MA_project/pianoroll/voice_all/voice_all_033.pkl', 'AI-MA_project/pianoroll/voice_all/voice_all_034.pkl', 'AI-MA_project/pianoroll/voice_all/voice_all_035.pkl', 'AI-MA_project/pianoroll/voice_all/voice_all_036.pkl', 'AI-MA_project/pianoroll/voice_all/voice_all_037.pkl', 'AI-MA_project/pianoroll/voice_all/voice_all_038.pkl', 'AI-MA_project/pianoroll/voice_all/voice_all_039.pkl', 'AI-MA_project/pianoroll/voice_all/voice_all_040.pkl', 'AI-MA_project/pianoroll/voice_all/voice_all_041.pkl', 'AI-MA_project/pianoroll/voice_all/voice_all_042.pkl', 'AI-MA_project/pianoroll/voice_all/voice_all_044.pkl', 'AI-MA_project/pianoroll/voice_all/voice_all_045.pkl', 'AI-MA_project/pianoroll/voice_all/voice_all_046.pkl', 'AI-MA_project/pianoroll/voice_all/voice_all_047.pkl', 'AI-MA_project/pianoroll/voice_all/voice_all_048.pkl', 'AI-MA_project/pianoroll/voice_all/voice_all_049.pkl', 'AI-MA_project/pianoroll/voice_all/voice_all_050.pkl', 'AI-MA_project/pianoroll/voice_all/voice_all_051.pkl', 'AI-MA_project/pianoroll/voice_all/voice_all_052.pkl', 'AI-MA_project/pianoroll/voice_all/voice_all_053.pkl', 'AI-MA_project/pianoroll/voice_all/voice_all_054.pkl', 'AI-MA_project/pianoroll/voice_all/voice_all_055.pkl', 'AI-MA_project/pianoroll/voice_all/voice_all_056.pkl', 'AI-MA_project/pianoroll/voice_all/voice_all_057.pkl', 'AI-MA_project/pianoroll/voice_all/voice_all_058.pkl', 'AI-MA_project/pianoroll/voice_all/voice_all_059.pkl', 'AI-MA_project/pianoroll/voice_all/voice_all_060.pkl', 'AI-MA_project/pianoroll/voice_all/voice_all_061.pkl', 'AI-MA_project/pianoroll/voice_all/voice_all_062.pkl', 'AI-MA_project/pianoroll/voice_all/voice_all_063.pkl', 'AI-MA_project/pianoroll/voice_all/voice_all_064.pkl', 'AI-MA_project/pianoroll/voice_all/voice_all_065.pkl', 'AI-MA_project/pianoroll/voice_all/voice_all_066.pkl', 'AI-MA_project/pianoroll/voice_all/voice_all_067.pkl', 'AI-MA_project/pianoroll/voice_all/voice_all_068.pkl', 'AI-MA_project/pianoroll/voice_all/voice_all_069.pkl', 'AI-MA_project/pianoroll/voice_all/voice_all_070.pkl', 'AI-MA_project/pianoroll/voice_all/voice_all_071.pkl', 'AI-MA_project/pianoroll/voice_all/voice_all_072.pkl', 'AI-MA_project/pianoroll/voice_all/voice_all_073.pkl', 'AI-MA_project/pianoroll/voice_all/voice_all_074.pkl', 'AI-MA_project/pianoroll/voice_all/voice_all_075.pkl', 'AI-MA_project/pianoroll/voice_all/voice_all_076.pkl', 'AI-MA_project/pianoroll/voice_all/voice_all_077.pkl', 'AI-MA_project/pianoroll/voice_all/voice_all_078.pkl', 'AI-MA_project/pianoroll/voice_all/voice_all_079.pkl', 'AI-MA_project/pianoroll/voice_all/voice_all_080.pkl', 'AI-MA_project/pianoroll/voice_all/voice_all_081.pkl', 'AI-MA_project/pianoroll/voice_all/voice_all_082.pkl', 'AI-MA_project/pianoroll/voice_all/voice_all_083.pkl', 'AI-MA_project/pianoroll/voice_all/voice_all_084.pkl', 'AI-MA_project/pianoroll/voice_all/voice_all_085.pkl', 'AI-MA_project/pianoroll/voice_all/voice_all_086.pkl', 'AI-MA_project/pianoroll/voice_all/voice_all_087.pkl', 'AI-MA_project/pianoroll/voice_all/voice_all_088.pkl', 'AI-MA_project/pianoroll/voice_all/voice_all_089.pkl', 'AI-MA_project/pianoroll/voice_all/voice_all_090.pkl', 'AI-MA_project/pianoroll/voice_all/voice_all_091.pkl', 'AI-MA_project/pianoroll/voice_all/voice_all_092.pkl', 'AI-MA_project/pianoroll/voice_all/voice_all_093.pkl', 'AI-MA_project/pianoroll/voice_all/voice_all_094.pkl', 'AI-MA_project/pianoroll/voice_all/voice_all_095.pkl', 'AI-MA_project/pianoroll/voice_all/voice_all_096.pkl', 'AI-MA_project/pianoroll/voice_all/voice_all_097.pkl', 'AI-MA_project/pianoroll/voice_all/voice_all_098.pkl', 'AI-MA_project/pianoroll/voice_all/voice_all_099.pkl', 'AI-MA_project/pianoroll/voice_all/voice_all_100.pkl', 'AI-MA_project/pianoroll/voice_all/voice_all_101.pkl', 'AI-MA_project/pianoroll/voice_all/voice_all_102.pkl', 'AI-MA_project/pianoroll/voice_all/voice_all_103.pkl', 'AI-MA_project/pianoroll/voice_all/voice_all_104.pkl', 'AI-MA_project/pianoroll/voice_all/voice_all_105.pkl', 'AI-MA_project/pianoroll/voice_all/voice_all_106.pkl', 'AI-MA_project/pianoroll/voice_all/voice_all_107.pkl', 'AI-MA_project/pianoroll/voice_all/voice_all_108.pkl', 'AI-MA_project/pianoroll/voice_all/voice_all_109.pkl', 'AI-MA_project/pianoroll/voice_all/voice_all_110.pkl', 'AI-MA_project/pianoroll/voice_all/voice_all_111.pkl', 'AI-MA_project/pianoroll/voice_all/voice_all_112.pkl', 'AI-MA_project/pianoroll/voice_all/voice_all_113.pkl', 'AI-MA_project/pianoroll/voice_all/voice_all_114.pkl', 'AI-MA_project/pianoroll/voice_all/voice_all_115.pkl', 'AI-MA_project/pianoroll/voice_all/voice_all_116.pkl', 'AI-MA_project/pianoroll/voice_all/voice_all_117.pkl', 'AI-MA_project/pianoroll/voice_all/voice_all_118.pkl', 'AI-MA_project/pianoroll/voice_all/voice_all_119.pkl', 'AI-MA_project/pianoroll/voice_all/voice_all_120.pkl', 'AI-MA_project/pianoroll/voice_all/voice_all_121.pkl', 'AI-MA_project/pianoroll/voice_all/voice_all_122.pkl', 'AI-MA_project/pianoroll/voice_all/voice_all_123.pkl', 'AI-MA_project/pianoroll/voice_all/voice_all_124.pkl', 'AI-MA_project/pianoroll/voice_all/voice_all_125.pkl', 'AI-MA_project/pianoroll/voice_all/voice_all_126.pkl', 'AI-MA_project/pianoroll/voice_all/voice_all_127.pkl', 'AI-MA_project/pianoroll/voice_all/voice_all_128.pkl', 'AI-MA_project/pianoroll/voice_all/voice_all_129.pkl', 'AI-MA_project/pianoroll/voice_all/voice_all_130.pkl', 'AI-MA_project/pianoroll/voice_all/voice_all_131.pkl', 'AI-MA_project/pianoroll/voice_all/voice_all_132.pkl', 'AI-MA_project/pianoroll/voice_all/voice_all_134.pkl', 'AI-MA_project/pianoroll/voice_all/voice_all_135.pkl', 'AI-MA_project/pianoroll/voice_all/voice_all_136.pkl', 'AI-MA_project/pianoroll/voice_all/voice_all_137.pkl', 'AI-MA_project/pianoroll/voice_all/voice_all_138.pkl', 'AI-MA_project/pianoroll/voice_all/voice_all_139.pkl', 'AI-MA_project/pianoroll/voice_all/voice_all_140.pkl', 'AI-MA_project/pianoroll/voice_all/voice_all_141.pkl', 'AI-MA_project/pianoroll/voice_all/voice_all_142.pkl', 'AI-MA_project/pianoroll/voice_all/voice_all_143.pkl', 'AI-MA_project/pianoroll/voice_all/voice_all_144.pkl', 'AI-MA_project/pianoroll/voice_all/voice_all_145.pkl', 'AI-MA_project/pianoroll/voice_all/voice_all_146.pkl', 'AI-MA_project/pianoroll/voice_all/voice_all_147.pkl', 'AI-MA_project/pianoroll/voice_all/voice_all_148.pkl', 'AI-MA_project/pianoroll/voice_all/voice_all_149.pkl', 'AI-MA_project/pianoroll/voice_all/voice_all_151.pkl', 'AI-MA_project/pianoroll/voice_all/voice_all_152.pkl', 'AI-MA_project/pianoroll/voice_all/voice_all_153.pkl', 'AI-MA_project/pianoroll/voice_all/voice_all_154.pkl', 'AI-MA_project/pianoroll/voice_all/voice_all_155.pkl', 'AI-MA_project/pianoroll/voice_all/voice_all_156.pkl', 'AI-MA_project/pianoroll/voice_all/voice_all_157.pkl', 'AI-MA_project/pianoroll/voice_all/voice_all_158.pkl', 'AI-MA_project/pianoroll/voice_all/voice_all_159.pkl', 'AI-MA_project/pianoroll/voice_all/voice_all_160.pkl', 'AI-MA_project/pianoroll/voice_all/voice_all_161.pkl', 'AI-MA_project/pianoroll/voice_all/voice_all_162.pkl', 'AI-MA_project/pianoroll/voice_all/voice_all_163.pkl', 'AI-MA_project/pianoroll/voice_all/voice_all_164.pkl', 'AI-MA_project/pianoroll/voice_all/voice_all_165.pkl', 'AI-MA_project/pianoroll/voice_all/voice_all_166.pkl', 'AI-MA_project/pianoroll/voice_all/voice_all_167.pkl', 'AI-MA_project/pianoroll/voice_all/voice_all_168.pkl', 'AI-MA_project/pianoroll/voice_all/voice_all_169.pkl', 'AI-MA_project/pianoroll/voice_all/voice_all_170.pkl', 'AI-MA_project/pianoroll/voice_all/voice_all_171.pkl', 'AI-MA_project/pianoroll/voice_all/voice_all_172.pkl', 'AI-MA_project/pianoroll/voice_all/voice_all_173.pkl', 'AI-MA_project/pianoroll/voice_all/voice_all_174.pkl', 'AI-MA_project/pianoroll/voice_all/voice_all_175.pkl', 'AI-MA_project/pianoroll/voice_all/voice_all_176.pkl', 'AI-MA_project/pianoroll/voice_all/voice_all_177.pkl', 'AI-MA_project/pianoroll/voice_all/voice_all_178.pkl', 'AI-MA_project/pianoroll/voice_all/voice_all_179.pkl', 'AI-MA_project/pianoroll/voice_all/voice_all_180.pkl', 'AI-MA_project/pianoroll/voice_all/voice_all_181.pkl', 'AI-MA_project/pianoroll/voice_all/voice_all_182.pkl', 'AI-MA_project/pianoroll/voice_all/voice_all_183.pkl', 'AI-MA_project/pianoroll/voice_all/voice_all_184.pkl', 'AI-MA_project/pianoroll/voice_all/voice_all_185.pkl', 'AI-MA_project/pianoroll/voice_all/voice_all_186.pkl', 'AI-MA_project/pianoroll/voice_all/voice_all_187.pkl', 'AI-MA_project/pianoroll/voice_all/voice_all_188.pkl', 'AI-MA_project/pianoroll/voice_all/voice_all_189.pkl', 'AI-MA_project/pianoroll/voice_all/voice_all_190.pkl', 'AI-MA_project/pianoroll/voice_all/voice_all_191.pkl', 'AI-MA_project/pianoroll/voice_all/voice_all_192.pkl', 'AI-MA_project/pianoroll/voice_all/voice_all_193.pkl', 'AI-MA_project/pianoroll/voice_all/voice_all_194.pkl', 'AI-MA_project/pianoroll/voice_all/voice_all_195.pkl', 'AI-MA_project/pianoroll/voice_all/voice_all_196.pkl', 'AI-MA_project/pianoroll/voice_all/voice_all_197.pkl', 'AI-MA_project/pianoroll/voice_all/voice_all_198.pkl', 'AI-MA_project/pianoroll/voice_all/voice_all_199.pkl', 'AI-MA_project/pianoroll/voice_all/voice_all_200.pkl', 'AI-MA_project/pianoroll/voice_all/voice_all_201.pkl', 'AI-MA_project/pianoroll/voice_all/voice_all_202.pkl', 'AI-MA_project/pianoroll/voice_all/voice_all_203.pkl', 'AI-MA_project/pianoroll/voice_all/voice_all_204.pkl', 'AI-MA_project/pianoroll/voice_all/voice_all_205.pkl', 'AI-MA_project/pianoroll/voice_all/voice_all_206.pkl', 'AI-MA_project/pianoroll/voice_all/voice_all_207.pkl', 'AI-MA_project/pianoroll/voice_all/voice_all_208.pkl', 'AI-MA_project/pianoroll/voice_all/voice_all_209.pkl', 'AI-MA_project/pianoroll/voice_all/voice_all_210.pkl', 'AI-MA_project/pianoroll/voice_all/voice_all_211.pkl', 'AI-MA_project/pianoroll/voice_all/voice_all_212.pkl', 'AI-MA_project/pianoroll/voice_all/voice_all_213.pkl', 'AI-MA_project/pianoroll/voice_all/voice_all_214.pkl', 'AI-MA_project/pianoroll/voice_all/voice_all_215.pkl', 'AI-MA_project/pianoroll/voice_all/voice_all_216.pkl', 'AI-MA_project/pianoroll/voice_all/voice_all_217.pkl', 'AI-MA_project/pianoroll/voice_all/voice_all_218.pkl', 'AI-MA_project/pianoroll/voice_all/voice_all_219.pkl', 'AI-MA_project/pianoroll/voice_all/voice_all_220.pkl', 'AI-MA_project/pianoroll/voice_all/voice_all_221.pkl', 'AI-MA_project/pianoroll/voice_all/voice_all_222.pkl', 'AI-MA_project/pianoroll/voice_all/voice_all_223.pkl', 'AI-MA_project/pianoroll/voice_all/voice_all_224.pkl', 'AI-MA_project/pianoroll/voice_all/voice_all_225.pkl', 'AI-MA_project/pianoroll/voice_all/voice_all_226.pkl', 'AI-MA_project/pianoroll/voice_all/voice_all_227.pkl', 'AI-MA_project/pianoroll/voice_all/voice_all_228.pkl', 'AI-MA_project/pianoroll/voice_all/voice_all_229.pkl', 'AI-MA_project/pianoroll/voice_all/voice_all_230.pkl', 'AI-MA_project/pianoroll/voice_all/voice_all_231.pkl', 'AI-MA_project/pianoroll/voice_all/voice_all_232.pkl', 'AI-MA_project/pianoroll/voice_all/voice_all_233.pkl', 'AI-MA_project/pianoroll/voice_all/voice_all_234.pkl', 'AI-MA_project/pianoroll/voice_all/voice_all_235.pkl', 'AI-MA_project/pianoroll/voice_all/voice_all_236.pkl', 'AI-MA_project/pianoroll/voice_all/voice_all_237.pkl', 'AI-MA_project/pianoroll/voice_all/voice_all_238.pkl', 'AI-MA_project/pianoroll/voice_all/voice_all_239.pkl', 'AI-MA_project/pianoroll/voice_all/voice_all_240.pkl', 'AI-MA_project/pianoroll/voice_all/voice_all_241.pkl', 'AI-MA_project/pianoroll/voice_all/voice_all_242.pkl', 'AI-MA_project/pianoroll/voice_all/voice_all_243.pkl', 'AI-MA_project/pianoroll/voice_all/voice_all_244.pkl', 'AI-MA_project/pianoroll/voice_all/voice_all_245.pkl', 'AI-MA_project/pianoroll/voice_all/voice_all_246.pkl', 'AI-MA_project/pianoroll/voice_all/voice_all_247.pkl', 'AI-MA_project/pianoroll/voice_all/voice_all_248.pkl', 'AI-MA_project/pianoroll/voice_all/voice_all_249.pkl', 'AI-MA_project/pianoroll/voice_all/voice_all_250.pkl', 'AI-MA_project/pianoroll/voice_all/voice_all_251.pkl', 'AI-MA_project/pianoroll/voice_all/voice_all_252.pkl', 'AI-MA_project/pianoroll/voice_all/voice_all_253.pkl', 'AI-MA_project/pianoroll/voice_all/voice_all_254.pkl', 'AI-MA_project/pianoroll/voice_all/voice_all_255.pkl', 'AI-MA_project/pianoroll/voice_all/voice_all_256.pkl', 'AI-MA_project/pianoroll/voice_all/voice_all_257.pkl', 'AI-MA_project/pianoroll/voice_all/voice_all_258.pkl', 'AI-MA_project/pianoroll/voice_all/voice_all_259.pkl', 'AI-MA_project/pianoroll/voice_all/voice_all_260.pkl', 'AI-MA_project/pianoroll/voice_all/voice_all_261.pkl', 'AI-MA_project/pianoroll/voice_all/voice_all_262.pkl', 'AI-MA_project/pianoroll/voice_all/voice_all_263.pkl', 'AI-MA_project/pianoroll/voice_all/voice_all_264.pkl', 'AI-MA_project/pianoroll/voice_all/voice_all_265.pkl', 'AI-MA_project/pianoroll/voice_all/voice_all_266.pkl', 'AI-MA_project/pianoroll/voice_all/voice_all_267.pkl', 'AI-MA_project/pianoroll/voice_all/voice_all_268.pkl', 'AI-MA_project/pianoroll/voice_all/voice_all_269.pkl', 'AI-MA_project/pianoroll/voice_all/voice_all_270.pkl', 'AI-MA_project/pianoroll/voice_all/voice_all_271.pkl', 'AI-MA_project/pianoroll/voice_all/voice_all_272.pkl', 'AI-MA_project/pianoroll/voice_all/voice_all_273.pkl', 'AI-MA_project/pianoroll/voice_all/voice_all_274.pkl', 'AI-MA_project/pianoroll/voice_all/voice_all_275.pkl', 'AI-MA_project/pianoroll/voice_all/voice_all_276.pkl', 'AI-MA_project/pianoroll/voice_all/voice_all_277.pkl', 'AI-MA_project/pianoroll/voice_all/voice_all_278.pkl', 'AI-MA_project/pianoroll/voice_all/voice_all_279.pkl', 'AI-MA_project/pianoroll/voice_all/voice_all_280.pkl', 'AI-MA_project/pianoroll/voice_all/voice_all_281.pkl', 'AI-MA_project/pianoroll/voice_all/voice_all_282.pkl', 'AI-MA_project/pianoroll/voice_all/voice_all_284.pkl', 'AI-MA_project/pianoroll/voice_all/voice_all_285.pkl', 'AI-MA_project/pianoroll/voice_all/voice_all_286.pkl', 'AI-MA_project/pianoroll/voice_all/voice_all_287.pkl', 'AI-MA_project/pianoroll/voice_all/voice_all_288.pkl', 'AI-MA_project/pianoroll/voice_all/voice_all_289.pkl', 'AI-MA_project/pianoroll/voice_all/voice_all_290.pkl', 'AI-MA_project/pianoroll/voice_all/voice_all_291.pkl', 'AI-MA_project/pianoroll/voice_all/voice_all_292.pkl', 'AI-MA_project/pianoroll/voice_all/voice_all_293.pkl', 'AI-MA_project/pianoroll/voice_all/voice_all_294.pkl', 'AI-MA_project/pianoroll/voice_all/voice_all_295.pkl', 'AI-MA_project/pianoroll/voice_all/voice_all_296.pkl', 'AI-MA_project/pianoroll/voice_all/voice_all_297.pkl', 'AI-MA_project/pianoroll/voice_all/voice_all_298.pkl', 'AI-MA_project/pianoroll/voice_all/voice_all_299.pkl', 'AI-MA_project/pianoroll/voice_all/voice_all_300.pkl', 'AI-MA_project/pianoroll/voice_all/voice_all_301.pkl', 'AI-MA_project/pianoroll/voice_all/voice_all_302.pkl', 'AI-MA_project/pianoroll/voice_all/voice_all_303.pkl', 'AI-MA_project/pianoroll/voice_all/voice_all_304.pkl', 'AI-MA_project/pianoroll/voice_all/voice_all_305.pkl', 'AI-MA_project/pianoroll/voice_all/voice_all_306.pkl', 'AI-MA_project/pianoroll/voice_all/voice_all_307.pkl', 'AI-MA_project/pianoroll/voice_all/voice_all_308.pkl', 'AI-MA_project/pianoroll/voice_all/voice_all_309.pkl', 'AI-MA_project/pianoroll/voice_all/voice_all_310.pkl', 'AI-MA_project/pianoroll/voice_all/voice_all_311.pkl', 'AI-MA_project/pianoroll/voice_all/voice_all_312.pkl', 'AI-MA_project/pianoroll/voice_all/voice_all_313.pkl', 'AI-MA_project/pianoroll/voice_all/voice_all_314.pkl', 'AI-MA_project/pianoroll/voice_all/voice_all_315.pkl', 'AI-MA_project/pianoroll/voice_all/voice_all_316.pkl', 'AI-MA_project/pianoroll/voice_all/voice_all_317.pkl', 'AI-MA_project/pianoroll/voice_all/voice_all_318.pkl', 'AI-MA_project/pianoroll/voice_all/voice_all_319.pkl', 'AI-MA_project/pianoroll/voice_all/voice_all_320.pkl', 'AI-MA_project/pianoroll/voice_all/voice_all_321.pkl', 'AI-MA_project/pianoroll/voice_all/voice_all_322.pkl', 'AI-MA_project/pianoroll/voice_all/voice_all_323.pkl', 'AI-MA_project/pianoroll/voice_all/voice_all_324.pkl', 'AI-MA_project/pianoroll/voice_all/voice_all_325.pkl', 'AI-MA_project/pianoroll/voice_all/voice_all_326.pkl', 'AI-MA_project/pianoroll/voice_all/voice_all_327.pkl', 'AI-MA_project/pianoroll/voice_all/voice_all_328.pkl', 'AI-MA_project/pianoroll/voice_all/voice_all_329.pkl', 'AI-MA_project/pianoroll/voice_all/voice_all_330.pkl', 'AI-MA_project/pianoroll/voice_all/voice_all_331.pkl', 'AI-MA_project/pianoroll/voice_all/voice_all_332.pkl', 'AI-MA_project/pianoroll/voice_all/voice_all_333.pkl', 'AI-MA_project/pianoroll/voice_all/voice_all_334.pkl', 'AI-MA_project/pianoroll/voice_all/voice_all_335.pkl', 'AI-MA_project/pianoroll/voice_all/voice_all_336.pkl', 'AI-MA_project/pianoroll/voice_all/voice_all_337.pkl', 'AI-MA_project/pianoroll/voice_all/voice_all_338.pkl', 'AI-MA_project/pianoroll/voice_all/voice_all_339.pkl', 'AI-MA_project/pianoroll/voice_all/voice_all_340.pkl', 'AI-MA_project/pianoroll/voice_all/voice_all_341.pkl', 'AI-MA_project/pianoroll/voice_all/voice_all_342.pkl', 'AI-MA_project/pianoroll/voice_all/voice_all_343.pkl', 'AI-MA_project/pianoroll/voice_all/voice_all_344.pkl', 'AI-MA_project/pianoroll/voice_all/voice_all_345.pkl', 'AI-MA_project/pianoroll/voice_all/voice_all_346.pkl', 'AI-MA_project/pianoroll/voice_all/voice_all_347.pkl', 'AI-MA_project/pianoroll/voice_all/voice_all_348.pkl', 'AI-MA_project/pianoroll/voice_all/voice_all_349.pkl', 'AI-MA_project/pianoroll/voice_all/voice_all_350.pkl', 'AI-MA_project/pianoroll/voice_all/voice_all_351.pkl', 'AI-MA_project/pianoroll/voice_all/voice_all_352.pkl', 'AI-MA_project/pianoroll/voice_all/voice_all_353.pkl', 'AI-MA_project/pianoroll/voice_all/voice_all_354.pkl', 'AI-MA_project/pianoroll/voice_all/voice_all_355.pkl', 'AI-MA_project/pianoroll/voice_all/voice_all_356.pkl', 'AI-MA_project/pianoroll/voice_all/voice_all_357.pkl', 'AI-MA_project/pianoroll/voice_all/voice_all_358.pkl', 'AI-MA_project/pianoroll/voice_all/voice_all_359.pkl', 'AI-MA_project/pianoroll/voice_all/voice_all_360.pkl', 'AI-MA_project/pianoroll/voice_all/voice_all_361.pkl', 'AI-MA_project/pianoroll/voice_all/voice_all_362.pkl', 'AI-MA_project/pianoroll/voice_all/voice_all_363.pkl', 'AI-MA_project/pianoroll/voice_all/voice_all_364.pkl', 'AI-MA_project/pianoroll/voice_all/voice_all_365.pkl', 'AI-MA_project/pianoroll/voice_all/voice_all_366.pkl', 'AI-MA_project/pianoroll/voice_all/voice_all_367.pkl', 'AI-MA_project/pianoroll/voice_all/voice_all_368.pkl', 'AI-MA_project/pianoroll/voice_all/voice_all_369.pkl', 'AI-MA_project/pianoroll/voice_all/voice_all_370.pkl', 'AI-MA_project/pianoroll/voice_all/voice_all_371.pkl']\n"
          ]
        }
      ]
    },
    {
      "cell_type": "code",
      "metadata": {
        "colab": {
          "base_uri": "https://localhost:8080/"
        },
        "id": "A3Vhsp8X2xPi",
        "outputId": "4cfe8707-34ca-4045-b149-fc09fdc826f8"
      },
      "source": [
        "for key, value in pr_dict.items():\n",
        "  print(key)\n",
        "\n",
        "pr_dict[\"voice_2\"]"
      ],
      "execution_count": 149,
      "outputs": [
        {
          "output_type": "stream",
          "name": "stdout",
          "text": [
            "voice_0\n",
            "voice_1\n",
            "voice_2\n",
            "voice_3\n",
            "voice_all\n"
          ]
        },
        {
          "output_type": "execute_result",
          "data": {
            "text/plain": [
              "[]"
            ]
          },
          "metadata": {},
          "execution_count": 149
        }
      ]
    },
    {
      "cell_type": "code",
      "metadata": {
        "colab": {
          "base_uri": "https://localhost:8080/",
          "height": 263
        },
        "id": "y-zUx_j_1yKE",
        "outputId": "116cceda-3bcf-4c0b-e9fc-b20a1e1bb937"
      },
      "source": [
        "out_list = []\n",
        "idx = 4\n",
        "for key, value in pr_dict.items():\n",
        "    print(len(pr_dict[key]))\n",
        "    out_list.append(pr_dict[key][idx])"
      ],
      "execution_count": 150,
      "outputs": [
        {
          "output_type": "stream",
          "name": "stdout",
          "text": [
            "367\n",
            "367\n",
            "0\n"
          ]
        },
        {
          "output_type": "error",
          "ename": "IndexError",
          "evalue": "ignored",
          "traceback": [
            "\u001b[0;31m---------------------------------------------------------------------------\u001b[0m",
            "\u001b[0;31mIndexError\u001b[0m                                Traceback (most recent call last)",
            "\u001b[0;32m<ipython-input-150-6d887a1d8c40>\u001b[0m in \u001b[0;36m<module>\u001b[0;34m()\u001b[0m\n\u001b[1;32m      3\u001b[0m \u001b[0;32mfor\u001b[0m \u001b[0mkey\u001b[0m\u001b[0;34m,\u001b[0m \u001b[0mvalue\u001b[0m \u001b[0;32min\u001b[0m \u001b[0mpr_dict\u001b[0m\u001b[0;34m.\u001b[0m\u001b[0mitems\u001b[0m\u001b[0;34m(\u001b[0m\u001b[0;34m)\u001b[0m\u001b[0;34m:\u001b[0m\u001b[0;34m\u001b[0m\u001b[0;34m\u001b[0m\u001b[0m\n\u001b[1;32m      4\u001b[0m     \u001b[0mprint\u001b[0m\u001b[0;34m(\u001b[0m\u001b[0mlen\u001b[0m\u001b[0;34m(\u001b[0m\u001b[0mpr_dict\u001b[0m\u001b[0;34m[\u001b[0m\u001b[0mkey\u001b[0m\u001b[0;34m]\u001b[0m\u001b[0;34m)\u001b[0m\u001b[0;34m)\u001b[0m\u001b[0;34m\u001b[0m\u001b[0;34m\u001b[0m\u001b[0m\n\u001b[0;32m----> 5\u001b[0;31m     \u001b[0mout_list\u001b[0m\u001b[0;34m.\u001b[0m\u001b[0mappend\u001b[0m\u001b[0;34m(\u001b[0m\u001b[0mpr_dict\u001b[0m\u001b[0;34m[\u001b[0m\u001b[0mkey\u001b[0m\u001b[0;34m]\u001b[0m\u001b[0;34m[\u001b[0m\u001b[0midx\u001b[0m\u001b[0;34m]\u001b[0m\u001b[0;34m)\u001b[0m\u001b[0;34m\u001b[0m\u001b[0;34m\u001b[0m\u001b[0m\n\u001b[0m",
            "\u001b[0;31mIndexError\u001b[0m: list index out of range"
          ]
        }
      ]
    },
    {
      "cell_type": "code",
      "metadata": {
        "id": "8oTPIsBwPAJg",
        "colab": {
          "base_uri": "https://localhost:8080/"
        },
        "outputId": "8400df80-f10d-40cc-9b81-937bf74161f3"
      },
      "source": [
        "labels = [\"voice_0\", \"voice_1\", \"voice_2\", \"voice_3\", \"voice_all\"]\n",
        "#labels = [\"voice_all\",\"voice_0\"]\n",
        "dataset = MusicDataset(PATH_TO_DATA, labels, 368)"
      ],
      "execution_count": 144,
      "outputs": [
        {
          "output_type": "stream",
          "name": "stdout",
          "text": [
            "voice_0\n",
            "voice_1\n",
            "voice_2\n",
            "voice_3\n",
            "voice_all\n"
          ]
        }
      ]
    },
    {
      "cell_type": "code",
      "metadata": {
        "id": "r1u2sxCLaZH6"
      },
      "source": [
        "loader = torch.utils.data.DataLoader(dataset,batch_size=batch_size, shuffle=False, num_workers=workers, drop_last=True)"
      ],
      "execution_count": 145,
      "outputs": []
    },
    {
      "cell_type": "markdown",
      "metadata": {
        "id": "YhOpNNRd6E-s"
      },
      "source": [
        "option: only BS=1\n",
        "\n",
        "in dataloader:  pad_colate ----> consider only unpaded data for loss in training\n",
        "\n",
        " pad to longest seq in batch ..- better sort after len before loading batches"
      ]
    },
    {
      "cell_type": "code",
      "metadata": {
        "id": "qHbTh6ZkdFOL",
        "colab": {
          "base_uri": "https://localhost:8080/",
          "height": 893
        },
        "outputId": "9b9b49d8-5d1d-433b-f177-d1511b0c79d8"
      },
      "source": [
        "for batch_idx, real in enumerate(loader):\n",
        "\n",
        "  v0, v1, v2, v3, v_all  = real\n",
        "  print(v0.shape, v1.shape, v2.shape, v3.shape, v_all.shape)"
      ],
      "execution_count": 147,
      "outputs": [
        {
          "output_type": "error",
          "ename": "IndexError",
          "evalue": "ignored",
          "traceback": [
            "\u001b[0;31m---------------------------------------------------------------------------\u001b[0m",
            "\u001b[0;31mIndexError\u001b[0m                                Traceback (most recent call last)",
            "\u001b[0;32m<ipython-input-147-b5f1b538c904>\u001b[0m in \u001b[0;36m<module>\u001b[0;34m()\u001b[0m\n\u001b[0;32m----> 1\u001b[0;31m \u001b[0;32mfor\u001b[0m \u001b[0mbatch_idx\u001b[0m\u001b[0;34m,\u001b[0m \u001b[0mreal\u001b[0m \u001b[0;32min\u001b[0m \u001b[0menumerate\u001b[0m\u001b[0;34m(\u001b[0m\u001b[0mloader\u001b[0m\u001b[0;34m)\u001b[0m\u001b[0;34m:\u001b[0m\u001b[0;34m\u001b[0m\u001b[0;34m\u001b[0m\u001b[0m\n\u001b[0m\u001b[1;32m      2\u001b[0m \u001b[0;34m\u001b[0m\u001b[0m\n\u001b[1;32m      3\u001b[0m   \u001b[0mv0\u001b[0m\u001b[0;34m,\u001b[0m \u001b[0mv1\u001b[0m\u001b[0;34m,\u001b[0m \u001b[0mv2\u001b[0m\u001b[0;34m,\u001b[0m \u001b[0mv3\u001b[0m\u001b[0;34m,\u001b[0m \u001b[0mv_all\u001b[0m  \u001b[0;34m=\u001b[0m \u001b[0mreal\u001b[0m\u001b[0;34m\u001b[0m\u001b[0;34m\u001b[0m\u001b[0m\n\u001b[1;32m      4\u001b[0m   \u001b[0mprint\u001b[0m\u001b[0;34m(\u001b[0m\u001b[0mv0\u001b[0m\u001b[0;34m.\u001b[0m\u001b[0mshape\u001b[0m\u001b[0;34m,\u001b[0m \u001b[0mv1\u001b[0m\u001b[0;34m.\u001b[0m\u001b[0mshape\u001b[0m\u001b[0;34m,\u001b[0m \u001b[0mv2\u001b[0m\u001b[0;34m.\u001b[0m\u001b[0mshape\u001b[0m\u001b[0;34m,\u001b[0m \u001b[0mv3\u001b[0m\u001b[0;34m.\u001b[0m\u001b[0mshape\u001b[0m\u001b[0;34m,\u001b[0m \u001b[0mv_all\u001b[0m\u001b[0;34m.\u001b[0m\u001b[0mshape\u001b[0m\u001b[0;34m)\u001b[0m\u001b[0;34m\u001b[0m\u001b[0;34m\u001b[0m\u001b[0m\n",
            "\u001b[0;32m/usr/local/lib/python3.7/dist-packages/torch/utils/data/dataloader.py\u001b[0m in \u001b[0;36m__next__\u001b[0;34m(self)\u001b[0m\n\u001b[1;32m    519\u001b[0m             \u001b[0;32mif\u001b[0m \u001b[0mself\u001b[0m\u001b[0;34m.\u001b[0m\u001b[0m_sampler_iter\u001b[0m \u001b[0;32mis\u001b[0m \u001b[0;32mNone\u001b[0m\u001b[0;34m:\u001b[0m\u001b[0;34m\u001b[0m\u001b[0;34m\u001b[0m\u001b[0m\n\u001b[1;32m    520\u001b[0m                 \u001b[0mself\u001b[0m\u001b[0;34m.\u001b[0m\u001b[0m_reset\u001b[0m\u001b[0;34m(\u001b[0m\u001b[0;34m)\u001b[0m\u001b[0;34m\u001b[0m\u001b[0;34m\u001b[0m\u001b[0m\n\u001b[0;32m--> 521\u001b[0;31m             \u001b[0mdata\u001b[0m \u001b[0;34m=\u001b[0m \u001b[0mself\u001b[0m\u001b[0;34m.\u001b[0m\u001b[0m_next_data\u001b[0m\u001b[0;34m(\u001b[0m\u001b[0;34m)\u001b[0m\u001b[0;34m\u001b[0m\u001b[0;34m\u001b[0m\u001b[0m\n\u001b[0m\u001b[1;32m    522\u001b[0m             \u001b[0mself\u001b[0m\u001b[0;34m.\u001b[0m\u001b[0m_num_yielded\u001b[0m \u001b[0;34m+=\u001b[0m \u001b[0;36m1\u001b[0m\u001b[0;34m\u001b[0m\u001b[0;34m\u001b[0m\u001b[0m\n\u001b[1;32m    523\u001b[0m             \u001b[0;32mif\u001b[0m \u001b[0mself\u001b[0m\u001b[0;34m.\u001b[0m\u001b[0m_dataset_kind\u001b[0m \u001b[0;34m==\u001b[0m \u001b[0m_DatasetKind\u001b[0m\u001b[0;34m.\u001b[0m\u001b[0mIterable\u001b[0m \u001b[0;32mand\u001b[0m\u001b[0;31m \u001b[0m\u001b[0;31m\\\u001b[0m\u001b[0;34m\u001b[0m\u001b[0;34m\u001b[0m\u001b[0m\n",
            "\u001b[0;32m/usr/local/lib/python3.7/dist-packages/torch/utils/data/dataloader.py\u001b[0m in \u001b[0;36m_next_data\u001b[0;34m(self)\u001b[0m\n\u001b[1;32m    559\u001b[0m     \u001b[0;32mdef\u001b[0m \u001b[0m_next_data\u001b[0m\u001b[0;34m(\u001b[0m\u001b[0mself\u001b[0m\u001b[0;34m)\u001b[0m\u001b[0;34m:\u001b[0m\u001b[0;34m\u001b[0m\u001b[0;34m\u001b[0m\u001b[0m\n\u001b[1;32m    560\u001b[0m         \u001b[0mindex\u001b[0m \u001b[0;34m=\u001b[0m \u001b[0mself\u001b[0m\u001b[0;34m.\u001b[0m\u001b[0m_next_index\u001b[0m\u001b[0;34m(\u001b[0m\u001b[0;34m)\u001b[0m  \u001b[0;31m# may raise StopIteration\u001b[0m\u001b[0;34m\u001b[0m\u001b[0;34m\u001b[0m\u001b[0m\n\u001b[0;32m--> 561\u001b[0;31m         \u001b[0mdata\u001b[0m \u001b[0;34m=\u001b[0m \u001b[0mself\u001b[0m\u001b[0;34m.\u001b[0m\u001b[0m_dataset_fetcher\u001b[0m\u001b[0;34m.\u001b[0m\u001b[0mfetch\u001b[0m\u001b[0;34m(\u001b[0m\u001b[0mindex\u001b[0m\u001b[0;34m)\u001b[0m  \u001b[0;31m# may raise StopIteration\u001b[0m\u001b[0;34m\u001b[0m\u001b[0;34m\u001b[0m\u001b[0m\n\u001b[0m\u001b[1;32m    562\u001b[0m         \u001b[0;32mif\u001b[0m \u001b[0mself\u001b[0m\u001b[0;34m.\u001b[0m\u001b[0m_pin_memory\u001b[0m\u001b[0;34m:\u001b[0m\u001b[0;34m\u001b[0m\u001b[0;34m\u001b[0m\u001b[0m\n\u001b[1;32m    563\u001b[0m             \u001b[0mdata\u001b[0m \u001b[0;34m=\u001b[0m \u001b[0m_utils\u001b[0m\u001b[0;34m.\u001b[0m\u001b[0mpin_memory\u001b[0m\u001b[0;34m.\u001b[0m\u001b[0mpin_memory\u001b[0m\u001b[0;34m(\u001b[0m\u001b[0mdata\u001b[0m\u001b[0;34m)\u001b[0m\u001b[0;34m\u001b[0m\u001b[0;34m\u001b[0m\u001b[0m\n",
            "\u001b[0;32m/usr/local/lib/python3.7/dist-packages/torch/utils/data/_utils/fetch.py\u001b[0m in \u001b[0;36mfetch\u001b[0;34m(self, possibly_batched_index)\u001b[0m\n\u001b[1;32m     47\u001b[0m     \u001b[0;32mdef\u001b[0m \u001b[0mfetch\u001b[0m\u001b[0;34m(\u001b[0m\u001b[0mself\u001b[0m\u001b[0;34m,\u001b[0m \u001b[0mpossibly_batched_index\u001b[0m\u001b[0;34m)\u001b[0m\u001b[0;34m:\u001b[0m\u001b[0;34m\u001b[0m\u001b[0;34m\u001b[0m\u001b[0m\n\u001b[1;32m     48\u001b[0m         \u001b[0;32mif\u001b[0m \u001b[0mself\u001b[0m\u001b[0;34m.\u001b[0m\u001b[0mauto_collation\u001b[0m\u001b[0;34m:\u001b[0m\u001b[0;34m\u001b[0m\u001b[0;34m\u001b[0m\u001b[0m\n\u001b[0;32m---> 49\u001b[0;31m             \u001b[0mdata\u001b[0m \u001b[0;34m=\u001b[0m \u001b[0;34m[\u001b[0m\u001b[0mself\u001b[0m\u001b[0;34m.\u001b[0m\u001b[0mdataset\u001b[0m\u001b[0;34m[\u001b[0m\u001b[0midx\u001b[0m\u001b[0;34m]\u001b[0m \u001b[0;32mfor\u001b[0m \u001b[0midx\u001b[0m \u001b[0;32min\u001b[0m \u001b[0mpossibly_batched_index\u001b[0m\u001b[0;34m]\u001b[0m\u001b[0;34m\u001b[0m\u001b[0;34m\u001b[0m\u001b[0m\n\u001b[0m\u001b[1;32m     50\u001b[0m         \u001b[0;32melse\u001b[0m\u001b[0;34m:\u001b[0m\u001b[0;34m\u001b[0m\u001b[0;34m\u001b[0m\u001b[0m\n\u001b[1;32m     51\u001b[0m             \u001b[0mdata\u001b[0m \u001b[0;34m=\u001b[0m \u001b[0mself\u001b[0m\u001b[0;34m.\u001b[0m\u001b[0mdataset\u001b[0m\u001b[0;34m[\u001b[0m\u001b[0mpossibly_batched_index\u001b[0m\u001b[0;34m]\u001b[0m\u001b[0;34m\u001b[0m\u001b[0;34m\u001b[0m\u001b[0m\n",
            "\u001b[0;32m/usr/local/lib/python3.7/dist-packages/torch/utils/data/_utils/fetch.py\u001b[0m in \u001b[0;36m<listcomp>\u001b[0;34m(.0)\u001b[0m\n\u001b[1;32m     47\u001b[0m     \u001b[0;32mdef\u001b[0m \u001b[0mfetch\u001b[0m\u001b[0;34m(\u001b[0m\u001b[0mself\u001b[0m\u001b[0;34m,\u001b[0m \u001b[0mpossibly_batched_index\u001b[0m\u001b[0;34m)\u001b[0m\u001b[0;34m:\u001b[0m\u001b[0;34m\u001b[0m\u001b[0;34m\u001b[0m\u001b[0m\n\u001b[1;32m     48\u001b[0m         \u001b[0;32mif\u001b[0m \u001b[0mself\u001b[0m\u001b[0;34m.\u001b[0m\u001b[0mauto_collation\u001b[0m\u001b[0;34m:\u001b[0m\u001b[0;34m\u001b[0m\u001b[0;34m\u001b[0m\u001b[0m\n\u001b[0;32m---> 49\u001b[0;31m             \u001b[0mdata\u001b[0m \u001b[0;34m=\u001b[0m \u001b[0;34m[\u001b[0m\u001b[0mself\u001b[0m\u001b[0;34m.\u001b[0m\u001b[0mdataset\u001b[0m\u001b[0;34m[\u001b[0m\u001b[0midx\u001b[0m\u001b[0;34m]\u001b[0m \u001b[0;32mfor\u001b[0m \u001b[0midx\u001b[0m \u001b[0;32min\u001b[0m \u001b[0mpossibly_batched_index\u001b[0m\u001b[0;34m]\u001b[0m\u001b[0;34m\u001b[0m\u001b[0;34m\u001b[0m\u001b[0m\n\u001b[0m\u001b[1;32m     50\u001b[0m         \u001b[0;32melse\u001b[0m\u001b[0;34m:\u001b[0m\u001b[0;34m\u001b[0m\u001b[0;34m\u001b[0m\u001b[0m\n\u001b[1;32m     51\u001b[0m             \u001b[0mdata\u001b[0m \u001b[0;34m=\u001b[0m \u001b[0mself\u001b[0m\u001b[0;34m.\u001b[0m\u001b[0mdataset\u001b[0m\u001b[0;34m[\u001b[0m\u001b[0mpossibly_batched_index\u001b[0m\u001b[0;34m]\u001b[0m\u001b[0;34m\u001b[0m\u001b[0;34m\u001b[0m\u001b[0m\n",
            "\u001b[0;32m<ipython-input-140-c619848a70f3>\u001b[0m in \u001b[0;36m__getitem__\u001b[0;34m(self, idx)\u001b[0m\n\u001b[1;32m     30\u001b[0m         \u001b[0mout_list\u001b[0m \u001b[0;34m=\u001b[0m \u001b[0;34m[\u001b[0m\u001b[0;34m]\u001b[0m\u001b[0;34m\u001b[0m\u001b[0;34m\u001b[0m\u001b[0m\n\u001b[1;32m     31\u001b[0m         \u001b[0;32mfor\u001b[0m \u001b[0mkey\u001b[0m\u001b[0;34m,\u001b[0m \u001b[0mvalue\u001b[0m \u001b[0;32min\u001b[0m \u001b[0mself\u001b[0m\u001b[0;34m.\u001b[0m\u001b[0mpr_dict\u001b[0m\u001b[0;34m.\u001b[0m\u001b[0mitems\u001b[0m\u001b[0;34m(\u001b[0m\u001b[0;34m)\u001b[0m\u001b[0;34m:\u001b[0m\u001b[0;34m\u001b[0m\u001b[0;34m\u001b[0m\u001b[0m\n\u001b[0;32m---> 32\u001b[0;31m             \u001b[0mout_list\u001b[0m\u001b[0;34m.\u001b[0m\u001b[0mappend\u001b[0m\u001b[0;34m(\u001b[0m\u001b[0mself\u001b[0m\u001b[0;34m.\u001b[0m\u001b[0mpr_dict\u001b[0m\u001b[0;34m[\u001b[0m\u001b[0mkey\u001b[0m\u001b[0;34m]\u001b[0m\u001b[0;34m[\u001b[0m\u001b[0midx\u001b[0m\u001b[0;34m]\u001b[0m\u001b[0;34m)\u001b[0m\u001b[0;34m\u001b[0m\u001b[0;34m\u001b[0m\u001b[0m\n\u001b[0m\u001b[1;32m     33\u001b[0m \u001b[0;34m\u001b[0m\u001b[0m\n\u001b[1;32m     34\u001b[0m         \u001b[0mv0\u001b[0m \u001b[0;34m=\u001b[0m \u001b[0mtorch\u001b[0m\u001b[0;34m.\u001b[0m\u001b[0mtensor\u001b[0m\u001b[0;34m(\u001b[0m\u001b[0mout_list\u001b[0m\u001b[0;34m[\u001b[0m\u001b[0;36m0\u001b[0m\u001b[0;34m]\u001b[0m\u001b[0;34m.\u001b[0m\u001b[0mT\u001b[0m\u001b[0;34m)\u001b[0m\u001b[0;34m\u001b[0m\u001b[0;34m\u001b[0m\u001b[0m\n",
            "\u001b[0;31mIndexError\u001b[0m: list index out of range"
          ]
        }
      ]
    },
    {
      "cell_type": "markdown",
      "metadata": {
        "id": "5iybzKxeDjxe"
      },
      "source": [
        "# Model - RNN"
      ]
    },
    {
      "cell_type": "code",
      "metadata": {
        "id": "gAv7D01XO4Of"
      },
      "source": [
        "#https://github.com/fosfrancesco/pkspell/blob/main/src/models/models.py"
      ],
      "execution_count": null,
      "outputs": []
    },
    {
      "cell_type": "code",
      "metadata": {
        "id": "A1oi5Ey7Fzpb"
      },
      "source": [
        "class MusicRNN(nn.Module):\n",
        "\n",
        "    def __init__(self, pitch_to_ix, output_dim, input_dim=17, hidden_dim=300, rnn_depth=1, cell_type=\"GRU\"):\n",
        "        super(MusicRNN, self).__init__()\n",
        "\n",
        "        self.n_out = output_dim\n",
        "        \n",
        "        \n",
        "        rnn_cell = nn.GRU\n",
        "\n",
        "        self.rnn = rnn_cell(\n",
        "            input_size=input_dim,\n",
        "            hidden_size= hidden_dim,\n",
        "            num_layers=rnn_depth)\n",
        "\n",
        "\n",
        "        # Output layers. The input will be two times\n",
        "        self.top_layer_voice_0 = nn.Linear(hidden_dim, self.n_out)\n",
        "        self.top_layer_voice_1 = nn.Linear(hidden_dim, self.n_out)\n",
        "        self.top_layer_voice_2 = nn.Linear(hidden_dim, self.n_out)\n",
        "        self.top_layer_voice_3 = nn.Linear(hidden_dim, self.n_out)\n",
        "\n",
        "        # Loss function that we will use during training.\n",
        "        self.loss = nn.CrossEntropyLoss(reduction=\"mean\")\n",
        "\n",
        "\n",
        "    def compute_outputs(self, sentences, sentences_len):\n",
        "\n",
        "        # pack padded seq\n",
        "        rnn_out = self.rnn(sentences)\n",
        "        # pad packed seq\n",
        "\n",
        "        out_0 = self.top_layer_voice_0(rnn_out)\n",
        "        out_1 = self.top_layer_voice_1(rnn_out)\n",
        "        out_2 = self.top_layer_voice_2(rnn_out)\n",
        "        out_3 = self.top_layer_voice_3(rnn_out)\n",
        "        \n",
        "\n",
        "        return out_0, out_1, out_2, out_3\n",
        "\n",
        "    def forward(self, sentences, v0, v1, v2, v3, sentences_len):\n",
        "\n",
        "        # Compute the outputs. The shape is (max_len, n_sentences, n_labels).\n",
        "        scores_0, scores_1, scores_2, scores_3 = self.compute_outputs(sentences, sentences_len)\n",
        "\n",
        "        # Flatten the outputs and the labels, to compute the loss.\n",
        "        # The input to this loss needs to be one 2-dimensional and one 1-dimensional tensor.\n",
        "        score_0  = scores_0.view(-1, self.n_out)\n",
        "        score_1  = scores_1.view(-1, self.n_out)\n",
        "        score_2  = scores_2.view(-1, self.n_out)\n",
        "        score_3  = scores_3.view(-1, self.n_out)\n",
        "\n",
        "        # dont take padded len -> loss(score_0[:sentence_len], v0)      -> therefore store real len of voices  - before view\n",
        "\n",
        "        v0 = v0.view(-1)\n",
        "        v1 = v1.view(-1)\n",
        "        v2 = v2.view(-1)\n",
        "        v3 = v3.view(-1)\n",
        " \n",
        "        \n",
        "        loss = self.loss_pitch(score_0, v0) + self.loss_pitch(score_1, v1) + self.loss_pitch(score_2, v2) + self.loss_pitch(score_3, v3)\n",
        "        \n",
        "        return loss\n",
        "\n",
        "    def predict(self, sentences, sentences_len):\n",
        "\n",
        "        # Compute the outputs from the linear units.\n",
        "        scores_0, scores_1, scores_2, scores_3 = self.compute_outputs(sentences, sentences_len)\n",
        "\n",
        "        # Select the top-scoring labels. The shape is now (max_len, n_sentences).\n",
        "        predicted_0 = scores_0.argmax(dim=2)\n",
        "        predicted_1 = scores_1.argmax(dim=2)\n",
        "        predicted_2 = scores_2.argmax(dim=2)\n",
        "        predicted_3 = scores_3.argmax(dim=2)       # prbl distr over 0-not there, 1-there   - argmax -> take higher probl of those 2\n",
        "        \n",
        "        ##  predicted_X should be enough for BS = 1;  \n",
        "        return (\n",
        "            [\n",
        "                predicted_0[: int(l), i].cpu().numpy()\n",
        "                for i, l in enumerate(sentences_len)\n",
        "            ],\n",
        "            [\n",
        "                predicted_1[: int(l), i].cpu().numpy()\n",
        "                for i, l in enumerate(sentences_len)\n",
        "            ],\n",
        "            [\n",
        "                predicted_2[: int(l), i].cpu().numpy()\n",
        "                for i, l in enumerate(sentences_len)\n",
        "            ],\n",
        "            [\n",
        "                predicted_3[: int(l), i].cpu().numpy()\n",
        "                for i, l in enumerate(sentences_len)\n",
        "            ],\n",
        "        )\n",
        "\n"
      ],
      "execution_count": null,
      "outputs": []
    },
    {
      "cell_type": "code",
      "metadata": {
        "id": "B0pQkEihHFx3"
      },
      "source": [
        ""
      ],
      "execution_count": null,
      "outputs": []
    }
  ]
}