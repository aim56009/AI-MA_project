{
  "nbformat": 4,
  "nbformat_minor": 0,
  "metadata": {
    "colab": {
      "name": "Masterproject.ipynb",
      "provenance": [],
      "include_colab_link": true
    },
    "kernelspec": {
      "name": "python3",
      "display_name": "Python 3"
    },
    "language_info": {
      "name": "python"
    },
    "accelerator": "GPU"
  },
  "cells": [
    {
      "cell_type": "markdown",
      "metadata": {
        "id": "view-in-github",
        "colab_type": "text"
      },
      "source": [
        "<a href=\"https://colab.research.google.com/github/aim56009/AI-MA_project/blob/main/Masterproject.ipynb\" target=\"_parent\"><img src=\"https://colab.research.google.com/assets/colab-badge.svg\" alt=\"Open In Colab\"/></a>"
      ]
    },
    {
      "cell_type": "code",
      "metadata": {
        "id": "ZDUwCmeIW8i1"
      },
      "source": [
        "%matplotlib inline\n",
        "\n",
        "import numpy as np\n",
        "import torch\n",
        "import torch.nn as nn\n",
        "import torch.nn.functional as F\n",
        "import pickle\n",
        "\n",
        "from torch.utils.data import DataLoader\n",
        "from torch.utils.data.dataset import Dataset\n",
        "import glob\n",
        "import os"
      ],
      "execution_count": 23,
      "outputs": []
    },
    {
      "cell_type": "code",
      "metadata": {
        "id": "CsFs8dyqXBx2",
        "colab": {
          "base_uri": "https://localhost:8080/"
        },
        "outputId": "6bff09ef-b19e-4087-ba0b-47f10d7c3567"
      },
      "source": [
        "!git clone https://github.com/aim56009/AI-MA_project.git"
      ],
      "execution_count": 24,
      "outputs": [
        {
          "output_type": "stream",
          "name": "stdout",
          "text": [
            "fatal: destination path 'AI-MA_project' already exists and is not an empty directory.\n"
          ]
        }
      ]
    },
    {
      "cell_type": "markdown",
      "metadata": {
        "id": "OYpz1MOIOgtk"
      },
      "source": [
        "# Dataloader"
      ]
    },
    {
      "cell_type": "markdown",
      "metadata": {
        "id": "77uea5NROiFC"
      },
      "source": [
        "Maybe later: \n",
        "\n",
        "in dataloader:  pad_colate ----> consider only unpaded data for loss in training\n",
        "\n",
        " pad to longest seq in batch ..- better sort after len before loading batches\n",
        "\n"
      ]
    },
    {
      "cell_type": "code",
      "metadata": {
        "id": "ygWXNSrCbRQi"
      },
      "source": [
        "batch_size = 1      # needs pading for > 1\n",
        "PATH_TO_DATA = \"AI-MA_project/pianoroll\"\n",
        "workers = 0"
      ],
      "execution_count": 25,
      "outputs": []
    },
    {
      "cell_type": "code",
      "metadata": {
        "id": "h1-u8zYd-gyo"
      },
      "source": [
        "class MusicDataset(Dataset):\n",
        "\n",
        "    def __init__(self, data_dir, transforms=None):\n",
        "        self.transforms = transforms\n",
        "        self.data_dir = data_dir\n",
        "\n",
        "        labels = [\"voice_0\", \"voice_1\", \"voice_2\", \"voice_3\", \"voice_all\"]\n",
        "        self.labels = labels\n",
        "        self.pr_dict = {}\n",
        "                                                                                # load all files like below  (maybe do dicts instead of 1 big array)\n",
        "                                                                                # make list of dict.  -voice_0 ..voice_all, length (-6 in total)\n",
        "        len_list = []\n",
        "\n",
        "        for iLabel in range(len(labels)):\n",
        "            \n",
        "            if iLabel == 4:   \n",
        "                \n",
        "                voice_files = []\n",
        "                file_names = sorted(glob.glob(os.path.join(PATH_TO_DATA, self.labels[iLabel], \"*.pkl\")))   \n",
        "                for name in file_names:\n",
        "                    with open(name ,'rb') as f: \n",
        "                        loaded_obj = pickle.load(f)  \n",
        "                        #loaded_obj = loaded_obj.T\n",
        "                        voice_files.append(loaded_obj) \n",
        "                        len_list.append(len(loaded_obj.T))                             # for later: sort it after len(rows) when loading batches - to not have batches with len 1 and len 100 and then need to pad 99 zeros\n",
        "                self.pr_dict[self.labels[iLabel]] = voice_files \n",
        "                self.pr_dict[\"length\"] = len_list\n",
        "            \n",
        "            else:\n",
        "                voice_files = []\n",
        "                file_names = sorted(glob.glob(os.path.join(PATH_TO_DATA, self.labels[iLabel], \"*.pkl\")))   \n",
        "                for name in file_names:\n",
        "                    with open(name ,'rb') as f: \n",
        "                        loaded_obj = pickle.load(f)     \n",
        "                        voice_files.append(loaded_obj)                              # for later: sort it after len(rows) when loading batches - to not have batches with len 1 and len 100 and then need to pad 99 zeros\n",
        "                self.pr_dict[self.labels[iLabel]] = voice_files \n",
        "                                        \n",
        "\n",
        "    def __len__(self):\n",
        "      \n",
        "        return len(self.pr_dict[self.labels[0]])\n",
        "\n",
        "    def __getitem__(self, idx):                                                 ###maybe later revert sorted idx to file name idx\n",
        "\n",
        "        out_list = []\n",
        "        for key, value in self.pr_dict.items():\n",
        "            out_list.append(self.pr_dict[key][idx])                  ##maybe shorten not saving it in list first\n",
        "        v0 = torch.tensor(out_list[0].T)\n",
        "        v1 = torch.tensor(out_list[1].T)\n",
        "        v2 = torch.tensor(out_list[2].T)\n",
        "        v3 = torch.tensor(out_list[3].T)\n",
        "        v_all = torch.tensor(out_list[4].T) \n",
        "\n",
        "        length = self.pr_dict[\"length\"]\n",
        "\n",
        "        # v0.shape =torch.Size([816, 128])  , when doing v0, v1, v2, v3, v_all  = real , print(v0.shape) it is torch.Size([1, 756, 128])  - normal?\n",
        "\n",
        "        return (v0, v1, v2, v3, v_all, length)"
      ],
      "execution_count": 26,
      "outputs": []
    },
    {
      "cell_type": "code",
      "metadata": {
        "id": "8oTPIsBwPAJg"
      },
      "source": [
        "dataset = MusicDataset(PATH_TO_DATA)\n",
        "loader = torch.utils.data.DataLoader(dataset,batch_size=batch_size, shuffle=False, num_workers=workers, drop_last=True)"
      ],
      "execution_count": 27,
      "outputs": []
    },
    {
      "cell_type": "markdown",
      "metadata": {
        "id": "YM0SS-uLDL0C"
      },
      "source": [
        "### just for testing "
      ]
    },
    {
      "cell_type": "code",
      "metadata": {
        "id": "qHbTh6ZkdFOL",
        "colab": {
          "base_uri": "https://localhost:8080/"
        },
        "outputId": "3f90a070-5e00-4de6-f08b-b29ff9359322"
      },
      "source": [
        "for batch_idx, real in enumerate(loader):\n",
        "  v0, v1, v2, v3, v_all, length  = real\n",
        "print(v0.shape)\n",
        "  #print(v0.shape, v1.shape, v2.shape, v3.shape, v_all.shape)"
      ],
      "execution_count": 28,
      "outputs": [
        {
          "output_type": "stream",
          "name": "stdout",
          "text": [
            "torch.Size([1, 576, 128])\n"
          ]
        }
      ]
    },
    {
      "cell_type": "markdown",
      "metadata": {
        "id": "5iybzKxeDjxe"
      },
      "source": [
        "# Model - RNN"
      ]
    },
    {
      "cell_type": "code",
      "metadata": {
        "id": "gAv7D01XO4Of"
      },
      "source": [
        "#https://github.com/fosfrancesco/pkspell/blob/main/src/models/models.py"
      ],
      "execution_count": 29,
      "outputs": []
    },
    {
      "cell_type": "code",
      "metadata": {
        "id": "A1oi5Ey7Fzpb"
      },
      "source": [
        "class MusicRNN(nn.Module):\n",
        "\n",
        "    def __init__(self, output_dim=128, hidden_dim=300, rnn_depth=1, cell_type=\"GRU\"):                  #need to know input/output dim first\n",
        "        super(MusicRNN, self).__init__()\n",
        "\n",
        "        self.n_out = output_dim\n",
        "\n",
        "        input_dim = output_dim \n",
        "        \n",
        "        \n",
        "        rnn_cell = nn.GRU\n",
        "\n",
        "        self.rnn = rnn_cell(input_size=input_dim, hidden_size=hidden_dim, num_layers=rnn_depth, batch_first=True)\n",
        "\n",
        "\n",
        "        # Output layers. The input will be two times\n",
        "        self.top_layer_voice_0 = nn.Linear(hidden_dim, self.n_out)\n",
        "        self.top_layer_voice_1 = nn.Linear(hidden_dim, self.n_out)\n",
        "        self.top_layer_voice_2 = nn.Linear(hidden_dim, self.n_out)\n",
        "        self.top_layer_voice_3 = nn.Linear(hidden_dim, self.n_out)\n",
        "\n",
        "        # Loss function that we will use during training.\n",
        "        self.loss = nn.CrossEntropyLoss(reduction=\"mean\")\n",
        "\n",
        "\n",
        "    def compute_outputs(self, sentences, sentences_len):\n",
        "\n",
        "        # pack padded seq\n",
        "        rnn_out ,_= self.rnn(sentences)\n",
        "        # pad packed seq\n",
        "\n",
        "        out_0 = self.top_layer_voice_0(rnn_out)\n",
        "        out_1 = self.top_layer_voice_1(rnn_out)\n",
        "        out_2 = self.top_layer_voice_2(rnn_out)\n",
        "        out_3 = self.top_layer_voice_3(rnn_out)\n",
        "        \n",
        "        #print(\"out_0.shape:\",out_0.shape)\n",
        "        #print(\"out_1.shape:\",out_1.shape)\n",
        "        #print(\"out_2.shape:\",out_2.shape)\n",
        "        #print(\"out_3.shape:\",out_3.shape)\n",
        "\n",
        "        return out_0, out_1, out_2, out_3\n",
        "\n",
        "    def forward(self, sentences, v0, v1, v2, v3, sentences_len):                # maybe change sent -> v_all\n",
        "\n",
        "        # Compute the outputs. The shape is (max_len, n_sentences, n_labels).\n",
        "        scores_0, scores_1, scores_2, scores_3 = self.compute_outputs(sentences, sentences_len)\n",
        "\n",
        "        # Flatten the outputs and the labels, to compute the loss.\n",
        "        # The input to this loss needs to be one 2-dimensional and one 1-dimensional tensor.\n",
        "        score_0  = scores_0.view(-1, self.n_out)\n",
        "        score_1  = scores_1.view(-1, self.n_out)\n",
        "        score_2  = scores_2.view(-1, self.n_out)\n",
        "        score_3  = scores_3.view(-1, self.n_out)\n",
        "\n",
        "        # dont take padded len -> loss(score_0[:sentence_len], v0)      -> therefore store real len of voices  - before view\n",
        "\n",
        "\n",
        "        v0 = v0.squeeze()\n",
        "        v1 = v1.squeeze()\n",
        "        v2 = v2.squeeze()\n",
        "        v3 = v3.squeeze()\n",
        "\n",
        " \n",
        "        \n",
        "        loss = self.loss(score_0, v0) + self.loss(score_1, v1) + self.loss(score_2, v2) + self.loss(score_3, v3)\n",
        "        \n",
        "        return loss\n",
        "\n",
        "    def predict(self, sentences, sentences_len):\n",
        "\n",
        "        # Compute the outputs from the linear units.\n",
        "        scores_0, scores_1, scores_2, scores_3 = self.compute_outputs(sentences, sentences_len)\n",
        "\n",
        "        # Select the top-scoring labels. The shape is now (max_len, n_sentences).\n",
        "        predicted_0 = scores_0.argmax(dim=2)\n",
        "        predicted_1 = scores_1.argmax(dim=2)\n",
        "        predicted_2 = scores_2.argmax(dim=2)\n",
        "        predicted_3 = scores_3.argmax(dim=2)       # prbl distr over 0-not there, 1-there   - argmax -> take higher probl of those 2\n",
        "        \n",
        "        ##  predicted_X should be enough for BS = 1;  \n",
        "\n",
        "        #print(\"simple pred:\",predicted_0)\n",
        "        #print(\"indexing pred:\",[predicted_0[: int(l), i].cpu().numpy() for i, l in enumerate(sentences_len)])\n",
        "        #print(\"test:\",[predicted_0[: int(l), i].cpu().numpy() for i, l in enumerate(sentences_len)])\n",
        "        \n",
        "        # ([predicted_0[: int(l), i].cpu().numpy() for i, l in enumerate(sentences_len)],\n",
        "        #        [predicted_1[: int(l), i].cpu().numpy() for i, l in enumerate(sentences_len)],\n",
        "        #        [predicted_2[: int(l), i].cpu().numpy() for i, l in enumerate(sentences_len)],\n",
        "        #        [predicted_3[: int(l), i].cpu().numpy() for i, l in enumerate(sentences_len)])\n",
        "        return np.squeeze(predicted_0.cpu().numpy()), np.squeeze(predicted_1.cpu().numpy()), np.squeeze(predicted_2.cpu().numpy()), np.squeeze(predicted_3.cpu().numpy())"
      ],
      "execution_count": 30,
      "outputs": []
    },
    {
      "cell_type": "code",
      "metadata": {
        "id": "vHgEe10xprjf"
      },
      "source": [
        "#start_experiment(epochs, lr, hidden_dim, bs, momentum, rnn_depth, device, cell_type, decay, learn_all)"
      ],
      "execution_count": 31,
      "outputs": []
    },
    {
      "cell_type": "markdown",
      "metadata": {
        "id": "07I2QbRDbUlA"
      },
      "source": [
        "# Train"
      ]
    },
    {
      "cell_type": "code",
      "metadata": {
        "id": "ITD9mYRfb9p-"
      },
      "source": [
        "import random\n",
        "import click\n",
        "import sklearn\n",
        "import sklearn.model_selection\n",
        "from collections import defaultdict\n",
        "from sklearn.metrics import accuracy_score\n",
        "from pathlib import Path\n",
        "import sys"
      ],
      "execution_count": 32,
      "outputs": []
    },
    {
      "cell_type": "code",
      "metadata": {
        "id": "hHESuQEQbVRB"
      },
      "source": [
        "from torch import optim\n",
        "from torch.optim import lr_scheduler\n",
        "\n",
        "def train(epochs, lr, hidden_dim, momentum, rnn_depth, device, rnn_cell, weight_decay, train_dataloader, val_dataloader=None):\n",
        "    \n",
        "    output_dim = 128                                                            ### think about how to get the correct input=output size\n",
        "    model = MusicRNN(output_dim, hidden_dim, rnn_depth, cell_type)              \n",
        "    optimizer = optim.Adam(model.parameters(), lr=lr, weight_decay=weight_decay)\n",
        "    scheduler = lr_scheduler.MultiStepLR(optimizer, [epochs // 2], gamma=0.1, verbose=True)\n",
        "\n",
        "    history = training_loop(model, optimizer, train_dataloader, epochs=epochs, val_dataloader=val_dataloader, device=device, scheduler=scheduler)\n",
        "\n",
        "    return model, history"
      ],
      "execution_count": 33,
      "outputs": []
    },
    {
      "cell_type": "code",
      "metadata": {
        "id": "bxwrIPxjsIWw"
      },
      "source": [
        "from sklearn.preprocessing import OneHotEncoder"
      ],
      "execution_count": 34,
      "outputs": []
    },
    {
      "cell_type": "code",
      "metadata": {
        "id": "uG_ONds0bkt-"
      },
      "source": [
        "def training_loop(model,optimizer, train_dataloader, epochs=50, val_dataloader=None, device=None, scheduler=None,):\n",
        "    if device is None:\n",
        "        device = (torch.device(\"cuda\") if torch.cuda.is_available() else torch.device(\"cpu\"))\n",
        "        print(f\"Training on device: {device}\")\n",
        "\n",
        "    # Move model to GPU if needed\n",
        "    model = model.to(device)\n",
        "    history = defaultdict(list)\n",
        "\n",
        "    for i_epoch in range(1, epochs + 1):\n",
        "        loss_sum = 0\n",
        "        accuracy_v0_sum = 0\n",
        "        accuracy_v1_sum = 0\n",
        "        accuracy_v2_sum = 0\n",
        "        accuracy_v3_sum = 0\n",
        "        accuracy_v_all_sum = 0\n",
        "        model.train()\n",
        "        \n",
        "\n",
        "        for idx, (v0, v1, v2, v3, v_all, lens) in enumerate(train_dataloader):  \n",
        "\n",
        "            v0, v1, v2, v3, v_all = (v0.to(device).float(), v1.to(device).float(), v2.to(device).float(), v3.to(device).float(), v_all.to(device).float())\n",
        "            \n",
        "\n",
        "            optimizer.zero_grad()\n",
        "            loss = model.forward(v_all, v0, v1, v2, v3, lens)\n",
        "\n",
        "            loss.backward()\n",
        "            optimizer.step()\n",
        "            loss_sum += loss.item()\n",
        "\n",
        "            with torch.no_grad():\n",
        "                pred_v0, pred_v1, pred_v2, pred_v3 = model.predict(v_all, lens)\n",
        "                \n",
        "\n",
        "                    # compute the accuracy without considering the padding\n",
        "                #print(\"v0 shape\",v0.shape)\n",
        "                #print(\"pred shape\",pred_v0.shape)\n",
        "                #print(\"v0 shape after trafo, target\", np.squeeze(v0).argmax(dim=1).cpu().shape)\n",
        "                #print(\"pred shape after trafo, input\",torch.nn.functional.one_hot(torch.tensor(pred_v0),num_classes=v0.shape[2]).shape)\n",
        "                #acc_v0 = accuracy_score(torch.nn.functional.one_hot(torch.tensor(pred_v0),num_classes=v0.shape[2]), np.squeeze(v0).argmax(dim=1).cpu())\n",
        "\n",
        "                ### make pred_v0 3 dim (one_hot) and make v0 1 dim - drop batch_dim (by queezeing) and then argmax -> make it 1D\n",
        "                acc_v0 = accuracy_score(torch.tensor(pred_v0), np.squeeze(v0).argmax(dim=1).cpu())\n",
        "                acc_v1 = accuracy_score(torch.tensor(pred_v1), np.squeeze(v1).argmax(dim=1).cpu())\n",
        "                acc_v2 = accuracy_score(torch.tensor(pred_v2), np.squeeze(v2).argmax(dim=1).cpu())\n",
        "                acc_v3 = accuracy_score(torch.tensor(pred_v3), np.squeeze(v3).argmax(dim=1).cpu())\n",
        "                    # normalize according to the number of sequences in the batch\n",
        "                accuracy_v0_sum += acc_v0 / len(lens)\n",
        "                accuracy_v1_sum += acc_v1 / len(lens)\n",
        "                accuracy_v2_sum += acc_v2 / len(lens)\n",
        "                accuracy_v3_sum += acc_v3 / len(lens)\n",
        "\n",
        "        train_loss = loss_sum / len(train_dataloader)\n",
        "        # normalize according to the number of batches\n",
        "        train_accuracy_v0 = accuracy_v0_sum / len(train_dataloader)\n",
        "        train_accuracy_v1 = accuracy_v1_sum / len(train_dataloader)\n",
        "        train_accuracy_v2 = accuracy_v2_sum / len(train_dataloader)\n",
        "        train_accuracy_v3 = accuracy_v3_sum / len(train_dataloader)\n",
        "\n",
        "        history[\"train_loss\"].append(train_loss)\n",
        "        history[\"train_accuracy_v0\"].append(train_accuracy_v0)\n",
        "        history[\"train_accuracy_v1\"].append(train_accuracy_v1)\n",
        "        history[\"train_accuracy_v2\"].append(train_accuracy_v2)\n",
        "        history[\"train_accuracy_v3\"].append(train_accuracy_v3)\n",
        "        \n",
        "        print(\"Train Loss: {}, Train Accuracy_0 : {}, Train Accuracy_1 : {},Train Accuracy_2 : {}, Train Accuracy_3 : {}\".format(train_loss, train_accuracy_v0, train_accuracy_v1, train_accuracy_v2, train_accuracy_v3)) \n",
        "\n",
        "\n",
        "        if val_dataloader is not None:\n",
        "            # Evaluate on the validation set\n",
        "            model.eval()\n",
        "            accuracy_v0_sum = 0\n",
        "            accuracy_v1_sum = 0\n",
        "            accuracy_v2_sum = 0\n",
        "            accuracy_v3_sum = 0\n",
        "\n",
        "            with torch.no_grad():\n",
        "\n",
        "                for v0, v1, v2, v3, v_all, lens in val_dataloader:\n",
        "\n",
        "                    v0, v1, v2, v3, v_all = (v0.to(device).float(), v1.to(device).float(), v2.to(device).float(), v3.to(device).float(), v_all.to(device).float())\n",
        "\n",
        "                    # Predict the model's output on a batch\n",
        "                    pred_v0, pred_v1, pred_v2, pred_v3 = model.predict(v_all, lens)\n",
        "                        \n",
        "                        # compute the accuracy without considering the padding\n",
        "                    acc_v0 = accuracy_score(torch.tensor(pred_v0), np.squeeze(v0).argmax(dim=1).cpu())\n",
        "                    acc_v1 = accuracy_score(torch.tensor(pred_v1), np.squeeze(v1).argmax(dim=1).cpu())\n",
        "                    acc_v2 = accuracy_score(torch.tensor(pred_v2), np.squeeze(v2).argmax(dim=1).cpu())\n",
        "                    acc_v3 = accuracy_score(torch.tensor(pred_v3), np.squeeze(v3).argmax(dim=1).cpu())\n",
        "                        \n",
        "                        \n",
        "                        # normalize according to the number of sequences in the batch\n",
        "                    accuracy_v0_sum += acc_v0 / len(lens)\n",
        "                    accuracy_v1_sum += acc_v1 / len(lens)\n",
        "                    accuracy_v2_sum += acc_v2 / len(lens)\n",
        "                    accuracy_v3_sum += acc_v3 / len(lens)\n",
        "\n",
        "                # normalize according to the number of batches\n",
        "                val_accuracy_v0 = accuracy_v0_sum / len(val_dataloader)\n",
        "                val_accuracy_v1 = accuracy_v1_sum / len(val_dataloader)\n",
        "                val_accuracy_v2 = accuracy_v2_sum / len(val_dataloader)\n",
        "                val_accuracy_v3 = accuracy_v3_sum / len(val_dataloader)\n",
        "\n",
        "            history[\"val_accuracy_v0\"].append(val_accuracy_v0)\n",
        "            history[\"val_accuracy_v1\"].append(val_accuracy_v1)\n",
        "            history[\"val_accuracy_v2\"].append(val_accuracy_v2)\n",
        "            history[\"val_accuracy_v3\"].append(val_accuracy_v3)\n",
        "            \n",
        "            print(\" Validation Accuracy_0 : {}, Validation Accuracy_1 : {}, Validation Accuracy_2 : {}, Validation Accuracy_3 : {}\".format(val_accuracy_v0, val_accuracy_v1, val_accuracy_v2, val_accuracy_v3))\n",
        "\n",
        "        if scheduler is not None:\n",
        "            scheduler.step()\n",
        "\n",
        "        # save the model\n",
        "        torch.save(model, Path(\"./AI-MA_project/model_temp_epoch{}.pkl\".format(i_epoch)))\n",
        "\n",
        "    return history"
      ],
      "execution_count": 35,
      "outputs": []
    },
    {
      "cell_type": "code",
      "metadata": {
        "id": "NNzPG7eeIEoO"
      },
      "source": [
        "#start_experiment(epochs, lr, hidden_dim, bs, momentum, rnn_depth, device, cell_type, decay, learn_all)\n",
        "\n",
        "#print(next(model.parameters()).is_cuda)"
      ],
      "execution_count": 36,
      "outputs": []
    },
    {
      "cell_type": "code",
      "metadata": {
        "id": "-sBoQnA6bo71"
      },
      "source": [
        "from functools import partial\n",
        "\n",
        "def start_experiment(epochs, lr, hidden_dim, bs, momentum, rnn_depth, device, cell, decay, learn_all):\n",
        "    \n",
        "\n",
        "    trainer = partial(train, epochs, lr, hidden_dim, momentum, rnn_depth, device, cell, decay)\n",
        "\n",
        "    if learn_all == True:\n",
        "        print(\"Learning from full dataset\")\n",
        "        train_dataset = MusicDataset(PATH_TO_DATA)\n",
        "        train_dataloader = torch.utils.data.DataLoader(train_dataset,batch_size=batch_size, shuffle=False, num_workers=workers, drop_last=True)\n",
        "                \n",
        "        _, history = trainer(train_dataloader)\n",
        "    \n",
        "    else:\n",
        "        # Divide train and validation set\n",
        "        path_train, path_validation = sklearn.model_selection.train_test_split(PATH_TO_DATA, test_size=0.15, random_state=10,)\n",
        "\n",
        "        print(\"Train and validation lenghts: \", len(path_train), len(path_validation))\n",
        "        train_dataset = MusicDataset(path_train)\n",
        "        validation_dataset = MusicDataset(path_validation)\n",
        "        \n",
        "        train_dataloader = torch.utils.data.DataLoader(train_dataset,batch_size=batch_size, shuffle=False, num_workers=workers, drop_last=True)\n",
        "        val_dataloader = torch.utils.data.DataLoader(validation_dataset,batch_size=batch_size, shuffle=False, num_workers=workers, drop_last=True)\n",
        "\n",
        "        _, history = trainer(train_dataloader, val_dataloader)"
      ],
      "execution_count": 37,
      "outputs": []
    },
    {
      "cell_type": "markdown",
      "metadata": {
        "id": "mgtn-a7bMTf7"
      },
      "source": [
        "# Hyperparameter choice"
      ]
    },
    {
      "cell_type": "code",
      "metadata": {
        "id": "TNI9b6jKLpOX"
      },
      "source": [
        "model = MusicRNN\n",
        "epochs = 20\n",
        "lr = 0.01\n",
        "momentum = 0.9\n",
        "decay = 1e-4\n",
        "hidden_dim = 300\n",
        "bs = 1\n",
        "rnn_depth = 1\n",
        "device = None #torch.device(\"cuda\") if torch.cuda.is_available() else torch.device(\"cpu\")            ---- if None:  choses device automatically\n",
        "cell_type = \"GRU\"\n",
        "optimizer = \"Adam\"\n",
        "learn_all = \"False\"      # change later to True to see if learning works"
      ],
      "execution_count": 38,
      "outputs": []
    },
    {
      "cell_type": "code",
      "metadata": {
        "id": "a1LTlFJddpwm",
        "colab": {
          "base_uri": "https://localhost:8080/"
        },
        "outputId": "c0c10490-151c-443d-8345-e1e20339a850"
      },
      "source": [
        "start_experiment(epochs, lr, hidden_dim, bs, momentum, rnn_depth, device, cell_type, decay, learn_all)"
      ],
      "execution_count": 39,
      "outputs": [
        {
          "output_type": "stream",
          "name": "stdout",
          "text": [
            "Train and validation lenghts:  19 4\n",
            "Adjusting learning rate of group 0 to 1.0000e-02.\n",
            "Training on device: cuda\n",
            "Train Loss: 1.4786711774096502, Train Accuracy_0 : 0.0025351008482904173, Train Accuracy_1 : 0.0024108899520088383,Train Accuracy_2 : 0.002400819359961013, Train Accuracy_3 : 0.002568578602890338\n",
            " Validation Accuracy_0 : 0.002656547372785515, Validation Accuracy_1 : 0.0026014175090154318, Validation Accuracy_2 : 0.0025693564514314266, Validation Accuracy_3 : 0.0026953496506919032\n",
            "Adjusting learning rate of group 0 to 1.0000e-02.\n",
            "Train Loss: 0.42766658749624237, Train Accuracy_0 : 0.002677094721100344, Train Accuracy_1 : 0.002606012369927781,Train Accuracy_2 : 0.002609073599320518, Train Accuracy_3 : 0.002693887817264981\n",
            " Validation Accuracy_0 : 0.002651490521235346, Validation Accuracy_1 : 0.002614260908093059, Validation Accuracy_2 : 0.0025650450539275145, Validation Accuracy_3 : 0.0026969228654165605\n",
            "Adjusting learning rate of group 0 to 1.0000e-02.\n",
            "Train Loss: 0.40460128332577056, Train Accuracy_0 : 0.002679091400135851, Train Accuracy_1 : 0.002613187421530493,Train Accuracy_2 : 0.002612469657873642, Train Accuracy_3 : 0.0026948249142681184\n",
            " Validation Accuracy_0 : 0.0026541357012848927, Validation Accuracy_1 : 0.002603991578166573, Validation Accuracy_2 : 0.0025934000470743835, Validation Accuracy_3 : 0.0026969166961591444\n",
            "Adjusting learning rate of group 0 to 1.0000e-02.\n",
            "Train Loss: 0.37691611291368665, Train Accuracy_0 : 0.00267936588996382, Train Accuracy_1 : 0.002616351098010679,Train Accuracy_2 : 0.0026195745373915943, Train Accuracy_3 : 0.0026946557003484687\n",
            " Validation Accuracy_0 : 0.0026557651024604117, Validation Accuracy_1 : 0.0026087425194705376, Validation Accuracy_2 : 0.00255945023083736, Validation Accuracy_3 : 0.0026969769581595762\n",
            "Adjusting learning rate of group 0 to 1.0000e-02.\n",
            "Train Loss: 0.3883502674301736, Train Accuracy_0 : 0.0026798676346388474, Train Accuracy_1 : 0.0026180704024257226,Train Accuracy_2 : 0.0026172741090172264, Train Accuracy_3 : 0.002694932613476397\n",
            " Validation Accuracy_0 : 0.0026486562543879782, Validation Accuracy_1 : 0.002609519860493118, Validation Accuracy_2 : 0.0025940228468543333, Validation Accuracy_3 : 0.0026969295495617206\n",
            "Adjusting learning rate of group 0 to 1.0000e-02.\n",
            "Train Loss: 0.37519360721182354, Train Accuracy_0 : 0.0026799753108115586, Train Accuracy_1 : 0.0026189408737119645,Train Accuracy_2 : 0.002622726649109674, Train Accuracy_3 : 0.0026958873774467363\n",
            " Validation Accuracy_0 : 0.0026491767384229595, Validation Accuracy_1 : 0.0026045352049011814, Validation Accuracy_2 : 0.0026014748140378153, Validation Accuracy_3 : 0.0026967442601653225\n",
            "Adjusting learning rate of group 0 to 1.0000e-02.\n",
            "Train Loss: 0.38657273824151595, Train Accuracy_0 : 0.002680434609517027, Train Accuracy_1 : 0.0026176191317385674,Train Accuracy_2 : 0.0026213549856714314, Train Accuracy_3 : 0.002695416711186523\n",
            " Validation Accuracy_0 : 0.0026453821238162324, Validation Accuracy_1 : 0.0026042813051624573, Validation Accuracy_2 : 0.0025757431738136173, Validation Accuracy_3 : 0.002696667885742527\n",
            "Adjusting learning rate of group 0 to 1.0000e-02.\n",
            "Train Loss: 0.3660421314286398, Train Accuracy_0 : 0.002681683730459987, Train Accuracy_1 : 0.002622296884322257,Train Accuracy_2 : 0.0026243416794136305, Train Accuracy_3 : 0.0026961299122541535\n",
            " Validation Accuracy_0 : 0.002641366085924302, Validation Accuracy_1 : 0.0025862192592435427, Validation Accuracy_2 : 0.0025488579351328677, Validation Accuracy_3 : 0.0026968411647569387\n",
            "Adjusting learning rate of group 0 to 1.0000e-02.\n",
            "Train Loss: 0.36977921656969864, Train Accuracy_0 : 0.0026809070297362965, Train Accuracy_1 : 0.002620423775282615,Train Accuracy_2 : 0.002625414749185482, Train Accuracy_3 : 0.002695279400662886\n",
            " Validation Accuracy_0 : 0.0026633337521348916, Validation Accuracy_1 : 0.0025994646039120316, Validation Accuracy_2 : 0.002564928538691118, Validation Accuracy_3 : 0.0026945445084539032\n",
            "Adjusting learning rate of group 0 to 1.0000e-02.\n",
            "Train Loss: 0.4062527680987802, Train Accuracy_0 : 0.0026814285951731864, Train Accuracy_1 : 0.0026196343817974765,Train Accuracy_2 : 0.0026172984166764803, Train Accuracy_3 : 0.0026959169317888696\n",
            " Validation Accuracy_0 : 0.002637875223142907, Validation Accuracy_1 : 0.002554516454607097, Validation Accuracy_2 : 0.0025771223171268316, Validation Accuracy_3 : 0.002696211427955723\n",
            "Adjusting learning rate of group 0 to 1.0000e-03.\n",
            "Train Loss: 0.2609532302529716, Train Accuracy_0 : 0.0026826030103278445, Train Accuracy_1 : 0.00262776941832691,Train Accuracy_2 : 0.0026291510273449715, Train Accuracy_3 : 0.002696864847387875\n",
            " Validation Accuracy_0 : 0.002686078755057287, Validation Accuracy_1 : 0.002636984959756182, Validation Accuracy_2 : 0.002637875019218779, Validation Accuracy_3 : 0.00269815244649848\n",
            "Adjusting learning rate of group 0 to 1.0000e-03.\n",
            "Train Loss: 0.2117400797114426, Train Accuracy_0 : 0.002686103816294507, Train Accuracy_1 : 0.0026376770663521358,Train Accuracy_2 : 0.0026398037354895608, Train Accuracy_3 : 0.002698191241761986\n",
            " Validation Accuracy_0 : 0.0026886109091813688, Validation Accuracy_1 : 0.0026413143741910116, Validation Accuracy_2 : 0.002642399249258648, Validation Accuracy_3 : 0.002698422438812001\n",
            "Adjusting learning rate of group 0 to 1.0000e-03.\n",
            "Train Loss: 0.19495660597737624, Train Accuracy_0 : 0.0026868030981727345, Train Accuracy_1 : 0.002640382796489693,Train Accuracy_2 : 0.002642223587502285, Train Accuracy_3 : 0.002698434144000333\n",
            " Validation Accuracy_0 : 0.002689025814960192, Validation Accuracy_1 : 0.002644667166067848, Validation Accuracy_2 : 0.0026465188906773483, Validation Accuracy_3 : 0.0026987440437952178\n",
            "Adjusting learning rate of group 0 to 1.0000e-03.\n",
            "Train Loss: 0.1833243868123405, Train Accuracy_0 : 0.0026877866022663685, Train Accuracy_1 : 0.002643380251798371,Train Accuracy_2 : 0.0026453573184381106, Train Accuracy_3 : 0.0026988779630993044\n",
            " Validation Accuracy_0 : 0.0026901847072254934, Validation Accuracy_1 : 0.0026476450265401855, Validation Accuracy_2 : 0.002649699393243897, Validation Accuracy_3 : 0.002699351858475769\n",
            "Adjusting learning rate of group 0 to 1.0000e-03.\n",
            "Train Loss: 0.17301004498242845, Train Accuracy_0 : 0.0026885291162331284, Train Accuracy_1 : 0.0026466297009509116,Train Accuracy_2 : 0.00264842963158703, Train Accuracy_3 : 0.002699105358563921\n",
            " Validation Accuracy_0 : 0.0026908357590852733, Validation Accuracy_1 : 0.00265072927843027, Validation Accuracy_2 : 0.002652684830489772, Validation Accuracy_3 : 0.002699466958919053\n",
            "Adjusting learning rate of group 0 to 1.0000e-03.\n",
            "Train Loss: 0.16293078776174896, Train Accuracy_0 : 0.0026893620858596807, Train Accuracy_1 : 0.002650128620429338,Train Accuracy_2 : 0.0026516335836253464, Train Accuracy_3 : 0.002699293615402684\n",
            " Validation Accuracy_0 : 0.0026916988345469526, Validation Accuracy_1 : 0.0026545632472900716, Validation Accuracy_2 : 0.0026555267740952797, Validation Accuracy_3 : 0.0026998835546158412\n",
            "Adjusting learning rate of group 0 to 1.0000e-03.\n",
            "Train Loss: 0.15176396975065365, Train Accuracy_0 : 0.00268994304952977, Train Accuracy_1 : 0.0026537449957235184,Train Accuracy_2 : 0.0026558471521389705, Train Accuracy_3 : 0.0026995541896660358\n",
            " Validation Accuracy_0 : 0.0026924211293144237, Validation Accuracy_1 : 0.0026599934889948037, Validation Accuracy_2 : 0.0026571124550150357, Validation Accuracy_3 : 0.0027003946394229964\n",
            "Adjusting learning rate of group 0 to 1.0000e-03.\n",
            "Train Loss: 0.13842958831596278, Train Accuracy_0 : 0.0026911128919436516, Train Accuracy_1 : 0.00265959926587401,Train Accuracy_2 : 0.0026611882599255087, Train Accuracy_3 : 0.002699765465080449\n",
            " Validation Accuracy_0 : 0.002693661011200258, Validation Accuracy_1 : 0.0026645725163575726, Validation Accuracy_2 : 0.0026601183715403197, Validation Accuracy_3 : 0.0027005602761275608\n",
            "Adjusting learning rate of group 0 to 1.0000e-03.\n",
            "Train Loss: 0.12427042645455544, Train Accuracy_0 : 0.002692500686125555, Train Accuracy_1 : 0.00266630296151561,Train Accuracy_2 : 0.002667160113015283, Train Accuracy_3 : 0.002700057193984405\n",
            " Validation Accuracy_0 : 0.002694791342732192, Validation Accuracy_1 : 0.002668847113697605, Validation Accuracy_2 : 0.0026615989919955177, Validation Accuracy_3 : 0.0027006919768259646\n",
            "Adjusting learning rate of group 0 to 1.0000e-03.\n",
            "Train Loss: 0.11038967382863205, Train Accuracy_0 : 0.00269417893060564, Train Accuracy_1 : 0.0026720503429110047,Train Accuracy_2 : 0.0026738081127907235, Train Accuracy_3 : 0.002700442613029153\n",
            " Validation Accuracy_0 : 0.0026959150814029414, Validation Accuracy_1 : 0.0026719358484460906, Validation Accuracy_2 : 0.0026724582614423317, Validation Accuracy_3 : 0.0027008822108580905\n",
            "Adjusting learning rate of group 0 to 1.0000e-03.\n"
          ]
        }
      ]
    },
    {
      "cell_type": "code",
      "metadata": {
        "id": "4B1TRcSBn0w2"
      },
      "source": [
        "# seems like there is still something wrong bc the accuracy doesnt change"
      ],
      "execution_count": 39,
      "outputs": []
    }
  ]
}