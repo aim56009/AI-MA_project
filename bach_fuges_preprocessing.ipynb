{
 "cells": [
  {
   "cell_type": "code",
   "execution_count": 1,
   "metadata": {},
   "outputs": [],
   "source": [
    "import partitura \n",
    "import numpy as np\n",
    "import os\n",
    "import pickle"
   ]
  },
  {
   "cell_type": "code",
   "execution_count": 2,
   "metadata": {},
   "outputs": [
    {
     "name": "stderr",
     "output_type": "stream",
     "text": [
      "/usr/local/anaconda3/envs/supml/lib/python3.7/site-packages/partitura/io/importmidi.py:357: UserWarning: ignoring MIDI message note_off channel=0 note=76 velocity=64 time=30\n",
      "  warnings.warn(\"ignoring MIDI message %s\" % msg)\n",
      "/usr/local/anaconda3/envs/supml/lib/python3.7/site-packages/partitura/io/importmidi.py:357: UserWarning: ignoring MIDI message note_off channel=0 note=78 velocity=64 time=0\n",
      "  warnings.warn(\"ignoring MIDI message %s\" % msg)\n",
      "/usr/local/anaconda3/envs/supml/lib/python3.7/site-packages/partitura/io/importmidi.py:357: UserWarning: ignoring MIDI message note_on channel=0 note=0 velocity=0 time=119\n",
      "  warnings.warn(\"ignoring MIDI message %s\" % msg)\n",
      "/usr/local/anaconda3/envs/supml/lib/python3.7/site-packages/partitura/io/importmidi.py:416: UserWarning: pitch spelling\n",
      "  warnings.warn(\"pitch spelling\")\n",
      "/usr/local/anaconda3/envs/supml/lib/python3.7/site-packages/ipykernel_launcher.py:6: UserWarning: voice estimation\n",
      "  \n",
      "/usr/local/anaconda3/envs/supml/lib/python3.7/site-packages/partitura/io/importmidi.py:486: UserWarning: create_part\n",
      "  part_name=part_names.get(part_nr, None),\n",
      "/usr/local/anaconda3/envs/supml/lib/python3.7/site-packages/partitura/io/importmidi.py:486: UserWarning: add notes\n",
      "  part_name=part_names.get(part_nr, None),\n",
      "/usr/local/anaconda3/envs/supml/lib/python3.7/site-packages/partitura/io/importmidi.py:486: UserWarning: add time sigs and measures\n",
      "  part_name=part_names.get(part_nr, None),\n",
      "/usr/local/anaconda3/envs/supml/lib/python3.7/site-packages/partitura/io/importmidi.py:486: UserWarning: tie notes\n",
      "  part_name=part_names.get(part_nr, None),\n",
      "/usr/local/anaconda3/envs/supml/lib/python3.7/site-packages/partitura/io/importmidi.py:486: UserWarning: find tuplets\n",
      "  part_name=part_names.get(part_nr, None),\n",
      "/usr/local/anaconda3/envs/supml/lib/python3.7/site-packages/partitura/io/importmidi.py:486: UserWarning: done create_part\n",
      "  part_name=part_names.get(part_nr, None),\n"
     ]
    }
   ],
   "source": [
    "name = \"wtc1f01.mid\"\n",
    "\n",
    "\n",
    "import_path = os.path.join(\"/Users/sayang/Masterproject/bach_fugues\", name)\n",
    "#part = partitura.io.importmidi.load_midi(import_path)\n",
    "part = partitura.load_score_midi(import_path)"
   ]
  },
  {
   "cell_type": "code",
   "execution_count": 3,
   "metadata": {},
   "outputs": [],
   "source": [
    "part_zero = part[0]\n",
    "part_one = part[1]\n",
    "part_two = part[2]\n",
    "part_three = part[3]"
   ]
  },
  {
   "cell_type": "code",
   "execution_count": 4,
   "metadata": {},
   "outputs": [
    {
     "name": "stdout",
     "output_type": "stream",
     "text": [
      "(217,)\n",
      "(202,)\n",
      "(176,)\n",
      "(143,)\n"
     ]
    }
   ],
   "source": [
    "print(partitura.utils.note_array_from_part(part_zero).shape)\n",
    "print(partitura.utils.note_array_from_part(part_one).shape)\n",
    "print(partitura.utils.note_array_from_part(part_two).shape)\n",
    "print(partitura.utils.note_array_from_part(part_three).shape)"
   ]
  },
  {
   "cell_type": "code",
   "execution_count": 5,
   "metadata": {},
   "outputs": [],
   "source": [
    "onset_beat_0 = partitura.utils.note_array_from_part(part_zero)['onset_beat'][-1]\n",
    "duration_beat_0 = partitura.utils.note_array_from_part(part_zero)['duration_beat'][-1]\n",
    "beat_0 = onset_beat_0 + duration_beat_0\n",
    "\n",
    "onset_beat_1 = partitura.utils.note_array_from_part(part_one)['onset_beat'][-1]\n",
    "duration_beat_1 = partitura.utils.note_array_from_part(part_one)['duration_beat'][-1]\n",
    "beat_1 = onset_beat_1 + duration_beat_1\n",
    "\n",
    "onset_beat_2 = partitura.utils.note_array_from_part(part_two)['onset_beat'][-1]\n",
    "duration_beat_2 = partitura.utils.note_array_from_part(part_two)['duration_beat'][-1]\n",
    "beat_2 = onset_beat_2 + duration_beat_2\n",
    "\n",
    "onset_beat_3 = partitura.utils.note_array_from_part(part_three)['onset_beat'][-1]\n",
    "duration_beat_3 = partitura.utils.note_array_from_part(part_three)['duration_beat'][-1]\n",
    "beat_3 = onset_beat_3 + duration_beat_3\n",
    "\n",
    "onset_beat = partitura.utils.ensure_notearray(part)['onset_beat'][-1]\n",
    "duration_beat = partitura.utils.ensure_notearray(part)['duration_beat'][-1]\n",
    "beat_all = onset_beat + duration_beat"
   ]
  },
  {
   "cell_type": "code",
   "execution_count": 8,
   "metadata": {},
   "outputs": [],
   "source": [
    "pr_zero = partitura.utils.compute_pianoroll(part_zero, time_unit = \"beat\",time_div = 12,piano_range=True,remove_silence=False,end_time=beat_0)\n",
    "pr_zero = pr_zero.toarray()\n",
    "\n",
    "pr_one = partitura.utils.compute_pianoroll(part_one, time_unit = \"beat\",time_div = 12,piano_range=True,remove_silence=False,end_time=beat_1)\n",
    "pr_one = pr_one.toarray()\n",
    "\n",
    "pr_two = partitura.utils.compute_pianoroll(part_two, time_unit = \"beat\",time_div = 12,piano_range=True,remove_silence=False,end_time=beat_2)\n",
    "pr_two = pr_two.toarray()\n",
    "\n",
    "pr_three = partitura.utils.compute_pianoroll(part_three, time_unit = \"beat\",time_div = 12,piano_range=True,remove_silence=False,end_time=beat_3)\n",
    "pr_three = pr_three.toarray()\n",
    "\n",
    "pr = partitura.utils.compute_pianoroll(part, time_unit = \"beat\",time_div = 12,piano_range=True,remove_silence=False,end_time=beat_all)\n",
    "pr = pr.toarray()"
   ]
  },
  {
   "cell_type": "code",
   "execution_count": 12,
   "metadata": {},
   "outputs": [
    {
     "name": "stdout",
     "output_type": "stream",
     "text": [
      "(88, 1290)\n",
      "(88, 1290)\n",
      "(88, 1290)\n",
      "(88, 1290)\n",
      "(88, 1290)\n"
     ]
    }
   ],
   "source": [
    "print(pr_zero.shape)\n",
    "print(pr_one.shape)\n",
    "print(pr_two.shape)\n",
    "print(pr_three.shape)\n",
    "print(pr.shape)"
   ]
  },
  {
   "cell_type": "code",
   "execution_count": 7,
   "metadata": {},
   "outputs": [
    {
     "data": {
      "text/plain": [
       "(88, 1290)"
      ]
     },
     "execution_count": 7,
     "metadata": {},
     "output_type": "execute_result"
    }
   ],
   "source": [
    "pr_comp = pr_zero+pr_one+pr_two+pr_three\n",
    "pr_comp =  np.where(pr_comp < 1 , pr_comp, 1) \n",
    "pr_comp.shape"
   ]
  },
  {
   "cell_type": "code",
   "execution_count": 8,
   "metadata": {},
   "outputs": [
    {
     "name": "stdout",
     "output_type": "stream",
     "text": [
      "False\n"
     ]
    }
   ],
   "source": [
    "print(np.sum(pr_comp) == np.sum(pr))"
   ]
  },
  {
   "cell_type": "code",
   "execution_count": 9,
   "metadata": {},
   "outputs": [
    {
     "data": {
      "text/plain": [
       "'\\nimport matplotlib.pyplot as plt\\npiano_range = True\\ntime_unit = \\'beat\\'\\ntime_div = 12\\n\\nfig, ax = plt.subplots(1, figsize=(20, 10))\\nax.imshow(pr[:,:], origin=\"lower\", cmap=\\'gray\\', interpolation=\\'nearest\\', aspect=\\'auto\\')\\nax.set_xlabel(f\\'Time ({time_unit}s/{time_div})\\')\\nax.set_ylabel(\\'Piano key\\' if piano_range else \\'MIDI pitch\\')\\nplt.show()\\n\\nfig, ax = plt.subplots(1, figsize=(20, 10))\\nax.imshow(pr_comp[:,:], origin=\"lower\", interpolation=\\'nearest\\', aspect=\\'auto\\')\\nax.set_xlabel(f\\'Time ({time_unit}s/{time_div})\\')\\nax.set_ylabel(\\'Piano key\\' if piano_range else \\'MIDI pitch\\')\\nplt.show()\\n'"
      ]
     },
     "execution_count": 9,
     "metadata": {},
     "output_type": "execute_result"
    }
   ],
   "source": [
    "\"\"\"\n",
    "import matplotlib.pyplot as plt\n",
    "piano_range = True\n",
    "time_unit = 'beat'\n",
    "time_div = 12\n",
    "\n",
    "fig, ax = plt.subplots(1, figsize=(20, 10))\n",
    "ax.imshow(pr[:,:], origin=\"lower\", cmap='gray', interpolation='nearest', aspect='auto')\n",
    "ax.set_xlabel(f'Time ({time_unit}s/{time_div})')\n",
    "ax.set_ylabel('Piano key' if piano_range else 'MIDI pitch')\n",
    "plt.show()\n",
    "\n",
    "fig, ax = plt.subplots(1, figsize=(20, 10))\n",
    "ax.imshow(pr_comp[:,:], origin=\"lower\", interpolation='nearest', aspect='auto')\n",
    "ax.set_xlabel(f'Time ({time_unit}s/{time_div})')\n",
    "ax.set_ylabel('Piano key' if piano_range else 'MIDI pitch')\n",
    "plt.show()\n",
    "\"\"\""
   ]
  },
  {
   "cell_type": "markdown",
   "metadata": {},
   "source": [
    "# Loop over fugues folder"
   ]
  },
  {
   "cell_type": "code",
   "execution_count": 28,
   "metadata": {},
   "outputs": [
    {
     "name": "stderr",
     "output_type": "stream",
     "text": [
      "/usr/local/anaconda3/envs/supml/lib/python3.7/site-packages/ipykernel_launcher.py:6: UserWarning: voice estimation\n",
      "  \n"
     ]
    }
   ],
   "source": [
    "\"\"\"\n",
    "path = \"/Users/sayang/Masterproject/bach_fugues\"\n",
    "i = 0\n",
    "for filename in os.listdir(path):\n",
    "    if not filename.endswith('.mid'): continue\n",
    "    fullname = os.path.join(path, filename)\n",
    "    part = partitura.load_score_midi(fullname)\n",
    "    if len(part)==3:\n",
    "        i += 1\n",
    "    #print(len(part))\n",
    "#print(i)\n",
    "\"\"\""
   ]
  },
  {
   "cell_type": "code",
   "execution_count": 3,
   "metadata": {},
   "outputs": [
    {
     "name": "stderr",
     "output_type": "stream",
     "text": [
      "/usr/local/anaconda3/envs/supml/lib/python3.7/site-packages/ipykernel_launcher.py:6: UserWarning: voice estimation\n",
      "  \n"
     ]
    },
    {
     "name": "stdout",
     "output_type": "stream",
     "text": [
      "len  5 wtc1f04.mid\n",
      "len  2 wtc1f10.mid\n",
      "len  3 wtc1f02.mid\n",
      "len  5 wtc1f22.mid\n",
      "len  3 wtc2f10.mid\n"
     ]
    }
   ],
   "source": [
    "path = \"/Users/sayang/Masterproject/bach_fugues\"\n",
    "\n",
    "for filename in os.listdir(path):\n",
    "    if not filename.endswith('.mid'): continue\n",
    "    fullname = os.path.join(path, filename)\n",
    "    part = partitura.load_score_midi(fullname)\n",
    "    \n",
    "    if len(part)==4:\n",
    "\n",
    "        part_zero = part[0]\n",
    "        part_one = part[1]\n",
    "        part_two = part[2]\n",
    "        part_three = part[3]\n",
    "\n",
    "\n",
    "        onset_beat_0 = partitura.utils.note_array_from_part(part_zero)['onset_beat'][-1]\n",
    "        duration_beat_0 = partitura.utils.note_array_from_part(part_zero)['duration_beat'][-1]\n",
    "        beat_0 = onset_beat_0 + duration_beat_0\n",
    "\n",
    "        onset_beat_1 = partitura.utils.note_array_from_part(part_one)['onset_beat'][-1]\n",
    "        duration_beat_1 = partitura.utils.note_array_from_part(part_one)['duration_beat'][-1]\n",
    "        beat_1 = onset_beat_1 + duration_beat_1\n",
    "\n",
    "        onset_beat_2 = partitura.utils.note_array_from_part(part_two)['onset_beat'][-1]\n",
    "        duration_beat_2 = partitura.utils.note_array_from_part(part_two)['duration_beat'][-1]\n",
    "        beat_2 = onset_beat_2 + duration_beat_2\n",
    "\n",
    "        onset_beat_3 = partitura.utils.note_array_from_part(part_three)['onset_beat'][-1]\n",
    "        duration_beat_3 = partitura.utils.note_array_from_part(part_three)['duration_beat'][-1]\n",
    "        beat_3 = onset_beat_3 + duration_beat_3\n",
    "\n",
    "\n",
    "        pr_zero = partitura.utils.compute_pianoroll(part_zero, time_unit = \"beat\",time_div = 12,piano_range=True,remove_silence=False,end_time=beat_0)\n",
    "        pr_zero = pr_zero.toarray()\n",
    "\n",
    "        pr_one = partitura.utils.compute_pianoroll(part_one, time_unit = \"beat\",time_div = 12,piano_range=True,remove_silence=False,end_time=beat_1)\n",
    "        pr_one = pr_one.toarray()\n",
    "\n",
    "        pr_two = partitura.utils.compute_pianoroll(part_two, time_unit = \"beat\",time_div = 12,piano_range=True,remove_silence=False,end_time=beat_2)\n",
    "        pr_two = pr_two.toarray()\n",
    "\n",
    "        pr_three = partitura.utils.compute_pianoroll(part_three, time_unit = \"beat\",time_div = 12,piano_range=True,remove_silence=False,end_time=beat_3)\n",
    "        pr_three = pr_three.toarray()\n",
    "\n",
    "\n",
    "        if pr_zero.shape == pr_one.shape == pr_two.shape == pr_three.shape: \n",
    "            pr_comp = pr_zero+pr_one+pr_two+pr_three\n",
    "            pr_comp =  np.where(pr_comp < 1 , pr_comp, 1) \n",
    "\n",
    "\n",
    "            file_out_names = [ \"voice_0_\" + filename[3:7]+ \".pkl\" , \"voice_1_\" + filename[3:7] + \".pkl\" , \"voice_2_\" + filename[3:7] + \".pkl\", \"voice_3_\" + filename[3:7] + \".pkl\", \"voice_all_\" + filename[3:7]+\".pkl\"   ]    \n",
    "            \n",
    "            voice_folder = [\"voice_0\",\"voice_1\",\"voice_2\",\"voice_3\",\"voice_all\"]\n",
    "            pianorolls = [pr_zero,pr_one,pr_two,pr_three,pr_comp]\n",
    "\n",
    "\n",
    "            for n,i in enumerate(pianorolls):\n",
    "                a_folder = voice_folder[n]\n",
    "                a_file = file_out_names[n]\n",
    "                joined_path = os.path.join(\"bach_pr_fugues\", a_folder, a_file)\n",
    "                with open(joined_path, 'wb') as f:\n",
    "                    pickle.dump(i, f)   \n",
    "\n",
    "    elif len(part)==3 and filename not in [\"wtc1f02.mid\", \"wtc2f10.mid\"]: # both have a problem with end_time for voice 2\n",
    "        part_zero = part[0]\n",
    "        part_one = part[1]\n",
    "        part_two = part[2]\n",
    "\n",
    "\n",
    "        onset_beat_0 = partitura.utils.note_array_from_part(part_zero)['onset_beat'][-1]\n",
    "        duration_beat_0 = partitura.utils.note_array_from_part(part_zero)['duration_beat'][-1]\n",
    "        beat_0 = onset_beat_0 + duration_beat_0\n",
    "\n",
    "        onset_beat_1 = partitura.utils.note_array_from_part(part_one)['onset_beat'][-1]\n",
    "        duration_beat_1 = partitura.utils.note_array_from_part(part_one)['duration_beat'][-1]\n",
    "        beat_1 = onset_beat_1 + duration_beat_1\n",
    "\n",
    "        onset_beat_2 = partitura.utils.note_array_from_part(part_two)['onset_beat'][-1]\n",
    "        duration_beat_2 = partitura.utils.note_array_from_part(part_two)['duration_beat'][-1]\n",
    "        beat_2 = onset_beat_2 + duration_beat_2\n",
    "\n",
    "\n",
    "        pr_zero = partitura.utils.compute_pianoroll(part_zero, time_unit = \"beat\",time_div = 12,piano_range=True,remove_silence=False,end_time=beat_0)\n",
    "        pr_zero = pr_zero.toarray()\n",
    "\n",
    "        pr_one = partitura.utils.compute_pianoroll(part_one, time_unit = \"beat\",time_div = 12,piano_range=True,remove_silence=False,end_time=beat_1)\n",
    "        pr_one = pr_one.toarray()\n",
    "\n",
    "        pr_two = partitura.utils.compute_pianoroll(part_two, time_unit = \"beat\",time_div = 12,piano_range=True,remove_silence=False,end_time=beat_2)\n",
    "        pr_two = pr_two.toarray()\n",
    "\n",
    "\n",
    "        if pr_zero.shape == pr_one.shape == pr_two.shape:\n",
    "            pr_comp = pr_zero+pr_one+pr_two\n",
    "            pr_comp =  np.where(pr_comp < 1 , pr_comp, 1) \n",
    "\n",
    "\n",
    "            file_out_names = [ \"voice_0_\" + filename[3:7]+ \".pkl\" , \"voice_1_\" + filename[3:7] + \".pkl\" , \"voice_2_\" + filename[3:7] + \".pkl\", \"voice_all_\" + filename[3:7]+\".pkl\"   ]    \n",
    "            \n",
    "            voice_folder = [\"voice_0\",\"voice_1\",\"voice_2\",\"voice_all\"]\n",
    "            pianorolls = [pr_zero,pr_one,pr_two,pr_comp]\n",
    "\n",
    "\n",
    "            for n,i in enumerate(pianorolls):\n",
    "                a_folder = voice_folder[n]\n",
    "                a_file = file_out_names[n]\n",
    "                joined_path = os.path.join(\"bach_pr_fugues\", a_folder, a_file)\n",
    "                with open(joined_path, 'wb') as f:\n",
    "                    pickle.dump(i, f)   \n",
    "\n",
    "    else:\n",
    "        print(\"len \", len(part), filename )\n",
    "        #print(\"shapes dont match:\",filename)"
   ]
  },
  {
   "cell_type": "code",
   "execution_count": null,
   "metadata": {},
   "outputs": [],
   "source": []
  }
 ],
 "metadata": {
  "kernelspec": {
   "display_name": "Python 3",
   "language": "python",
   "name": "python3"
  },
  "language_info": {
   "codemirror_mode": {
    "name": "ipython",
    "version": 3
   },
   "file_extension": ".py",
   "mimetype": "text/x-python",
   "name": "python",
   "nbconvert_exporter": "python",
   "pygments_lexer": "ipython3",
   "version": "3.7.9"
  }
 },
 "nbformat": 4,
 "nbformat_minor": 4
}
