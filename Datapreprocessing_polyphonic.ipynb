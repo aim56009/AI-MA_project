{
 "cells": [
  {
   "cell_type": "code",
   "execution_count": 2,
   "metadata": {},
   "outputs": [],
   "source": [
    "#! pip install git+https://github.com/CPJKU/partitura.git@develop\n",
    "import partitura\n",
    "import numpy as np\n",
    "import os\n",
    "import pickle"
   ]
  },
  {
   "cell_type": "code",
   "execution_count": 126,
   "metadata": {},
   "outputs": [],
   "source": [
    "%%capture\n",
    "name = \"prelude28-01.mid\"\n",
    "#name = \"sonata24-1.mid\"\n",
    "\n",
    "import_path = os.path.join(\"/Users/sayang/Masterproject/polyphonic/Chopin\", name)\n",
    "#import_path = os.path.join(\"/Users/sayang/Masterproject/polyphonic/Beethoven\", name)\n",
    "\n",
    "part = partitura.load_score_midi(import_path)"
   ]
  },
  {
   "cell_type": "code",
   "execution_count": 127,
   "metadata": {},
   "outputs": [
    {
     "data": {
      "text/plain": [
       "[<partitura.score.Part at 0x7fde09d91b50>,\n",
       " <partitura.score.Part at 0x7fde39d96050>,\n",
       " <partitura.score.Part at 0x7fde39d96dd0>,\n",
       " <partitura.score.Part at 0x7fde2caabc50>]"
      ]
     },
     "execution_count": 127,
     "metadata": {},
     "output_type": "execute_result"
    }
   ],
   "source": [
    "part"
   ]
  },
  {
   "cell_type": "code",
   "execution_count": 128,
   "metadata": {},
   "outputs": [],
   "source": [
    "part_zero = part[0]\n",
    "part_one = part[1]\n",
    "part_two = part[2]\n",
    "part_three = part[3]"
   ]
  },
  {
   "cell_type": "code",
   "execution_count": 129,
   "metadata": {},
   "outputs": [],
   "source": [
    "onset_beat = partitura.utils.ensure_notearray(part)['onset_beat'][-1]\n",
    "duration_beat = partitura.utils.ensure_notearray(part)['duration_beat'][-1]\n",
    "beat_all = onset_beat + duration_beat"
   ]
  },
  {
   "cell_type": "code",
   "execution_count": 130,
   "metadata": {},
   "outputs": [],
   "source": [
    "pr_zero = partitura.utils.compute_pianoroll(part_zero, time_unit = \"beat\",time_div = 12,piano_range=True,remove_silence=False,end_time=beat_all)\n",
    "pr_zero = pr_zero.toarray()\n",
    "\n",
    "pr_one = partitura.utils.compute_pianoroll(part_one, time_unit = \"beat\",time_div = 12,piano_range=True,remove_silence=False,end_time=beat_all)\n",
    "pr_one = pr_one.toarray()\n",
    "\n",
    "pr_two = partitura.utils.compute_pianoroll(part_two, time_unit = \"beat\",time_div = 12,piano_range=True,remove_silence=False,end_time=beat_all)\n",
    "pr_two = pr_two.toarray()\n",
    "\n",
    "pr_three = partitura.utils.compute_pianoroll(part_three, time_unit = \"beat\",time_div = 12,piano_range=True,remove_silence=False,end_time=beat_all)\n",
    "pr_three = pr_three.toarray()\n",
    "\n",
    "pr = partitura.utils.compute_pianoroll(part, time_unit = \"beat\",time_div = 12,piano_range=True,remove_silence=False,end_time=beat_all)\n",
    "pr = pr.toarray()"
   ]
  },
  {
   "cell_type": "code",
   "execution_count": 131,
   "metadata": {},
   "outputs": [
    {
     "name": "stdout",
     "output_type": "stream",
     "text": [
      "(88, 792)\n",
      "(88, 792)\n",
      "(88, 792)\n",
      "(88, 792)\n",
      "(88, 792)\n"
     ]
    }
   ],
   "source": [
    "print(pr_zero.shape)\n",
    "print(pr_one.shape)\n",
    "print(pr_two.shape)\n",
    "print(pr_three.shape)\n",
    "print(pr.shape)"
   ]
  },
  {
   "cell_type": "code",
   "execution_count": 132,
   "metadata": {},
   "outputs": [
    {
     "data": {
      "text/plain": [
       "(88, 792)"
      ]
     },
     "execution_count": 132,
     "metadata": {},
     "output_type": "execute_result"
    }
   ],
   "source": [
    "pr_comp = pr_zero+pr_one+pr_two+pr_three\n",
    "pr_comp =  np.where(pr_comp < 1 , pr_comp, 1) \n",
    "pr_comp.shape\n"
   ]
  },
  {
   "cell_type": "markdown",
   "metadata": {},
   "source": [
    "# Loop over Polyphonic folder - 239 items"
   ]
  },
  {
   "cell_type": "code",
   "execution_count": 154,
   "metadata": {},
   "outputs": [
    {
     "name": "stderr",
     "output_type": "stream",
     "text": [
      "/usr/local/anaconda3/envs/supml/lib/python3.7/site-packages/ipykernel_launcher.py:7: UserWarning: voice estimation\n",
      "  import sys\n"
     ]
    },
    {
     "name": "stdout",
     "output_type": "stream",
     "text": [
      "discarded samples  4 quartet09-3.mid\n",
      "discarded samples  4 quartet16-4.mid\n",
      "discarded samples  2 mazurka-51.mid\n",
      "discarded samples  2 sonata24-1.mid\n",
      "discarded samples  4 quartet13-5.mid\n",
      "discarded samples  5 quintet-op29-01.mid\n",
      "discarded samples  5 quintet-op29-03.mid\n",
      "discarded samples  5 quintet-op29-02.mid\n",
      "discarded samples  4 quartet13-2.mid\n",
      "discarded samples  2 mazurka06-2.mid\n",
      "discarded samples  2 mazurka63-3.mid\n",
      "discarded samples  2 sonata17-1.mid\n",
      "discarded samples  2 sonata28-2.mid\n",
      "discarded samples  4 quartet02-1.mid\n",
      "discarded samples  2 sonata12-1.mid\n",
      "discarded samples  2 mazurka07-2.mid\n",
      "discarded samples  2 sonata12-2.mid\n",
      "discarded samples  2 mazurka59-2.mid\n",
      "discarded samples  2 sonata29-4.mid\n",
      "discarded samples  2 sonata30-1.mid\n",
      "discarded samples  2 sonata32-1.mid\n",
      "discarded samples  4 quartet03-3.mid\n"
     ]
    }
   ],
   "source": [
    "path = \"/Users/sayang/Masterproject/polyphonic\"\n",
    "\n",
    "\n",
    "for idx, filename in enumerate(os.listdir(path)):\n",
    "    if not filename.endswith('.mid'): continue\n",
    "    fullname = os.path.join(path, filename)\n",
    "    part = partitura.load_score_midi(fullname)\n",
    "        \n",
    "    if len(part)==4 and filename not in [\"quartet03-3.mid\",\"quartet02-1.mid\",\"quartet09-3.mid\",\"quartet16-4.mid\",\"quartet13-5.mid\",\"quartet13-2.mid\"]:\n",
    "        #print(\"filename\",filename,len(part),idx)\n",
    "        part_zero = part[0]\n",
    "        part_one = part[1]\n",
    "        part_two = part[2]\n",
    "        part_three = part[3]\n",
    "\n",
    "        onset_beat = partitura.utils.ensure_notearray(part)['onset_beat'][-1]\n",
    "        duration_beat = partitura.utils.ensure_notearray(part)['duration_beat'][-1]\n",
    "        end_all = onset_beat + duration_beat\n",
    "\n",
    "        pr_zero = partitura.utils.compute_pianoroll(part_zero, time_unit = \"beat\",time_div = 12,piano_range=True,remove_silence=False,end_time=end_all)\n",
    "        pr_zero = pr_zero.toarray()\n",
    "        pr_one = partitura.utils.compute_pianoroll(part_one, time_unit = \"beat\",time_div = 12,piano_range=True,remove_silence=False,end_time=end_all)\n",
    "        pr_one = pr_one.toarray()\n",
    "        pr_two = partitura.utils.compute_pianoroll(part_two, time_unit = \"beat\",time_div = 12,piano_range=True,remove_silence=False,end_time=end_all)\n",
    "        pr_two = pr_two.toarray()\n",
    "        pr_three = partitura.utils.compute_pianoroll(part_three, time_unit = \"beat\",time_div = 12,piano_range=True,remove_silence=False,end_time=end_all)\n",
    "        pr_three = pr_three.toarray()\n",
    "\n",
    "\n",
    "        if pr_zero.shape == pr_one.shape == pr_two.shape == pr_three.shape: \n",
    "            pr_comp = pr_zero+pr_one+pr_two+pr_three\n",
    "            pr_comp =  np.where(pr_comp < 1 , pr_comp, 1) \n",
    "\n",
    "\n",
    "            file_out_names = [ \"voice_0_\" + str(idx).zfill(3) + \".pkl\" , \"voice_1_\" + str(idx).zfill(3) + \".pkl\" , \"voice_2_\" + str(idx).zfill(3) + \".pkl\", \"voice_3_\" + str(idx).zfill(3) + \".pkl\", \"voice_all_\" + str(idx).zfill(3)+\".pkl\"   ]    \n",
    "            \n",
    "            voice_folder = [\"voice_0\",\"voice_1\",\"voice_2\",\"voice_3\",\"voice_all\"]\n",
    "            pianorolls = [pr_zero,pr_one,pr_two,pr_three,pr_comp]\n",
    "\n",
    "\n",
    "            for n,i in enumerate(pianorolls):\n",
    "                a_folder = voice_folder[n]\n",
    "                a_file = file_out_names[n]\n",
    "                joined_path = os.path.join(\"pr_polyphonic/4_voice\", a_folder, a_file)\n",
    "                with open(joined_path, 'wb') as f:\n",
    "                    pickle.dump(i, f)   \n",
    "\n",
    "    elif len(part)==3:# and filename not in [\"wtc1f02.mid\", \"wtc2f10.mid\"]: # both have a problem with end_time for voice 2\n",
    "        #print(\"filename\",filename,len(part),idx)\n",
    "        part_zero = part[0]\n",
    "        part_one = part[1]\n",
    "        part_two = part[2]\n",
    "\n",
    "        onset_beat = partitura.utils.ensure_notearray(part)['onset_beat'][-1]\n",
    "        duration_beat = partitura.utils.ensure_notearray(part)['duration_beat'][-1]\n",
    "        end_all = onset_beat + duration_beat\n",
    "\n",
    "        pr_zero = partitura.utils.compute_pianoroll(part_zero, time_unit = \"beat\",time_div = 12,piano_range=True,remove_silence=False,end_time=end_all)\n",
    "        pr_zero = pr_zero.toarray()\n",
    "\n",
    "        pr_one = partitura.utils.compute_pianoroll(part_one, time_unit = \"beat\",time_div = 12,piano_range=True,remove_silence=False,end_time=end_all)\n",
    "        pr_one = pr_one.toarray()\n",
    "\n",
    "        pr_two = partitura.utils.compute_pianoroll(part_two, time_unit = \"beat\",time_div = 12,piano_range=True,remove_silence=False,end_time=end_all)\n",
    "        pr_two = pr_two.toarray()\n",
    "\n",
    "\n",
    "        if pr_zero.shape == pr_one.shape == pr_two.shape:\n",
    "            pr_comp = pr_zero+pr_one+pr_two\n",
    "            pr_comp =  np.where(pr_comp < 1 , pr_comp, 1) \n",
    "\n",
    "\n",
    "            file_out_names = [ \"voice_0_\" + str(idx).zfill(3)+ \".pkl\" , \"voice_1_\" + str(idx).zfill(3) + \".pkl\" , \"voice_2_\" + str(idx).zfill(3) + \".pkl\", \"voice_all_\" + str(idx).zfill(3)+\".pkl\"   ]    \n",
    "            \n",
    "            voice_folder = [\"voice_0\", \"voice_1\", \"voice_2\", \"voice_all\"]\n",
    "            pianorolls = [pr_zero,pr_one,pr_two,pr_comp]\n",
    "\n",
    "\n",
    "            for n,i in enumerate(pianorolls):\n",
    "                a_folder = voice_folder[n]\n",
    "                a_file = file_out_names[n]\n",
    "                joined_path = os.path.join(\"pr_polyphonic/3_voice\", a_folder, a_file)\n",
    "                with open(joined_path, 'wb') as f:\n",
    "                    pickle.dump(i, f) \n",
    "    \n",
    "    elif len(part)==2 and filename not in [\"sonata32-1.mid\",\"sonata30-1.mid\",\"sonata29-4.mid\",\"mazurka59-2.mid\",\"sonata12-2.mid\",\"mazurka07-2.mid\",\"sonata12-1.mid\",\"mazurka06-2.mid\",\"sonata28-2.mid\",\"sonata17-1.mid\",\"mazurka63-3.mid\",\"mazurka06-2.mid\",\"mazurka-51.mid\",\"sonata24-1.mid\"]:\n",
    "        #print(\"filename\",filename,len(part),idx)\n",
    "        part_zero = part[0]\n",
    "        part_one = part[1]\n",
    "\n",
    "\n",
    "        onset_beat = partitura.utils.ensure_notearray(part)['onset_beat'][-1]\n",
    "        duration_beat = partitura.utils.ensure_notearray(part)['duration_beat'][-1]\n",
    "        end_all = onset_beat + duration_beat\n",
    "\n",
    "        pr_zero = partitura.utils.compute_pianoroll(part_zero, time_unit = \"beat\",time_div = 12,piano_range=True,remove_silence=False,end_time=end_all)\n",
    "        pr_zero = pr_zero.toarray()\n",
    "\n",
    "        pr_one = partitura.utils.compute_pianoroll(part_one, time_unit = \"beat\",time_div = 12,piano_range=True,remove_silence=False,end_time=end_all)\n",
    "        pr_one = pr_one.toarray()\n",
    "\n",
    "\n",
    "        if pr_zero.shape == pr_one.shape:\n",
    "            pr_comp = pr_zero+pr_one\n",
    "            pr_comp =  np.where(pr_comp < 1 , pr_comp, 1) \n",
    "\n",
    "\n",
    "            file_out_names = [ \"voice_0_\" + str(idx).zfill(3)+ \".pkl\" , \"voice_1_\" + str(idx).zfill(3) + \".pkl\" , \"voice_all_\" + str(idx).zfill(3)+\".pkl\"   ]    \n",
    "            \n",
    "            voice_folder = [\"voice_0\", \"voice_1\", \"voice_all\"]\n",
    "            pianorolls = [pr_zero,pr_one,pr_comp]\n",
    "\n",
    "            for n,i in enumerate(pianorolls):\n",
    "                a_folder = voice_folder[n]\n",
    "                a_file = file_out_names[n]\n",
    "                joined_path = os.path.join(\"pr_polyphonic/2_voice\", a_folder, a_file)\n",
    "                with open(joined_path, 'wb') as f:\n",
    "                    pickle.dump(i, f)\n",
    "        \n",
    "    \n",
    "    \n",
    "    else:\n",
    "        print(\"discarded samples \", len(part), filename )\n",
    "        #print(\"shapes dont match:\",filename)\n"
   ]
  },
  {
   "cell_type": "code",
   "execution_count": 156,
   "metadata": {},
   "outputs": [
    {
     "data": {
      "text/plain": [
       "239"
      ]
     },
     "execution_count": 156,
     "metadata": {},
     "output_type": "execute_result"
    }
   ],
   "source": [
    "261 - 22"
   ]
  },
  {
   "cell_type": "code",
   "execution_count": null,
   "metadata": {},
   "outputs": [],
   "source": []
  }
 ],
 "metadata": {
  "kernelspec": {
   "display_name": "Python 3",
   "language": "python",
   "name": "python3"
  },
  "language_info": {
   "codemirror_mode": {
    "name": "ipython",
    "version": 3
   },
   "file_extension": ".py",
   "mimetype": "text/x-python",
   "name": "python",
   "nbconvert_exporter": "python",
   "pygments_lexer": "ipython3",
   "version": "3.7.9"
  }
 },
 "nbformat": 4,
 "nbformat_minor": 4
}
